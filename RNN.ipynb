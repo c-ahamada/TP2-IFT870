{
 "cells": [
  {
   "cell_type": "code",
   "execution_count": null,
   "outputs": [],
   "source": [
    "import keras\n",
    "import pandas as pd\n",
    "from sklearn.model_selection import train_test_split\n",
    "\n",
    "from sklearn.model_selection import GridSearchCV\n",
    "from sklearn.metrics import make_scorer, f1_score\n",
    "from keras.models import Sequential\n",
    "from keras.layers import Dense\n",
    "from scikeras.wrappers import KerasClassifier"
   ],
   "metadata": {
    "collapsed": false
   },
   "id": "99e205d56b927c92"
  },
  {
   "cell_type": "code",
   "execution_count": 2,
   "outputs": [],
   "source": [
    "# Lecture des données\n",
    "orders_distance_stores_softmax = pd.read_csv(\"données/orders_distance_stores_softmax.csv\", index_col=0)\n",
    "orders_products_prior_specials = pd.read_csv(\"données/order_products__prior_specials.csv\", index_col=0)"
   ],
   "metadata": {
    "collapsed": false,
    "ExecuteTime": {
     "end_time": "2024-04-04T21:55:49.732939051Z",
     "start_time": "2024-04-04T21:55:49.474376209Z"
    }
   },
   "id": "e8cdbc909d8a429a"
  },
  {
   "cell_type": "code",
   "execution_count": 3,
   "id": "initial_id",
   "metadata": {
    "collapsed": true,
    "ExecuteTime": {
     "end_time": "2024-04-04T21:55:49.961639358Z",
     "start_time": "2024-04-04T21:55:49.737228114Z"
    }
   },
   "outputs": [],
   "source": [
    "orders = pd.merge(orders_distance_stores_softmax, orders_products_prior_specials, on='order_id', how='inner')"
   ]
  },
  {
   "cell_type": "code",
   "execution_count": 4,
   "outputs": [
    {
     "data": {
      "text/plain": "Index(['user_id', 'store_id', 'distance', 'order_id', 'eval_set',\n       'order_number', 'order_dow', 'order_hour_of_day',\n       'days_since_prior_order', 'product_id', 'add_to_cart_order',\n       'reordered', 'special'],\n      dtype='object')"
     },
     "execution_count": 4,
     "metadata": {},
     "output_type": "execute_result"
    }
   ],
   "source": [
    "#show columns with their types\n",
    "orders.columns"
   ],
   "metadata": {
    "collapsed": false,
    "ExecuteTime": {
     "end_time": "2024-04-04T21:55:49.967810658Z",
     "start_time": "2024-04-04T21:55:49.965100639Z"
    }
   },
   "id": "6f8d8340dda20b26"
  },
  {
   "cell_type": "code",
   "execution_count": 5,
   "outputs": [],
   "source": [
    "orders = orders.sample(frac=0.05, random_state=42)"
   ],
   "metadata": {
    "collapsed": false,
    "ExecuteTime": {
     "end_time": "2024-04-04T21:55:50.043376582Z",
     "start_time": "2024-04-04T21:55:49.971961647Z"
    }
   },
   "id": "ea72ac611097761c"
  },
  {
   "cell_type": "code",
   "execution_count": 6,
   "outputs": [
    {
     "data": {
      "text/plain": "         user_id  store_id  distance  order_id eval_set  order_number  \\\n86058      12166         3  2.772836    243435    prior            88   \n1170067   205543         9  0.386416   1425899    prior            22   \n852677    148902         0  0.349984   1455360    prior            36   \n346398     59106         9  1.040265   2683498    prior            83   \n1045727   182401         1  0.804848   2474304    prior            86   \n\n         order_dow  order_hour_of_day  days_since_prior_order  product_id  \\\n86058            0                 13                    21.0       48290   \n1170067          6                  9                     0.0        3481   \n852677           4                 18                     4.0       41720   \n346398           2                 17                     3.0        5876   \n1045727          5                 14                     5.0        4562   \n\n         add_to_cart_order  reordered  special  \n86058                   10          1        0  \n1170067                  6          1        0  \n852677                   8          1       30  \n346398                   5          1        0  \n1045727                 15          1       15  ",
      "text/html": "<div>\n<style scoped>\n    .dataframe tbody tr th:only-of-type {\n        vertical-align: middle;\n    }\n\n    .dataframe tbody tr th {\n        vertical-align: top;\n    }\n\n    .dataframe thead th {\n        text-align: right;\n    }\n</style>\n<table border=\"1\" class=\"dataframe\">\n  <thead>\n    <tr style=\"text-align: right;\">\n      <th></th>\n      <th>user_id</th>\n      <th>store_id</th>\n      <th>distance</th>\n      <th>order_id</th>\n      <th>eval_set</th>\n      <th>order_number</th>\n      <th>order_dow</th>\n      <th>order_hour_of_day</th>\n      <th>days_since_prior_order</th>\n      <th>product_id</th>\n      <th>add_to_cart_order</th>\n      <th>reordered</th>\n      <th>special</th>\n    </tr>\n  </thead>\n  <tbody>\n    <tr>\n      <th>86058</th>\n      <td>12166</td>\n      <td>3</td>\n      <td>2.772836</td>\n      <td>243435</td>\n      <td>prior</td>\n      <td>88</td>\n      <td>0</td>\n      <td>13</td>\n      <td>21.0</td>\n      <td>48290</td>\n      <td>10</td>\n      <td>1</td>\n      <td>0</td>\n    </tr>\n    <tr>\n      <th>1170067</th>\n      <td>205543</td>\n      <td>9</td>\n      <td>0.386416</td>\n      <td>1425899</td>\n      <td>prior</td>\n      <td>22</td>\n      <td>6</td>\n      <td>9</td>\n      <td>0.0</td>\n      <td>3481</td>\n      <td>6</td>\n      <td>1</td>\n      <td>0</td>\n    </tr>\n    <tr>\n      <th>852677</th>\n      <td>148902</td>\n      <td>0</td>\n      <td>0.349984</td>\n      <td>1455360</td>\n      <td>prior</td>\n      <td>36</td>\n      <td>4</td>\n      <td>18</td>\n      <td>4.0</td>\n      <td>41720</td>\n      <td>8</td>\n      <td>1</td>\n      <td>30</td>\n    </tr>\n    <tr>\n      <th>346398</th>\n      <td>59106</td>\n      <td>9</td>\n      <td>1.040265</td>\n      <td>2683498</td>\n      <td>prior</td>\n      <td>83</td>\n      <td>2</td>\n      <td>17</td>\n      <td>3.0</td>\n      <td>5876</td>\n      <td>5</td>\n      <td>1</td>\n      <td>0</td>\n    </tr>\n    <tr>\n      <th>1045727</th>\n      <td>182401</td>\n      <td>1</td>\n      <td>0.804848</td>\n      <td>2474304</td>\n      <td>prior</td>\n      <td>86</td>\n      <td>5</td>\n      <td>14</td>\n      <td>5.0</td>\n      <td>4562</td>\n      <td>15</td>\n      <td>1</td>\n      <td>15</td>\n    </tr>\n  </tbody>\n</table>\n</div>"
     },
     "execution_count": 6,
     "metadata": {},
     "output_type": "execute_result"
    }
   ],
   "source": [
    "#show the first 5 rows\n",
    "orders.head()"
   ],
   "metadata": {
    "collapsed": false,
    "ExecuteTime": {
     "end_time": "2024-04-04T21:55:50.058164189Z",
     "start_time": "2024-04-04T21:55:50.045700130Z"
    }
   },
   "id": "5f9621d7496691ac"
  },
  {
   "cell_type": "code",
   "execution_count": 7,
   "outputs": [],
   "source": [
    "#TO REDO\n",
    "orders.dropna(inplace=True)\n",
    "# drop the eval_set column\n",
    "orders.drop(columns=['eval_set'], inplace=True)"
   ],
   "metadata": {
    "collapsed": false,
    "ExecuteTime": {
     "end_time": "2024-04-04T21:55:50.096072592Z",
     "start_time": "2024-04-04T21:55:50.058427725Z"
    }
   },
   "id": "57d3d28e1d980ae"
  },
  {
   "cell_type": "code",
   "execution_count": 8,
   "outputs": [
    {
     "name": "stdout",
     "output_type": "stream",
     "text": [
      "Shape of X_train: (37072, 11)\n",
      "Shape of X_val: (9269, 11)\n",
      "Shape of X_test: (11586, 11)\n"
     ]
    }
   ],
   "source": [
    "# Charger vos données depuis votre DataFrame\n",
    "# Assumons que votre DataFrame est nommé \"data\"\n",
    "\n",
    "# Séparer les fonctionnalités (X) de la cible (y)\n",
    "X = orders.drop(columns=['reordered'])\n",
    "y = orders['reordered']\n",
    "\n",
    "# Diviser l'ensemble de données en ensembles d'entraînement et de test\n",
    "X_train, X_test, y_train, y_test = train_test_split(X, y, test_size=0.2, random_state=42)\n",
    "\n",
    "# Diviser l'ensemble d'entraînement en ensembles d'entraînement et de validation\n",
    "X_train, X_val, y_train, y_val = train_test_split(X_train, y_train, test_size=0.2, random_state=42)\n",
    "\n",
    "# Vérifier les formes des ensembles créés\n",
    "print(\"Shape of X_train:\", X_train.shape)\n",
    "print(\"Shape of X_val:\", X_val.shape)\n",
    "print(\"Shape of X_test:\", X_test.shape)"
   ],
   "metadata": {
    "collapsed": false,
    "ExecuteTime": {
     "end_time": "2024-04-04T21:55:50.125139579Z",
     "start_time": "2024-04-04T21:55:50.075087620Z"
    }
   },
   "id": "2cca43413c784d53"
  },
  {
   "cell_type": "code",
   "execution_count": 9,
   "outputs": [
    {
     "data": {
      "text/plain": "array([[1., 0.],\n       [0., 1.],\n       [0., 1.],\n       ...,\n       [1., 0.],\n       [0., 1.],\n       [0., 1.]], dtype=float32)"
     },
     "execution_count": 9,
     "metadata": {},
     "output_type": "execute_result"
    }
   ],
   "source": [
    "from keras.utils import to_categorical\n",
    "\n",
    "# Assuming y_train and y_test are your target labels\n",
    "# Convert them to one-hot encoded vectors\n",
    "y_train_one_hot = to_categorical(y_train)\n",
    "y_test_one_hot = to_categorical(y_test)\n",
    "y_val_one_hot = to_categorical(y_val)\n",
    "\n",
    "y_train_one_hot"
   ],
   "metadata": {
    "collapsed": false,
    "ExecuteTime": {
     "end_time": "2024-04-04T21:55:50.125371557Z",
     "start_time": "2024-04-04T21:55:50.117683535Z"
    }
   },
   "id": "551df5898f8fb88"
  },
  {
   "cell_type": "markdown",
   "source": [
    "# Prédiction de l'attribut re-ordered"
   ],
   "metadata": {
    "collapsed": false
   },
   "id": "1e58cfd501bb0a4"
  },
  {
   "cell_type": "code",
   "execution_count": null,
   "outputs": [],
   "source": [
    "loss_fn = keras.losses.CategoricalCrossentropy()\n",
    "metrics_fn = keras.metrics.BinaryAccuracy()"
   ],
   "metadata": {
    "collapsed": false
   },
   "id": "d527b722c7ac8053"
  },
  {
   "cell_type": "code",
   "execution_count": null,
   "outputs": [],
   "source": [
    "# Define a function to create the model based on hyperparameters\n",
    "def create_model(optimizer='adam', neurons_layer1=64, neurons_layer2=64):\n",
    "    model = Sequential()    \n",
    "    model.add(keras.Input(shape=(X_train.shape[1],)))\n",
    "    model.add(Dense(neurons_layer1, activation='relu'))\n",
    "    model.add(Dense(neurons_layer2, activation='relu'))\n",
    "    model.add(Dense(2, activation='softmax'))\n",
    "    model.compile(optimizer=optimizer, loss=loss_fn, metrics=[metrics_fn])\n",
    "    return model\n",
    "\n",
    "# Wrap the create_model function with KerasClassifier\n",
    "keras_model = KerasClassifier(model=create_model, neurons_layer1=64, neurons_layer2=64, metrics=[metrics_fn])\n",
    "\n",
    "# Define the grid of hyperparameters to search\n",
    "param_grid = {\n",
    "    'neurons_layer1': [32, 64, 128],\n",
    "    'neurons_layer2': [32, 64, 128],\n",
    "    'optimizer': ['adam', 'rmsprop']\n",
    "}\n",
    "\n",
    "# Define F1 score as the metric\n",
    "f1_scorer = make_scorer(f1_score, average='micro')\n",
    "\n",
    "# Initialize GridSearchCV with F1 score as the metric\n",
    "grid = GridSearchCV(estimator=keras_model, param_grid=param_grid, cv=10, scoring=f1_scorer)\n",
    "# Perform grid search\n",
    "grid_result = grid.fit(X_train, y_train_one_hot, epochs=10, batch_size=64, validation_data=(X_val, y_val_one_hot), verbose=1)"
   ],
   "metadata": {
    "collapsed": false
   },
   "id": "beed211fbf595f7"
  },
  {
   "cell_type": "code",
   "execution_count": 24,
   "outputs": [
    {
     "name": "stdout",
     "output_type": "stream",
     "text": [
      "- Best parameters found:  {'neurons_layer1': 32, 'neurons_layer2': 32, 'optimizer': 'rmsprop'}\n",
      "\n",
      "\n",
      "- Best F1 score found:  0.78\n"
     ]
    }
   ],
   "source": [
    "# Display results\n",
    "print(\"- Best parameters found: \", grid_result.best_params_)\n",
    "print(\"\\n\")\n",
    "print(\"- Best F1 score found: \", round(grid_result.best_score_,2))"
   ],
   "metadata": {
    "collapsed": false,
    "ExecuteTime": {
     "end_time": "2024-04-04T22:22:52.840518556Z",
     "start_time": "2024-04-04T22:22:52.791365721Z"
    }
   },
   "id": "f1284f40f00ff475"
  },
  {
   "cell_type": "markdown",
   "source": [
    "## Verification sur les données de test"
   ],
   "metadata": {
    "collapsed": false
   },
   "id": "fc11681d19ba8d8f"
  },
  {
   "cell_type": "code",
   "execution_count": 43,
   "outputs": [
    {
     "name": "stdout",
     "output_type": "stream",
     "text": [
      "363/363 [==============================] - 0s 525us/step\n",
      "Best model performance:\n",
      "F1 Score: 0.78\n"
     ]
    }
   ],
   "source": [
    "best_model = grid_result.best_estimator_\n",
    "\n",
    "# Faire des prédictions sur l'ensemble de test avec le meilleur modèle\n",
    "y_pred_best = best_model.predict(X_test)\n",
    "\n",
    "f1_best = f1_score(y_test_one_hot, y_pred_best, average='micro')\n",
    "\n",
    "# Afficher les résultats pour le meilleur modèle\n",
    "print(\"Best model performance:\")\n",
    "print(\"F1 Score:\", round(f1_best,3))"
   ],
   "metadata": {
    "collapsed": false,
    "ExecuteTime": {
     "end_time": "2024-04-04T22:35:19.166212561Z",
     "start_time": "2024-04-04T22:35:18.858123697Z"
    }
   },
   "id": "3d6c90b612924247"
  }
 ],
 "metadata": {
  "kernelspec": {
   "display_name": "Python 3",
   "language": "python",
   "name": "python3"
  },
  "language_info": {
   "codemirror_mode": {
    "name": "ipython",
    "version": 2
   },
   "file_extension": ".py",
   "mimetype": "text/x-python",
   "name": "python",
   "nbconvert_exporter": "python",
   "pygments_lexer": "ipython2",
   "version": "2.7.6"
  }
 },
 "nbformat": 4,
 "nbformat_minor": 5
}

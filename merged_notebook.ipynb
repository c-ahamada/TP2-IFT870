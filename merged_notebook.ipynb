{
 "cells": [
  {
   "cell_type": "markdown",
   "id": "d5b3a81ae5d0d258",
   "metadata": {
    "collapsed": false
   },
   "source": [
    "# Groupe 11 - TP 2 - Raport"
   ]
  },
  {
   "cell_type": "markdown",
   "id": "c17de1dbb467da7",
   "metadata": {
    "collapsed": false
   },
   "source": [
    "Membres du groupe:\n",
    "- Oussama Khaloui --- khao1201\n",
    "- Matthieu Tailleur --- taim1201\n",
    "- Caroline Wang --- wanc1101"
   ]
  },
  {
   "cell_type": "raw",
   "id": "462d641ff203995b",
   "metadata": {
    "collapsed": false
   },
   "source": [
    "Dans ce TP nous cherchons à explorer les données afin de développer ensuite des algorithmes de machine learning dans l'objectif de prédire les achats de clients à partir de paniers de courses."
   ]
  },
  {
   "cell_type": "markdown",
   "id": "60c2f7e347c130f9",
   "metadata": {
    "collapsed": false
   },
   "source": [
    "## 1 - Analyse des données"
   ]
  },
  {
   "cell_type": "markdown",
   "id": "e06afc93583fbcc0",
   "metadata": {
    "collapsed": false
   },
   "source": [
    "### 1.a - Réduction des données"
   ]
  },
  {
   "cell_type": "code",
   "execution_count": 1,
   "id": "86a91fde4630d9e0",
   "metadata": {
    "collapsed": false,
    "ExecuteTime": {
     "end_time": "2024-04-05T21:46:11.035780328Z",
     "start_time": "2024-04-05T21:46:09.687874511Z"
    }
   },
   "outputs": [
    {
     "name": "stderr",
     "output_type": "stream",
     "text": [
      "2024-04-05 17:46:10.061275: I tensorflow/core/util/port.cc:113] oneDNN custom operations are on. You may see slightly different numerical results due to floating-point round-off errors from different computation orders. To turn them off, set the environment variable `TF_ENABLE_ONEDNN_OPTS=0`.\n",
      "2024-04-05 17:46:10.063494: I external/local_tsl/tsl/cuda/cudart_stub.cc:31] Could not find cuda drivers on your machine, GPU will not be used.\n",
      "2024-04-05 17:46:10.084460: E external/local_xla/xla/stream_executor/cuda/cuda_dnn.cc:9261] Unable to register cuDNN factory: Attempting to register factory for plugin cuDNN when one has already been registered\n",
      "2024-04-05 17:46:10.084479: E external/local_xla/xla/stream_executor/cuda/cuda_fft.cc:607] Unable to register cuFFT factory: Attempting to register factory for plugin cuFFT when one has already been registered\n",
      "2024-04-05 17:46:10.085072: E external/local_xla/xla/stream_executor/cuda/cuda_blas.cc:1515] Unable to register cuBLAS factory: Attempting to register factory for plugin cuBLAS when one has already been registered\n",
      "2024-04-05 17:46:10.088820: I external/local_tsl/tsl/cuda/cudart_stub.cc:31] Could not find cuda drivers on your machine, GPU will not be used.\n",
      "2024-04-05 17:46:10.089398: I tensorflow/core/platform/cpu_feature_guard.cc:182] This TensorFlow binary is optimized to use available CPU instructions in performance-critical operations.\n",
      "To enable the following instructions: AVX2 AVX_VNNI FMA, in other operations, rebuild TensorFlow with the appropriate compiler flags.\n",
      "2024-04-05 17:46:10.629472: W tensorflow/compiler/tf2tensorrt/utils/py_utils.cc:38] TF-TRT Warning: Could not find TensorRT\n"
     ]
    }
   ],
   "source": [
    "# Importation des librairies basiques\n",
    "import pandas as pd\n",
    "import numpy as np\n",
    "\n",
    "# Paramètres d'affichage des DataFrames\n",
    "pd.set_option('display.max_rows', 500)\n",
    "pd.set_option('display.max_columns', 500)\n",
    "\n",
    "# librairies de visualisation\n",
    "import matplotlib.pyplot as plt\n",
    "from plotly.subplots import make_subplots\n",
    "import seaborn as sns\n",
    "import plotly.express as px\n",
    "import plotly.graph_objects as go\n",
    "from sklearn.preprocessing import LabelEncoder\n",
    "\n",
    "# Librairie sklearn\n",
    "from sklearn import metrics\n",
    "from sklearn.impute import KNNImputer\n",
    "from sklearn.feature_selection import SelectKBest, mutual_info_classif\n",
    "from sklearn.preprocessing import StandardScaler\n",
    "from sklearn.decomposition import PCA\n",
    "from sklearn.model_selection import train_test_split\n",
    "from sklearn.model_selection import GridSearchCV\n",
    "from sklearn.metrics import make_scorer, f1_score\n",
    "\n",
    "\n",
    "# Modèle gaussien\n",
    "from matplotlib import patches\n",
    "from sklearn.mixture import GaussianMixture\n",
    "from sklearn.model_selection import train_test_split\n",
    "\n",
    "from keras.utils import to_categorical\n",
    "import keras\n",
    "from keras.models import Sequential\n",
    "from keras.layers import Dense\n",
    "from scikeras.wrappers import KerasClassifier"
   ]
  },
  {
   "cell_type": "markdown",
   "id": "285dcaed9d486d39",
   "metadata": {
    "collapsed": false
   },
   "source": [
    "#### Chargement des données"
   ]
  },
  {
   "cell_type": "code",
   "execution_count": 2,
   "id": "55302a3292d1e941",
   "metadata": {
    "collapsed": false,
    "ExecuteTime": {
     "end_time": "2024-04-05T21:46:11.238886104Z",
     "start_time": "2024-04-05T21:46:11.036812667Z"
    }
   },
   "outputs": [
    {
     "name": "stdout",
     "output_type": "stream",
     "text": [
      "Le dataset orders_distance_stores_softmax contient 136026 lignes et 9 attributs\n",
      "Le dataset order_products__prior_specials contient 1172312 lignes et 5 attributs\n"
     ]
    }
   ],
   "source": [
    "data_file_1 = \"./donnees/orders_distance_stores_softmax.csv\"\n",
    "data_file_2 = \"./donnees/order_products__prior_specials.csv\"\n",
    "data_orders_distance = pd.read_csv(data_file_1, index_col=0)\n",
    "data_orders_products = pd.read_csv(data_file_2, index_col=0)\n",
    "\n",
    "# Vérification du bon chargement des données et comparaison avec ce qui est attendu d'après l'énoncé\n",
    "print(f\"Le dataset orders_distance_stores_softmax contient {data_orders_distance.shape[0]} lignes et {data_orders_distance.shape[1]} attributs\")\n",
    "print(f\"Le dataset order_products__prior_specials contient {data_orders_products.shape[0]} lignes et {data_orders_products.shape[1]} attributs\")"
   ]
  },
  {
   "cell_type": "markdown",
   "id": "91e89b6aa7e3dc0a",
   "metadata": {
    "collapsed": false
   },
   "source": [
    "Les datasets contiennent tous deux le nombre d'attributs attendu et beaucoup de lignes. L'objectif de cette partie sera de réduire leurs nombre - pour rendre nos algorithmes plus efficaces - tout en conservant le maximum d'information du dataset afin d'effectuer les meilleurs prédictions possibles."
   ]
  },
  {
   "cell_type": "markdown",
   "id": "ba3f122efcd0e503",
   "metadata": {
    "collapsed": false
   },
   "source": [
    "#### Auscultation des données"
   ]
  },
  {
   "cell_type": "markdown",
   "id": "c2b11a76b6483b2f",
   "metadata": {
    "collapsed": false
   },
   "source": [
    "On commence par visualiser quelques données pour nous faire une idée des datasets"
   ]
  },
  {
   "cell_type": "code",
   "execution_count": 3,
   "id": "ee010230cd3b26b8",
   "metadata": {
    "collapsed": false,
    "ExecuteTime": {
     "end_time": "2024-04-05T21:46:11.245827219Z",
     "start_time": "2024-04-05T21:46:11.240259510Z"
    }
   },
   "outputs": [
    {
     "data": {
      "text/plain": "   user_id  store_id  distance  order_id eval_set  order_number  order_dow  \\\n0      210         0  2.304404   1438665    prior             9          1   \n1      210         0  2.304404   2850206    prior            36          0   \n2      210         0  2.304404   2406913    prior            42          0   \n3      210         0  2.304404   1155933    prior            43          2   \n4      210         0  2.304404    271697    prior            56          5   \n\n   order_hour_of_day  days_since_prior_order  \n0                 18                     3.0  \n1                  7                     2.0  \n2                  8                     3.0  \n3                 23                     2.0  \n4                 17                     3.0  ",
      "text/html": "<div>\n<style scoped>\n    .dataframe tbody tr th:only-of-type {\n        vertical-align: middle;\n    }\n\n    .dataframe tbody tr th {\n        vertical-align: top;\n    }\n\n    .dataframe thead th {\n        text-align: right;\n    }\n</style>\n<table border=\"1\" class=\"dataframe\">\n  <thead>\n    <tr style=\"text-align: right;\">\n      <th></th>\n      <th>user_id</th>\n      <th>store_id</th>\n      <th>distance</th>\n      <th>order_id</th>\n      <th>eval_set</th>\n      <th>order_number</th>\n      <th>order_dow</th>\n      <th>order_hour_of_day</th>\n      <th>days_since_prior_order</th>\n    </tr>\n  </thead>\n  <tbody>\n    <tr>\n      <th>0</th>\n      <td>210</td>\n      <td>0</td>\n      <td>2.304404</td>\n      <td>1438665</td>\n      <td>prior</td>\n      <td>9</td>\n      <td>1</td>\n      <td>18</td>\n      <td>3.0</td>\n    </tr>\n    <tr>\n      <th>1</th>\n      <td>210</td>\n      <td>0</td>\n      <td>2.304404</td>\n      <td>2850206</td>\n      <td>prior</td>\n      <td>36</td>\n      <td>0</td>\n      <td>7</td>\n      <td>2.0</td>\n    </tr>\n    <tr>\n      <th>2</th>\n      <td>210</td>\n      <td>0</td>\n      <td>2.304404</td>\n      <td>2406913</td>\n      <td>prior</td>\n      <td>42</td>\n      <td>0</td>\n      <td>8</td>\n      <td>3.0</td>\n    </tr>\n    <tr>\n      <th>3</th>\n      <td>210</td>\n      <td>0</td>\n      <td>2.304404</td>\n      <td>1155933</td>\n      <td>prior</td>\n      <td>43</td>\n      <td>2</td>\n      <td>23</td>\n      <td>2.0</td>\n    </tr>\n    <tr>\n      <th>4</th>\n      <td>210</td>\n      <td>0</td>\n      <td>2.304404</td>\n      <td>271697</td>\n      <td>prior</td>\n      <td>56</td>\n      <td>5</td>\n      <td>17</td>\n      <td>3.0</td>\n    </tr>\n  </tbody>\n</table>\n</div>"
     },
     "execution_count": 3,
     "metadata": {},
     "output_type": "execute_result"
    }
   ],
   "source": [
    "# Obseravtion de quelques données\n",
    "data_orders_distance.head()"
   ]
  },
  {
   "cell_type": "code",
   "execution_count": 4,
   "id": "afdfd54fdbbd9b71",
   "metadata": {
    "collapsed": false,
    "ExecuteTime": {
     "end_time": "2024-04-05T21:46:11.258554798Z",
     "start_time": "2024-04-05T21:46:11.246100937Z"
    }
   },
   "outputs": [
    {
     "data": {
      "text/plain": "        user_id  store_id  distance  order_id eval_set  order_number  \\\n136021   206105         9  2.140636   1841888    prior            39   \n136022   206105         9  2.140636   1137676    prior            43   \n136023   206105         9  2.140636   1439511    prior            45   \n136024   206105         9  2.140636   1783607    prior            58   \n136025   206105         9  2.140636   1410956    prior            65   \n\n        order_dow  order_hour_of_day  days_since_prior_order  \n136021          0                 21                     1.0  \n136022          4                 15                     1.0  \n136023          6                  9                     1.0  \n136024          4                 19                     0.0  \n136025          2                  9                     1.0  ",
      "text/html": "<div>\n<style scoped>\n    .dataframe tbody tr th:only-of-type {\n        vertical-align: middle;\n    }\n\n    .dataframe tbody tr th {\n        vertical-align: top;\n    }\n\n    .dataframe thead th {\n        text-align: right;\n    }\n</style>\n<table border=\"1\" class=\"dataframe\">\n  <thead>\n    <tr style=\"text-align: right;\">\n      <th></th>\n      <th>user_id</th>\n      <th>store_id</th>\n      <th>distance</th>\n      <th>order_id</th>\n      <th>eval_set</th>\n      <th>order_number</th>\n      <th>order_dow</th>\n      <th>order_hour_of_day</th>\n      <th>days_since_prior_order</th>\n    </tr>\n  </thead>\n  <tbody>\n    <tr>\n      <th>136021</th>\n      <td>206105</td>\n      <td>9</td>\n      <td>2.140636</td>\n      <td>1841888</td>\n      <td>prior</td>\n      <td>39</td>\n      <td>0</td>\n      <td>21</td>\n      <td>1.0</td>\n    </tr>\n    <tr>\n      <th>136022</th>\n      <td>206105</td>\n      <td>9</td>\n      <td>2.140636</td>\n      <td>1137676</td>\n      <td>prior</td>\n      <td>43</td>\n      <td>4</td>\n      <td>15</td>\n      <td>1.0</td>\n    </tr>\n    <tr>\n      <th>136023</th>\n      <td>206105</td>\n      <td>9</td>\n      <td>2.140636</td>\n      <td>1439511</td>\n      <td>prior</td>\n      <td>45</td>\n      <td>6</td>\n      <td>9</td>\n      <td>1.0</td>\n    </tr>\n    <tr>\n      <th>136024</th>\n      <td>206105</td>\n      <td>9</td>\n      <td>2.140636</td>\n      <td>1783607</td>\n      <td>prior</td>\n      <td>58</td>\n      <td>4</td>\n      <td>19</td>\n      <td>0.0</td>\n    </tr>\n    <tr>\n      <th>136025</th>\n      <td>206105</td>\n      <td>9</td>\n      <td>2.140636</td>\n      <td>1410956</td>\n      <td>prior</td>\n      <td>65</td>\n      <td>2</td>\n      <td>9</td>\n      <td>1.0</td>\n    </tr>\n  </tbody>\n</table>\n</div>"
     },
     "execution_count": 4,
     "metadata": {},
     "output_type": "execute_result"
    }
   ],
   "source": [
    "data_orders_distance.tail()"
   ]
  },
  {
   "cell_type": "markdown",
   "id": "c4885a2c768b7fab",
   "metadata": {
    "collapsed": false
   },
   "source": [
    "on constate la présence de de données catégoriques. on choisit d'encoder les valeurs de la colonne 'eval_set'"
   ]
  },
  {
   "cell_type": "code",
   "execution_count": 5,
   "id": "53fc4e5683565df6",
   "metadata": {
    "collapsed": false,
    "ExecuteTime": {
     "end_time": "2024-04-05T21:46:11.291013335Z",
     "start_time": "2024-04-05T21:46:11.255530232Z"
    }
   },
   "outputs": [
    {
     "data": {
      "text/plain": "array(['prior'], dtype=object)"
     },
     "execution_count": 5,
     "metadata": {},
     "output_type": "execute_result"
    }
   ],
   "source": [
    "data_orders_distance['eval_set'].unique()"
   ]
  },
  {
   "cell_type": "code",
   "execution_count": 6,
   "id": "3431fb45ab665ca",
   "metadata": {
    "collapsed": false,
    "ExecuteTime": {
     "end_time": "2024-04-05T21:46:11.305450043Z",
     "start_time": "2024-04-05T21:46:11.266550091Z"
    }
   },
   "outputs": [],
   "source": [
    "df_encoded = pd.get_dummies(data_orders_distance, columns=['eval_set'])\n",
    "data_orders_distance['eval_set'] = df_encoded[['eval_set_prior']]"
   ]
  },
  {
   "cell_type": "code",
   "execution_count": 7,
   "id": "5d3d5ea8489aa2ed",
   "metadata": {
    "collapsed": false,
    "ExecuteTime": {
     "end_time": "2024-04-05T21:46:11.320236430Z",
     "start_time": "2024-04-05T21:46:11.281769258Z"
    }
   },
   "outputs": [
    {
     "data": {
      "text/plain": "array([ True])"
     },
     "execution_count": 7,
     "metadata": {},
     "output_type": "execute_result"
    }
   ],
   "source": [
    "# Vérification\n",
    "data_orders_distance['eval_set'].unique()"
   ]
  },
  {
   "cell_type": "code",
   "execution_count": 8,
   "outputs": [
    {
     "data": {
      "text/plain": "        user_id  store_id  distance  order_id  eval_set  order_number  \\\n0           210         0  2.304404   1438665      True             9   \n1           210         0  2.304404   2850206      True            36   \n2           210         0  2.304404   2406913      True            42   \n3           210         0  2.304404   1155933      True            43   \n4           210         0  2.304404    271697      True            56   \n...         ...       ...       ...       ...       ...           ...   \n136021   206105         9  2.140636   1841888      True            39   \n136022   206105         9  2.140636   1137676      True            43   \n136023   206105         9  2.140636   1439511      True            45   \n136024   206105         9  2.140636   1783607      True            58   \n136025   206105         9  2.140636   1410956      True            65   \n\n        order_dow  order_hour_of_day  days_since_prior_order  \n0               1                 18                     3.0  \n1               0                  7                     2.0  \n2               0                  8                     3.0  \n3               2                 23                     2.0  \n4               5                 17                     3.0  \n...           ...                ...                     ...  \n136021          0                 21                     1.0  \n136022          4                 15                     1.0  \n136023          6                  9                     1.0  \n136024          4                 19                     0.0  \n136025          2                  9                     1.0  \n\n[136026 rows x 9 columns]",
      "text/html": "<div>\n<style scoped>\n    .dataframe tbody tr th:only-of-type {\n        vertical-align: middle;\n    }\n\n    .dataframe tbody tr th {\n        vertical-align: top;\n    }\n\n    .dataframe thead th {\n        text-align: right;\n    }\n</style>\n<table border=\"1\" class=\"dataframe\">\n  <thead>\n    <tr style=\"text-align: right;\">\n      <th></th>\n      <th>user_id</th>\n      <th>store_id</th>\n      <th>distance</th>\n      <th>order_id</th>\n      <th>eval_set</th>\n      <th>order_number</th>\n      <th>order_dow</th>\n      <th>order_hour_of_day</th>\n      <th>days_since_prior_order</th>\n    </tr>\n  </thead>\n  <tbody>\n    <tr>\n      <th>0</th>\n      <td>210</td>\n      <td>0</td>\n      <td>2.304404</td>\n      <td>1438665</td>\n      <td>True</td>\n      <td>9</td>\n      <td>1</td>\n      <td>18</td>\n      <td>3.0</td>\n    </tr>\n    <tr>\n      <th>1</th>\n      <td>210</td>\n      <td>0</td>\n      <td>2.304404</td>\n      <td>2850206</td>\n      <td>True</td>\n      <td>36</td>\n      <td>0</td>\n      <td>7</td>\n      <td>2.0</td>\n    </tr>\n    <tr>\n      <th>2</th>\n      <td>210</td>\n      <td>0</td>\n      <td>2.304404</td>\n      <td>2406913</td>\n      <td>True</td>\n      <td>42</td>\n      <td>0</td>\n      <td>8</td>\n      <td>3.0</td>\n    </tr>\n    <tr>\n      <th>3</th>\n      <td>210</td>\n      <td>0</td>\n      <td>2.304404</td>\n      <td>1155933</td>\n      <td>True</td>\n      <td>43</td>\n      <td>2</td>\n      <td>23</td>\n      <td>2.0</td>\n    </tr>\n    <tr>\n      <th>4</th>\n      <td>210</td>\n      <td>0</td>\n      <td>2.304404</td>\n      <td>271697</td>\n      <td>True</td>\n      <td>56</td>\n      <td>5</td>\n      <td>17</td>\n      <td>3.0</td>\n    </tr>\n    <tr>\n      <th>...</th>\n      <td>...</td>\n      <td>...</td>\n      <td>...</td>\n      <td>...</td>\n      <td>...</td>\n      <td>...</td>\n      <td>...</td>\n      <td>...</td>\n      <td>...</td>\n    </tr>\n    <tr>\n      <th>136021</th>\n      <td>206105</td>\n      <td>9</td>\n      <td>2.140636</td>\n      <td>1841888</td>\n      <td>True</td>\n      <td>39</td>\n      <td>0</td>\n      <td>21</td>\n      <td>1.0</td>\n    </tr>\n    <tr>\n      <th>136022</th>\n      <td>206105</td>\n      <td>9</td>\n      <td>2.140636</td>\n      <td>1137676</td>\n      <td>True</td>\n      <td>43</td>\n      <td>4</td>\n      <td>15</td>\n      <td>1.0</td>\n    </tr>\n    <tr>\n      <th>136023</th>\n      <td>206105</td>\n      <td>9</td>\n      <td>2.140636</td>\n      <td>1439511</td>\n      <td>True</td>\n      <td>45</td>\n      <td>6</td>\n      <td>9</td>\n      <td>1.0</td>\n    </tr>\n    <tr>\n      <th>136024</th>\n      <td>206105</td>\n      <td>9</td>\n      <td>2.140636</td>\n      <td>1783607</td>\n      <td>True</td>\n      <td>58</td>\n      <td>4</td>\n      <td>19</td>\n      <td>0.0</td>\n    </tr>\n    <tr>\n      <th>136025</th>\n      <td>206105</td>\n      <td>9</td>\n      <td>2.140636</td>\n      <td>1410956</td>\n      <td>True</td>\n      <td>65</td>\n      <td>2</td>\n      <td>9</td>\n      <td>1.0</td>\n    </tr>\n  </tbody>\n</table>\n<p>136026 rows × 9 columns</p>\n</div>"
     },
     "execution_count": 8,
     "metadata": {},
     "output_type": "execute_result"
    }
   ],
   "source": [
    "data_orders_distance"
   ],
   "metadata": {
    "collapsed": false,
    "ExecuteTime": {
     "end_time": "2024-04-05T21:46:11.356891728Z",
     "start_time": "2024-04-05T21:46:11.292533189Z"
    }
   },
   "id": "afc22e031b20901b"
  },
  {
   "cell_type": "code",
   "execution_count": 9,
   "id": "ad496cd23c602009",
   "metadata": {
    "collapsed": false,
    "ExecuteTime": {
     "end_time": "2024-04-05T21:46:11.360923212Z",
     "start_time": "2024-04-05T21:46:11.304640809Z"
    }
   },
   "outputs": [
    {
     "data": {
      "text/plain": "   order_id  product_id  add_to_cart_order  reordered  special\n0        15       19660                  1          1       15\n1        15       21195                  2          1        0\n2        15        7461                  3          1       50\n3        15        2996                  4          1        0\n4        15       32463                  5          1        0",
      "text/html": "<div>\n<style scoped>\n    .dataframe tbody tr th:only-of-type {\n        vertical-align: middle;\n    }\n\n    .dataframe tbody tr th {\n        vertical-align: top;\n    }\n\n    .dataframe thead th {\n        text-align: right;\n    }\n</style>\n<table border=\"1\" class=\"dataframe\">\n  <thead>\n    <tr style=\"text-align: right;\">\n      <th></th>\n      <th>order_id</th>\n      <th>product_id</th>\n      <th>add_to_cart_order</th>\n      <th>reordered</th>\n      <th>special</th>\n    </tr>\n  </thead>\n  <tbody>\n    <tr>\n      <th>0</th>\n      <td>15</td>\n      <td>19660</td>\n      <td>1</td>\n      <td>1</td>\n      <td>15</td>\n    </tr>\n    <tr>\n      <th>1</th>\n      <td>15</td>\n      <td>21195</td>\n      <td>2</td>\n      <td>1</td>\n      <td>0</td>\n    </tr>\n    <tr>\n      <th>2</th>\n      <td>15</td>\n      <td>7461</td>\n      <td>3</td>\n      <td>1</td>\n      <td>50</td>\n    </tr>\n    <tr>\n      <th>3</th>\n      <td>15</td>\n      <td>2996</td>\n      <td>4</td>\n      <td>1</td>\n      <td>0</td>\n    </tr>\n    <tr>\n      <th>4</th>\n      <td>15</td>\n      <td>32463</td>\n      <td>5</td>\n      <td>1</td>\n      <td>0</td>\n    </tr>\n  </tbody>\n</table>\n</div>"
     },
     "execution_count": 9,
     "metadata": {},
     "output_type": "execute_result"
    }
   ],
   "source": [
    "data_orders_products.head()"
   ]
  },
  {
   "cell_type": "code",
   "execution_count": 10,
   "id": "a772f749ddf88095",
   "metadata": {
    "collapsed": false,
    "ExecuteTime": {
     "end_time": "2024-04-05T21:46:11.376349256Z",
     "start_time": "2024-04-05T21:46:11.315904698Z"
    }
   },
   "outputs": [
    {
     "data": {
      "text/plain": "         order_id  product_id  add_to_cart_order  reordered  special\n1172307   3421069       21137                  8          1        0\n1172308   3421069       30391                  9          1       15\n1172309   3421069       18656                 10          1        0\n1172310   3421069       26940                 11          1       15\n1172311   3421069       19057                 12          1        0",
      "text/html": "<div>\n<style scoped>\n    .dataframe tbody tr th:only-of-type {\n        vertical-align: middle;\n    }\n\n    .dataframe tbody tr th {\n        vertical-align: top;\n    }\n\n    .dataframe thead th {\n        text-align: right;\n    }\n</style>\n<table border=\"1\" class=\"dataframe\">\n  <thead>\n    <tr style=\"text-align: right;\">\n      <th></th>\n      <th>order_id</th>\n      <th>product_id</th>\n      <th>add_to_cart_order</th>\n      <th>reordered</th>\n      <th>special</th>\n    </tr>\n  </thead>\n  <tbody>\n    <tr>\n      <th>1172307</th>\n      <td>3421069</td>\n      <td>21137</td>\n      <td>8</td>\n      <td>1</td>\n      <td>0</td>\n    </tr>\n    <tr>\n      <th>1172308</th>\n      <td>3421069</td>\n      <td>30391</td>\n      <td>9</td>\n      <td>1</td>\n      <td>15</td>\n    </tr>\n    <tr>\n      <th>1172309</th>\n      <td>3421069</td>\n      <td>18656</td>\n      <td>10</td>\n      <td>1</td>\n      <td>0</td>\n    </tr>\n    <tr>\n      <th>1172310</th>\n      <td>3421069</td>\n      <td>26940</td>\n      <td>11</td>\n      <td>1</td>\n      <td>15</td>\n    </tr>\n    <tr>\n      <th>1172311</th>\n      <td>3421069</td>\n      <td>19057</td>\n      <td>12</td>\n      <td>1</td>\n      <td>0</td>\n    </tr>\n  </tbody>\n</table>\n</div>"
     },
     "execution_count": 10,
     "metadata": {},
     "output_type": "execute_result"
    }
   ],
   "source": [
    "data_orders_products.tail()"
   ]
  },
  {
   "cell_type": "markdown",
   "id": "2c52882061c62ac",
   "metadata": {
    "collapsed": false
   },
   "source": [
    "On affiche quelques informations caractérisant les données afin de mieux les appréhender.\n",
    "Nous réutiliserons ces informations par la suite car elles sont caractéristiques des distributions des données. Nous chercherons donc à les retrouver après avoir réduit le nombre de lignes. "
   ]
  },
  {
   "cell_type": "code",
   "execution_count": 11,
   "id": "d1559fc489132bed",
   "metadata": {
    "collapsed": false,
    "ExecuteTime": {
     "end_time": "2024-04-05T21:46:11.404071673Z",
     "start_time": "2024-04-05T21:46:11.325664325Z"
    }
   },
   "outputs": [
    {
     "data": {
      "text/plain": "             user_id       store_id       distance      order_id  \\\ncount  136026.000000  136026.000000  136026.000000  1.360260e+05   \nmean   101827.940320       4.503374       1.253315  1.713599e+06   \nstd     60550.815551       2.866815       0.656473  9.868517e+05   \nmin       210.000000       0.000000       0.002863  1.500000e+01   \n25%     49210.000000       2.000000       0.764297  8.590620e+05   \n50%    100229.000000       5.000000       1.173100  1.718160e+06   \n75%    154378.000000       7.000000       1.656305  2.565938e+06   \nmax    206105.000000       9.000000       4.843817  3.421069e+06   \n\n        order_number      order_dow  order_hour_of_day  days_since_prior_order  \ncount  136026.000000  136026.000000      136026.000000           134652.000000  \nmean       50.000000       2.884419          13.036853                2.848097  \nstd        28.577485       1.887552           4.233527                2.537760  \nmin         1.000000       0.000000           0.000000                0.000000  \n25%        25.000000       1.000000          10.000000                1.000000  \n50%        50.000000       3.000000          13.000000                2.000000  \n75%        75.000000       4.000000          16.000000                4.000000  \nmax        99.000000       6.000000          23.000000               30.000000  ",
      "text/html": "<div>\n<style scoped>\n    .dataframe tbody tr th:only-of-type {\n        vertical-align: middle;\n    }\n\n    .dataframe tbody tr th {\n        vertical-align: top;\n    }\n\n    .dataframe thead th {\n        text-align: right;\n    }\n</style>\n<table border=\"1\" class=\"dataframe\">\n  <thead>\n    <tr style=\"text-align: right;\">\n      <th></th>\n      <th>user_id</th>\n      <th>store_id</th>\n      <th>distance</th>\n      <th>order_id</th>\n      <th>order_number</th>\n      <th>order_dow</th>\n      <th>order_hour_of_day</th>\n      <th>days_since_prior_order</th>\n    </tr>\n  </thead>\n  <tbody>\n    <tr>\n      <th>count</th>\n      <td>136026.000000</td>\n      <td>136026.000000</td>\n      <td>136026.000000</td>\n      <td>1.360260e+05</td>\n      <td>136026.000000</td>\n      <td>136026.000000</td>\n      <td>136026.000000</td>\n      <td>134652.000000</td>\n    </tr>\n    <tr>\n      <th>mean</th>\n      <td>101827.940320</td>\n      <td>4.503374</td>\n      <td>1.253315</td>\n      <td>1.713599e+06</td>\n      <td>50.000000</td>\n      <td>2.884419</td>\n      <td>13.036853</td>\n      <td>2.848097</td>\n    </tr>\n    <tr>\n      <th>std</th>\n      <td>60550.815551</td>\n      <td>2.866815</td>\n      <td>0.656473</td>\n      <td>9.868517e+05</td>\n      <td>28.577485</td>\n      <td>1.887552</td>\n      <td>4.233527</td>\n      <td>2.537760</td>\n    </tr>\n    <tr>\n      <th>min</th>\n      <td>210.000000</td>\n      <td>0.000000</td>\n      <td>0.002863</td>\n      <td>1.500000e+01</td>\n      <td>1.000000</td>\n      <td>0.000000</td>\n      <td>0.000000</td>\n      <td>0.000000</td>\n    </tr>\n    <tr>\n      <th>25%</th>\n      <td>49210.000000</td>\n      <td>2.000000</td>\n      <td>0.764297</td>\n      <td>8.590620e+05</td>\n      <td>25.000000</td>\n      <td>1.000000</td>\n      <td>10.000000</td>\n      <td>1.000000</td>\n    </tr>\n    <tr>\n      <th>50%</th>\n      <td>100229.000000</td>\n      <td>5.000000</td>\n      <td>1.173100</td>\n      <td>1.718160e+06</td>\n      <td>50.000000</td>\n      <td>3.000000</td>\n      <td>13.000000</td>\n      <td>2.000000</td>\n    </tr>\n    <tr>\n      <th>75%</th>\n      <td>154378.000000</td>\n      <td>7.000000</td>\n      <td>1.656305</td>\n      <td>2.565938e+06</td>\n      <td>75.000000</td>\n      <td>4.000000</td>\n      <td>16.000000</td>\n      <td>4.000000</td>\n    </tr>\n    <tr>\n      <th>max</th>\n      <td>206105.000000</td>\n      <td>9.000000</td>\n      <td>4.843817</td>\n      <td>3.421069e+06</td>\n      <td>99.000000</td>\n      <td>6.000000</td>\n      <td>23.000000</td>\n      <td>30.000000</td>\n    </tr>\n  </tbody>\n</table>\n</div>"
     },
     "execution_count": 11,
     "metadata": {},
     "output_type": "execute_result"
    }
   ],
   "source": [
    "data_orders_distance.describe()"
   ]
  },
  {
   "cell_type": "code",
   "execution_count": 12,
   "id": "c4e8b9b6cde1e412",
   "metadata": {
    "collapsed": false,
    "ExecuteTime": {
     "end_time": "2024-04-05T21:46:11.514176444Z",
     "start_time": "2024-04-05T21:46:11.367022710Z"
    }
   },
   "outputs": [
    {
     "data": {
      "text/plain": "           order_id    product_id  add_to_cart_order     reordered  \\\ncount  1.172312e+06  1.172312e+06       1.172312e+06  1.172312e+06   \nmean   1.710806e+06  2.558317e+04       7.311208e+00  7.744346e-01   \nstd    9.865049e+05  1.403693e+04       6.661885e+00  4.179543e-01   \nmin    1.500000e+01  1.000000e+00       1.000000e+00  0.000000e+00   \n25%    8.571920e+05  1.357500e+04       3.000000e+00  1.000000e+00   \n50%    1.713000e+06  2.514600e+04       5.000000e+00  1.000000e+00   \n75%    2.563004e+06  3.801600e+04       1.000000e+01  1.000000e+00   \nmax    3.421069e+06  4.968300e+04       9.800000e+01  1.000000e+00   \n\n            special  \ncount  1.172312e+06  \nmean   9.745972e+00  \nstd    1.497054e+01  \nmin    0.000000e+00  \n25%    0.000000e+00  \n50%    0.000000e+00  \n75%    1.500000e+01  \nmax    5.000000e+01  ",
      "text/html": "<div>\n<style scoped>\n    .dataframe tbody tr th:only-of-type {\n        vertical-align: middle;\n    }\n\n    .dataframe tbody tr th {\n        vertical-align: top;\n    }\n\n    .dataframe thead th {\n        text-align: right;\n    }\n</style>\n<table border=\"1\" class=\"dataframe\">\n  <thead>\n    <tr style=\"text-align: right;\">\n      <th></th>\n      <th>order_id</th>\n      <th>product_id</th>\n      <th>add_to_cart_order</th>\n      <th>reordered</th>\n      <th>special</th>\n    </tr>\n  </thead>\n  <tbody>\n    <tr>\n      <th>count</th>\n      <td>1.172312e+06</td>\n      <td>1.172312e+06</td>\n      <td>1.172312e+06</td>\n      <td>1.172312e+06</td>\n      <td>1.172312e+06</td>\n    </tr>\n    <tr>\n      <th>mean</th>\n      <td>1.710806e+06</td>\n      <td>2.558317e+04</td>\n      <td>7.311208e+00</td>\n      <td>7.744346e-01</td>\n      <td>9.745972e+00</td>\n    </tr>\n    <tr>\n      <th>std</th>\n      <td>9.865049e+05</td>\n      <td>1.403693e+04</td>\n      <td>6.661885e+00</td>\n      <td>4.179543e-01</td>\n      <td>1.497054e+01</td>\n    </tr>\n    <tr>\n      <th>min</th>\n      <td>1.500000e+01</td>\n      <td>1.000000e+00</td>\n      <td>1.000000e+00</td>\n      <td>0.000000e+00</td>\n      <td>0.000000e+00</td>\n    </tr>\n    <tr>\n      <th>25%</th>\n      <td>8.571920e+05</td>\n      <td>1.357500e+04</td>\n      <td>3.000000e+00</td>\n      <td>1.000000e+00</td>\n      <td>0.000000e+00</td>\n    </tr>\n    <tr>\n      <th>50%</th>\n      <td>1.713000e+06</td>\n      <td>2.514600e+04</td>\n      <td>5.000000e+00</td>\n      <td>1.000000e+00</td>\n      <td>0.000000e+00</td>\n    </tr>\n    <tr>\n      <th>75%</th>\n      <td>2.563004e+06</td>\n      <td>3.801600e+04</td>\n      <td>1.000000e+01</td>\n      <td>1.000000e+00</td>\n      <td>1.500000e+01</td>\n    </tr>\n    <tr>\n      <th>max</th>\n      <td>3.421069e+06</td>\n      <td>4.968300e+04</td>\n      <td>9.800000e+01</td>\n      <td>1.000000e+00</td>\n      <td>5.000000e+01</td>\n    </tr>\n  </tbody>\n</table>\n</div>"
     },
     "execution_count": 12,
     "metadata": {},
     "output_type": "execute_result"
    }
   ],
   "source": [
    "data_orders_products.describe()"
   ]
  },
  {
   "cell_type": "code",
   "execution_count": 13,
   "id": "2752273a61c5a6ec",
   "metadata": {
    "collapsed": false,
    "ExecuteTime": {
     "end_time": "2024-04-05T21:46:11.546005154Z",
     "start_time": "2024-04-05T21:46:11.464133649Z"
    }
   },
   "outputs": [
    {
     "data": {
      "text/plain": "int64      6\nfloat64    2\nbool       1\nName: count, dtype: int64"
     },
     "execution_count": 13,
     "metadata": {},
     "output_type": "execute_result"
    }
   ],
   "source": [
    "# Compte des types d'attributs\n",
    "data_orders_distance.dtypes.value_counts()"
   ]
  },
  {
   "cell_type": "code",
   "execution_count": 14,
   "id": "b345432a80524b0",
   "metadata": {
    "collapsed": false,
    "ExecuteTime": {
     "end_time": "2024-04-05T21:46:11.546194194Z",
     "start_time": "2024-04-05T21:46:11.504640954Z"
    }
   },
   "outputs": [
    {
     "data": {
      "text/plain": "int64    5\nName: count, dtype: int64"
     },
     "execution_count": 14,
     "metadata": {},
     "output_type": "execute_result"
    }
   ],
   "source": [
    "data_orders_products.dtypes.value_counts()"
   ]
  },
  {
   "cell_type": "markdown",
   "id": "8d86438b2196c9a8",
   "metadata": {
    "collapsed": false
   },
   "source": [
    "#### Nettoyage des données"
   ]
  },
  {
   "cell_type": "markdown",
   "id": "128dfbe680ca44c4",
   "metadata": {
    "collapsed": false
   },
   "source": [
    "##### Valeurs manquantes"
   ]
  },
  {
   "cell_type": "markdown",
   "id": "353a6db31f7ab347",
   "metadata": {
    "collapsed": false
   },
   "source": [
    "On commence par regarder du côté des valeurs manquantes en regardant le pourcentage de valeurs manquantes dans pour chaque colonnes des datasets"
   ]
  },
  {
   "cell_type": "code",
   "execution_count": 15,
   "id": "5599dabcc1ea1de9",
   "metadata": {
    "collapsed": false,
    "ExecuteTime": {
     "end_time": "2024-04-05T21:46:11.546285049Z",
     "start_time": "2024-04-05T21:46:11.504743789Z"
    }
   },
   "outputs": [
    {
     "name": "stdout",
     "output_type": "stream",
     "text": [
      " -Table des valeurs manquantes dans le dataset order_distance_stores_softmax\n",
      "\n",
      "user_id                      0\n",
      "store_id                     0\n",
      "distance                     0\n",
      "order_id                     0\n",
      "eval_set                     0\n",
      "order_number                 0\n",
      "order_dow                    0\n",
      "order_hour_of_day            0\n",
      "days_since_prior_order    1374\n",
      "dtype: int64\n",
      "\n",
      "\n",
      " -Table des valeurs manquantes dans le dataset order_products_prior_specials\n",
      "\n",
      "order_id             0\n",
      "product_id           0\n",
      "add_to_cart_order    0\n",
      "reordered            0\n",
      "special              0\n",
      "dtype: int64\n"
     ]
    }
   ],
   "source": [
    "print(f\" -Table des valeurs manquantes dans le dataset order_distance_stores_softmax\\n\\n{data_orders_distance.isnull().sum()}\")\n",
    "print(\"\\n\")\n",
    "print(f\" -Table des valeurs manquantes dans le dataset order_products_prior_specials\\n\\n{data_orders_products.isnull().sum()}\")"
   ]
  },
  {
   "cell_type": "markdown",
   "id": "ee6edd21f7d940ed",
   "metadata": {
    "collapsed": false
   },
   "source": [
    "Il manque environ 1% de valeurs dans le dataset order_distance_stores_softmax pour la colonne 'days_since_prior_order' indiquant le nombre de jours écoulés depuis le dernier achat.\n",
    "\n",
    "On a envisagé d'ajouter un nouvel attribut 'first_order' (0 ou 1) pour indiquer si l'achat est le premier de l'utilisateur. On va tester cela plus tard dans notre rapport.\n",
    "\n",
    "Pour l'instant, on remplace donc chaque valeurs manquante par -1."
   ]
  },
  {
   "cell_type": "code",
   "execution_count": 16,
   "id": "fed624981c7f0b05",
   "metadata": {
    "collapsed": false,
    "ExecuteTime": {
     "end_time": "2024-04-05T21:46:11.546363290Z",
     "start_time": "2024-04-05T21:46:11.504771208Z"
    }
   },
   "outputs": [],
   "source": [
    "data_orders_distance.fillna({'days_since_prior_order':-1},inplace=True)"
   ]
  },
  {
   "cell_type": "code",
   "execution_count": 17,
   "id": "9189bcccda092d30",
   "metadata": {
    "collapsed": false,
    "ExecuteTime": {
     "end_time": "2024-04-05T21:46:11.546427694Z",
     "start_time": "2024-04-05T21:46:11.504789525Z"
    }
   },
   "outputs": [
    {
     "name": "stdout",
     "output_type": "stream",
     "text": [
      "Nombre de données NULL : 0\n"
     ]
    }
   ],
   "source": [
    "# Vérification\n",
    "print(f\"Nombre de données NULL : {data_orders_distance['days_since_prior_order'].isnull().sum()}\")"
   ]
  },
  {
   "cell_type": "markdown",
   "id": "56609b7f31450248",
   "metadata": {
    "collapsed": false
   },
   "source": [
    "#### Valeurs dupliquées"
   ]
  },
  {
   "cell_type": "code",
   "execution_count": 18,
   "id": "1c9dd5e357b1ca20",
   "metadata": {
    "collapsed": false,
    "ExecuteTime": {
     "end_time": "2024-04-05T21:46:11.624685035Z",
     "start_time": "2024-04-05T21:46:11.504828848Z"
    }
   },
   "outputs": [
    {
     "name": "stdout",
     "output_type": "stream",
     "text": [
      "Nombre de valeurs dupliquées dans les données order_products_prior_specials \n",
      "order_id             0\n",
      "product_id           0\n",
      "add_to_cart_order    0\n",
      "reordered            0\n",
      "special              0\n",
      "dtype: int64\n",
      "Nombre de valeurs dupliquées dans les données order_distance_stores_softmax \n",
      "user_id                   0.0\n",
      "store_id                  0.0\n",
      "distance                  0.0\n",
      "order_id                  0.0\n",
      "eval_set                  0.0\n",
      "order_number              0.0\n",
      "order_dow                 0.0\n",
      "order_hour_of_day         0.0\n",
      "days_since_prior_order    0.0\n",
      "dtype: float64\n"
     ]
    }
   ],
   "source": [
    "duplicates_df_products = data_orders_products[data_orders_products.duplicated()]\n",
    "duplicates_df_products_sorted = duplicates_df_products.sort_values(by=['order_id'])\n",
    "print(f\"Nombre de valeurs dupliquées dans les données order_products_prior_specials \\n{duplicates_df_products_sorted.sum()}\")\n",
    "\n",
    "duplicates_df_distance = data_orders_distance[data_orders_distance.duplicated()]\n",
    "duplicates_df_distance_sorted = duplicates_df_distance.sort_values(by=['order_id'])\n",
    "print(f\"Nombre de valeurs dupliquées dans les données order_distance_stores_softmax \\n{duplicates_df_distance_sorted.sum()}\")"
   ]
  },
  {
   "cell_type": "markdown",
   "id": "f93ea8333e6aff70",
   "metadata": {
    "collapsed": false
   },
   "source": [
    "Il n'y a pas de lignes dupliquées dans les données."
   ]
  },
  {
   "cell_type": "markdown",
   "id": "fe03b28faacd3969",
   "metadata": {
    "collapsed": false
   },
   "source": [
    "##### Gestion des outliers"
   ]
  },
  {
   "cell_type": "markdown",
   "id": "f172a039debfcdc2",
   "metadata": {
    "collapsed": false
   },
   "source": [
    "On commence par visualiser les colonnes pour lesquelles les outliers sont nombreux à l'aide de boxplots."
   ]
  },
  {
   "cell_type": "code",
   "execution_count": 19,
   "id": "8c34cdf05723db43",
   "metadata": {
    "collapsed": false,
    "ExecuteTime": {
     "end_time": "2024-04-05T21:46:12.535770571Z",
     "start_time": "2024-04-05T21:46:11.587830673Z"
    }
   },
   "outputs": [
    {
     "name": "stdout",
     "output_type": "stream",
     "text": [
      "Boxplots des colonnes du dataset order_distance_stores_softmax\n"
     ]
    },
    {
     "data": {
      "text/plain": "<Figure size 1500x500 with 9 Axes>",
      "image/png": "[encoded data removed]"
     },
     "metadata": {},
     "output_type": "display_data"
    }
   ],
   "source": [
    "def detect_susceptible_outlier(data) : \n",
    "    fig, axes = plt.subplots(nrows=1, ncols=len(data.columns), figsize=(15, 5))\n",
    "    for i, col in enumerate(data.columns):\n",
    "        data.boxplot(column=col, ax=axes[i])\n",
    "        axes[i].set_title(col)\n",
    "    \n",
    "    # Adjust layout\n",
    "    plt.tight_layout()\n",
    "    plt.show()\n",
    "\n",
    "print(\"Boxplots des colonnes du dataset order_distance_stores_softmax\")\n",
    "detect_susceptible_outlier(data_orders_distance)"
   ]
  },
  {
   "cell_type": "code",
   "execution_count": 20,
   "id": "9bf9e78712eaec57",
   "metadata": {
    "collapsed": false,
    "ExecuteTime": {
     "end_time": "2024-04-05T21:46:14.781861583Z",
     "start_time": "2024-04-05T21:46:12.544640380Z"
    }
   },
   "outputs": [
    {
     "name": "stdout",
     "output_type": "stream",
     "text": [
      "Boxplots des colonnes du dataset order_products_prior_specials\n"
     ]
    },
    {
     "data": {
      "text/plain": "<Figure size 1500x500 with 5 Axes>",
      "image/png": "[encoded data removed]"
     },
     "metadata": {},
     "output_type": "display_data"
    }
   ],
   "source": [
    "print(\"Boxplots des colonnes du dataset order_products_prior_specials\")\n",
    "detect_susceptible_outlier(data_orders_products)"
   ]
  },
  {
   "cell_type": "markdown",
   "id": "c620bfc428d95eb",
   "metadata": {
    "collapsed": false
   },
   "source": [
    "Les attributs susceptibles d'avoir des outliers pour les données 'order_distance_stores_softmax' sont :\n",
    "    + distance\n",
    "    + order_hour_of_day\n",
    "    + days_since_prior_order\n",
    "Les attributs susceptibles d'avoir des outliers pour les données 'order_products_prior_specials' sont :\n",
    "    + add_to_cart_order\n",
    "    + special"
   ]
  },
  {
   "cell_type": "markdown",
   "id": "95d227c2e4426fc3",
   "metadata": {
    "collapsed": false
   },
   "source": [
    "Ces outliers peuvent toutefois encoder des informations importantes concernant le comportement des clients. Comme ils sont peu nombreux, nous choississons pour l'instant de les conserver dans le dataset et travaillerons dessus si les algorithmes le necessitent dans la suite"
   ]
  },
  {
   "cell_type": "markdown",
   "id": "4502ad892200632",
   "metadata": {
    "collapsed": false
   },
   "source": [
    "#### Intégration des données"
   ]
  },
  {
   "cell_type": "markdown",
   "id": "a491f84b8b328854",
   "metadata": {
    "collapsed": false
   },
   "source": [
    "##### Combinaison des datasets\n",
    "On fusionne les datasets selon les id des commandes"
   ]
  },
  {
   "cell_type": "code",
   "execution_count": 21,
   "id": "63733200d1f11b6",
   "metadata": {
    "collapsed": false,
    "ExecuteTime": {
     "end_time": "2024-04-05T21:46:14.856825746Z",
     "start_time": "2024-04-05T21:46:14.783030983Z"
    }
   },
   "outputs": [],
   "source": [
    "data_orders = pd.merge(data_orders_products, data_orders_distance, on='order_id', how='inner')"
   ]
  },
  {
   "cell_type": "code",
   "execution_count": 22,
   "id": "5737688e7c4e1209",
   "metadata": {
    "collapsed": false,
    "ExecuteTime": {
     "end_time": "2024-04-05T21:46:14.901156651Z",
     "start_time": "2024-04-05T21:46:14.858819185Z"
    }
   },
   "outputs": [
    {
     "data": {
      "text/plain": "   order_id  product_id  add_to_cart_order  reordered  special  user_id  \\\n0        15       19660                  1          1       15    54901   \n1        15       21195                  2          1        0    54901   \n2        15        7461                  3          1       50    54901   \n3        15        2996                  4          1        0    54901   \n4        15       32463                  5          1        0    54901   \n\n   store_id  distance  eval_set  order_number  order_dow  order_hour_of_day  \\\n0         1  0.304608      True            51          3                 11   \n1         1  0.304608      True            51          3                 11   \n2         1  0.304608      True            51          3                 11   \n3         1  0.304608      True            51          3                 11   \n4         1  0.304608      True            51          3                 11   \n\n   days_since_prior_order  \n0                     2.0  \n1                     2.0  \n2                     2.0  \n3                     2.0  \n4                     2.0  ",
      "text/html": "<div>\n<style scoped>\n    .dataframe tbody tr th:only-of-type {\n        vertical-align: middle;\n    }\n\n    .dataframe tbody tr th {\n        vertical-align: top;\n    }\n\n    .dataframe thead th {\n        text-align: right;\n    }\n</style>\n<table border=\"1\" class=\"dataframe\">\n  <thead>\n    <tr style=\"text-align: right;\">\n      <th></th>\n      <th>order_id</th>\n      <th>product_id</th>\n      <th>add_to_cart_order</th>\n      <th>reordered</th>\n      <th>special</th>\n      <th>user_id</th>\n      <th>store_id</th>\n      <th>distance</th>\n      <th>eval_set</th>\n      <th>order_number</th>\n      <th>order_dow</th>\n      <th>order_hour_of_day</th>\n      <th>days_since_prior_order</th>\n    </tr>\n  </thead>\n  <tbody>\n    <tr>\n      <th>0</th>\n      <td>15</td>\n      <td>19660</td>\n      <td>1</td>\n      <td>1</td>\n      <td>15</td>\n      <td>54901</td>\n      <td>1</td>\n      <td>0.304608</td>\n      <td>True</td>\n      <td>51</td>\n      <td>3</td>\n      <td>11</td>\n      <td>2.0</td>\n    </tr>\n    <tr>\n      <th>1</th>\n      <td>15</td>\n      <td>21195</td>\n      <td>2</td>\n      <td>1</td>\n      <td>0</td>\n      <td>54901</td>\n      <td>1</td>\n      <td>0.304608</td>\n      <td>True</td>\n      <td>51</td>\n      <td>3</td>\n      <td>11</td>\n      <td>2.0</td>\n    </tr>\n    <tr>\n      <th>2</th>\n      <td>15</td>\n      <td>7461</td>\n      <td>3</td>\n      <td>1</td>\n      <td>50</td>\n      <td>54901</td>\n      <td>1</td>\n      <td>0.304608</td>\n      <td>True</td>\n      <td>51</td>\n      <td>3</td>\n      <td>11</td>\n      <td>2.0</td>\n    </tr>\n    <tr>\n      <th>3</th>\n      <td>15</td>\n      <td>2996</td>\n      <td>4</td>\n      <td>1</td>\n      <td>0</td>\n      <td>54901</td>\n      <td>1</td>\n      <td>0.304608</td>\n      <td>True</td>\n      <td>51</td>\n      <td>3</td>\n      <td>11</td>\n      <td>2.0</td>\n    </tr>\n    <tr>\n      <th>4</th>\n      <td>15</td>\n      <td>32463</td>\n      <td>5</td>\n      <td>1</td>\n      <td>0</td>\n      <td>54901</td>\n      <td>1</td>\n      <td>0.304608</td>\n      <td>True</td>\n      <td>51</td>\n      <td>3</td>\n      <td>11</td>\n      <td>2.0</td>\n    </tr>\n  </tbody>\n</table>\n</div>"
     },
     "execution_count": 22,
     "metadata": {},
     "output_type": "execute_result"
    }
   ],
   "source": [
    "# Vérification simple\n",
    "data_orders.head()"
   ]
  },
  {
   "cell_type": "markdown",
   "id": "a88bdd6a3d78b46f",
   "metadata": {
    "collapsed": false
   },
   "source": [
    "#### Réduction"
   ]
  },
  {
   "cell_type": "markdown",
   "id": "d4338af51369158",
   "metadata": {
    "collapsed": false
   },
   "source": [
    "##### Etude des redondances\n"
   ]
  },
  {
   "cell_type": "code",
   "execution_count": 23,
   "id": "1c50253f267af5e4",
   "metadata": {
    "collapsed": false,
    "ExecuteTime": {
     "end_time": "2024-04-05T21:46:14.962729874Z",
     "start_time": "2024-04-05T21:46:14.900737886Z"
    }
   },
   "outputs": [
    {
     "data": {
      "text/plain": "eval_set                       1\nreordered                      2\nspecial                        4\norder_dow                      7\nstore_id                      10\norder_hour_of_day             24\ndays_since_prior_order        32\nadd_to_cart_order             98\norder_number                  99\nuser_id                     1374\ndistance                   13736\nproduct_id                 24860\norder_id                  136026\ndtype: int64"
     },
     "execution_count": 23,
     "metadata": {},
     "output_type": "execute_result"
    }
   ],
   "source": [
    "#classemenet des colonnes par nombre de valeurs redondantes\n",
    "data_orders.nunique().sort_values()"
   ]
  },
  {
   "cell_type": "markdown",
   "id": "6f000f95ca1fa3e2",
   "metadata": {
    "collapsed": false
   },
   "source": [
    "on constate que la colonne 'eval_set' possède les mêmes valeur spour chaque ligne. on choisit donc de supprimer cette colonne car elle n'apporte aucune information dans nos données"
   ]
  },
  {
   "cell_type": "code",
   "execution_count": 24,
   "id": "1d9f41b2f2d9953e",
   "metadata": {
    "collapsed": false,
    "ExecuteTime": {
     "end_time": "2024-04-05T21:46:14.985601587Z",
     "start_time": "2024-04-05T21:46:14.929522686Z"
    }
   },
   "outputs": [],
   "source": [
    "data_orders.drop(columns=['eval_set'],inplace=True)"
   ]
  },
  {
   "cell_type": "markdown",
   "id": "fa71bd4d3e9d7da8",
   "metadata": {
    "collapsed": false
   },
   "source": [
    "##### Feature engineering rapide\n",
    "Bien que cela ne soit pas demandé explicitemment dans le sujet du tp, nous regardons rapidement la corrélation 2 à 2 entre les différents attributs des données afin de pouvoir éliminer d'éventuelles redondances dans ces dernière au cas où nous ayons besoin d'accélerer l'entraîenment de nos algorithmes dans la suite."
   ]
  },
  {
   "cell_type": "code",
   "execution_count": 25,
   "id": "81e43a1df9341111",
   "metadata": {
    "collapsed": false,
    "ExecuteTime": {
     "end_time": "2024-04-05T21:46:15.439255323Z",
     "start_time": "2024-04-05T21:46:14.954788462Z"
    }
   },
   "outputs": [
    {
     "data": {
      "text/plain": "<Figure size 1000x800 with 2 Axes>",
      "image/png": "[encoded data removed]"
     },
     "metadata": {},
     "output_type": "display_data"
    }
   ],
   "source": [
    "# Corrélation 2 à 2 pour les données order_distance_stores_softmax\n",
    "correlation_matrix_orders = data_orders.corr()\n",
    "plt.figure(figsize=(10, 8))\n",
    "sns.heatmap(correlation_matrix_orders, annot=True, cmap='coolwarm', fmt=\".2f\", annot_kws={\"size\": 10})\n",
    "plt.title('Corrélation 2 à 2 entre les colonnes des données order_distance_stores_softmax et order_products_prior_specials')\n",
    "plt.show()"
   ]
  },
  {
   "cell_type": "markdown",
   "id": "97471f1e04d90b78",
   "metadata": {
    "collapsed": false
   },
   "source": [
    "Les attributs sont très peu corrélés ou non corrélés. On gardes toutes les features pour le moment mais nous n'écartons pas la possibilité de recourir à des techniques de reduction de dimensionalité si l'entraînement des algortihmes le nécessite dans la suite."
   ]
  },
  {
   "cell_type": "markdown",
   "id": "b4f27611fa3f4cf2",
   "metadata": {
    "collapsed": false
   },
   "source": [
    "##### Réduction des données\n",
    "Nous cherchons à présent à réduire le volume de données tout en conservant le maximum d'information ainsi que des données représentatives du dataset initial.\n",
    "\n",
    "Pour cela, nous procédons à un échantillonage probabiliste **stratifié** de nos données.\n",
    "Le caractère probabiliste de l'échantillonage assure de réduire le biais lié à la selection effectuée. L'aspect stratifié assure quant à lui d'obtenir un sous-ensemble de données **représentatif de la population originelle**"
   ]
  },
  {
   "cell_type": "code",
   "execution_count": 26,
   "id": "361acb64a336b62",
   "metadata": {
    "collapsed": false,
    "ExecuteTime": {
     "end_time": "2024-04-05T21:46:15.661681044Z",
     "start_time": "2024-04-05T21:46:15.438538194Z"
    }
   },
   "outputs": [
    {
     "name": "stdout",
     "output_type": "stream",
     "text": [
      "['order_id' 'product_id' 'add_to_cart_order' 'reordered' 'special'\n",
      " 'user_id' 'store_id' 'distance' 'order_number' 'order_dow'\n",
      " 'order_hour_of_day' 'days_since_prior_order']\n"
     ]
    }
   ],
   "source": [
    "# On stratify selon l'attribut 'reordered' qui correspond à notre cible.\n",
    "from sklearn.model_selection import train_test_split\n",
    "\n",
    "# Assuming 'target' is the column representing classes/groups\n",
    "_, sampled_df = train_test_split(data_orders, test_size=0.05, stratify=data_orders['reordered'], random_state=42)\n",
    "\n",
    "# On visualise les statistiques des données obtenues\n",
    "sampled_stats = sampled_df.describe()\n",
    "print(sampled_stats.columns.values)"
   ]
  },
  {
   "cell_type": "code",
   "execution_count": 27,
   "id": "b53e7e8ab2c0570a",
   "metadata": {
    "collapsed": false,
    "ExecuteTime": {
     "end_time": "2024-04-05T21:46:15.862909195Z",
     "start_time": "2024-04-05T21:46:15.662093751Z"
    }
   },
   "outputs": [
    {
     "data": {
      "text/plain": "           order_id    product_id  add_to_cart_order     reordered  \\\ncount  1.172312e+06  1.172312e+06       1.172312e+06  1.172312e+06   \nmean   1.710806e+06  2.558317e+04       7.311208e+00  7.744346e-01   \nstd    9.865049e+05  1.403693e+04       6.661885e+00  4.179543e-01   \nmin    1.500000e+01  1.000000e+00       1.000000e+00  0.000000e+00   \n25%    8.571920e+05  1.357500e+04       3.000000e+00  1.000000e+00   \n50%    1.713000e+06  2.514600e+04       5.000000e+00  1.000000e+00   \n75%    2.563004e+06  3.801600e+04       1.000000e+01  1.000000e+00   \nmax    3.421069e+06  4.968300e+04       9.800000e+01  1.000000e+00   \n\n            special       user_id      store_id      distance  order_number  \\\ncount  1.172312e+06  1.172312e+06  1.172312e+06  1.172312e+06  1.172312e+06   \nmean   9.745972e+00  1.011486e+05  4.497209e+00  1.252174e+00  4.950891e+01   \nstd    1.497054e+01  6.052976e+04  2.858121e+00  6.571061e-01  2.906399e+01   \nmin    0.000000e+00  2.100000e+02  0.000000e+00  2.863073e-03  1.000000e+00   \n25%    0.000000e+00  4.918600e+04  2.000000e+00  7.640387e-01  2.400000e+01   \n50%    0.000000e+00  9.935200e+04  4.000000e+00  1.171076e+00  4.900000e+01   \n75%    1.500000e+01  1.545560e+05  7.000000e+00  1.654696e+00  7.500000e+01   \nmax    5.000000e+01  2.061050e+05  9.000000e+00  4.843817e+00  9.900000e+01   \n\n          order_dow  order_hour_of_day  days_since_prior_order  \ncount  1.172312e+06       1.172312e+06            1.172312e+06  \nmean   2.849628e+00       1.298660e+01            3.101219e+00  \nstd    1.920069e+00       4.249346e+00            2.751127e+00  \nmin    0.000000e+00       0.000000e+00           -1.000000e+00  \n25%    1.000000e+00       1.000000e+01            1.000000e+00  \n50%    3.000000e+00       1.300000e+01            3.000000e+00  \n75%    5.000000e+00       1.600000e+01            4.000000e+00  \nmax    6.000000e+00       2.300000e+01            3.000000e+01  ",
      "text/html": "<div>\n<style scoped>\n    .dataframe tbody tr th:only-of-type {\n        vertical-align: middle;\n    }\n\n    .dataframe tbody tr th {\n        vertical-align: top;\n    }\n\n    .dataframe thead th {\n        text-align: right;\n    }\n</style>\n<table border=\"1\" class=\"dataframe\">\n  <thead>\n    <tr style=\"text-align: right;\">\n      <th></th>\n      <th>order_id</th>\n      <th>product_id</th>\n      <th>add_to_cart_order</th>\n      <th>reordered</th>\n      <th>special</th>\n      <th>user_id</th>\n      <th>store_id</th>\n      <th>distance</th>\n      <th>order_number</th>\n      <th>order_dow</th>\n      <th>order_hour_of_day</th>\n      <th>days_since_prior_order</th>\n    </tr>\n  </thead>\n  <tbody>\n    <tr>\n      <th>count</th>\n      <td>1.172312e+06</td>\n      <td>1.172312e+06</td>\n      <td>1.172312e+06</td>\n      <td>1.172312e+06</td>\n      <td>1.172312e+06</td>\n      <td>1.172312e+06</td>\n      <td>1.172312e+06</td>\n      <td>1.172312e+06</td>\n      <td>1.172312e+06</td>\n      <td>1.172312e+06</td>\n      <td>1.172312e+06</td>\n      <td>1.172312e+06</td>\n    </tr>\n    <tr>\n      <th>mean</th>\n      <td>1.710806e+06</td>\n      <td>2.558317e+04</td>\n      <td>7.311208e+00</td>\n      <td>7.744346e-01</td>\n      <td>9.745972e+00</td>\n      <td>1.011486e+05</td>\n      <td>4.497209e+00</td>\n      <td>1.252174e+00</td>\n      <td>4.950891e+01</td>\n      <td>2.849628e+00</td>\n      <td>1.298660e+01</td>\n      <td>3.101219e+00</td>\n    </tr>\n    <tr>\n      <th>std</th>\n      <td>9.865049e+05</td>\n      <td>1.403693e+04</td>\n      <td>6.661885e+00</td>\n      <td>4.179543e-01</td>\n      <td>1.497054e+01</td>\n      <td>6.052976e+04</td>\n      <td>2.858121e+00</td>\n      <td>6.571061e-01</td>\n      <td>2.906399e+01</td>\n      <td>1.920069e+00</td>\n      <td>4.249346e+00</td>\n      <td>2.751127e+00</td>\n    </tr>\n    <tr>\n      <th>min</th>\n      <td>1.500000e+01</td>\n      <td>1.000000e+00</td>\n      <td>1.000000e+00</td>\n      <td>0.000000e+00</td>\n      <td>0.000000e+00</td>\n      <td>2.100000e+02</td>\n      <td>0.000000e+00</td>\n      <td>2.863073e-03</td>\n      <td>1.000000e+00</td>\n      <td>0.000000e+00</td>\n      <td>0.000000e+00</td>\n      <td>-1.000000e+00</td>\n    </tr>\n    <tr>\n      <th>25%</th>\n      <td>8.571920e+05</td>\n      <td>1.357500e+04</td>\n      <td>3.000000e+00</td>\n      <td>1.000000e+00</td>\n      <td>0.000000e+00</td>\n      <td>4.918600e+04</td>\n      <td>2.000000e+00</td>\n      <td>7.640387e-01</td>\n      <td>2.400000e+01</td>\n      <td>1.000000e+00</td>\n      <td>1.000000e+01</td>\n      <td>1.000000e+00</td>\n    </tr>\n    <tr>\n      <th>50%</th>\n      <td>1.713000e+06</td>\n      <td>2.514600e+04</td>\n      <td>5.000000e+00</td>\n      <td>1.000000e+00</td>\n      <td>0.000000e+00</td>\n      <td>9.935200e+04</td>\n      <td>4.000000e+00</td>\n      <td>1.171076e+00</td>\n      <td>4.900000e+01</td>\n      <td>3.000000e+00</td>\n      <td>1.300000e+01</td>\n      <td>3.000000e+00</td>\n    </tr>\n    <tr>\n      <th>75%</th>\n      <td>2.563004e+06</td>\n      <td>3.801600e+04</td>\n      <td>1.000000e+01</td>\n      <td>1.000000e+00</td>\n      <td>1.500000e+01</td>\n      <td>1.545560e+05</td>\n      <td>7.000000e+00</td>\n      <td>1.654696e+00</td>\n      <td>7.500000e+01</td>\n      <td>5.000000e+00</td>\n      <td>1.600000e+01</td>\n      <td>4.000000e+00</td>\n    </tr>\n    <tr>\n      <th>max</th>\n      <td>3.421069e+06</td>\n      <td>4.968300e+04</td>\n      <td>9.800000e+01</td>\n      <td>1.000000e+00</td>\n      <td>5.000000e+01</td>\n      <td>2.061050e+05</td>\n      <td>9.000000e+00</td>\n      <td>4.843817e+00</td>\n      <td>9.900000e+01</td>\n      <td>6.000000e+00</td>\n      <td>2.300000e+01</td>\n      <td>3.000000e+01</td>\n    </tr>\n  </tbody>\n</table>\n</div>"
     },
     "execution_count": 27,
     "metadata": {},
     "output_type": "execute_result"
    }
   ],
   "source": [
    "# Visualisation des statistiques sur les données avant sampling\n",
    "data_orders.describe()"
   ]
  },
  {
   "cell_type": "markdown",
   "id": "c998bea835085b58",
   "metadata": {
    "collapsed": false
   },
   "source": [
    "on compare les statistiques avant et après sampling pour voir si la diversité des données est aussi bien représentée qu'avant."
   ]
  },
  {
   "cell_type": "code",
   "execution_count": 46,
   "id": "2f64e9907fddf455",
   "metadata": {
    "collapsed": false,
    "ExecuteTime": {
     "end_time": "2024-04-05T21:56:01.397048236Z",
     "start_time": "2024-04-05T21:55:58.921765281Z"
    }
   },
   "outputs": [
    {
     "data": {
      "text/plain": "[count    90.476129\n mean      0.048462\n std       0.156523\n min      72.727273\n 25%       0.010588\n 50%       0.155653\n 75%       0.215293\n max       0.001257\n Name: order_id, dtype: float64,\n count    90.476129\n mean      0.028282\n std       0.167641\n min       0.000000\n 25%       0.436520\n 50%       0.015910\n 75%       0.187726\n max       0.000000\n Name: product_id, dtype: float64,\n count    90.476129\n mean      0.343111\n std       0.141904\n min       0.000000\n 25%       0.000000\n 50%       0.000000\n 75%       0.000000\n max       0.000000\n Name: add_to_cart_order, dtype: float64,\n count    90.476129\n mean      0.000286\n std       0.000753\n min            NaN\n 25%       0.000000\n 50%       0.000000\n 75%       0.000000\n max       0.000000\n Name: reordered, dtype: float64,\n count    90.476129\n mean      0.216205\n std       0.014235\n min            NaN\n 25%            NaN\n 50%            NaN\n 75%       0.000000\n max       0.000000\n Name: special, dtype: float64,\n count    90.476129\n mean      0.199873\n std       0.016750\n min       0.000000\n 25%       0.301807\n 50%       0.365694\n 75%       0.269234\n max       0.000000\n Name: user_id, dtype: float64,\n count    90.476129\n mean      0.156729\n std       0.215385\n min            NaN\n 25%       0.000000\n 50%      11.111111\n 75%       0.000000\n max       0.000000\n Name: store_id, dtype: float64,\n count    90.476129\n mean      0.095645\n std       0.144254\n min       0.000000\n 25%       0.154787\n 50%       0.021833\n 75%       0.122317\n max       0.000000\n Name: distance, dtype: float64,\n count    90.476129\n mean      0.128413\n std       0.023206\n min       0.000000\n 25%       0.000000\n 50%       0.000000\n 75%       0.000000\n max       0.000000\n Name: order_number, dtype: float64,\n count    90.476129\n mean      0.122941\n std       0.120542\n min            NaN\n 25%       0.000000\n 50%       0.000000\n 75%       0.000000\n max       0.000000\n Name: order_dow, dtype: float64,\n count    90.476129\n mean      0.131219\n std       0.027830\n min            NaN\n 25%       0.000000\n 50%       0.000000\n 75%       0.000000\n max       0.000000\n Name: order_hour_of_day, dtype: float64,\n count    90.476129\n mean      0.008264\n std       0.662805\n min      -0.000000\n 25%       0.000000\n 50%       0.000000\n 75%       0.000000\n max       0.000000\n Name: days_since_prior_order, dtype: float64]"
     },
     "execution_count": 46,
     "metadata": {},
     "output_type": "execute_result"
    }
   ],
   "source": [
    "diff_tab = []\n",
    "for col_name in sampled_df.columns.values:\n",
    "    stat_pre_sampling = data_orders.describe()[col_name]\n",
    "    stat_post_sampling = sampled_df.describe()[col_name]\n",
    "    diff = 100 * abs(stat_post_sampling - stat_pre_sampling) / (stat_post_sampling + stat_pre_sampling)\n",
    "    diff_tab.append(diff)\n",
    "diff_tab"
   ]
  },
  {
   "cell_type": "markdown",
   "id": "cc74904e0efa6f2",
   "metadata": {
    "collapsed": false
   },
   "source": [
    "on constate que les statistiques des distributions ont majoritairement été conservé après l'échantillonage. Cela infique que l'information et la représentativité des données a bien été conservée."
   ]
  },
  {
   "cell_type": "markdown",
   "id": "60f03d2e11e54938",
   "metadata": {
    "collapsed": false
   },
   "source": [
    "### 1.b - Préparation des données"
   ]
  },
  {
   "cell_type": "markdown",
   "id": "5d24b9ce4696b80f",
   "metadata": {
    "collapsed": false
   },
   "source": [
    "#### Création des ensembles d'entraînement et de test\n",
    "On sépare les données en ensembles d'entraînement et de test tout en conservant la diversité des données dans chacun de ces ensembles. pour cela, on utilise l'option 'stratfied' de la fonction train_test_split de sklearn"
   ]
  },
  {
   "cell_type": "code",
   "execution_count": 57,
   "id": "d9f9f0938c5fb00",
   "metadata": {
    "collapsed": false,
    "ExecuteTime": {
     "end_time": "2024-04-05T22:04:04.435601404Z",
     "start_time": "2024-04-05T22:04:04.048968341Z"
    }
   },
   "outputs": [],
   "source": [
    "X = data_orders.drop(columns=['reordered']) # datas\n",
    "y = data_orders['reordered'] # targets\n",
    "\n",
    "\n",
    "# First, split the data into training set and test set\n",
    "X_train, X_test, y_train, y_test = train_test_split(X, y, test_size=0.2, random_state=0, stratify=y)\n",
    "\n",
    "# Then, split the training set into a smaller training set and a validation set\n",
    "X_train, X_val, y_train, y_val = train_test_split(X_train, y_train, test_size=0.25, random_state=0, stratify=y_train)"
   ]
  },
  {
   "cell_type": "markdown",
   "id": "b31742798f8bb4db",
   "metadata": {
    "collapsed": false
   },
   "source": [
    "#### Transformation"
   ]
  },
  {
   "cell_type": "markdown",
   "id": "94479c2b4cecf5b0",
   "metadata": {
    "collapsed": false
   },
   "source": [
    "##### Normalisation des ensembles d'entraînement et de test\n",
    "Les algorithmes que nous appliquerons par la suite (CNN et SVM) ne nécessitent pas de connaître la distribution des données.\n",
    "Nous procédons donc à la normalisation des données afin de les ramener dans un intervalle connu."
   ]
  },
  {
   "cell_type": "code",
   "execution_count": 58,
   "id": "a3e2e1921b29169a",
   "metadata": {
    "collapsed": false,
    "ExecuteTime": {
     "end_time": "2024-04-05T22:04:12.764228336Z",
     "start_time": "2024-04-05T22:04:12.642155466Z"
    }
   },
   "outputs": [],
   "source": [
    "standard_scaler = StandardScaler()\n",
    "X_train_scaled = standard_scaler.fit_transform(X_train)\n",
    "X_test_scaled = standard_scaler.fit_transform(X_test)\n",
    "X_val_scaled = standard_scaler.fit_transform(X_val)\n",
    "\n",
    "X_train = X_train_scaled\n",
    "X_test = X_test_scaled\n",
    "X_val = X_val_scaled"
   ]
  },
  {
   "cell_type": "code",
   "execution_count": 59,
   "id": "37f9af3c668e539a",
   "metadata": {
    "collapsed": false,
    "ExecuteTime": {
     "end_time": "2024-04-05T22:04:19.118030647Z",
     "start_time": "2024-04-05T22:04:19.070584589Z"
    }
   },
   "outputs": [
    {
     "name": "stdout",
     "output_type": "stream",
     "text": [
      "Moyenne de X_train_scaled = 4.6739405478225944e-17 et déviation standard = 1.0000000000000004\n",
      "Moyenne de X_test_scaled = 3.82946408953279e-17 et déviation standard = 1.0000000000000002\n",
      "Moyenne de X_val_scaled = -5.866518584353326e-17 et déviation standard = 0.9999999999999997\n"
     ]
    }
   ],
   "source": [
    "# Vérification\n",
    "print(f\"Moyenne de X_train_scaled = {X_train_scaled.mean()} et déviation standard = {X_train_scaled.std()}\")\n",
    "print(f\"Moyenne de X_test_scaled = {X_test_scaled.mean()} et déviation standard = {X_test_scaled.std()}\")\n",
    "print(f\"Moyenne de X_val_scaled = {X_val_scaled.mean()} et déviation standard = {X_val_scaled.std()}\")"
   ]
  },
  {
   "cell_type": "markdown",
   "id": "6ed227e8aef76f5",
   "metadata": {
    "collapsed": false
   },
   "source": [
    "A l'issu des ces étapes de prétraitement, les données ont été standardisée et peuvent être desormais utilisées dans les algorithmes suivants."
   ]
  },
  {
   "cell_type": "markdown",
   "id": "a67c1def",
   "metadata": {},
   "source": [
    "## 2 - Choix du modèle de prédiction"
   ]
  },
  {
   "cell_type": "markdown",
   "id": "ce23d89e",
   "metadata": {},
   "source": [
    "### 2.a - Modèle RNN et score F1"
   ]
  },
  {
   "cell_type": "code",
   "execution_count": 62,
   "outputs": [
    {
     "name": "stdout",
     "output_type": "stream",
     "text": [
      "Shape of X_train: (703386, 11)\n",
      "Shape of X_val: (234463, 11)\n",
      "Shape of X_test: (234463, 11)\n"
     ]
    },
    {
     "data": {
      "text/plain": "array([[0., 1.],\n       [0., 1.],\n       [1., 0.],\n       [0., 1.],\n       [0., 1.]], dtype=float32)"
     },
     "execution_count": 62,
     "metadata": {},
     "output_type": "execute_result"
    }
   ],
   "source": [
    "# Vérifier les formes des ensembles créés\n",
    "print(\"Shape of X_train:\", X_train.shape)\n",
    "print(\"Shape of X_val:\", X_val.shape)\n",
    "print(\"Shape of X_test:\", X_test.shape)\n",
    "\n",
    "# Assuming y_train and y_test are your target labels\n",
    "# Convert them to one-hot encoded vectors\n",
    "y_train_one_hot = to_categorical(y_train)\n",
    "y_test_one_hot = to_categorical(y_test)\n",
    "y_val_one_hot = to_categorical(y_val)\n",
    "\n",
    "y_train_one_hot[:5]"
   ],
   "metadata": {
    "collapsed": false,
    "ExecuteTime": {
     "end_time": "2024-04-05T22:05:05.876041297Z",
     "start_time": "2024-04-05T22:05:05.850336755Z"
    }
   },
   "id": "c8d68f147eed576b"
  },
  {
   "cell_type": "markdown",
   "id": "912f165c",
   "metadata": {},
   "source": [
    "#### Prédiction de la classe"
   ]
  },
  {
   "cell_type": "code",
   "execution_count": 63,
   "id": "d527b722c7ac8053",
   "metadata": {
    "collapsed": false,
    "ExecuteTime": {
     "end_time": "2024-04-05T22:05:30.872943637Z",
     "start_time": "2024-04-05T22:05:30.827247363Z"
    }
   },
   "outputs": [],
   "source": [
    "loss_fn = keras.losses.CategoricalCrossentropy()\n",
    "metrics_fn = keras.metrics.BinaryAccuracy()"
   ]
  },
  {
   "cell_type": "code",
   "execution_count": 65,
   "id": "beed211fbf595f7",
   "metadata": {
    "collapsed": false,
    "ExecuteTime": {
     "end_time": "2024-04-05T22:31:28.171510542Z",
     "start_time": "2024-04-05T22:12:31.459834236Z"
    }
   },
   "outputs": [
    {
     "name": "stdout",
     "output_type": "stream",
     "text": [
      "Epoch 1/3\n",
      "7327/7327 [==============================] - 6s 730us/step - loss: 0.4238 - binary_accuracy: 0.8062 - val_loss: 0.4177 - val_binary_accuracy: 0.8057\n",
      "Epoch 2/3\n",
      "7327/7327 [==============================] - 5s 711us/step - loss: 0.4151 - binary_accuracy: 0.8086 - val_loss: 0.4151 - val_binary_accuracy: 0.8078\n",
      "Epoch 3/3\n",
      "7327/7327 [==============================] - 5s 719us/step - loss: 0.4132 - binary_accuracy: 0.8094 - val_loss: 0.4137 - val_binary_accuracy: 0.8088\n",
      "7327/7327 [==============================] - 3s 421us/step\n",
      "Epoch 1/3\n",
      "7327/7327 [==============================] - 6s 723us/step - loss: 0.4234 - binary_accuracy: 0.8055 - val_loss: 0.4173 - val_binary_accuracy: 0.8064\n",
      "Epoch 2/3\n",
      "7327/7327 [==============================] - 5s 721us/step - loss: 0.4149 - binary_accuracy: 0.8079 - val_loss: 0.4137 - val_binary_accuracy: 0.8096\n",
      "Epoch 3/3\n",
      "7327/7327 [==============================] - 5s 728us/step - loss: 0.4132 - binary_accuracy: 0.8092 - val_loss: 0.4125 - val_binary_accuracy: 0.8093\n",
      "7327/7327 [==============================] - 3s 428us/step\n",
      "Epoch 1/3\n",
      "7327/7327 [==============================] - 5s 714us/step - loss: 0.4222 - binary_accuracy: 0.8064 - val_loss: 0.4164 - val_binary_accuracy: 0.8075\n",
      "Epoch 2/3\n",
      "7327/7327 [==============================] - 5s 714us/step - loss: 0.4141 - binary_accuracy: 0.8093 - val_loss: 0.4142 - val_binary_accuracy: 0.8089\n",
      "Epoch 3/3\n",
      "7327/7327 [==============================] - 5s 734us/step - loss: 0.4124 - binary_accuracy: 0.8099 - val_loss: 0.4126 - val_binary_accuracy: 0.8096\n",
      "7327/7327 [==============================] - 3s 423us/step\n",
      "Epoch 1/3\n",
      "7327/7327 [==============================] - 6s 748us/step - loss: 0.4229 - binary_accuracy: 0.8061 - val_loss: 0.4169 - val_binary_accuracy: 0.8067\n",
      "Epoch 2/3\n",
      "7327/7327 [==============================] - 5s 744us/step - loss: 0.4145 - binary_accuracy: 0.8086 - val_loss: 0.4143 - val_binary_accuracy: 0.8090\n",
      "Epoch 3/3\n",
      "7327/7327 [==============================] - 5s 728us/step - loss: 0.4126 - binary_accuracy: 0.8098 - val_loss: 0.4145 - val_binary_accuracy: 0.8074\n",
      "7327/7327 [==============================] - 3s 417us/step\n",
      "Epoch 1/3\n",
      "7327/7327 [==============================] - 6s 734us/step - loss: 0.4230 - binary_accuracy: 0.8051 - val_loss: 0.4186 - val_binary_accuracy: 0.8061\n",
      "Epoch 2/3\n",
      "7327/7327 [==============================] - 5s 748us/step - loss: 0.4152 - binary_accuracy: 0.8080 - val_loss: 0.4149 - val_binary_accuracy: 0.8088\n",
      "Epoch 3/3\n",
      "7327/7327 [==============================] - 5s 731us/step - loss: 0.4135 - binary_accuracy: 0.8089 - val_loss: 0.4137 - val_binary_accuracy: 0.8087\n",
      "7327/7327 [==============================] - 3s 418us/step\n",
      "Epoch 1/3\n",
      "7327/7327 [==============================] - 6s 731us/step - loss: 0.4225 - binary_accuracy: 0.8057 - val_loss: 0.4173 - val_binary_accuracy: 0.8072\n",
      "Epoch 2/3\n",
      "7327/7327 [==============================] - 5s 750us/step - loss: 0.4142 - binary_accuracy: 0.8094 - val_loss: 0.4139 - val_binary_accuracy: 0.8098\n",
      "Epoch 3/3\n",
      "7327/7327 [==============================] - 5s 732us/step - loss: 0.4124 - binary_accuracy: 0.8103 - val_loss: 0.4139 - val_binary_accuracy: 0.8093\n",
      "7327/7327 [==============================] - 3s 428us/step\n",
      "Epoch 1/3\n",
      "7327/7327 [==============================] - 6s 777us/step - loss: 0.4220 - binary_accuracy: 0.8059 - val_loss: 0.4168 - val_binary_accuracy: 0.8075\n",
      "Epoch 2/3\n",
      "7327/7327 [==============================] - 5s 729us/step - loss: 0.4143 - binary_accuracy: 0.8090 - val_loss: 0.4142 - val_binary_accuracy: 0.8088\n",
      "Epoch 3/3\n",
      "7327/7327 [==============================] - 5s 740us/step - loss: 0.4124 - binary_accuracy: 0.8099 - val_loss: 0.4122 - val_binary_accuracy: 0.8099\n",
      "7327/7327 [==============================] - 3s 423us/step\n",
      "Epoch 1/3\n",
      "7327/7327 [==============================] - 6s 756us/step - loss: 0.4222 - binary_accuracy: 0.8061 - val_loss: 0.4160 - val_binary_accuracy: 0.8078\n",
      "Epoch 2/3\n",
      "7327/7327 [==============================] - 5s 736us/step - loss: 0.4148 - binary_accuracy: 0.8084 - val_loss: 0.4142 - val_binary_accuracy: 0.8093\n",
      "Epoch 3/3\n",
      "7327/7327 [==============================] - 5s 747us/step - loss: 0.4133 - binary_accuracy: 0.8091 - val_loss: 0.4125 - val_binary_accuracy: 0.8097\n",
      "7327/7327 [==============================] - 3s 421us/step\n",
      "Epoch 1/3\n",
      "7327/7327 [==============================] - 6s 743us/step - loss: 0.4223 - binary_accuracy: 0.8064 - val_loss: 0.4164 - val_binary_accuracy: 0.8076\n",
      "Epoch 2/3\n",
      "7327/7327 [==============================] - 5s 746us/step - loss: 0.4138 - binary_accuracy: 0.8093 - val_loss: 0.4144 - val_binary_accuracy: 0.8093\n",
      "Epoch 3/3\n",
      "7327/7327 [==============================] - 5s 737us/step - loss: 0.4121 - binary_accuracy: 0.8102 - val_loss: 0.4125 - val_binary_accuracy: 0.8096\n",
      "7327/7327 [==============================] - 3s 424us/step\n",
      "Epoch 1/3\n",
      "7327/7327 [==============================] - 6s 738us/step - loss: 0.4225 - binary_accuracy: 0.8062 - val_loss: 0.4163 - val_binary_accuracy: 0.8077\n",
      "Epoch 2/3\n",
      "7327/7327 [==============================] - 6s 758us/step - loss: 0.4140 - binary_accuracy: 0.8092 - val_loss: 0.4135 - val_binary_accuracy: 0.8092\n",
      "Epoch 3/3\n",
      "7327/7327 [==============================] - 6s 758us/step - loss: 0.4122 - binary_accuracy: 0.8099 - val_loss: 0.4120 - val_binary_accuracy: 0.8103\n",
      "7327/7327 [==============================] - 3s 423us/step\n",
      "Epoch 1/3\n",
      "7327/7327 [==============================] - 6s 740us/step - loss: 0.4227 - binary_accuracy: 0.8059 - val_loss: 0.4185 - val_binary_accuracy: 0.8062\n",
      "Epoch 2/3\n",
      "7327/7327 [==============================] - 5s 735us/step - loss: 0.4149 - binary_accuracy: 0.8086 - val_loss: 0.4139 - val_binary_accuracy: 0.8084\n",
      "Epoch 3/3\n",
      "7327/7327 [==============================] - 5s 731us/step - loss: 0.4129 - binary_accuracy: 0.8093 - val_loss: 0.4131 - val_binary_accuracy: 0.8087\n",
      "7327/7327 [==============================] - 3s 417us/step\n",
      "Epoch 1/3\n",
      "7327/7327 [==============================] - 6s 751us/step - loss: 0.4212 - binary_accuracy: 0.8063 - val_loss: 0.4163 - val_binary_accuracy: 0.8072\n",
      "Epoch 2/3\n",
      "7327/7327 [==============================] - 6s 760us/step - loss: 0.4134 - binary_accuracy: 0.8095 - val_loss: 0.4133 - val_binary_accuracy: 0.8095\n",
      "Epoch 3/3\n",
      "7327/7327 [==============================] - 5s 738us/step - loss: 0.4117 - binary_accuracy: 0.8104 - val_loss: 0.4136 - val_binary_accuracy: 0.8091\n",
      "7327/7327 [==============================] - 3s 420us/step\n",
      "Epoch 1/3\n",
      "7327/7327 [==============================] - 6s 748us/step - loss: 0.4211 - binary_accuracy: 0.8065 - val_loss: 0.4154 - val_binary_accuracy: 0.8075\n",
      "Epoch 2/3\n",
      "7327/7327 [==============================] - 5s 746us/step - loss: 0.4138 - binary_accuracy: 0.8090 - val_loss: 0.4159 - val_binary_accuracy: 0.8078\n",
      "Epoch 3/3\n",
      "7327/7327 [==============================] - 5s 731us/step - loss: 0.4123 - binary_accuracy: 0.8097 - val_loss: 0.4137 - val_binary_accuracy: 0.8095\n",
      "7327/7327 [==============================] - 3s 419us/step\n",
      "Epoch 1/3\n",
      "7327/7327 [==============================] - 6s 761us/step - loss: 0.4220 - binary_accuracy: 0.8065 - val_loss: 0.4160 - val_binary_accuracy: 0.8083\n",
      "Epoch 2/3\n",
      "7327/7327 [==============================] - 6s 763us/step - loss: 0.4147 - binary_accuracy: 0.8080 - val_loss: 0.4146 - val_binary_accuracy: 0.8086\n",
      "Epoch 3/3\n",
      "7327/7327 [==============================] - 6s 785us/step - loss: 0.4132 - binary_accuracy: 0.8094 - val_loss: 0.4128 - val_binary_accuracy: 0.8092\n",
      "7327/7327 [==============================] - 3s 432us/step\n",
      "Epoch 1/3\n",
      "7327/7327 [==============================] - 6s 768us/step - loss: 0.4210 - binary_accuracy: 0.8069 - val_loss: 0.4165 - val_binary_accuracy: 0.8074\n",
      "Epoch 2/3\n",
      "7327/7327 [==============================] - 6s 770us/step - loss: 0.4135 - binary_accuracy: 0.8095 - val_loss: 0.4143 - val_binary_accuracy: 0.8090\n",
      "Epoch 3/3\n",
      "7327/7327 [==============================] - 6s 782us/step - loss: 0.4119 - binary_accuracy: 0.8105 - val_loss: 0.4124 - val_binary_accuracy: 0.8092\n",
      "7327/7327 [==============================] - 3s 427us/step\n",
      "Epoch 1/3\n",
      "7327/7327 [==============================] - 6s 753us/step - loss: 0.4219 - binary_accuracy: 0.8061 - val_loss: 0.4165 - val_binary_accuracy: 0.8063\n",
      "Epoch 2/3\n",
      "7327/7327 [==============================] - 5s 748us/step - loss: 0.4144 - binary_accuracy: 0.8090 - val_loss: 0.4150 - val_binary_accuracy: 0.8083\n",
      "Epoch 3/3\n",
      "7327/7327 [==============================] - 5s 737us/step - loss: 0.4128 - binary_accuracy: 0.8101 - val_loss: 0.4125 - val_binary_accuracy: 0.8100\n",
      "7327/7327 [==============================] - 3s 434us/step\n",
      "Epoch 1/3\n",
      "7327/7327 [==============================] - 6s 759us/step - loss: 0.4223 - binary_accuracy: 0.8061 - val_loss: 0.4154 - val_binary_accuracy: 0.8081\n",
      "Epoch 2/3\n",
      "7327/7327 [==============================] - 6s 758us/step - loss: 0.4145 - binary_accuracy: 0.8084 - val_loss: 0.4155 - val_binary_accuracy: 0.8081\n",
      "Epoch 3/3\n",
      "7327/7327 [==============================] - 6s 755us/step - loss: 0.4127 - binary_accuracy: 0.8095 - val_loss: 0.4123 - val_binary_accuracy: 0.8095\n",
      "7327/7327 [==============================] - 3s 423us/step\n",
      "Epoch 1/3\n",
      "7327/7327 [==============================] - 6s 764us/step - loss: 0.4211 - binary_accuracy: 0.8063 - val_loss: 0.4158 - val_binary_accuracy: 0.8086\n",
      "Epoch 2/3\n",
      "7327/7327 [==============================] - 6s 756us/step - loss: 0.4136 - binary_accuracy: 0.8093 - val_loss: 0.4138 - val_binary_accuracy: 0.8090\n",
      "Epoch 3/3\n",
      "7327/7327 [==============================] - 5s 748us/step - loss: 0.4120 - binary_accuracy: 0.8105 - val_loss: 0.4123 - val_binary_accuracy: 0.8097\n",
      "7327/7327 [==============================] - 3s 425us/step\n",
      "Epoch 1/3\n",
      "7327/7327 [==============================] - 6s 731us/step - loss: 0.4209 - binary_accuracy: 0.8065 - val_loss: 0.4169 - val_binary_accuracy: 0.8065\n",
      "Epoch 2/3\n",
      "7327/7327 [==============================] - 5s 729us/step - loss: 0.4137 - binary_accuracy: 0.8090 - val_loss: 0.4131 - val_binary_accuracy: 0.8091\n",
      "Epoch 3/3\n",
      "7327/7327 [==============================] - 5s 723us/step - loss: 0.4123 - binary_accuracy: 0.8100 - val_loss: 0.4125 - val_binary_accuracy: 0.8095\n",
      "7327/7327 [==============================] - 3s 426us/step\n",
      "Epoch 1/3\n",
      "7327/7327 [==============================] - 6s 750us/step - loss: 0.4210 - binary_accuracy: 0.8063 - val_loss: 0.4153 - val_binary_accuracy: 0.8078\n",
      "Epoch 2/3\n",
      "7327/7327 [==============================] - 6s 752us/step - loss: 0.4143 - binary_accuracy: 0.8083 - val_loss: 0.4138 - val_binary_accuracy: 0.8083\n",
      "Epoch 3/3\n",
      "7327/7327 [==============================] - 5s 740us/step - loss: 0.4126 - binary_accuracy: 0.8095 - val_loss: 0.4132 - val_binary_accuracy: 0.8088\n",
      "7327/7327 [==============================] - 3s 433us/step\n",
      "Epoch 1/3\n",
      "7327/7327 [==============================] - 6s 768us/step - loss: 0.4205 - binary_accuracy: 0.8067 - val_loss: 0.4159 - val_binary_accuracy: 0.8075\n",
      "Epoch 2/3\n",
      "7327/7327 [==============================] - 5s 735us/step - loss: 0.4132 - binary_accuracy: 0.8096 - val_loss: 0.4132 - val_binary_accuracy: 0.8094\n",
      "Epoch 3/3\n",
      "7327/7327 [==============================] - 5s 744us/step - loss: 0.4117 - binary_accuracy: 0.8107 - val_loss: 0.4139 - val_binary_accuracy: 0.8084\n",
      "7327/7327 [==============================] - 3s 421us/step\n",
      "Epoch 1/3\n",
      "7327/7327 [==============================] - 6s 737us/step - loss: 0.4208 - binary_accuracy: 0.8063 - val_loss: 0.4161 - val_binary_accuracy: 0.8077\n",
      "Epoch 2/3\n",
      "7327/7327 [==============================] - 5s 715us/step - loss: 0.4142 - binary_accuracy: 0.8091 - val_loss: 0.4135 - val_binary_accuracy: 0.8093\n",
      "Epoch 3/3\n",
      "7327/7327 [==============================] - 5s 716us/step - loss: 0.4121 - binary_accuracy: 0.8102 - val_loss: 0.4123 - val_binary_accuracy: 0.8102\n",
      "7327/7327 [==============================] - 3s 407us/step\n",
      "Epoch 1/3\n",
      "7327/7327 [==============================] - 6s 734us/step - loss: 0.4219 - binary_accuracy: 0.8063 - val_loss: 0.4165 - val_binary_accuracy: 0.8069\n",
      "Epoch 2/3\n",
      "7327/7327 [==============================] - 5s 715us/step - loss: 0.4144 - binary_accuracy: 0.8084 - val_loss: 0.4133 - val_binary_accuracy: 0.8091\n",
      "Epoch 3/3\n",
      "7327/7327 [==============================] - 5s 725us/step - loss: 0.4130 - binary_accuracy: 0.8092 - val_loss: 0.4130 - val_binary_accuracy: 0.8089\n",
      "7327/7327 [==============================] - 3s 420us/step\n",
      "Epoch 1/3\n",
      "7327/7327 [==============================] - 6s 735us/step - loss: 0.4204 - binary_accuracy: 0.8066 - val_loss: 0.4163 - val_binary_accuracy: 0.8076\n",
      "Epoch 2/3\n",
      "7327/7327 [==============================] - 5s 722us/step - loss: 0.4140 - binary_accuracy: 0.8091 - val_loss: 0.4143 - val_binary_accuracy: 0.8086\n",
      "Epoch 3/3\n",
      "7327/7327 [==============================] - 5s 731us/step - loss: 0.4123 - binary_accuracy: 0.8098 - val_loss: 0.4134 - val_binary_accuracy: 0.8088\n",
      "7327/7327 [==============================] - 3s 419us/step\n",
      "Epoch 1/3\n",
      "7327/7327 [==============================] - 6s 741us/step - loss: 0.4207 - binary_accuracy: 0.8066 - val_loss: 0.4163 - val_binary_accuracy: 0.8067\n",
      "Epoch 2/3\n",
      "7327/7327 [==============================] - 5s 725us/step - loss: 0.4137 - binary_accuracy: 0.8089 - val_loss: 0.4137 - val_binary_accuracy: 0.8093\n",
      "Epoch 3/3\n",
      "7327/7327 [==============================] - 5s 725us/step - loss: 0.4120 - binary_accuracy: 0.8103 - val_loss: 0.4125 - val_binary_accuracy: 0.8094\n",
      "7327/7327 [==============================] - 3s 413us/step\n",
      "Epoch 1/3\n",
      "7327/7327 [==============================] - 6s 756us/step - loss: 0.4210 - binary_accuracy: 0.8062 - val_loss: 0.4152 - val_binary_accuracy: 0.8079\n",
      "Epoch 2/3\n",
      "7327/7327 [==============================] - 5s 742us/step - loss: 0.4143 - binary_accuracy: 0.8084 - val_loss: 0.4132 - val_binary_accuracy: 0.8090\n",
      "Epoch 3/3\n",
      "7327/7327 [==============================] - 5s 738us/step - loss: 0.4127 - binary_accuracy: 0.8095 - val_loss: 0.4129 - val_binary_accuracy: 0.8099\n",
      "7327/7327 [==============================] - 3s 424us/step\n",
      "Epoch 1/3\n",
      "7327/7327 [==============================] - 6s 754us/step - loss: 0.4203 - binary_accuracy: 0.8070 - val_loss: 0.4157 - val_binary_accuracy: 0.8077\n",
      "Epoch 2/3\n",
      "7327/7327 [==============================] - 6s 755us/step - loss: 0.4134 - binary_accuracy: 0.8092 - val_loss: 0.4138 - val_binary_accuracy: 0.8089\n",
      "Epoch 3/3\n",
      "7327/7327 [==============================] - 5s 745us/step - loss: 0.4116 - binary_accuracy: 0.8105 - val_loss: 0.4127 - val_binary_accuracy: 0.8100\n",
      "7327/7327 [==============================] - 3s 431us/step\n",
      "Epoch 1/3\n",
      "7327/7327 [==============================] - 6s 764us/step - loss: 0.4209 - binary_accuracy: 0.8069 - val_loss: 0.4154 - val_binary_accuracy: 0.8080\n",
      "Epoch 2/3\n",
      "7327/7327 [==============================] - 6s 762us/step - loss: 0.4141 - binary_accuracy: 0.8085 - val_loss: 0.4141 - val_binary_accuracy: 0.8090\n",
      "Epoch 3/3\n",
      "7327/7327 [==============================] - 6s 752us/step - loss: 0.4124 - binary_accuracy: 0.8101 - val_loss: 0.4129 - val_binary_accuracy: 0.8095\n",
      "7327/7327 [==============================] - 3s 428us/step\n",
      "Epoch 1/3\n",
      "7327/7327 [==============================] - 6s 748us/step - loss: 0.4209 - binary_accuracy: 0.8065 - val_loss: 0.4161 - val_binary_accuracy: 0.8071\n",
      "Epoch 2/3\n",
      "7327/7327 [==============================] - 5s 747us/step - loss: 0.4143 - binary_accuracy: 0.8086 - val_loss: 0.4139 - val_binary_accuracy: 0.8092\n",
      "Epoch 3/3\n",
      "7327/7327 [==============================] - 5s 745us/step - loss: 0.4131 - binary_accuracy: 0.8091 - val_loss: 0.4131 - val_binary_accuracy: 0.8094\n",
      "7327/7327 [==============================] - 3s 427us/step\n",
      "Epoch 1/3\n",
      "7327/7327 [==============================] - 6s 758us/step - loss: 0.4200 - binary_accuracy: 0.8073 - val_loss: 0.4154 - val_binary_accuracy: 0.8083\n",
      "Epoch 2/3\n",
      "7327/7327 [==============================] - 5s 748us/step - loss: 0.4133 - binary_accuracy: 0.8095 - val_loss: 0.4148 - val_binary_accuracy: 0.8085\n",
      "Epoch 3/3\n",
      "7327/7327 [==============================] - 5s 734us/step - loss: 0.4119 - binary_accuracy: 0.8103 - val_loss: 0.4124 - val_binary_accuracy: 0.8094\n",
      "7327/7327 [==============================] - 3s 416us/step\n",
      "Epoch 1/3\n",
      "7327/7327 [==============================] - 6s 758us/step - loss: 0.4204 - binary_accuracy: 0.8067 - val_loss: 0.4163 - val_binary_accuracy: 0.8076\n",
      "Epoch 2/3\n",
      "7327/7327 [==============================] - 5s 738us/step - loss: 0.4137 - binary_accuracy: 0.8093 - val_loss: 0.4131 - val_binary_accuracy: 0.8093\n",
      "Epoch 3/3\n",
      "7327/7327 [==============================] - 5s 739us/step - loss: 0.4122 - binary_accuracy: 0.8099 - val_loss: 0.4119 - val_binary_accuracy: 0.8103\n",
      "7327/7327 [==============================] - 3s 420us/step\n",
      "Epoch 1/3\n",
      "7327/7327 [==============================] - 6s 772us/step - loss: 0.4207 - binary_accuracy: 0.8068 - val_loss: 0.4158 - val_binary_accuracy: 0.8076\n",
      "Epoch 2/3\n",
      "7327/7327 [==============================] - 5s 737us/step - loss: 0.4141 - binary_accuracy: 0.8086 - val_loss: 0.4145 - val_binary_accuracy: 0.8086\n",
      "Epoch 3/3\n",
      "7327/7327 [==============================] - 6s 759us/step - loss: 0.4126 - binary_accuracy: 0.8094 - val_loss: 0.4127 - val_binary_accuracy: 0.8089\n",
      "7327/7327 [==============================] - 3s 427us/step\n",
      "Epoch 1/3\n",
      "7327/7327 [==============================] - 6s 778us/step - loss: 0.4194 - binary_accuracy: 0.8068 - val_loss: 0.4165 - val_binary_accuracy: 0.8077\n",
      "Epoch 2/3\n",
      "7327/7327 [==============================] - 6s 771us/step - loss: 0.4127 - binary_accuracy: 0.8094 - val_loss: 0.4134 - val_binary_accuracy: 0.8085\n",
      "Epoch 3/3\n",
      "7327/7327 [==============================] - 6s 757us/step - loss: 0.4114 - binary_accuracy: 0.8104 - val_loss: 0.4134 - val_binary_accuracy: 0.8081\n",
      "7327/7327 [==============================] - 3s 423us/step\n",
      "Epoch 1/3\n",
      "7327/7327 [==============================] - 6s 776us/step - loss: 0.4202 - binary_accuracy: 0.8064 - val_loss: 0.4149 - val_binary_accuracy: 0.8083\n",
      "Epoch 2/3\n",
      "7327/7327 [==============================] - 6s 780us/step - loss: 0.4136 - binary_accuracy: 0.8091 - val_loss: 0.4122 - val_binary_accuracy: 0.8100\n",
      "Epoch 3/3\n",
      "7327/7327 [==============================] - 6s 786us/step - loss: 0.4120 - binary_accuracy: 0.8097 - val_loss: 0.4120 - val_binary_accuracy: 0.8096\n",
      "7327/7327 [==============================] - 3s 429us/step\n",
      "Epoch 1/3\n",
      "7327/7327 [==============================] - 6s 783us/step - loss: 0.4209 - binary_accuracy: 0.8063 - val_loss: 0.4149 - val_binary_accuracy: 0.8083\n",
      "Epoch 2/3\n",
      "7327/7327 [==============================] - 5s 748us/step - loss: 0.4141 - binary_accuracy: 0.8085 - val_loss: 0.4125 - val_binary_accuracy: 0.8090\n",
      "Epoch 3/3\n",
      "7327/7327 [==============================] - 6s 758us/step - loss: 0.4126 - binary_accuracy: 0.8093 - val_loss: 0.4119 - val_binary_accuracy: 0.8106\n",
      "7327/7327 [==============================] - 3s 414us/step\n",
      "Epoch 1/3\n",
      "7327/7327 [==============================] - 6s 767us/step - loss: 0.4195 - binary_accuracy: 0.8076 - val_loss: 0.4169 - val_binary_accuracy: 0.8061\n",
      "Epoch 2/3\n",
      "7327/7327 [==============================] - 6s 764us/step - loss: 0.4133 - binary_accuracy: 0.8095 - val_loss: 0.4135 - val_binary_accuracy: 0.8088\n",
      "Epoch 3/3\n",
      "7327/7327 [==============================] - 6s 760us/step - loss: 0.4117 - binary_accuracy: 0.8108 - val_loss: 0.4142 - val_binary_accuracy: 0.8076\n",
      "7327/7327 [==============================] - 3s 414us/step\n",
      "Epoch 1/3\n",
      "7327/7327 [==============================] - 6s 745us/step - loss: 0.4202 - binary_accuracy: 0.8063 - val_loss: 0.4152 - val_binary_accuracy: 0.8077\n",
      "Epoch 2/3\n",
      "7327/7327 [==============================] - 5s 730us/step - loss: 0.4138 - binary_accuracy: 0.8091 - val_loss: 0.4133 - val_binary_accuracy: 0.8091\n",
      "Epoch 3/3\n",
      "7327/7327 [==============================] - 5s 739us/step - loss: 0.4121 - binary_accuracy: 0.8098 - val_loss: 0.4147 - val_binary_accuracy: 0.8090\n",
      "7327/7327 [==============================] - 3s 426us/step\n",
      "Epoch 1/3\n",
      "7327/7327 [==============================] - 6s 742us/step - loss: 0.4213 - binary_accuracy: 0.8058 - val_loss: 0.4161 - val_binary_accuracy: 0.8075\n",
      "Epoch 2/3\n",
      "7327/7327 [==============================] - 5s 721us/step - loss: 0.4144 - binary_accuracy: 0.8085 - val_loss: 0.4136 - val_binary_accuracy: 0.8093\n",
      "Epoch 3/3\n",
      "7327/7327 [==============================] - 5s 735us/step - loss: 0.4126 - binary_accuracy: 0.8094 - val_loss: 0.4125 - val_binary_accuracy: 0.8098\n",
      "7327/7327 [==============================] - 3s 438us/step\n",
      "Epoch 1/3\n",
      "7327/7327 [==============================] - 6s 754us/step - loss: 0.4205 - binary_accuracy: 0.8068 - val_loss: 0.4154 - val_binary_accuracy: 0.8077\n",
      "Epoch 2/3\n",
      "7327/7327 [==============================] - 6s 762us/step - loss: 0.4134 - binary_accuracy: 0.8094 - val_loss: 0.4135 - val_binary_accuracy: 0.8090\n",
      "Epoch 3/3\n",
      "7327/7327 [==============================] - 5s 746us/step - loss: 0.4117 - binary_accuracy: 0.8107 - val_loss: 0.4124 - val_binary_accuracy: 0.8093\n",
      "7327/7327 [==============================] - 3s 425us/step\n",
      "Epoch 1/3\n",
      "7327/7327 [==============================] - 6s 765us/step - loss: 0.4200 - binary_accuracy: 0.8068 - val_loss: 0.4161 - val_binary_accuracy: 0.8076\n",
      "Epoch 2/3\n",
      "7327/7327 [==============================] - 6s 759us/step - loss: 0.4137 - binary_accuracy: 0.8089 - val_loss: 0.4125 - val_binary_accuracy: 0.8097\n",
      "Epoch 3/3\n",
      "7327/7327 [==============================] - 5s 744us/step - loss: 0.4121 - binary_accuracy: 0.8100 - val_loss: 0.4122 - val_binary_accuracy: 0.8101\n",
      "7327/7327 [==============================] - 3s 413us/step\n",
      "Epoch 1/3\n",
      "7327/7327 [==============================] - 6s 755us/step - loss: 0.4201 - binary_accuracy: 0.8068 - val_loss: 0.4150 - val_binary_accuracy: 0.8079\n",
      "Epoch 2/3\n",
      "7327/7327 [==============================] - 5s 747us/step - loss: 0.4141 - binary_accuracy: 0.8085 - val_loss: 0.4125 - val_binary_accuracy: 0.8098\n",
      "Epoch 3/3\n",
      "7327/7327 [==============================] - 6s 754us/step - loss: 0.4127 - binary_accuracy: 0.8093 - val_loss: 0.4129 - val_binary_accuracy: 0.8095\n",
      "7327/7327 [==============================] - 3s 417us/step\n",
      "Epoch 1/3\n",
      "7327/7327 [==============================] - 6s 741us/step - loss: 0.4194 - binary_accuracy: 0.8073 - val_loss: 0.4154 - val_binary_accuracy: 0.8077\n",
      "Epoch 2/3\n",
      "7327/7327 [==============================] - 5s 735us/step - loss: 0.4128 - binary_accuracy: 0.8094 - val_loss: 0.4140 - val_binary_accuracy: 0.8089\n",
      "Epoch 3/3\n",
      "7327/7327 [==============================] - 5s 736us/step - loss: 0.4114 - binary_accuracy: 0.8106 - val_loss: 0.4127 - val_binary_accuracy: 0.8085\n",
      "7327/7327 [==============================] - 3s 419us/step\n",
      "Epoch 1/3\n",
      "7327/7327 [==============================] - 6s 760us/step - loss: 0.4198 - binary_accuracy: 0.8068 - val_loss: 0.4151 - val_binary_accuracy: 0.8073\n",
      "Epoch 2/3\n",
      "7327/7327 [==============================] - 5s 749us/step - loss: 0.4135 - binary_accuracy: 0.8091 - val_loss: 0.4126 - val_binary_accuracy: 0.8098\n",
      "Epoch 3/3\n",
      "7327/7327 [==============================] - 5s 750us/step - loss: 0.4121 - binary_accuracy: 0.8097 - val_loss: 0.4126 - val_binary_accuracy: 0.8094\n",
      "7327/7327 [==============================] - 3s 412us/step\n",
      "Epoch 1/3\n",
      "7327/7327 [==============================] - 6s 758us/step - loss: 0.4201 - binary_accuracy: 0.8066 - val_loss: 0.4150 - val_binary_accuracy: 0.8081\n",
      "Epoch 2/3\n",
      "7327/7327 [==============================] - 5s 748us/step - loss: 0.4142 - binary_accuracy: 0.8086 - val_loss: 0.4143 - val_binary_accuracy: 0.8085\n",
      "Epoch 3/3\n",
      "7327/7327 [==============================] - 6s 751us/step - loss: 0.4127 - binary_accuracy: 0.8092 - val_loss: 0.4130 - val_binary_accuracy: 0.8087\n",
      "7327/7327 [==============================] - 3s 423us/step\n",
      "Epoch 1/3\n",
      "7327/7327 [==============================] - 6s 756us/step - loss: 0.4196 - binary_accuracy: 0.8068 - val_loss: 0.4149 - val_binary_accuracy: 0.8084\n",
      "Epoch 2/3\n",
      "7327/7327 [==============================] - 5s 749us/step - loss: 0.4130 - binary_accuracy: 0.8098 - val_loss: 0.4129 - val_binary_accuracy: 0.8095\n",
      "Epoch 3/3\n",
      "7327/7327 [==============================] - 6s 759us/step - loss: 0.4115 - binary_accuracy: 0.8108 - val_loss: 0.4129 - val_binary_accuracy: 0.8100\n",
      "7327/7327 [==============================] - 3s 424us/step\n",
      "Epoch 1/3\n",
      "7327/7327 [==============================] - 6s 747us/step - loss: 0.4195 - binary_accuracy: 0.8073 - val_loss: 0.4153 - val_binary_accuracy: 0.8071\n",
      "Epoch 2/3\n",
      "7327/7327 [==============================] - 5s 732us/step - loss: 0.4135 - binary_accuracy: 0.8091 - val_loss: 0.4124 - val_binary_accuracy: 0.8094\n",
      "Epoch 3/3\n",
      "7327/7327 [==============================] - 5s 739us/step - loss: 0.4120 - binary_accuracy: 0.8098 - val_loss: 0.4129 - val_binary_accuracy: 0.8092\n",
      "7327/7327 [==============================] - 3s 417us/step\n",
      "Epoch 1/3\n",
      "7327/7327 [==============================] - 6s 746us/step - loss: 0.4204 - binary_accuracy: 0.8066 - val_loss: 0.4187 - val_binary_accuracy: 0.8070\n",
      "Epoch 2/3\n",
      "7327/7327 [==============================] - 5s 737us/step - loss: 0.4141 - binary_accuracy: 0.8081 - val_loss: 0.4129 - val_binary_accuracy: 0.8091\n",
      "Epoch 3/3\n",
      "7327/7327 [==============================] - 6s 769us/step - loss: 0.4126 - binary_accuracy: 0.8095 - val_loss: 0.4124 - val_binary_accuracy: 0.8097\n",
      "7327/7327 [==============================] - 3s 430us/step\n",
      "Epoch 1/3\n",
      "7327/7327 [==============================] - 6s 749us/step - loss: 0.4188 - binary_accuracy: 0.8075 - val_loss: 0.4149 - val_binary_accuracy: 0.8080\n",
      "Epoch 2/3\n",
      "7327/7327 [==============================] - 6s 758us/step - loss: 0.4130 - binary_accuracy: 0.8095 - val_loss: 0.4123 - val_binary_accuracy: 0.8097\n",
      "Epoch 3/3\n",
      "7327/7327 [==============================] - 6s 766us/step - loss: 0.4115 - binary_accuracy: 0.8106 - val_loss: 0.4121 - val_binary_accuracy: 0.8098\n",
      "7327/7327 [==============================] - 3s 425us/step\n",
      "Epoch 1/3\n",
      "7327/7327 [==============================] - 6s 798us/step - loss: 0.4196 - binary_accuracy: 0.8070 - val_loss: 0.4154 - val_binary_accuracy: 0.8076\n",
      "Epoch 2/3\n",
      "7327/7327 [==============================] - 6s 797us/step - loss: 0.4135 - binary_accuracy: 0.8090 - val_loss: 0.4184 - val_binary_accuracy: 0.8055\n",
      "Epoch 3/3\n",
      "7327/7327 [==============================] - 6s 792us/step - loss: 0.4120 - binary_accuracy: 0.8101 - val_loss: 0.4128 - val_binary_accuracy: 0.8088\n",
      "7327/7327 [==============================] - 3s 425us/step\n",
      "Epoch 1/3\n",
      "7327/7327 [==============================] - 6s 824us/step - loss: 0.4200 - binary_accuracy: 0.8064 - val_loss: 0.4150 - val_binary_accuracy: 0.8075\n",
      "Epoch 2/3\n",
      "7327/7327 [==============================] - 6s 809us/step - loss: 0.4138 - binary_accuracy: 0.8087 - val_loss: 0.4148 - val_binary_accuracy: 0.8073\n",
      "Epoch 3/3\n",
      "7327/7327 [==============================] - 6s 797us/step - loss: 0.4126 - binary_accuracy: 0.8096 - val_loss: 0.4121 - val_binary_accuracy: 0.8103\n",
      "7327/7327 [==============================] - 3s 434us/step\n",
      "Epoch 1/3\n",
      "7327/7327 [==============================] - 6s 819us/step - loss: 0.4189 - binary_accuracy: 0.8080 - val_loss: 0.4165 - val_binary_accuracy: 0.8077\n",
      "Epoch 2/3\n",
      "7327/7327 [==============================] - 6s 805us/step - loss: 0.4130 - binary_accuracy: 0.8095 - val_loss: 0.4137 - val_binary_accuracy: 0.8078\n",
      "Epoch 3/3\n",
      "7327/7327 [==============================] - 6s 783us/step - loss: 0.4116 - binary_accuracy: 0.8104 - val_loss: 0.4141 - val_binary_accuracy: 0.8086\n",
      "7327/7327 [==============================] - 3s 433us/step\n",
      "Epoch 1/3\n",
      "7327/7327 [==============================] - 6s 824us/step - loss: 0.4192 - binary_accuracy: 0.8068 - val_loss: 0.4157 - val_binary_accuracy: 0.8061\n",
      "Epoch 2/3\n",
      "7327/7327 [==============================] - 6s 810us/step - loss: 0.4133 - binary_accuracy: 0.8093 - val_loss: 0.4141 - val_binary_accuracy: 0.8084\n",
      "Epoch 3/3\n",
      "7327/7327 [==============================] - 6s 816us/step - loss: 0.4120 - binary_accuracy: 0.8098 - val_loss: 0.4136 - val_binary_accuracy: 0.8092\n",
      "7327/7327 [==============================] - 4s 483us/step\n",
      "Epoch 1/3\n",
      "7327/7327 [==============================] - 6s 840us/step - loss: 0.4197 - binary_accuracy: 0.8069 - val_loss: 0.4155 - val_binary_accuracy: 0.8073\n",
      "Epoch 2/3\n",
      "7327/7327 [==============================] - 6s 820us/step - loss: 0.4142 - binary_accuracy: 0.8084 - val_loss: 0.4125 - val_binary_accuracy: 0.8099\n",
      "Epoch 3/3\n",
      "7327/7327 [==============================] - 6s 798us/step - loss: 0.4126 - binary_accuracy: 0.8093 - val_loss: 0.4144 - val_binary_accuracy: 0.8090\n",
      "7327/7327 [==============================] - 3s 443us/step\n",
      "Epoch 1/3\n",
      "7327/7327 [==============================] - 6s 849us/step - loss: 0.4189 - binary_accuracy: 0.8074 - val_loss: 0.4176 - val_binary_accuracy: 0.8055\n",
      "Epoch 2/3\n",
      "7327/7327 [==============================] - 6s 807us/step - loss: 0.4129 - binary_accuracy: 0.8092 - val_loss: 0.4134 - val_binary_accuracy: 0.8085\n",
      "Epoch 3/3\n",
      "7327/7327 [==============================] - 6s 822us/step - loss: 0.4116 - binary_accuracy: 0.8105 - val_loss: 0.4136 - val_binary_accuracy: 0.8087\n",
      "7327/7327 [==============================] - 3s 441us/step\n",
      "Epoch 1/3\n",
      "10991/10991 [==============================] - 8s 702us/step - loss: 0.4181 - binary_accuracy: 0.8072 - val_loss: 0.4146 - val_binary_accuracy: 0.8085\n",
      "Epoch 2/3\n",
      "10991/10991 [==============================] - 8s 715us/step - loss: 0.4124 - binary_accuracy: 0.8097 - val_loss: 0.4120 - val_binary_accuracy: 0.8101\n",
      "Epoch 3/3\n",
      "10991/10991 [==============================] - 8s 711us/step - loss: 0.4114 - binary_accuracy: 0.8104 - val_loss: 0.4115 - val_binary_accuracy: 0.8105\n"
     ]
    }
   ],
   "source": [
    "# Define a function to create the model based on hyperparameters\n",
    "def create_model(optimizer='adam', neurons_layer1=64, neurons_layer2=64):\n",
    "    model = Sequential()    \n",
    "    model.add(keras.Input(shape=(X_train.shape[1],)))\n",
    "    model.add(Dense(neurons_layer1, activation='relu'))\n",
    "    model.add(Dense(neurons_layer2, activation='relu'))\n",
    "    model.add(Dense(2, activation='softmax'))\n",
    "    model.compile(optimizer=optimizer, loss=loss_fn, metrics=[metrics_fn])\n",
    "    return model\n",
    "\n",
    "# Wrap the create_model function with KerasClassifier\n",
    "keras_model = KerasClassifier(model=create_model, neurons_layer1=64, neurons_layer2=64, metrics=[metrics_fn])\n",
    "\n",
    "# Define the grid of hyperparameters to search\n",
    "param_grid = {\n",
    "    'neurons_layer1': [32, 64, 128],\n",
    "    'neurons_layer2': [32, 64, 128],\n",
    "    'optimizer': ['adam', 'rmsprop']\n",
    "}\n",
    "\n",
    "# Define F1 score as the metric\n",
    "f1_scorer = make_scorer(f1_score, average='micro')\n",
    "\n",
    "# Initialize GridSearchCV with F1 score as the metric\n",
    "grid = GridSearchCV(estimator=keras_model, param_grid=param_grid, cv=3, scoring=f1_scorer)\n",
    "# Perform grid search\n",
    "grid_result = grid.fit(X_train, y_train_one_hot, epochs=3, batch_size=64, validation_data=(X_val, y_val_one_hot), verbose=1)"
   ]
  },
  {
   "cell_type": "code",
   "execution_count": 66,
   "id": "f1284f40f00ff475",
   "metadata": {
    "collapsed": false,
    "ExecuteTime": {
     "end_time": "2024-04-05T22:33:48.097024976Z",
     "start_time": "2024-04-05T22:33:48.049626882Z"
    }
   },
   "outputs": [
    {
     "name": "stdout",
     "output_type": "stream",
     "text": [
      "- Best parameters found:  {'neurons_layer1': 128, 'neurons_layer2': 64, 'optimizer': 'rmsprop'}\n",
      "\n",
      "\n",
      "- Best F1 score found:  0.81\n"
     ]
    }
   ],
   "source": [
    "# Display results\n",
    "print(\"- Best parameters found: \", grid_result.best_params_)\n",
    "print(\"\\n\")\n",
    "print(\"- Best F1 score found: \", round(grid_result.best_score_,2))"
   ]
  },
  {
   "cell_type": "markdown",
   "id": "fc11681d19ba8d8f",
   "metadata": {
    "collapsed": false
   },
   "source": [
    "#### Verification sur les données de test"
   ]
  },
  {
   "cell_type": "code",
   "execution_count": 67,
   "id": "3d6c90b612924247",
   "metadata": {
    "collapsed": false,
    "ExecuteTime": {
     "end_time": "2024-04-05T22:33:54.731632084Z",
     "start_time": "2024-04-05T22:33:50.984946807Z"
    }
   },
   "outputs": [
    {
     "name": "stdout",
     "output_type": "stream",
     "text": [
      "7327/7327 [==============================] - 3s 427us/step\n",
      "Best model performance:\n",
      "F1 Score: 0.811\n"
     ]
    }
   ],
   "source": [
    "best_model = grid_result.best_estimator_\n",
    "\n",
    "# Faire des prédictions sur l'ensemble de test avec le meilleur modèle\n",
    "y_pred_best = best_model.predict(X_test)\n",
    "\n",
    "f1_best = f1_score(y_test_one_hot, y_pred_best, average='micro')\n",
    "\n",
    "# Afficher les résultats pour le meilleur modèle\n",
    "print(\"Best model performance:\")\n",
    "print(\"F1 Score:\", round(f1_best,3))"
   ]
  },
  {
   "cell_type": "markdown",
   "id": "a2c0eb23",
   "metadata": {},
   "source": [
    "### 2.b - Modèle SVM et score F1"
   ]
  },
  {
   "cell_type": "markdown",
   "id": "34f6afa7",
   "metadata": {},
   "source": [
    "On écrit une fonction qui permettra de chercher les hyperparamètres du modèle, en fonction du type de noyau choisi."
   ]
  },
  {
   "cell_type": "code",
   "execution_count": null,
   "id": "90b56cff",
   "metadata": {
    "ExecuteTime": {
     "start_time": "2024-04-05T21:49:32.173104715Z"
    }
   },
   "outputs": [],
   "source": [
    "# Recherche d'hyperpatamètres en fonction du noyau\n",
    "from sklearn.model_selection import GridSearchCV, StratifiedShuffleSplit\n",
    "\n",
    "def hyper_parameters_search(model, kernel, X_train, y_train):\n",
    "        if kernel == 'linear':\n",
    "            C_range = [1,10,100,1000]\n",
    "            param_grid = dict(C=C_range)\n",
    "            cv = StratifiedShuffleSplit(n_splits=5, test_size=0.2, random_state=42)\n",
    "            grid = GridSearchCV(model, param_grid=param_grid, cv=cv, scoring='accuracy')\n",
    "            grid.fit(X_train, y_train)\n",
    "            print(grid.best_score_, \" pour les hyperparamètres suivants, noyau RBF : \", grid.best_params_)\n",
    "            return grid.best_estimator_, grid.best_params_\n",
    "        elif kernel == 'rbf':\n",
    "            C_range = [1,10,100,1000]\n",
    "            gamma_range = [1,0.1,0.001,0.0001]\n",
    "            param_grid = dict(gamma=gamma_range, C=C_range)\n",
    "            cv = StratifiedShuffleSplit(n_splits=5, test_size=0.2, random_state=42)\n",
    "            grid = GridSearchCV(model, param_grid=param_grid, cv=cv, scoring='accuracy')\n",
    "            grid.fit(X_train, y_train)\n",
    "            print(grid.best_score_, \" pour les hyperparamètres suivants, noyau RBF : \", grid.best_params_)\n",
    "            return grid.best_estimator_, grid.best_params_\n",
    "        elif kernel == 'sigmoid':\n",
    "            coef0_range = [-5, -3, -1, -0.1, 0.0, 0.1, 1]\n",
    "            param_grid = dict(coef0=coef0_range)\n",
    "            cv = StratifiedShuffleSplit(n_splits=5, test_size=0.2, random_state=42)\n",
    "            grid = GridSearchCV(model, param_grid=param_grid, cv=cv, scoring='accuracy')\n",
    "            grid.fit(X_train, y_train)\n",
    "            print(grid.best_score_, \" pour les hyperparamètres suivants, noyau sigmoïde : \", grid.best_params_)\n",
    "            return grid.best_estimator_, grid.best_params_\n",
    "        elif kernel == 'poly':\n",
    "            coef0_range = [-5, -3, -1, -0.1, 0.0, 0.1, 1]\n",
    "            degree_range = [2, 3, 4, 5, 6, 7]\n",
    "            param_grid = dict(coef0=coef0_range, degree = degree_range)\n",
    "            cv = StratifiedShuffleSplit(n_splits=5, test_size=0.2, random_state=42)\n",
    "            grid = GridSearchCV(model, param_grid=param_grid, cv=cv, scoring='accuracy')\n",
    "            grid.fit(X_train, y_train)\n",
    "            print(grid.best_score_, \" pour les hyperparamètres suivants, noyau polynomial : \", grid.best_params_)\n",
    "            return grid.best_estimator_, grid.best_params_\n",
    "        print(\"Erreur recherche hyper-paramètres\")\n",
    "        return model     "
   ]
  },
  {
   "cell_type": "markdown",
   "id": "c7f63887",
   "metadata": {},
   "source": [
    "Pour chaque type de noyau, on entraine un modèle correspondant pour ensuite l'évaluer et chercher ses hyperparamètres. On enregistre ensuite ces données dans un fichier, à partir duquel on pourra récupérer le modèle entrainé"
   ]
  },
  {
   "cell_type": "code",
   "execution_count": null,
   "id": "c3b5d898",
   "metadata": {
    "ExecuteTime": {
     "start_time": "2024-04-05T21:49:32.173782969Z"
    }
   },
   "outputs": [],
   "source": [
    "from sklearn.svm import SVC\n",
    "from sklearn.metrics import confusion_matrix, f1_score\n",
    "import joblib\n",
    "\n",
    "kernel_values = ['linear', 'rbf', 'sigmoid', 'poly']\n",
    "for kernel in kernel_values :\n",
    "    print(f'----- Modèle de noyau {kernel} -----')\n",
    "    \n",
    "    svm_model = SVC(kernel=kernel)\n",
    "    svm_model.fit(X_train_scaled, y_train)\n",
    "    y_pred = svm_model.predict(X_test_scaled)\n",
    "    \n",
    "    # Évaluation du modèle    \n",
    "    conf_matrix = confusion_matrix(y_test, y_pred)\n",
    "    print(f'Matrice de confusion :')\n",
    "    print(conf_matrix)\n",
    "    \n",
    "    f1_svm = f1_score(y_test, y_pred)\n",
    "    print(f'Score F1 : {f1_svm}')\n",
    "    \n",
    "    # Recherche des hyperparamètres\n",
    "    best_svm_model, best_svm_param = hyper_parameters_search(svm_model, kernel, X_train=X_train_scaled, y_train=y_train)\n",
    "    best_svm_model.fit(X_train_scaled, y_train)\n",
    "    best_y_pred = best_svm_model.predict(X_test_scaled)\n",
    "\n",
    "    # Évaluation du meilleur\n",
    "    best_conf_matrix = confusion_matrix(y_test, best_y_pred)\n",
    "    print(f'Matrice de confusion')\n",
    "    print(best_conf_matrix)\n",
    "    \n",
    "    best_f1_svm = f1_score(y_test, best_y_pred)\n",
    "    print(f'Score F1 : {best_f1_svm}')\n",
    "    \n",
    "    # Sauvegarde du modèle et des hyperparamètres dans un fichier\n",
    "    joblib.dump(best_svm_model, f'modele_svm_{kernel}.pkl')\n",
    "    joblib.dump(best_svm_param, f'hyperparametres_svm_{kernel}.pkl')"
   ]
  },
  {
   "cell_type": "markdown",
   "id": "9c2241ca",
   "metadata": {},
   "source": [
    "On récupère les données précédemment enregistrées."
   ]
  },
  {
   "cell_type": "code",
   "execution_count": null,
   "id": "e6032677",
   "metadata": {
    "ExecuteTime": {
     "end_time": "2024-04-05T21:49:32.174860081Z",
     "start_time": "2024-04-05T21:49:32.174477605Z"
    }
   },
   "outputs": [],
   "source": [
    "# Chargement des modèle et des hyperparamètres à partir des fichiers sauvegardés\n",
    "kernel_values = ['linear', 'rbf', 'sigmoid', 'poly']\n",
    "for kernel in kernel_values :\n",
    "    modele_svm = joblib.load(f'modele_svm_{kernel}.pkl')\n",
    "    hyperparametres_svm = joblib.load(f'hyperparametres_svm_{kernel}.pkl')\n",
    "    print(f'Meilleurs paramètres du modèle SVM avec noyau de type {kernel} : {hyperparametres_svm}')"
   ]
  },
  {
   "cell_type": "markdown",
   "id": "7ac47b2e",
   "metadata": {},
   "source": [
    "## 3 - Conclusion"
   ]
  },
  {
   "cell_type": "markdown",
   "id": "8cf00072",
   "metadata": {},
   "source": [
    "### 3.a -\n",
    "\n"
   ]
  },
  {
   "cell_type": "markdown",
   "id": "cb9415c0",
   "metadata": {},
   "source": [
    "### 3.b -\n",
    "\n",
    "Les hyperparamètres utilisés pour le modèle SVM sont les suivants :\n",
    "\n",
    "- Pour le noyau linear :\n",
    "    - C : la valeur de pénalité du terme d'erreur.\n",
    "\n",
    "- Pour le noyau rbf :\n",
    "    - C : la valeur de pénalité du terme d'erreur.\n",
    "    - gamma : la valeur du coefficient du noyau RBF.\n",
    "\n",
    "- Pour le noyau sigmoid :\n",
    "    - coef0 : la valeur de l'ordonnée à l'origine dans le noyau sigmoïde.\n",
    "\n",
    "- Pour le noyau poly :\n",
    "    - coef0 : la valeur de l'ordonnée à l'origine dans le noyau polynomial.\n",
    "    - degree : la valeur du degré du noyau polynomial.\n",
    "\n",
    "---\n",
    "\n",
    "Les hyperparamètres utilisés pour le modèle RNN sont les suivants :\n",
    "- neurons_layer1 : le nombre de neurones dans la première couche du modèle (32, 64 ou 128).\n",
    "- neurons_layer2 : le nombre de neurones dans la deuxième couche du modèle (32, 64 ou 128).\n",
    "- optimizer : l'optimiseur utilisé pour l'entraînement du modèle (adam ou rmsprop).\n",
    "\n",
    "Y en a d'autres qui peuvent être utilisés pour améliorer les performances du modèle, comme le nombre de couches, le taux d'apprentissage, le nombre d'époques, etc. mais on a choisi de se concentrer sur ces trois hyperparamètres pour simplifier le processus de recherche des meilleurs hyperparamètres.\n",
    "\n",
    "*Plus le nombre de neurones est élevé, plus le modèle est complexe et plus il a de chances de sur-apprendre.*"
   ]
  },
  {
   "cell_type": "markdown",
   "id": "e17e164f",
   "metadata": {},
   "source": [
    "### 3.c -\n",
    "\n"
   ]
  },
  {
   "cell_type": "markdown",
   "id": "996592ea",
   "metadata": {},
   "source": [
    "### 3.d -\n",
    "\n",
    "Le score F1 est très bon, il est proche de 1. Cela signifie que le modèle a bien été entrainé et que ses capacités de prédiction sont satisfaisantes."
   ]
  },
  {
   "cell_type": "markdown",
   "source": [
    "On peut également envisager de créer des modèles qui prédisent le supermarché qui sera visité ensuite."
   ],
   "metadata": {
    "collapsed": false
   },
   "id": "eb707db96c2cc6a2"
  }
 ],
 "metadata": {
  "kernelspec": {
   "display_name": "Python 3 (ipykernel)",
   "language": "python",
   "name": "python3"
  },
  "language_info": {
   "codemirror_mode": {
    "name": "ipython",
    "version": 3
   },
   "file_extension": ".py",
   "mimetype": "text/x-python",
   "name": "python",
   "nbconvert_exporter": "python",
   "pygments_lexer": "ipython3",
   "version": "3.11.9"
  }
 },
 "nbformat": 4,
 "nbformat_minor": 5
}

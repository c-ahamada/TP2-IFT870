{
 "cells": [
  {
   "cell_type": "markdown",
   "id": "d5b3a81ae5d0d258",
   "metadata": {
    "collapsed": false
   },
   "source": [
    "# Groupe 11 - TP 2 - Raport"
   ]
  },
  {
   "cell_type": "markdown",
   "id": "c17de1dbb467da7",
   "metadata": {
    "collapsed": false
   },
   "source": [
    "Membres du groupe:\n",
    "- Oussama Khaloui --- khao1201\n",
    "- Matthieu Tailleur --- taim1201\n",
    "- Caroline Wang --- wanc1101"
   ]
  },
  {
   "cell_type": "raw",
   "id": "462d641ff203995b",
   "metadata": {
    "collapsed": false
   },
   "source": [
    "Dans ce TP nous cherchons à explorer les données afin de développer ensuite des algorithmes de machine learning dans l'objectif de prédire les achats de clients à partir de paniers de courses."
   ]
  },
  {
   "cell_type": "markdown",
   "id": "60c2f7e347c130f9",
   "metadata": {
    "collapsed": false
   },
   "source": [
    "## 1 - Analyse des données"
   ]
  },
  {
   "cell_type": "markdown",
   "id": "e06afc93583fbcc0",
   "metadata": {
    "collapsed": false
   },
   "source": [
    "### 1.a - Réduction des données"
   ]
  },
  {
   "cell_type": "code",
   "execution_count": 40,
   "id": "86a91fde4630d9e0",
   "metadata": {
    "ExecuteTime": {
     "end_time": "2024-04-05T02:44:07.596308100Z",
     "start_time": "2024-04-05T02:44:01.001878Z"
    },
    "collapsed": false
   },
   "outputs": [],
   "source": [
    "# Importation des librairies basiques\n",
    "import pandas as pd\n",
    "import numpy as np\n",
    "\n",
    "# Paramètres d'affichage des DataFrames\n",
    "pd.set_option('display.max_rows', 500)\n",
    "pd.set_option('display.max_columns', 500)\n",
    "\n",
    "# librairies de visualisation\n",
    "import matplotlib.pyplot as plt\n",
    "from plotly.subplots import make_subplots\n",
    "import seaborn as sns\n",
    "import plotly.express as px\n",
    "import plotly.graph_objects as go\n",
    "from sklearn.preprocessing import LabelEncoder\n",
    "\n",
    "# Librairie sklearn\n",
    "from sklearn import metrics\n",
    "from sklearn.impute import KNNImputer\n",
    "from sklearn.feature_selection import SelectKBest, mutual_info_classif\n",
    "from sklearn.preprocessing import StandardScaler\n",
    "from sklearn.decomposition import PCA\n",
    "from sklearn.model_selection import train_test_split\n",
    "from sklearn.model_selection import GridSearchCV\n",
    "from sklearn.metrics import make_scorer, f1_score\n",
    "\n",
    "# Retirer les Warnings\n",
    "# import warnings\n",
    "# warnings.filterwarnings(\"ignore\", category=FutureWarning)\n",
    "\n",
    "\n",
    "# Modèle gaussien\n",
    "from matplotlib import patches\n",
    "from sklearn.mixture import GaussianMixture\n",
    "from sklearn.model_selection import train_test_split\n",
    "\n",
    "from keras.utils import to_categorical\n",
    "import keras\n",
    "from keras.models import Sequential\n",
    "from keras.layers import Dense\n",
    "from scikeras.wrappers import KerasClassifier"
   ]
  },
  {
   "cell_type": "markdown",
   "id": "285dcaed9d486d39",
   "metadata": {
    "collapsed": false
   },
   "source": [
    "#### Chargement des données"
   ]
  },
  {
   "cell_type": "code",
   "execution_count": 41,
   "id": "55302a3292d1e941",
   "metadata": {
    "ExecuteTime": {
     "end_time": "2024-04-05T02:44:08.090939200Z",
     "start_time": "2024-04-05T02:44:07.599639800Z"
    },
    "collapsed": false
   },
   "outputs": [
    {
     "name": "stdout",
     "output_type": "stream",
     "text": [
      "Le dataset orders_distance_stores_softmax contient 136026 points et 10 attributs\n",
      "Le dataset order_products__prior_specials contient 1172312 points et 6 attributs\n"
     ]
    }
   ],
   "source": [
    "data_file_1 = \"./donnees/orders_distance_stores_softmax.csv\"\n",
    "data_file_2 = \"./donnees/order_products__prior_specials.csv\"\n",
    "data_orders_distance = pd.read_csv(data_file_1)\n",
    "data_orders_products = pd.read_csv(data_file_2)\n",
    "\n",
    "# Vérification du bon chargement des données et comparaison avec ce qui est attendu d'après l'énoncé\n",
    "print(f\"Le dataset orders_distance_stores_softmax contient {data_orders_distance.shape[0]} points et {data_orders_distance.shape[1]} attributs\")\n",
    "print(f\"Le dataset order_products__prior_specials contient {data_orders_products.shape[0]} points et {data_orders_products.shape[1]} attributs\")"
   ]
  },
  {
   "cell_type": "markdown",
   "id": "91e89b6aa7e3dc0a",
   "metadata": {
    "collapsed": false
   },
   "source": [
    "Les datasets contiennent tous deux le nombre d'attributs attendu et beaucoup de lignes. L'objectif de cette partie sera de réduire leurs nombre - pour rendre nos algorithmes plus efficaces - tout en conservant le maximum d'information du dataset afin d'effectuer les meilleurs prédictions possibles."
   ]
  },
  {
   "cell_type": "markdown",
   "id": "ba3f122efcd0e503",
   "metadata": {
    "collapsed": false
   },
   "source": [
    "#### Auscultation des données"
   ]
  },
  {
   "cell_type": "markdown",
   "id": "c2b11a76b6483b2f",
   "metadata": {
    "collapsed": false
   },
   "source": [
    "On commence par visualiser quelques données pour nous faire une idée des datasets"
   ]
  },
  {
   "cell_type": "code",
   "execution_count": 42,
   "id": "ee010230cd3b26b8",
   "metadata": {
    "ExecuteTime": {
     "end_time": "2024-04-05T02:44:08.156026500Z",
     "start_time": "2024-04-05T02:44:08.090939200Z"
    },
    "collapsed": false
   },
   "outputs": [
    {
     "data": {
      "text/html": [
       "<div>\n",
       "<style scoped>\n",
       "    .dataframe tbody tr th:only-of-type {\n",
       "        vertical-align: middle;\n",
       "    }\n",
       "\n",
       "    .dataframe tbody tr th {\n",
       "        vertical-align: top;\n",
       "    }\n",
       "\n",
       "    .dataframe thead th {\n",
       "        text-align: right;\n",
       "    }\n",
       "</style>\n",
       "<table border=\"1\" class=\"dataframe\">\n",
       "  <thead>\n",
       "    <tr style=\"text-align: right;\">\n",
       "      <th></th>\n",
       "      <th>Unnamed: 0</th>\n",
       "      <th>user_id</th>\n",
       "      <th>store_id</th>\n",
       "      <th>distance</th>\n",
       "      <th>order_id</th>\n",
       "      <th>eval_set</th>\n",
       "      <th>order_number</th>\n",
       "      <th>order_dow</th>\n",
       "      <th>order_hour_of_day</th>\n",
       "      <th>days_since_prior_order</th>\n",
       "    </tr>\n",
       "  </thead>\n",
       "  <tbody>\n",
       "    <tr>\n",
       "      <th>0</th>\n",
       "      <td>0</td>\n",
       "      <td>210</td>\n",
       "      <td>0</td>\n",
       "      <td>2.304404</td>\n",
       "      <td>1438665</td>\n",
       "      <td>prior</td>\n",
       "      <td>9</td>\n",
       "      <td>1</td>\n",
       "      <td>18</td>\n",
       "      <td>3.0</td>\n",
       "    </tr>\n",
       "    <tr>\n",
       "      <th>1</th>\n",
       "      <td>1</td>\n",
       "      <td>210</td>\n",
       "      <td>0</td>\n",
       "      <td>2.304404</td>\n",
       "      <td>2850206</td>\n",
       "      <td>prior</td>\n",
       "      <td>36</td>\n",
       "      <td>0</td>\n",
       "      <td>7</td>\n",
       "      <td>2.0</td>\n",
       "    </tr>\n",
       "    <tr>\n",
       "      <th>2</th>\n",
       "      <td>2</td>\n",
       "      <td>210</td>\n",
       "      <td>0</td>\n",
       "      <td>2.304404</td>\n",
       "      <td>2406913</td>\n",
       "      <td>prior</td>\n",
       "      <td>42</td>\n",
       "      <td>0</td>\n",
       "      <td>8</td>\n",
       "      <td>3.0</td>\n",
       "    </tr>\n",
       "    <tr>\n",
       "      <th>3</th>\n",
       "      <td>3</td>\n",
       "      <td>210</td>\n",
       "      <td>0</td>\n",
       "      <td>2.304404</td>\n",
       "      <td>1155933</td>\n",
       "      <td>prior</td>\n",
       "      <td>43</td>\n",
       "      <td>2</td>\n",
       "      <td>23</td>\n",
       "      <td>2.0</td>\n",
       "    </tr>\n",
       "    <tr>\n",
       "      <th>4</th>\n",
       "      <td>4</td>\n",
       "      <td>210</td>\n",
       "      <td>0</td>\n",
       "      <td>2.304404</td>\n",
       "      <td>271697</td>\n",
       "      <td>prior</td>\n",
       "      <td>56</td>\n",
       "      <td>5</td>\n",
       "      <td>17</td>\n",
       "      <td>3.0</td>\n",
       "    </tr>\n",
       "  </tbody>\n",
       "</table>\n",
       "</div>"
      ],
      "text/plain": [
       "   Unnamed: 0  user_id  store_id  distance  order_id eval_set  order_number  \\\n",
       "0           0      210         0  2.304404   1438665    prior             9   \n",
       "1           1      210         0  2.304404   2850206    prior            36   \n",
       "2           2      210         0  2.304404   2406913    prior            42   \n",
       "3           3      210         0  2.304404   1155933    prior            43   \n",
       "4           4      210         0  2.304404    271697    prior            56   \n",
       "\n",
       "   order_dow  order_hour_of_day  days_since_prior_order  \n",
       "0          1                 18                     3.0  \n",
       "1          0                  7                     2.0  \n",
       "2          0                  8                     3.0  \n",
       "3          2                 23                     2.0  \n",
       "4          5                 17                     3.0  "
      ]
     },
     "execution_count": 42,
     "metadata": {},
     "output_type": "execute_result"
    }
   ],
   "source": [
    "# Obseravtion de quelques données\n",
    "data_orders_distance.head()"
   ]
  },
  {
   "cell_type": "code",
   "execution_count": 43,
   "id": "afdfd54fdbbd9b71",
   "metadata": {
    "ExecuteTime": {
     "end_time": "2024-04-05T02:44:08.156026500Z",
     "start_time": "2024-04-05T02:44:08.126614Z"
    },
    "collapsed": false
   },
   "outputs": [
    {
     "data": {
      "text/html": [
       "<div>\n",
       "<style scoped>\n",
       "    .dataframe tbody tr th:only-of-type {\n",
       "        vertical-align: middle;\n",
       "    }\n",
       "\n",
       "    .dataframe tbody tr th {\n",
       "        vertical-align: top;\n",
       "    }\n",
       "\n",
       "    .dataframe thead th {\n",
       "        text-align: right;\n",
       "    }\n",
       "</style>\n",
       "<table border=\"1\" class=\"dataframe\">\n",
       "  <thead>\n",
       "    <tr style=\"text-align: right;\">\n",
       "      <th></th>\n",
       "      <th>Unnamed: 0</th>\n",
       "      <th>user_id</th>\n",
       "      <th>store_id</th>\n",
       "      <th>distance</th>\n",
       "      <th>order_id</th>\n",
       "      <th>eval_set</th>\n",
       "      <th>order_number</th>\n",
       "      <th>order_dow</th>\n",
       "      <th>order_hour_of_day</th>\n",
       "      <th>days_since_prior_order</th>\n",
       "    </tr>\n",
       "  </thead>\n",
       "  <tbody>\n",
       "    <tr>\n",
       "      <th>136021</th>\n",
       "      <td>136021</td>\n",
       "      <td>206105</td>\n",
       "      <td>9</td>\n",
       "      <td>2.140636</td>\n",
       "      <td>1841888</td>\n",
       "      <td>prior</td>\n",
       "      <td>39</td>\n",
       "      <td>0</td>\n",
       "      <td>21</td>\n",
       "      <td>1.0</td>\n",
       "    </tr>\n",
       "    <tr>\n",
       "      <th>136022</th>\n",
       "      <td>136022</td>\n",
       "      <td>206105</td>\n",
       "      <td>9</td>\n",
       "      <td>2.140636</td>\n",
       "      <td>1137676</td>\n",
       "      <td>prior</td>\n",
       "      <td>43</td>\n",
       "      <td>4</td>\n",
       "      <td>15</td>\n",
       "      <td>1.0</td>\n",
       "    </tr>\n",
       "    <tr>\n",
       "      <th>136023</th>\n",
       "      <td>136023</td>\n",
       "      <td>206105</td>\n",
       "      <td>9</td>\n",
       "      <td>2.140636</td>\n",
       "      <td>1439511</td>\n",
       "      <td>prior</td>\n",
       "      <td>45</td>\n",
       "      <td>6</td>\n",
       "      <td>9</td>\n",
       "      <td>1.0</td>\n",
       "    </tr>\n",
       "    <tr>\n",
       "      <th>136024</th>\n",
       "      <td>136024</td>\n",
       "      <td>206105</td>\n",
       "      <td>9</td>\n",
       "      <td>2.140636</td>\n",
       "      <td>1783607</td>\n",
       "      <td>prior</td>\n",
       "      <td>58</td>\n",
       "      <td>4</td>\n",
       "      <td>19</td>\n",
       "      <td>0.0</td>\n",
       "    </tr>\n",
       "    <tr>\n",
       "      <th>136025</th>\n",
       "      <td>136025</td>\n",
       "      <td>206105</td>\n",
       "      <td>9</td>\n",
       "      <td>2.140636</td>\n",
       "      <td>1410956</td>\n",
       "      <td>prior</td>\n",
       "      <td>65</td>\n",
       "      <td>2</td>\n",
       "      <td>9</td>\n",
       "      <td>1.0</td>\n",
       "    </tr>\n",
       "  </tbody>\n",
       "</table>\n",
       "</div>"
      ],
      "text/plain": [
       "        Unnamed: 0  user_id  store_id  distance  order_id eval_set  \\\n",
       "136021      136021   206105         9  2.140636   1841888    prior   \n",
       "136022      136022   206105         9  2.140636   1137676    prior   \n",
       "136023      136023   206105         9  2.140636   1439511    prior   \n",
       "136024      136024   206105         9  2.140636   1783607    prior   \n",
       "136025      136025   206105         9  2.140636   1410956    prior   \n",
       "\n",
       "        order_number  order_dow  order_hour_of_day  days_since_prior_order  \n",
       "136021            39          0                 21                     1.0  \n",
       "136022            43          4                 15                     1.0  \n",
       "136023            45          6                  9                     1.0  \n",
       "136024            58          4                 19                     0.0  \n",
       "136025            65          2                  9                     1.0  "
      ]
     },
     "execution_count": 43,
     "metadata": {},
     "output_type": "execute_result"
    }
   ],
   "source": [
    "data_orders_distance.tail()"
   ]
  },
  {
   "cell_type": "markdown",
   "id": "c4885a2c768b7fab",
   "metadata": {
    "collapsed": false
   },
   "source": [
    "on constate la présence de de données catégoriques. on choisit d'encoder les valeurs de la colonne 'eval_set'"
   ]
  },
  {
   "cell_type": "code",
   "execution_count": 44,
   "id": "53fc4e5683565df6",
   "metadata": {
    "ExecuteTime": {
     "end_time": "2024-04-05T02:44:08.222529Z",
     "start_time": "2024-04-05T02:44:08.137118400Z"
    },
    "collapsed": false
   },
   "outputs": [
    {
     "data": {
      "text/plain": [
       "array(['prior'], dtype=object)"
      ]
     },
     "execution_count": 44,
     "metadata": {},
     "output_type": "execute_result"
    }
   ],
   "source": [
    "data_orders_distance['eval_set'].unique()"
   ]
  },
  {
   "cell_type": "code",
   "execution_count": 45,
   "id": "3431fb45ab665ca",
   "metadata": {
    "ExecuteTime": {
     "end_time": "2024-04-05T02:44:08.346353300Z",
     "start_time": "2024-04-05T02:44:08.171218200Z"
    },
    "collapsed": false
   },
   "outputs": [],
   "source": [
    "df_encoded = pd.get_dummies(data_orders_distance, columns=['eval_set'])\n",
    "data_orders_distance['eval_set'] = df_encoded[['eval_set_prior']]"
   ]
  },
  {
   "cell_type": "code",
   "execution_count": 46,
   "id": "5d3d5ea8489aa2ed",
   "metadata": {
    "ExecuteTime": {
     "end_time": "2024-04-05T02:44:08.402979700Z",
     "start_time": "2024-04-05T02:44:08.205913900Z"
    },
    "collapsed": false
   },
   "outputs": [
    {
     "data": {
      "text/html": [
       "<div>\n",
       "<style scoped>\n",
       "    .dataframe tbody tr th:only-of-type {\n",
       "        vertical-align: middle;\n",
       "    }\n",
       "\n",
       "    .dataframe tbody tr th {\n",
       "        vertical-align: top;\n",
       "    }\n",
       "\n",
       "    .dataframe thead th {\n",
       "        text-align: right;\n",
       "    }\n",
       "</style>\n",
       "<table border=\"1\" class=\"dataframe\">\n",
       "  <thead>\n",
       "    <tr style=\"text-align: right;\">\n",
       "      <th></th>\n",
       "      <th>Unnamed: 0</th>\n",
       "      <th>user_id</th>\n",
       "      <th>store_id</th>\n",
       "      <th>distance</th>\n",
       "      <th>order_id</th>\n",
       "      <th>eval_set</th>\n",
       "      <th>order_number</th>\n",
       "      <th>order_dow</th>\n",
       "      <th>order_hour_of_day</th>\n",
       "      <th>days_since_prior_order</th>\n",
       "    </tr>\n",
       "  </thead>\n",
       "  <tbody>\n",
       "    <tr>\n",
       "      <th>0</th>\n",
       "      <td>0</td>\n",
       "      <td>210</td>\n",
       "      <td>0</td>\n",
       "      <td>2.304404</td>\n",
       "      <td>1438665</td>\n",
       "      <td>True</td>\n",
       "      <td>9</td>\n",
       "      <td>1</td>\n",
       "      <td>18</td>\n",
       "      <td>3.0</td>\n",
       "    </tr>\n",
       "    <tr>\n",
       "      <th>1</th>\n",
       "      <td>1</td>\n",
       "      <td>210</td>\n",
       "      <td>0</td>\n",
       "      <td>2.304404</td>\n",
       "      <td>2850206</td>\n",
       "      <td>True</td>\n",
       "      <td>36</td>\n",
       "      <td>0</td>\n",
       "      <td>7</td>\n",
       "      <td>2.0</td>\n",
       "    </tr>\n",
       "    <tr>\n",
       "      <th>2</th>\n",
       "      <td>2</td>\n",
       "      <td>210</td>\n",
       "      <td>0</td>\n",
       "      <td>2.304404</td>\n",
       "      <td>2406913</td>\n",
       "      <td>True</td>\n",
       "      <td>42</td>\n",
       "      <td>0</td>\n",
       "      <td>8</td>\n",
       "      <td>3.0</td>\n",
       "    </tr>\n",
       "    <tr>\n",
       "      <th>3</th>\n",
       "      <td>3</td>\n",
       "      <td>210</td>\n",
       "      <td>0</td>\n",
       "      <td>2.304404</td>\n",
       "      <td>1155933</td>\n",
       "      <td>True</td>\n",
       "      <td>43</td>\n",
       "      <td>2</td>\n",
       "      <td>23</td>\n",
       "      <td>2.0</td>\n",
       "    </tr>\n",
       "    <tr>\n",
       "      <th>4</th>\n",
       "      <td>4</td>\n",
       "      <td>210</td>\n",
       "      <td>0</td>\n",
       "      <td>2.304404</td>\n",
       "      <td>271697</td>\n",
       "      <td>True</td>\n",
       "      <td>56</td>\n",
       "      <td>5</td>\n",
       "      <td>17</td>\n",
       "      <td>3.0</td>\n",
       "    </tr>\n",
       "    <tr>\n",
       "      <th>...</th>\n",
       "      <td>...</td>\n",
       "      <td>...</td>\n",
       "      <td>...</td>\n",
       "      <td>...</td>\n",
       "      <td>...</td>\n",
       "      <td>...</td>\n",
       "      <td>...</td>\n",
       "      <td>...</td>\n",
       "      <td>...</td>\n",
       "      <td>...</td>\n",
       "    </tr>\n",
       "    <tr>\n",
       "      <th>136021</th>\n",
       "      <td>136021</td>\n",
       "      <td>206105</td>\n",
       "      <td>9</td>\n",
       "      <td>2.140636</td>\n",
       "      <td>1841888</td>\n",
       "      <td>True</td>\n",
       "      <td>39</td>\n",
       "      <td>0</td>\n",
       "      <td>21</td>\n",
       "      <td>1.0</td>\n",
       "    </tr>\n",
       "    <tr>\n",
       "      <th>136022</th>\n",
       "      <td>136022</td>\n",
       "      <td>206105</td>\n",
       "      <td>9</td>\n",
       "      <td>2.140636</td>\n",
       "      <td>1137676</td>\n",
       "      <td>True</td>\n",
       "      <td>43</td>\n",
       "      <td>4</td>\n",
       "      <td>15</td>\n",
       "      <td>1.0</td>\n",
       "    </tr>\n",
       "    <tr>\n",
       "      <th>136023</th>\n",
       "      <td>136023</td>\n",
       "      <td>206105</td>\n",
       "      <td>9</td>\n",
       "      <td>2.140636</td>\n",
       "      <td>1439511</td>\n",
       "      <td>True</td>\n",
       "      <td>45</td>\n",
       "      <td>6</td>\n",
       "      <td>9</td>\n",
       "      <td>1.0</td>\n",
       "    </tr>\n",
       "    <tr>\n",
       "      <th>136024</th>\n",
       "      <td>136024</td>\n",
       "      <td>206105</td>\n",
       "      <td>9</td>\n",
       "      <td>2.140636</td>\n",
       "      <td>1783607</td>\n",
       "      <td>True</td>\n",
       "      <td>58</td>\n",
       "      <td>4</td>\n",
       "      <td>19</td>\n",
       "      <td>0.0</td>\n",
       "    </tr>\n",
       "    <tr>\n",
       "      <th>136025</th>\n",
       "      <td>136025</td>\n",
       "      <td>206105</td>\n",
       "      <td>9</td>\n",
       "      <td>2.140636</td>\n",
       "      <td>1410956</td>\n",
       "      <td>True</td>\n",
       "      <td>65</td>\n",
       "      <td>2</td>\n",
       "      <td>9</td>\n",
       "      <td>1.0</td>\n",
       "    </tr>\n",
       "  </tbody>\n",
       "</table>\n",
       "<p>136026 rows × 10 columns</p>\n",
       "</div>"
      ],
      "text/plain": [
       "        Unnamed: 0  user_id  store_id  distance  order_id  eval_set  \\\n",
       "0                0      210         0  2.304404   1438665      True   \n",
       "1                1      210         0  2.304404   2850206      True   \n",
       "2                2      210         0  2.304404   2406913      True   \n",
       "3                3      210         0  2.304404   1155933      True   \n",
       "4                4      210         0  2.304404    271697      True   \n",
       "...            ...      ...       ...       ...       ...       ...   \n",
       "136021      136021   206105         9  2.140636   1841888      True   \n",
       "136022      136022   206105         9  2.140636   1137676      True   \n",
       "136023      136023   206105         9  2.140636   1439511      True   \n",
       "136024      136024   206105         9  2.140636   1783607      True   \n",
       "136025      136025   206105         9  2.140636   1410956      True   \n",
       "\n",
       "        order_number  order_dow  order_hour_of_day  days_since_prior_order  \n",
       "0                  9          1                 18                     3.0  \n",
       "1                 36          0                  7                     2.0  \n",
       "2                 42          0                  8                     3.0  \n",
       "3                 43          2                 23                     2.0  \n",
       "4                 56          5                 17                     3.0  \n",
       "...              ...        ...                ...                     ...  \n",
       "136021            39          0                 21                     1.0  \n",
       "136022            43          4                 15                     1.0  \n",
       "136023            45          6                  9                     1.0  \n",
       "136024            58          4                 19                     0.0  \n",
       "136025            65          2                  9                     1.0  \n",
       "\n",
       "[136026 rows x 10 columns]"
      ]
     },
     "execution_count": 46,
     "metadata": {},
     "output_type": "execute_result"
    }
   ],
   "source": [
    "# Vérification\n",
    "data_orders_distance"
   ]
  },
  {
   "cell_type": "code",
   "execution_count": 47,
   "id": "ad496cd23c602009",
   "metadata": {
    "ExecuteTime": {
     "end_time": "2024-04-05T02:44:08.468801700Z",
     "start_time": "2024-04-05T02:44:08.237413Z"
    },
    "collapsed": false
   },
   "outputs": [
    {
     "data": {
      "text/html": [
       "<div>\n",
       "<style scoped>\n",
       "    .dataframe tbody tr th:only-of-type {\n",
       "        vertical-align: middle;\n",
       "    }\n",
       "\n",
       "    .dataframe tbody tr th {\n",
       "        vertical-align: top;\n",
       "    }\n",
       "\n",
       "    .dataframe thead th {\n",
       "        text-align: right;\n",
       "    }\n",
       "</style>\n",
       "<table border=\"1\" class=\"dataframe\">\n",
       "  <thead>\n",
       "    <tr style=\"text-align: right;\">\n",
       "      <th></th>\n",
       "      <th>Unnamed: 0</th>\n",
       "      <th>order_id</th>\n",
       "      <th>product_id</th>\n",
       "      <th>add_to_cart_order</th>\n",
       "      <th>reordered</th>\n",
       "      <th>special</th>\n",
       "    </tr>\n",
       "  </thead>\n",
       "  <tbody>\n",
       "    <tr>\n",
       "      <th>0</th>\n",
       "      <td>0</td>\n",
       "      <td>15</td>\n",
       "      <td>19660</td>\n",
       "      <td>1</td>\n",
       "      <td>1</td>\n",
       "      <td>15</td>\n",
       "    </tr>\n",
       "    <tr>\n",
       "      <th>1</th>\n",
       "      <td>1</td>\n",
       "      <td>15</td>\n",
       "      <td>21195</td>\n",
       "      <td>2</td>\n",
       "      <td>1</td>\n",
       "      <td>0</td>\n",
       "    </tr>\n",
       "    <tr>\n",
       "      <th>2</th>\n",
       "      <td>2</td>\n",
       "      <td>15</td>\n",
       "      <td>7461</td>\n",
       "      <td>3</td>\n",
       "      <td>1</td>\n",
       "      <td>50</td>\n",
       "    </tr>\n",
       "    <tr>\n",
       "      <th>3</th>\n",
       "      <td>3</td>\n",
       "      <td>15</td>\n",
       "      <td>2996</td>\n",
       "      <td>4</td>\n",
       "      <td>1</td>\n",
       "      <td>0</td>\n",
       "    </tr>\n",
       "    <tr>\n",
       "      <th>4</th>\n",
       "      <td>4</td>\n",
       "      <td>15</td>\n",
       "      <td>32463</td>\n",
       "      <td>5</td>\n",
       "      <td>1</td>\n",
       "      <td>0</td>\n",
       "    </tr>\n",
       "  </tbody>\n",
       "</table>\n",
       "</div>"
      ],
      "text/plain": [
       "   Unnamed: 0  order_id  product_id  add_to_cart_order  reordered  special\n",
       "0           0        15       19660                  1          1       15\n",
       "1           1        15       21195                  2          1        0\n",
       "2           2        15        7461                  3          1       50\n",
       "3           3        15        2996                  4          1        0\n",
       "4           4        15       32463                  5          1        0"
      ]
     },
     "execution_count": 47,
     "metadata": {},
     "output_type": "execute_result"
    }
   ],
   "source": [
    "data_orders_products.head()"
   ]
  },
  {
   "cell_type": "code",
   "execution_count": 48,
   "id": "a772f749ddf88095",
   "metadata": {
    "ExecuteTime": {
     "end_time": "2024-04-05T02:44:08.470083400Z",
     "start_time": "2024-04-05T02:44:08.251748300Z"
    },
    "collapsed": false
   },
   "outputs": [
    {
     "data": {
      "text/html": [
       "<div>\n",
       "<style scoped>\n",
       "    .dataframe tbody tr th:only-of-type {\n",
       "        vertical-align: middle;\n",
       "    }\n",
       "\n",
       "    .dataframe tbody tr th {\n",
       "        vertical-align: top;\n",
       "    }\n",
       "\n",
       "    .dataframe thead th {\n",
       "        text-align: right;\n",
       "    }\n",
       "</style>\n",
       "<table border=\"1\" class=\"dataframe\">\n",
       "  <thead>\n",
       "    <tr style=\"text-align: right;\">\n",
       "      <th></th>\n",
       "      <th>Unnamed: 0</th>\n",
       "      <th>order_id</th>\n",
       "      <th>product_id</th>\n",
       "      <th>add_to_cart_order</th>\n",
       "      <th>reordered</th>\n",
       "      <th>special</th>\n",
       "    </tr>\n",
       "  </thead>\n",
       "  <tbody>\n",
       "    <tr>\n",
       "      <th>1172307</th>\n",
       "      <td>1172307</td>\n",
       "      <td>3421069</td>\n",
       "      <td>21137</td>\n",
       "      <td>8</td>\n",
       "      <td>1</td>\n",
       "      <td>0</td>\n",
       "    </tr>\n",
       "    <tr>\n",
       "      <th>1172308</th>\n",
       "      <td>1172308</td>\n",
       "      <td>3421069</td>\n",
       "      <td>30391</td>\n",
       "      <td>9</td>\n",
       "      <td>1</td>\n",
       "      <td>15</td>\n",
       "    </tr>\n",
       "    <tr>\n",
       "      <th>1172309</th>\n",
       "      <td>1172309</td>\n",
       "      <td>3421069</td>\n",
       "      <td>18656</td>\n",
       "      <td>10</td>\n",
       "      <td>1</td>\n",
       "      <td>0</td>\n",
       "    </tr>\n",
       "    <tr>\n",
       "      <th>1172310</th>\n",
       "      <td>1172310</td>\n",
       "      <td>3421069</td>\n",
       "      <td>26940</td>\n",
       "      <td>11</td>\n",
       "      <td>1</td>\n",
       "      <td>15</td>\n",
       "    </tr>\n",
       "    <tr>\n",
       "      <th>1172311</th>\n",
       "      <td>1172311</td>\n",
       "      <td>3421069</td>\n",
       "      <td>19057</td>\n",
       "      <td>12</td>\n",
       "      <td>1</td>\n",
       "      <td>0</td>\n",
       "    </tr>\n",
       "  </tbody>\n",
       "</table>\n",
       "</div>"
      ],
      "text/plain": [
       "         Unnamed: 0  order_id  product_id  add_to_cart_order  reordered  \\\n",
       "1172307     1172307   3421069       21137                  8          1   \n",
       "1172308     1172308   3421069       30391                  9          1   \n",
       "1172309     1172309   3421069       18656                 10          1   \n",
       "1172310     1172310   3421069       26940                 11          1   \n",
       "1172311     1172311   3421069       19057                 12          1   \n",
       "\n",
       "         special  \n",
       "1172307        0  \n",
       "1172308       15  \n",
       "1172309        0  \n",
       "1172310       15  \n",
       "1172311        0  "
      ]
     },
     "execution_count": 48,
     "metadata": {},
     "output_type": "execute_result"
    }
   ],
   "source": [
    "data_orders_products.tail()"
   ]
  },
  {
   "cell_type": "code",
   "execution_count": 49,
   "id": "7db45f55bb1ed08",
   "metadata": {
    "ExecuteTime": {
     "end_time": "2024-04-05T02:44:08.535519500Z",
     "start_time": "2024-04-05T02:44:08.272853600Z"
    },
    "collapsed": false
   },
   "outputs": [],
   "source": [
    "# Suppresion de la colonne Unnamed: 0 dans les datasets (duplicat du numéro de la ligne)\n",
    "data_orders_distance.drop(columns=['Unnamed: 0'],inplace=True)\n",
    "data_orders_products.drop(columns=['Unnamed: 0'],inplace=True)"
   ]
  },
  {
   "cell_type": "markdown",
   "id": "2c52882061c62ac",
   "metadata": {
    "collapsed": false
   },
   "source": [
    "On affiche quelques informations caractérisant les données afin de mieux les appréhender.\n",
    "Nous réutiliserons ces informations par la suite car elles sont caractéristiques des distributions des données. Nous chercherons donc à les retrouver après avoir réduit le nombre de lignes. "
   ]
  },
  {
   "cell_type": "code",
   "execution_count": 50,
   "id": "d1559fc489132bed",
   "metadata": {
    "ExecuteTime": {
     "end_time": "2024-04-05T02:44:08.548072200Z",
     "start_time": "2024-04-05T02:44:08.298993500Z"
    },
    "collapsed": false
   },
   "outputs": [
    {
     "data": {
      "text/html": [
       "<div>\n",
       "<style scoped>\n",
       "    .dataframe tbody tr th:only-of-type {\n",
       "        vertical-align: middle;\n",
       "    }\n",
       "\n",
       "    .dataframe tbody tr th {\n",
       "        vertical-align: top;\n",
       "    }\n",
       "\n",
       "    .dataframe thead th {\n",
       "        text-align: right;\n",
       "    }\n",
       "</style>\n",
       "<table border=\"1\" class=\"dataframe\">\n",
       "  <thead>\n",
       "    <tr style=\"text-align: right;\">\n",
       "      <th></th>\n",
       "      <th>user_id</th>\n",
       "      <th>store_id</th>\n",
       "      <th>distance</th>\n",
       "      <th>order_id</th>\n",
       "      <th>order_number</th>\n",
       "      <th>order_dow</th>\n",
       "      <th>order_hour_of_day</th>\n",
       "      <th>days_since_prior_order</th>\n",
       "    </tr>\n",
       "  </thead>\n",
       "  <tbody>\n",
       "    <tr>\n",
       "      <th>count</th>\n",
       "      <td>136026.000000</td>\n",
       "      <td>136026.000000</td>\n",
       "      <td>136026.000000</td>\n",
       "      <td>1.360260e+05</td>\n",
       "      <td>136026.000000</td>\n",
       "      <td>136026.000000</td>\n",
       "      <td>136026.000000</td>\n",
       "      <td>134652.000000</td>\n",
       "    </tr>\n",
       "    <tr>\n",
       "      <th>mean</th>\n",
       "      <td>101827.940320</td>\n",
       "      <td>4.503374</td>\n",
       "      <td>1.253315</td>\n",
       "      <td>1.713599e+06</td>\n",
       "      <td>50.000000</td>\n",
       "      <td>2.884419</td>\n",
       "      <td>13.036853</td>\n",
       "      <td>2.848097</td>\n",
       "    </tr>\n",
       "    <tr>\n",
       "      <th>std</th>\n",
       "      <td>60550.815551</td>\n",
       "      <td>2.866815</td>\n",
       "      <td>0.656473</td>\n",
       "      <td>9.868517e+05</td>\n",
       "      <td>28.577485</td>\n",
       "      <td>1.887552</td>\n",
       "      <td>4.233527</td>\n",
       "      <td>2.537760</td>\n",
       "    </tr>\n",
       "    <tr>\n",
       "      <th>min</th>\n",
       "      <td>210.000000</td>\n",
       "      <td>0.000000</td>\n",
       "      <td>0.002863</td>\n",
       "      <td>1.500000e+01</td>\n",
       "      <td>1.000000</td>\n",
       "      <td>0.000000</td>\n",
       "      <td>0.000000</td>\n",
       "      <td>0.000000</td>\n",
       "    </tr>\n",
       "    <tr>\n",
       "      <th>25%</th>\n",
       "      <td>49210.000000</td>\n",
       "      <td>2.000000</td>\n",
       "      <td>0.764297</td>\n",
       "      <td>8.590620e+05</td>\n",
       "      <td>25.000000</td>\n",
       "      <td>1.000000</td>\n",
       "      <td>10.000000</td>\n",
       "      <td>1.000000</td>\n",
       "    </tr>\n",
       "    <tr>\n",
       "      <th>50%</th>\n",
       "      <td>100229.000000</td>\n",
       "      <td>5.000000</td>\n",
       "      <td>1.173100</td>\n",
       "      <td>1.718160e+06</td>\n",
       "      <td>50.000000</td>\n",
       "      <td>3.000000</td>\n",
       "      <td>13.000000</td>\n",
       "      <td>2.000000</td>\n",
       "    </tr>\n",
       "    <tr>\n",
       "      <th>75%</th>\n",
       "      <td>154378.000000</td>\n",
       "      <td>7.000000</td>\n",
       "      <td>1.656305</td>\n",
       "      <td>2.565938e+06</td>\n",
       "      <td>75.000000</td>\n",
       "      <td>4.000000</td>\n",
       "      <td>16.000000</td>\n",
       "      <td>4.000000</td>\n",
       "    </tr>\n",
       "    <tr>\n",
       "      <th>max</th>\n",
       "      <td>206105.000000</td>\n",
       "      <td>9.000000</td>\n",
       "      <td>4.843817</td>\n",
       "      <td>3.421069e+06</td>\n",
       "      <td>99.000000</td>\n",
       "      <td>6.000000</td>\n",
       "      <td>23.000000</td>\n",
       "      <td>30.000000</td>\n",
       "    </tr>\n",
       "  </tbody>\n",
       "</table>\n",
       "</div>"
      ],
      "text/plain": [
       "             user_id       store_id       distance      order_id  \\\n",
       "count  136026.000000  136026.000000  136026.000000  1.360260e+05   \n",
       "mean   101827.940320       4.503374       1.253315  1.713599e+06   \n",
       "std     60550.815551       2.866815       0.656473  9.868517e+05   \n",
       "min       210.000000       0.000000       0.002863  1.500000e+01   \n",
       "25%     49210.000000       2.000000       0.764297  8.590620e+05   \n",
       "50%    100229.000000       5.000000       1.173100  1.718160e+06   \n",
       "75%    154378.000000       7.000000       1.656305  2.565938e+06   \n",
       "max    206105.000000       9.000000       4.843817  3.421069e+06   \n",
       "\n",
       "        order_number      order_dow  order_hour_of_day  days_since_prior_order  \n",
       "count  136026.000000  136026.000000      136026.000000           134652.000000  \n",
       "mean       50.000000       2.884419          13.036853                2.848097  \n",
       "std        28.577485       1.887552           4.233527                2.537760  \n",
       "min         1.000000       0.000000           0.000000                0.000000  \n",
       "25%        25.000000       1.000000          10.000000                1.000000  \n",
       "50%        50.000000       3.000000          13.000000                2.000000  \n",
       "75%        75.000000       4.000000          16.000000                4.000000  \n",
       "max        99.000000       6.000000          23.000000               30.000000  "
      ]
     },
     "execution_count": 50,
     "metadata": {},
     "output_type": "execute_result"
    }
   ],
   "source": [
    "data_orders_distance.describe()"
   ]
  },
  {
   "cell_type": "code",
   "execution_count": 51,
   "id": "c4e8b9b6cde1e412",
   "metadata": {
    "ExecuteTime": {
     "end_time": "2024-04-05T02:44:08.768911800Z",
     "start_time": "2024-04-05T02:44:08.366600900Z"
    },
    "collapsed": false
   },
   "outputs": [
    {
     "data": {
      "text/html": [
       "<div>\n",
       "<style scoped>\n",
       "    .dataframe tbody tr th:only-of-type {\n",
       "        vertical-align: middle;\n",
       "    }\n",
       "\n",
       "    .dataframe tbody tr th {\n",
       "        vertical-align: top;\n",
       "    }\n",
       "\n",
       "    .dataframe thead th {\n",
       "        text-align: right;\n",
       "    }\n",
       "</style>\n",
       "<table border=\"1\" class=\"dataframe\">\n",
       "  <thead>\n",
       "    <tr style=\"text-align: right;\">\n",
       "      <th></th>\n",
       "      <th>order_id</th>\n",
       "      <th>product_id</th>\n",
       "      <th>add_to_cart_order</th>\n",
       "      <th>reordered</th>\n",
       "      <th>special</th>\n",
       "    </tr>\n",
       "  </thead>\n",
       "  <tbody>\n",
       "    <tr>\n",
       "      <th>count</th>\n",
       "      <td>1.172312e+06</td>\n",
       "      <td>1.172312e+06</td>\n",
       "      <td>1.172312e+06</td>\n",
       "      <td>1.172312e+06</td>\n",
       "      <td>1.172312e+06</td>\n",
       "    </tr>\n",
       "    <tr>\n",
       "      <th>mean</th>\n",
       "      <td>1.710806e+06</td>\n",
       "      <td>2.558317e+04</td>\n",
       "      <td>7.311208e+00</td>\n",
       "      <td>7.744346e-01</td>\n",
       "      <td>9.745972e+00</td>\n",
       "    </tr>\n",
       "    <tr>\n",
       "      <th>std</th>\n",
       "      <td>9.865049e+05</td>\n",
       "      <td>1.403693e+04</td>\n",
       "      <td>6.661885e+00</td>\n",
       "      <td>4.179543e-01</td>\n",
       "      <td>1.497054e+01</td>\n",
       "    </tr>\n",
       "    <tr>\n",
       "      <th>min</th>\n",
       "      <td>1.500000e+01</td>\n",
       "      <td>1.000000e+00</td>\n",
       "      <td>1.000000e+00</td>\n",
       "      <td>0.000000e+00</td>\n",
       "      <td>0.000000e+00</td>\n",
       "    </tr>\n",
       "    <tr>\n",
       "      <th>25%</th>\n",
       "      <td>8.571920e+05</td>\n",
       "      <td>1.357500e+04</td>\n",
       "      <td>3.000000e+00</td>\n",
       "      <td>1.000000e+00</td>\n",
       "      <td>0.000000e+00</td>\n",
       "    </tr>\n",
       "    <tr>\n",
       "      <th>50%</th>\n",
       "      <td>1.713000e+06</td>\n",
       "      <td>2.514600e+04</td>\n",
       "      <td>5.000000e+00</td>\n",
       "      <td>1.000000e+00</td>\n",
       "      <td>0.000000e+00</td>\n",
       "    </tr>\n",
       "    <tr>\n",
       "      <th>75%</th>\n",
       "      <td>2.563004e+06</td>\n",
       "      <td>3.801600e+04</td>\n",
       "      <td>1.000000e+01</td>\n",
       "      <td>1.000000e+00</td>\n",
       "      <td>1.500000e+01</td>\n",
       "    </tr>\n",
       "    <tr>\n",
       "      <th>max</th>\n",
       "      <td>3.421069e+06</td>\n",
       "      <td>4.968300e+04</td>\n",
       "      <td>9.800000e+01</td>\n",
       "      <td>1.000000e+00</td>\n",
       "      <td>5.000000e+01</td>\n",
       "    </tr>\n",
       "  </tbody>\n",
       "</table>\n",
       "</div>"
      ],
      "text/plain": [
       "           order_id    product_id  add_to_cart_order     reordered  \\\n",
       "count  1.172312e+06  1.172312e+06       1.172312e+06  1.172312e+06   \n",
       "mean   1.710806e+06  2.558317e+04       7.311208e+00  7.744346e-01   \n",
       "std    9.865049e+05  1.403693e+04       6.661885e+00  4.179543e-01   \n",
       "min    1.500000e+01  1.000000e+00       1.000000e+00  0.000000e+00   \n",
       "25%    8.571920e+05  1.357500e+04       3.000000e+00  1.000000e+00   \n",
       "50%    1.713000e+06  2.514600e+04       5.000000e+00  1.000000e+00   \n",
       "75%    2.563004e+06  3.801600e+04       1.000000e+01  1.000000e+00   \n",
       "max    3.421069e+06  4.968300e+04       9.800000e+01  1.000000e+00   \n",
       "\n",
       "            special  \n",
       "count  1.172312e+06  \n",
       "mean   9.745972e+00  \n",
       "std    1.497054e+01  \n",
       "min    0.000000e+00  \n",
       "25%    0.000000e+00  \n",
       "50%    0.000000e+00  \n",
       "75%    1.500000e+01  \n",
       "max    5.000000e+01  "
      ]
     },
     "execution_count": 51,
     "metadata": {},
     "output_type": "execute_result"
    }
   ],
   "source": [
    "data_orders_products.describe()"
   ]
  },
  {
   "cell_type": "code",
   "execution_count": 52,
   "id": "2752273a61c5a6ec",
   "metadata": {
    "ExecuteTime": {
     "end_time": "2024-04-05T02:44:08.769952600Z",
     "start_time": "2024-04-05T02:44:08.521444500Z"
    },
    "collapsed": false
   },
   "outputs": [
    {
     "data": {
      "text/plain": [
       "int64      6\n",
       "float64    2\n",
       "bool       1\n",
       "Name: count, dtype: int64"
      ]
     },
     "execution_count": 52,
     "metadata": {},
     "output_type": "execute_result"
    }
   ],
   "source": [
    "# Compte des types d'attributs\n",
    "data_orders_distance.dtypes.value_counts()"
   ]
  },
  {
   "cell_type": "code",
   "execution_count": 53,
   "id": "b345432a80524b0",
   "metadata": {
    "ExecuteTime": {
     "end_time": "2024-04-05T02:44:08.790099900Z",
     "start_time": "2024-04-05T02:44:08.535519500Z"
    },
    "collapsed": false
   },
   "outputs": [
    {
     "data": {
      "text/plain": [
       "int64    5\n",
       "Name: count, dtype: int64"
      ]
     },
     "execution_count": 53,
     "metadata": {},
     "output_type": "execute_result"
    }
   ],
   "source": [
    "data_orders_products.dtypes.value_counts()"
   ]
  },
  {
   "cell_type": "markdown",
   "id": "8d86438b2196c9a8",
   "metadata": {
    "collapsed": false
   },
   "source": [
    "#### Nettoyage des données"
   ]
  },
  {
   "cell_type": "markdown",
   "id": "128dfbe680ca44c4",
   "metadata": {
    "collapsed": false
   },
   "source": [
    "##### Valeurs manquantes"
   ]
  },
  {
   "cell_type": "markdown",
   "id": "353a6db31f7ab347",
   "metadata": {
    "collapsed": false
   },
   "source": [
    "On commence par regarder du côté des valeurs manquantes en regardant le pourcentage de valeurs manquantes dans pour chaque colonnes des datasets"
   ]
  },
  {
   "cell_type": "code",
   "execution_count": 54,
   "id": "5599dabcc1ea1de9",
   "metadata": {
    "ExecuteTime": {
     "end_time": "2024-04-05T02:44:08.791197100Z",
     "start_time": "2024-04-05T02:44:08.552555Z"
    },
    "collapsed": false
   },
   "outputs": [
    {
     "name": "stdout",
     "output_type": "stream",
     "text": [
      " Table des valeurs manquantes dans le dataset order_distance_stores_softmax\n",
      "user_id                   0.000000\n",
      "store_id                  0.000000\n",
      "distance                  0.000000\n",
      "order_id                  0.000000\n",
      "eval_set                  0.000000\n",
      "order_number              0.000000\n",
      "order_dow                 0.000000\n",
      "order_hour_of_day         0.000000\n",
      "days_since_prior_order    1.010101\n",
      "dtype: float64\n",
      "\n",
      "\n",
      "Table des valeurs manquantes dans le dataset order_products_prior_specials\n",
      "order_id             0.0\n",
      "product_id           0.0\n",
      "add_to_cart_order    0.0\n",
      "reordered            0.0\n",
      "special              0.0\n",
      "dtype: float64\n"
     ]
    }
   ],
   "source": [
    "print(f\" Table des valeurs manquantes dans le dataset order_distance_stores_softmax\\n{data_orders_distance.isnull().mean() * 100}\")\n",
    "print(\"\\n\")\n",
    "print(f\"Table des valeurs manquantes dans le dataset order_products_prior_specials\\n{data_orders_products.isnull().mean() * 100}\")"
   ]
  },
  {
   "cell_type": "markdown",
   "id": "ee6edd21f7d940ed",
   "metadata": {
    "collapsed": false
   },
   "source": [
    "Il manque environ 1% de valeurs dans le dataset order_distance_stores_softmax pour la colonne 'days_since_prior_order' indiquant le nombre de jours écoulés depuis le dernier achat.\n",
    "Il est indiqué dans l'énoncé que ces valeurs manquantes correspondent en réalité au nombre 1.\n",
    "on remplace donc chaque valeurs manquante par 1."
   ]
  },
  {
   "cell_type": "code",
   "execution_count": 55,
   "id": "fed624981c7f0b05",
   "metadata": {
    "ExecuteTime": {
     "end_time": "2024-04-05T02:44:08.791197100Z",
     "start_time": "2024-04-05T02:44:08.584318Z"
    },
    "collapsed": false
   },
   "outputs": [
    {
     "name": "stderr",
     "output_type": "stream",
     "text": [
      "C:\\Users\\carol\\AppData\\Local\\Temp\\ipykernel_6388\\2124324277.py:1: FutureWarning: A value is trying to be set on a copy of a DataFrame or Series through chained assignment using an inplace method.\n",
      "The behavior will change in pandas 3.0. This inplace method will never work because the intermediate object on which we are setting values always behaves as a copy.\n",
      "\n",
      "For example, when doing 'df[col].method(value, inplace=True)', try using 'df.method({col: value}, inplace=True)' or df[col] = df[col].method(value) instead, to perform the operation inplace on the original object.\n",
      "\n",
      "\n",
      "  data_orders_distance['days_since_prior_order'].fillna(1,inplace=True)\n"
     ]
    }
   ],
   "source": [
    "data_orders_distance['days_since_prior_order'].fillna(1,inplace=True)"
   ]
  },
  {
   "cell_type": "code",
   "execution_count": 56,
   "id": "9189bcccda092d30",
   "metadata": {
    "ExecuteTime": {
     "end_time": "2024-04-05T02:44:08.819913200Z",
     "start_time": "2024-04-05T02:44:08.598380200Z"
    },
    "collapsed": false
   },
   "outputs": [
    {
     "name": "stdout",
     "output_type": "stream",
     "text": [
      "Nombre de données NULL : 0\n"
     ]
    }
   ],
   "source": [
    "# Vérification\n",
    "print(f\"Nombre de données NULL : {data_orders_distance['days_since_prior_order'].isnull().sum()}\")"
   ]
  },
  {
   "cell_type": "markdown",
   "id": "56609b7f31450248",
   "metadata": {
    "collapsed": false
   },
   "source": [
    "##### Valeurs dupliquées"
   ]
  },
  {
   "cell_type": "code",
   "execution_count": 57,
   "id": "1c9dd5e357b1ca20",
   "metadata": {
    "ExecuteTime": {
     "end_time": "2024-04-05T02:44:09.146600900Z",
     "start_time": "2024-04-05T02:44:08.615179300Z"
    },
    "collapsed": false
   },
   "outputs": [
    {
     "name": "stdout",
     "output_type": "stream",
     "text": [
      "Nombre de valeurs dupliquées dans les données order_products_prior_specials \n",
      "order_id             0\n",
      "product_id           0\n",
      "add_to_cart_order    0\n",
      "reordered            0\n",
      "special              0\n",
      "dtype: int64\n",
      "Nombre de valeurs dupliquées dans les données order_distance_stores_softmax \n",
      "user_id                   0.0\n",
      "store_id                  0.0\n",
      "distance                  0.0\n",
      "order_id                  0.0\n",
      "eval_set                  0.0\n",
      "order_number              0.0\n",
      "order_dow                 0.0\n",
      "order_hour_of_day         0.0\n",
      "days_since_prior_order    0.0\n",
      "dtype: float64\n"
     ]
    }
   ],
   "source": [
    "duplicates_df_products = data_orders_products[data_orders_products.duplicated()]\n",
    "duplicates_df_products_sorted = duplicates_df_products.sort_values(by=['order_id'])\n",
    "print(f\"Nombre de valeurs dupliquées dans les données order_products_prior_specials \\n{duplicates_df_products_sorted.sum()}\")\n",
    "\n",
    "duplicates_df_distance = data_orders_distance[data_orders_distance.duplicated()]\n",
    "duplicates_df_distance_sorted = duplicates_df_distance.sort_values(by=['order_id'])\n",
    "print(f\"Nombre de valeurs dupliquées dans les données order_distance_stores_softmax \\n{duplicates_df_distance_sorted.sum()}\")"
   ]
  },
  {
   "cell_type": "markdown",
   "id": "f93ea8333e6aff70",
   "metadata": {
    "collapsed": false
   },
   "source": [
    "Il n'y a pas de lignes dupliquées dans les données."
   ]
  },
  {
   "cell_type": "markdown",
   "id": "fe03b28faacd3969",
   "metadata": {
    "collapsed": false
   },
   "source": [
    "##### Gestion des outliers"
   ]
  },
  {
   "cell_type": "markdown",
   "id": "f172a039debfcdc2",
   "metadata": {
    "collapsed": false
   },
   "source": [
    "On commence par visualiser les colonnes pour lesquelles les outliers sont nombreux à l'aide de boxplots."
   ]
  },
  {
   "cell_type": "code",
   "execution_count": 58,
   "id": "8c34cdf05723db43",
   "metadata": {
    "ExecuteTime": {
     "end_time": "2024-04-05T02:44:10.854168500Z",
     "start_time": "2024-04-05T02:44:08.928234600Z"
    },
    "collapsed": false
   },
   "outputs": [
    {
     "name": "stdout",
     "output_type": "stream",
     "text": [
      "Boxplots des colonnes du dataset order_distance_stores_softmax\n"
     ]
    },
    {
     "data": {
      "image/png": "[encoded data removed]",
      "text/plain": [
       "<Figure size 1500x500 with 9 Axes>"
      ]
     },
     "metadata": {},
     "output_type": "display_data"
    }
   ],
   "source": [
    "def detect_susceptible_outlier(data) : \n",
    "    fig, axes = plt.subplots(nrows=1, ncols=len(data.columns), figsize=(15, 5))\n",
    "    for i, col in enumerate(data.columns):\n",
    "        data.boxplot(column=col, ax=axes[i])\n",
    "        axes[i].set_title(col)\n",
    "    \n",
    "    # Adjust layout\n",
    "    plt.tight_layout()\n",
    "    plt.show()\n",
    "\n",
    "print(\"Boxplots des colonnes du dataset order_distance_stores_softmax\")\n",
    "detect_susceptible_outlier(data_orders_distance)"
   ]
  },
  {
   "cell_type": "code",
   "execution_count": 59,
   "id": "9bf9e78712eaec57",
   "metadata": {
    "ExecuteTime": {
     "end_time": "2024-04-05T02:44:15.437509200Z",
     "start_time": "2024-04-05T02:44:10.849799500Z"
    },
    "collapsed": false
   },
   "outputs": [
    {
     "name": "stdout",
     "output_type": "stream",
     "text": [
      "Boxplots des colonnes du dataset order_products_prior_specials\n"
     ]
    },
    {
     "data": {
      "image/png": "[encoded data removed]",
      "text/plain": [
       "<Figure size 1500x500 with 5 Axes>"
      ]
     },
     "metadata": {},
     "output_type": "display_data"
    }
   ],
   "source": [
    "print(\"Boxplots des colonnes du dataset order_products_prior_specials\")\n",
    "detect_susceptible_outlier(data_orders_products)"
   ]
  },
  {
   "cell_type": "markdown",
   "id": "c620bfc428d95eb",
   "metadata": {
    "collapsed": false
   },
   "source": [
    "Les attributs susceptibles d'avoir des outliers pour les données 'order_distance_stores_softmax' sont :\n",
    "    + distance\n",
    "    + order_hour_of_day\n",
    "    + days_since_prior_order\n",
    "Les attributs susceptibles d'avoir des outliers pour les données 'order_products_prior_specials' sont :\n",
    "    + add_to_cart_order\n",
    "    + special"
   ]
  },
  {
   "cell_type": "markdown",
   "id": "95d227c2e4426fc3",
   "metadata": {
    "collapsed": false
   },
   "source": [
    "Ces outliers peuvent toutefois encoder des informations importantes concernant le comportement des clients. Comme ils sont peu nombreux, nous choississons pour l'instant de les conserver dans le dataset et travaillerons dessus si les algorithmes le necessitent dans la suite"
   ]
  },
  {
   "cell_type": "markdown",
   "id": "4502ad892200632",
   "metadata": {
    "collapsed": false
   },
   "source": [
    "#### Intégration des données"
   ]
  },
  {
   "cell_type": "markdown",
   "id": "a491f84b8b328854",
   "metadata": {
    "collapsed": false
   },
   "source": [
    "##### Combinaison des datasets\n",
    "On fusionne les datasets selon les id des commandes"
   ]
  },
  {
   "cell_type": "code",
   "execution_count": 60,
   "id": "63733200d1f11b6",
   "metadata": {
    "ExecuteTime": {
     "end_time": "2024-04-05T02:44:15.739562700Z",
     "start_time": "2024-04-05T02:44:15.430068700Z"
    },
    "collapsed": false
   },
   "outputs": [],
   "source": [
    "data_orders = pd.merge(data_orders_products, data_orders_distance, on='order_id', how='inner')"
   ]
  },
  {
   "cell_type": "code",
   "execution_count": 61,
   "id": "5737688e7c4e1209",
   "metadata": {
    "ExecuteTime": {
     "end_time": "2024-04-05T02:44:15.758511100Z",
     "start_time": "2024-04-05T02:44:15.740859Z"
    },
    "collapsed": false
   },
   "outputs": [
    {
     "data": {
      "text/html": [
       "<div>\n",
       "<style scoped>\n",
       "    .dataframe tbody tr th:only-of-type {\n",
       "        vertical-align: middle;\n",
       "    }\n",
       "\n",
       "    .dataframe tbody tr th {\n",
       "        vertical-align: top;\n",
       "    }\n",
       "\n",
       "    .dataframe thead th {\n",
       "        text-align: right;\n",
       "    }\n",
       "</style>\n",
       "<table border=\"1\" class=\"dataframe\">\n",
       "  <thead>\n",
       "    <tr style=\"text-align: right;\">\n",
       "      <th></th>\n",
       "      <th>order_id</th>\n",
       "      <th>product_id</th>\n",
       "      <th>add_to_cart_order</th>\n",
       "      <th>reordered</th>\n",
       "      <th>special</th>\n",
       "      <th>user_id</th>\n",
       "      <th>store_id</th>\n",
       "      <th>distance</th>\n",
       "      <th>eval_set</th>\n",
       "      <th>order_number</th>\n",
       "      <th>order_dow</th>\n",
       "      <th>order_hour_of_day</th>\n",
       "      <th>days_since_prior_order</th>\n",
       "    </tr>\n",
       "  </thead>\n",
       "  <tbody>\n",
       "    <tr>\n",
       "      <th>0</th>\n",
       "      <td>15</td>\n",
       "      <td>19660</td>\n",
       "      <td>1</td>\n",
       "      <td>1</td>\n",
       "      <td>15</td>\n",
       "      <td>54901</td>\n",
       "      <td>1</td>\n",
       "      <td>0.304608</td>\n",
       "      <td>True</td>\n",
       "      <td>51</td>\n",
       "      <td>3</td>\n",
       "      <td>11</td>\n",
       "      <td>2.0</td>\n",
       "    </tr>\n",
       "    <tr>\n",
       "      <th>1</th>\n",
       "      <td>15</td>\n",
       "      <td>21195</td>\n",
       "      <td>2</td>\n",
       "      <td>1</td>\n",
       "      <td>0</td>\n",
       "      <td>54901</td>\n",
       "      <td>1</td>\n",
       "      <td>0.304608</td>\n",
       "      <td>True</td>\n",
       "      <td>51</td>\n",
       "      <td>3</td>\n",
       "      <td>11</td>\n",
       "      <td>2.0</td>\n",
       "    </tr>\n",
       "    <tr>\n",
       "      <th>2</th>\n",
       "      <td>15</td>\n",
       "      <td>7461</td>\n",
       "      <td>3</td>\n",
       "      <td>1</td>\n",
       "      <td>50</td>\n",
       "      <td>54901</td>\n",
       "      <td>1</td>\n",
       "      <td>0.304608</td>\n",
       "      <td>True</td>\n",
       "      <td>51</td>\n",
       "      <td>3</td>\n",
       "      <td>11</td>\n",
       "      <td>2.0</td>\n",
       "    </tr>\n",
       "    <tr>\n",
       "      <th>3</th>\n",
       "      <td>15</td>\n",
       "      <td>2996</td>\n",
       "      <td>4</td>\n",
       "      <td>1</td>\n",
       "      <td>0</td>\n",
       "      <td>54901</td>\n",
       "      <td>1</td>\n",
       "      <td>0.304608</td>\n",
       "      <td>True</td>\n",
       "      <td>51</td>\n",
       "      <td>3</td>\n",
       "      <td>11</td>\n",
       "      <td>2.0</td>\n",
       "    </tr>\n",
       "    <tr>\n",
       "      <th>4</th>\n",
       "      <td>15</td>\n",
       "      <td>32463</td>\n",
       "      <td>5</td>\n",
       "      <td>1</td>\n",
       "      <td>0</td>\n",
       "      <td>54901</td>\n",
       "      <td>1</td>\n",
       "      <td>0.304608</td>\n",
       "      <td>True</td>\n",
       "      <td>51</td>\n",
       "      <td>3</td>\n",
       "      <td>11</td>\n",
       "      <td>2.0</td>\n",
       "    </tr>\n",
       "  </tbody>\n",
       "</table>\n",
       "</div>"
      ],
      "text/plain": [
       "   order_id  product_id  add_to_cart_order  reordered  special  user_id  \\\n",
       "0        15       19660                  1          1       15    54901   \n",
       "1        15       21195                  2          1        0    54901   \n",
       "2        15        7461                  3          1       50    54901   \n",
       "3        15        2996                  4          1        0    54901   \n",
       "4        15       32463                  5          1        0    54901   \n",
       "\n",
       "   store_id  distance  eval_set  order_number  order_dow  order_hour_of_day  \\\n",
       "0         1  0.304608      True            51          3                 11   \n",
       "1         1  0.304608      True            51          3                 11   \n",
       "2         1  0.304608      True            51          3                 11   \n",
       "3         1  0.304608      True            51          3                 11   \n",
       "4         1  0.304608      True            51          3                 11   \n",
       "\n",
       "   days_since_prior_order  \n",
       "0                     2.0  \n",
       "1                     2.0  \n",
       "2                     2.0  \n",
       "3                     2.0  \n",
       "4                     2.0  "
      ]
     },
     "execution_count": 61,
     "metadata": {},
     "output_type": "execute_result"
    }
   ],
   "source": [
    "# Vérification simple\n",
    "data_orders.head()"
   ]
  },
  {
   "cell_type": "markdown",
   "id": "a88bdd6a3d78b46f",
   "metadata": {
    "collapsed": false
   },
   "source": [
    "#### Réduction"
   ]
  },
  {
   "cell_type": "markdown",
   "id": "d4338af51369158",
   "metadata": {
    "collapsed": false
   },
   "source": [
    "##### Etude des redondances\n"
   ]
  },
  {
   "cell_type": "code",
   "execution_count": 62,
   "id": "1c50253f267af5e4",
   "metadata": {
    "ExecuteTime": {
     "end_time": "2024-04-05T02:44:16.005035700Z",
     "start_time": "2024-04-05T02:44:15.757505500Z"
    },
    "collapsed": false
   },
   "outputs": [
    {
     "name": "stdout",
     "output_type": "stream",
     "text": [
      "order_id\n",
      "3279252    98\n",
      "1959075    98\n",
      "1758550    94\n",
      "2467301    92\n",
      "82167      92\n",
      "           ..\n",
      "2278182     1\n",
      "1460941     1\n",
      "2913673     1\n",
      "1460722     1\n",
      "961072      1\n",
      "Name: count, Length: 136026, dtype: int64\n",
      "product_id\n",
      "13176    17652\n",
      "24852    16466\n",
      "21137    13163\n",
      "47209    10654\n",
      "21903     9594\n",
      "         ...  \n",
      "34883        1\n",
      "38543        1\n",
      "41120        1\n",
      "43801        1\n",
      "17633        1\n",
      "Name: count, Length: 24860, dtype: int64\n",
      "add_to_cart_order\n",
      "1     136026\n",
      "2     129477\n",
      "3     120596\n",
      "4     109843\n",
      "5      97716\n",
      "6      85403\n",
      "7      73526\n",
      "8      62633\n",
      "9      53008\n",
      "10     44945\n",
      "11     38203\n",
      "12     32387\n",
      "13     27628\n",
      "14     23469\n",
      "15     19991\n",
      "16     17050\n",
      "17     14482\n",
      "18     12259\n",
      "19     10441\n",
      "20      8911\n",
      "21      7590\n",
      "22      6466\n",
      "23      5491\n",
      "24      4666\n",
      "25      3979\n",
      "26      3397\n",
      "27      2904\n",
      "28      2491\n",
      "29      2137\n",
      "30      1855\n",
      "31      1620\n",
      "32      1379\n",
      "33      1210\n",
      "34      1044\n",
      "35       912\n",
      "36       795\n",
      "37       691\n",
      "38       614\n",
      "39       539\n",
      "40       482\n",
      "41       428\n",
      "42       378\n",
      "43       340\n",
      "44       293\n",
      "45       263\n",
      "46       227\n",
      "47       206\n",
      "48       173\n",
      "49       155\n",
      "50       136\n",
      "51       126\n",
      "52       113\n",
      "53       100\n",
      "54        90\n",
      "55        84\n",
      "56        76\n",
      "57        69\n",
      "58        65\n",
      "59        59\n",
      "60        54\n",
      "61        50\n",
      "62        43\n",
      "63        42\n",
      "64        39\n",
      "65        35\n",
      "66        31\n",
      "67        28\n",
      "68        26\n",
      "69        25\n",
      "70        24\n",
      "71        22\n",
      "72        20\n",
      "73        17\n",
      "74        17\n",
      "75        14\n",
      "76        13\n",
      "78        13\n",
      "79        13\n",
      "77        13\n",
      "80        12\n",
      "81        12\n",
      "82        12\n",
      "83        12\n",
      "84        11\n",
      "86        10\n",
      "87        10\n",
      "85        10\n",
      "88         9\n",
      "89         7\n",
      "90         6\n",
      "91         6\n",
      "92         5\n",
      "93         3\n",
      "94         3\n",
      "95         2\n",
      "96         2\n",
      "97         2\n",
      "98         2\n",
      "Name: count, dtype: int64\n",
      "reordered\n",
      "1    907879\n",
      "0    264433\n",
      "Name: count, dtype: int64\n",
      "special\n",
      "0     743416\n",
      "15    196960\n",
      "30    156294\n",
      "50     75642\n",
      "Name: count, dtype: int64\n",
      "user_id\n",
      "201268    3725\n",
      "164055    3061\n",
      "186704    2936\n",
      "176478    2921\n",
      "182401    2907\n",
      "          ... \n",
      "175680     152\n",
      "39993      150\n",
      "69919      145\n",
      "1024       137\n",
      "55989      135\n",
      "Name: count, Length: 1374, dtype: int64\n",
      "store_id\n",
      "3    121004\n",
      "4    119697\n",
      "1    119032\n",
      "5    118336\n",
      "7    118245\n",
      "8    118061\n",
      "6    116092\n",
      "0    114954\n",
      "9    113869\n",
      "2    113022\n",
      "Name: count, dtype: int64\n",
      "distance\n",
      "0.473116    1857\n",
      "0.377644    1547\n",
      "1.166624    1171\n",
      "1.245072    1166\n",
      "0.182314    1148\n",
      "            ... \n",
      "1.340313       3\n",
      "0.207821       3\n",
      "2.352876       3\n",
      "0.751961       2\n",
      "1.013490       1\n",
      "Name: count, Length: 13736, dtype: int64\n",
      "eval_set\n",
      "True    1172312\n",
      "Name: count, dtype: int64\n",
      "order_number\n",
      "1     13871\n",
      "7     12748\n",
      "9     12699\n",
      "10    12675\n",
      "15    12602\n",
      "12    12596\n",
      "4     12582\n",
      "3     12547\n",
      "5     12523\n",
      "14    12510\n",
      "13    12501\n",
      "11    12489\n",
      "25    12437\n",
      "99    12436\n",
      "2     12431\n",
      "95    12401\n",
      "97    12398\n",
      "6     12397\n",
      "94    12392\n",
      "8     12382\n",
      "98    12381\n",
      "20    12357\n",
      "16    12356\n",
      "22    12332\n",
      "18    12299\n",
      "83    12279\n",
      "28    12270\n",
      "19    12269\n",
      "96    12245\n",
      "91    12238\n",
      "23    12214\n",
      "26    12173\n",
      "89    12142\n",
      "21    12129\n",
      "87    12128\n",
      "32    12126\n",
      "92    12126\n",
      "27    12119\n",
      "17    12116\n",
      "24    12080\n",
      "84    12062\n",
      "93    12037\n",
      "90    12021\n",
      "85    11999\n",
      "30    11980\n",
      "86    11958\n",
      "31    11952\n",
      "81    11910\n",
      "88    11852\n",
      "79    11823\n",
      "29    11783\n",
      "35    11782\n",
      "80    11765\n",
      "37    11763\n",
      "75    11721\n",
      "73    11687\n",
      "34    11645\n",
      "36    11643\n",
      "39    11637\n",
      "38    11616\n",
      "33    11597\n",
      "76    11588\n",
      "82    11562\n",
      "70    11559\n",
      "43    11549\n",
      "78    11546\n",
      "72    11518\n",
      "68    11473\n",
      "47    11471\n",
      "40    11462\n",
      "71    11456\n",
      "74    11453\n",
      "67    11439\n",
      "77    11433\n",
      "51    11368\n",
      "44    11354\n",
      "42    11332\n",
      "69    11299\n",
      "48    11295\n",
      "46    11267\n",
      "60    11264\n",
      "49    11252\n",
      "50    11241\n",
      "56    11225\n",
      "45    11221\n",
      "57    11176\n",
      "59    11172\n",
      "52    11150\n",
      "55    11110\n",
      "64    11100\n",
      "66    11092\n",
      "54    11040\n",
      "58    11035\n",
      "65    10997\n",
      "41    10991\n",
      "53    10948\n",
      "61    10907\n",
      "62    10876\n",
      "63    10862\n",
      "Name: count, dtype: int64\n",
      "order_dow\n",
      "1    205669\n",
      "2    173915\n",
      "5    173507\n",
      "3    173197\n",
      "4    169551\n",
      "0    156169\n",
      "6    120304\n",
      "Name: count, dtype: int64\n",
      "order_hour_of_day\n",
      "10    109683\n",
      "9     106646\n",
      "11    102781\n",
      "13     94575\n",
      "12     93565\n",
      "14     92874\n",
      "15     89279\n",
      "16     80674\n",
      "8      79018\n",
      "17     61192\n",
      "18     47360\n",
      "7      44346\n",
      "19     37295\n",
      "20     34489\n",
      "21     28758\n",
      "22     21574\n",
      "6      16169\n",
      "23     13351\n",
      "0       6427\n",
      "5       3842\n",
      "1       2913\n",
      "2       2030\n",
      "3       1741\n",
      "4       1730\n",
      "Name: count, dtype: int64\n",
      "days_since_prior_order\n",
      "2.0     254619\n",
      "1.0     229295\n",
      "3.0     218911\n",
      "4.0     151416\n",
      "5.0      91806\n",
      "0.0      81637\n",
      "6.0      54124\n",
      "7.0      36184\n",
      "8.0      16164\n",
      "9.0       9193\n",
      "10.0      6857\n",
      "11.0      4534\n",
      "12.0      3701\n",
      "13.0      2657\n",
      "14.0      2651\n",
      "30.0      1412\n",
      "15.0      1332\n",
      "16.0       943\n",
      "17.0       839\n",
      "18.0       768\n",
      "19.0       681\n",
      "20.0       560\n",
      "21.0       387\n",
      "27.0       300\n",
      "23.0       288\n",
      "24.0       288\n",
      "25.0       206\n",
      "22.0       204\n",
      "28.0       153\n",
      "26.0       137\n",
      "29.0        65\n",
      "Name: count, dtype: int64\n"
     ]
    }
   ],
   "source": [
    "for col in data_orders.columns :\n",
    "    print(data_orders[col].value_counts())"
   ]
  },
  {
   "cell_type": "markdown",
   "id": "6f000f95ca1fa3e2",
   "metadata": {
    "collapsed": false
   },
   "source": [
    "on constate que la colonne 'eval_set' possède les mêmes valeur spour chaque ligne. on choisit donc de supprimer cette colonne car elle n'apporte aucune information dans nos données"
   ]
  },
  {
   "cell_type": "code",
   "execution_count": 63,
   "id": "1d9f41b2f2d9953e",
   "metadata": {
    "ExecuteTime": {
     "end_time": "2024-04-05T02:44:16.075034400Z",
     "start_time": "2024-04-05T02:44:16.006479300Z"
    },
    "collapsed": false
   },
   "outputs": [],
   "source": [
    "data_orders.drop(columns=['eval_set'],inplace=True)"
   ]
  },
  {
   "cell_type": "markdown",
   "id": "fa71bd4d3e9d7da8",
   "metadata": {
    "collapsed": false
   },
   "source": [
    "##### Feature engineering rapide\n",
    "Bien que cela ne soit pas demandé explicitemment dans le sujet du tp, nous regardons rapidement la corrélation 2 à 2 entre les différents attributs des données afin de pouvoir éliminer d'éventuelles redondances dans ces dernière au cas où nous ayons besoin d'accélerer l'entraîenment de nos algorithmes dans la suite."
   ]
  },
  {
   "cell_type": "code",
   "execution_count": 64,
   "id": "81e43a1df9341111",
   "metadata": {
    "ExecuteTime": {
     "end_time": "2024-04-05T02:44:17.627093700Z",
     "start_time": "2024-04-05T02:44:16.063715800Z"
    },
    "collapsed": false
   },
   "outputs": [
    {
     "data": {
      "image/png": "[encoded data removed]",
      "text/plain": [
       "<Figure size 1000x800 with 2 Axes>"
      ]
     },
     "metadata": {},
     "output_type": "display_data"
    }
   ],
   "source": [
    "# Corrélation 2 à 2 pour les données order_distance_stores_softmax\n",
    "correlation_matrix_orders = data_orders.corr()\n",
    "plt.figure(figsize=(10, 8))\n",
    "sns.heatmap(correlation_matrix_orders, annot=True, cmap='coolwarm', fmt=\".2f\", annot_kws={\"size\": 10})\n",
    "plt.title('Corrélation 2 à 2 entre les colonnes des données order_distance_stores_softmax et order_products_prior_specials')\n",
    "plt.show()"
   ]
  },
  {
   "cell_type": "markdown",
   "id": "97471f1e04d90b78",
   "metadata": {
    "collapsed": false
   },
   "source": [
    "Les attributs sont très peu corrélés ou non corrélés. On gardes toutes les features pour le moment mais nous n'écartons pas la possibilité de recourir à des techniques de reduction de dimensionalité si l'entraînement des algortihmes le nécessite dans la suite."
   ]
  },
  {
   "cell_type": "markdown",
   "id": "b4f27611fa3f4cf2",
   "metadata": {
    "collapsed": false
   },
   "source": [
    "##### Réduction des données\n",
    "Nous cherchons à présent à réduire le volume de données tout en conservant le maximum d'information ainsi que des données représentatives du dataset initial.\n",
    "\n",
    "Pour cela, nous procédons à un échantillonage probabiliste **stratifié** de nos données.\n",
    "Le caractère probabiliste de l'échantillonage assure de réduire le biais lié à la selection effectuée. L'aspect stratifié assure quant à lui d'obtenir un sous-ensemble de données **représentatif de la population originelle**"
   ]
  },
  {
   "cell_type": "code",
   "execution_count": 65,
   "id": "361acb64a336b62",
   "metadata": {
    "ExecuteTime": {
     "end_time": "2024-04-05T02:44:18.422711700Z",
     "start_time": "2024-04-05T02:44:17.628491800Z"
    },
    "collapsed": false
   },
   "outputs": [
    {
     "name": "stdout",
     "output_type": "stream",
     "text": [
      "['order_id' 'product_id' 'add_to_cart_order' 'reordered' 'special'\n",
      " 'user_id' 'store_id' 'distance' 'order_number' 'order_dow'\n",
      " 'order_hour_of_day' 'days_since_prior_order']\n"
     ]
    }
   ],
   "source": [
    "# On stratify selon l'attribut 'reordered' qui correspond à notre cible.\n",
    "from sklearn.model_selection import train_test_split\n",
    "\n",
    "# Assuming 'target' is the column representing classes/groups\n",
    "_, sampled_df = train_test_split(data_orders, test_size=0.05, stratify=data_orders['reordered'], random_state=42)\n",
    "\n",
    "# On visualise les statistiques des données obtenues\n",
    "sampled_stats = sampled_df.describe()\n",
    "print(sampled_stats.columns.values)"
   ]
  },
  {
   "cell_type": "code",
   "execution_count": 66,
   "id": "b53e7e8ab2c0570a",
   "metadata": {
    "ExecuteTime": {
     "end_time": "2024-04-05T02:44:18.719570700Z",
     "start_time": "2024-04-05T02:44:18.422711700Z"
    },
    "collapsed": false
   },
   "outputs": [
    {
     "data": {
      "text/html": [
       "<div>\n",
       "<style scoped>\n",
       "    .dataframe tbody tr th:only-of-type {\n",
       "        vertical-align: middle;\n",
       "    }\n",
       "\n",
       "    .dataframe tbody tr th {\n",
       "        vertical-align: top;\n",
       "    }\n",
       "\n",
       "    .dataframe thead th {\n",
       "        text-align: right;\n",
       "    }\n",
       "</style>\n",
       "<table border=\"1\" class=\"dataframe\">\n",
       "  <thead>\n",
       "    <tr style=\"text-align: right;\">\n",
       "      <th></th>\n",
       "      <th>order_id</th>\n",
       "      <th>product_id</th>\n",
       "      <th>add_to_cart_order</th>\n",
       "      <th>reordered</th>\n",
       "      <th>special</th>\n",
       "      <th>user_id</th>\n",
       "      <th>store_id</th>\n",
       "      <th>distance</th>\n",
       "      <th>order_number</th>\n",
       "      <th>order_dow</th>\n",
       "      <th>order_hour_of_day</th>\n",
       "      <th>days_since_prior_order</th>\n",
       "    </tr>\n",
       "  </thead>\n",
       "  <tbody>\n",
       "    <tr>\n",
       "      <th>count</th>\n",
       "      <td>1.172312e+06</td>\n",
       "      <td>1.172312e+06</td>\n",
       "      <td>1.172312e+06</td>\n",
       "      <td>1.172312e+06</td>\n",
       "      <td>1.172312e+06</td>\n",
       "      <td>1.172312e+06</td>\n",
       "      <td>1.172312e+06</td>\n",
       "      <td>1.172312e+06</td>\n",
       "      <td>1.172312e+06</td>\n",
       "      <td>1.172312e+06</td>\n",
       "      <td>1.172312e+06</td>\n",
       "      <td>1.172312e+06</td>\n",
       "    </tr>\n",
       "    <tr>\n",
       "      <th>mean</th>\n",
       "      <td>1.710806e+06</td>\n",
       "      <td>2.558317e+04</td>\n",
       "      <td>7.311208e+00</td>\n",
       "      <td>7.744346e-01</td>\n",
       "      <td>9.745972e+00</td>\n",
       "      <td>1.011486e+05</td>\n",
       "      <td>4.497209e+00</td>\n",
       "      <td>1.252174e+00</td>\n",
       "      <td>4.950891e+01</td>\n",
       "      <td>2.849628e+00</td>\n",
       "      <td>1.298660e+01</td>\n",
       "      <td>3.124883e+00</td>\n",
       "    </tr>\n",
       "    <tr>\n",
       "      <th>std</th>\n",
       "      <td>9.865049e+05</td>\n",
       "      <td>1.403693e+04</td>\n",
       "      <td>6.661885e+00</td>\n",
       "      <td>4.179543e-01</td>\n",
       "      <td>1.497054e+01</td>\n",
       "      <td>6.052976e+04</td>\n",
       "      <td>2.858121e+00</td>\n",
       "      <td>6.571061e-01</td>\n",
       "      <td>2.906399e+01</td>\n",
       "      <td>1.920069e+00</td>\n",
       "      <td>4.249346e+00</td>\n",
       "      <td>2.724217e+00</td>\n",
       "    </tr>\n",
       "    <tr>\n",
       "      <th>min</th>\n",
       "      <td>1.500000e+01</td>\n",
       "      <td>1.000000e+00</td>\n",
       "      <td>1.000000e+00</td>\n",
       "      <td>0.000000e+00</td>\n",
       "      <td>0.000000e+00</td>\n",
       "      <td>2.100000e+02</td>\n",
       "      <td>0.000000e+00</td>\n",
       "      <td>2.863073e-03</td>\n",
       "      <td>1.000000e+00</td>\n",
       "      <td>0.000000e+00</td>\n",
       "      <td>0.000000e+00</td>\n",
       "      <td>0.000000e+00</td>\n",
       "    </tr>\n",
       "    <tr>\n",
       "      <th>25%</th>\n",
       "      <td>8.571920e+05</td>\n",
       "      <td>1.357500e+04</td>\n",
       "      <td>3.000000e+00</td>\n",
       "      <td>1.000000e+00</td>\n",
       "      <td>0.000000e+00</td>\n",
       "      <td>4.918600e+04</td>\n",
       "      <td>2.000000e+00</td>\n",
       "      <td>7.640387e-01</td>\n",
       "      <td>2.400000e+01</td>\n",
       "      <td>1.000000e+00</td>\n",
       "      <td>1.000000e+01</td>\n",
       "      <td>1.000000e+00</td>\n",
       "    </tr>\n",
       "    <tr>\n",
       "      <th>50%</th>\n",
       "      <td>1.713000e+06</td>\n",
       "      <td>2.514600e+04</td>\n",
       "      <td>5.000000e+00</td>\n",
       "      <td>1.000000e+00</td>\n",
       "      <td>0.000000e+00</td>\n",
       "      <td>9.935200e+04</td>\n",
       "      <td>4.000000e+00</td>\n",
       "      <td>1.171076e+00</td>\n",
       "      <td>4.900000e+01</td>\n",
       "      <td>3.000000e+00</td>\n",
       "      <td>1.300000e+01</td>\n",
       "      <td>3.000000e+00</td>\n",
       "    </tr>\n",
       "    <tr>\n",
       "      <th>75%</th>\n",
       "      <td>2.563004e+06</td>\n",
       "      <td>3.801600e+04</td>\n",
       "      <td>1.000000e+01</td>\n",
       "      <td>1.000000e+00</td>\n",
       "      <td>1.500000e+01</td>\n",
       "      <td>1.545560e+05</td>\n",
       "      <td>7.000000e+00</td>\n",
       "      <td>1.654696e+00</td>\n",
       "      <td>7.500000e+01</td>\n",
       "      <td>5.000000e+00</td>\n",
       "      <td>1.600000e+01</td>\n",
       "      <td>4.000000e+00</td>\n",
       "    </tr>\n",
       "    <tr>\n",
       "      <th>max</th>\n",
       "      <td>3.421069e+06</td>\n",
       "      <td>4.968300e+04</td>\n",
       "      <td>9.800000e+01</td>\n",
       "      <td>1.000000e+00</td>\n",
       "      <td>5.000000e+01</td>\n",
       "      <td>2.061050e+05</td>\n",
       "      <td>9.000000e+00</td>\n",
       "      <td>4.843817e+00</td>\n",
       "      <td>9.900000e+01</td>\n",
       "      <td>6.000000e+00</td>\n",
       "      <td>2.300000e+01</td>\n",
       "      <td>3.000000e+01</td>\n",
       "    </tr>\n",
       "  </tbody>\n",
       "</table>\n",
       "</div>"
      ],
      "text/plain": [
       "           order_id    product_id  add_to_cart_order     reordered  \\\n",
       "count  1.172312e+06  1.172312e+06       1.172312e+06  1.172312e+06   \n",
       "mean   1.710806e+06  2.558317e+04       7.311208e+00  7.744346e-01   \n",
       "std    9.865049e+05  1.403693e+04       6.661885e+00  4.179543e-01   \n",
       "min    1.500000e+01  1.000000e+00       1.000000e+00  0.000000e+00   \n",
       "25%    8.571920e+05  1.357500e+04       3.000000e+00  1.000000e+00   \n",
       "50%    1.713000e+06  2.514600e+04       5.000000e+00  1.000000e+00   \n",
       "75%    2.563004e+06  3.801600e+04       1.000000e+01  1.000000e+00   \n",
       "max    3.421069e+06  4.968300e+04       9.800000e+01  1.000000e+00   \n",
       "\n",
       "            special       user_id      store_id      distance  order_number  \\\n",
       "count  1.172312e+06  1.172312e+06  1.172312e+06  1.172312e+06  1.172312e+06   \n",
       "mean   9.745972e+00  1.011486e+05  4.497209e+00  1.252174e+00  4.950891e+01   \n",
       "std    1.497054e+01  6.052976e+04  2.858121e+00  6.571061e-01  2.906399e+01   \n",
       "min    0.000000e+00  2.100000e+02  0.000000e+00  2.863073e-03  1.000000e+00   \n",
       "25%    0.000000e+00  4.918600e+04  2.000000e+00  7.640387e-01  2.400000e+01   \n",
       "50%    0.000000e+00  9.935200e+04  4.000000e+00  1.171076e+00  4.900000e+01   \n",
       "75%    1.500000e+01  1.545560e+05  7.000000e+00  1.654696e+00  7.500000e+01   \n",
       "max    5.000000e+01  2.061050e+05  9.000000e+00  4.843817e+00  9.900000e+01   \n",
       "\n",
       "          order_dow  order_hour_of_day  days_since_prior_order  \n",
       "count  1.172312e+06       1.172312e+06            1.172312e+06  \n",
       "mean   2.849628e+00       1.298660e+01            3.124883e+00  \n",
       "std    1.920069e+00       4.249346e+00            2.724217e+00  \n",
       "min    0.000000e+00       0.000000e+00            0.000000e+00  \n",
       "25%    1.000000e+00       1.000000e+01            1.000000e+00  \n",
       "50%    3.000000e+00       1.300000e+01            3.000000e+00  \n",
       "75%    5.000000e+00       1.600000e+01            4.000000e+00  \n",
       "max    6.000000e+00       2.300000e+01            3.000000e+01  "
      ]
     },
     "execution_count": 66,
     "metadata": {},
     "output_type": "execute_result"
    }
   ],
   "source": [
    "# Visualisation des statistiques sur les données avant sampling\n",
    "data_orders.describe()"
   ]
  },
  {
   "cell_type": "markdown",
   "id": "c998bea835085b58",
   "metadata": {
    "collapsed": false
   },
   "source": [
    "on compare les statistiques avant et après sampling pour voir si la diversité des données est aussi bien représentée qu'avant."
   ]
  },
  {
   "cell_type": "code",
   "execution_count": 67,
   "id": "2f64e9907fddf455",
   "metadata": {
    "ExecuteTime": {
     "end_time": "2024-04-05T02:44:22.642576900Z",
     "start_time": "2024-04-05T02:44:18.722889600Z"
    },
    "collapsed": false
   },
   "outputs": [
    {
     "name": "stdout",
     "output_type": "stream",
     "text": [
      "[count    90.476129\n",
      "mean      0.048462\n",
      "std       0.156523\n",
      "min      72.727273\n",
      "25%       0.010588\n",
      "50%       0.155653\n",
      "75%       0.215293\n",
      "max       0.001257\n",
      "Name: order_id, dtype: float64, count    90.476129\n",
      "mean      0.028282\n",
      "std       0.167641\n",
      "min       0.000000\n",
      "25%       0.436520\n",
      "50%       0.015910\n",
      "75%       0.187726\n",
      "max       0.000000\n",
      "Name: product_id, dtype: float64, count    90.476129\n",
      "mean      0.343111\n",
      "std       0.141904\n",
      "min       0.000000\n",
      "25%       0.000000\n",
      "50%       0.000000\n",
      "75%       0.000000\n",
      "max       0.000000\n",
      "Name: add_to_cart_order, dtype: float64, count    90.476129\n",
      "mean      0.000286\n",
      "std       0.000753\n",
      "min            NaN\n",
      "25%       0.000000\n",
      "50%       0.000000\n",
      "75%       0.000000\n",
      "max       0.000000\n",
      "Name: reordered, dtype: float64, count    90.476129\n",
      "mean      0.216205\n",
      "std       0.014235\n",
      "min            NaN\n",
      "25%            NaN\n",
      "50%            NaN\n",
      "75%       0.000000\n",
      "max       0.000000\n",
      "Name: special, dtype: float64, count    90.476129\n",
      "mean      0.199873\n",
      "std       0.016750\n",
      "min       0.000000\n",
      "25%       0.301807\n",
      "50%       0.365694\n",
      "75%       0.269234\n",
      "max       0.000000\n",
      "Name: user_id, dtype: float64, count    90.476129\n",
      "mean      0.156729\n",
      "std       0.215385\n",
      "min            NaN\n",
      "25%       0.000000\n",
      "50%      11.111111\n",
      "75%       0.000000\n",
      "max       0.000000\n",
      "Name: store_id, dtype: float64, count    90.476129\n",
      "mean      0.095645\n",
      "std       0.144254\n",
      "min       0.000000\n",
      "25%       0.154787\n",
      "50%       0.021833\n",
      "75%       0.122317\n",
      "max       0.000000\n",
      "Name: distance, dtype: float64, count    90.476129\n",
      "mean      0.128413\n",
      "std       0.023206\n",
      "min       0.000000\n",
      "25%       0.000000\n",
      "50%       0.000000\n",
      "75%       0.000000\n",
      "max       0.000000\n",
      "Name: order_number, dtype: float64, count    90.476129\n",
      "mean      0.122941\n",
      "std       0.120542\n",
      "min            NaN\n",
      "25%       0.000000\n",
      "50%       0.000000\n",
      "75%       0.000000\n",
      "max       0.000000\n",
      "Name: order_dow, dtype: float64, count    90.476129\n",
      "mean      0.131219\n",
      "std       0.027830\n",
      "min            NaN\n",
      "25%       0.000000\n",
      "50%       0.000000\n",
      "75%       0.000000\n",
      "max       0.000000\n",
      "Name: order_hour_of_day, dtype: float64, count    90.476129\n",
      "mean      0.022703\n",
      "std       0.694412\n",
      "min            NaN\n",
      "25%       0.000000\n",
      "50%       0.000000\n",
      "75%       0.000000\n",
      "max       0.000000\n",
      "Name: days_since_prior_order, dtype: float64]\n"
     ]
    }
   ],
   "source": [
    "diff_tab = []\n",
    "for col_name in sampled_df.describe().columns.values:\n",
    "    stat_pre_sampling = data_orders.describe()[col_name]\n",
    "    stat_post_sampling = sampled_df.describe()[col_name]\n",
    "    diff = 100 * abs(stat_post_sampling - stat_pre_sampling) / (stat_post_sampling + stat_pre_sampling)\n",
    "    diff_tab.append(diff)\n",
    "print(diff_tab)"
   ]
  },
  {
   "cell_type": "markdown",
   "id": "cc74904e0efa6f2",
   "metadata": {
    "collapsed": false
   },
   "source": [
    "on constate que les statistiques des distributions ont majoritairement été conservé après l'échantillonage. Cela infique que l'information et la représentativité des données a bien été conservée."
   ]
  },
  {
   "cell_type": "code",
   "execution_count": 68,
   "id": "f32a738a3e3c4ac3",
   "metadata": {
    "ExecuteTime": {
     "end_time": "2024-04-05T02:44:22.657450Z",
     "start_time": "2024-04-05T02:44:22.636674Z"
    },
    "collapsed": false
   },
   "outputs": [],
   "source": [
    "# sampled_df.to_csv('reduced_data.csv') Marche aps"
   ]
  },
  {
   "cell_type": "markdown",
   "id": "60f03d2e11e54938",
   "metadata": {
    "collapsed": false
   },
   "source": [
    "### 1.b - Préparation des données"
   ]
  },
  {
   "cell_type": "markdown",
   "id": "5d24b9ce4696b80f",
   "metadata": {
    "collapsed": false
   },
   "source": [
    "#### Création des ensembles d'entraînement et de test\n",
    "On sépare les données en ensembles d'entraînement et de test tout en conservant la diversité des données dans chacun de ces ensembles. pour cela, on utilise l'option 'stratfied' de la fonction train_test_split de sklearn"
   ]
  },
  {
   "cell_type": "code",
   "execution_count": 69,
   "id": "d9f9f0938c5fb00",
   "metadata": {
    "ExecuteTime": {
     "end_time": "2024-04-05T02:44:23.480604500Z",
     "start_time": "2024-04-05T02:44:22.654447500Z"
    },
    "collapsed": false
   },
   "outputs": [],
   "source": [
    "X = data_orders.drop(columns=['reordered']) # datas\n",
    "y = data_orders['reordered'] # targets\n",
    "\n",
    "X_train, X_test, y_train, y_test = train_test_split(X, y, test_size=0.2, random_state=0, stratify=y)"
   ]
  },
  {
   "cell_type": "markdown",
   "id": "b31742798f8bb4db",
   "metadata": {
    "collapsed": false
   },
   "source": [
    "#### Transformation"
   ]
  },
  {
   "cell_type": "markdown",
   "id": "94479c2b4cecf5b0",
   "metadata": {
    "collapsed": false
   },
   "source": [
    "##### Normalisation des ensmebles d'entraîenemnt et de test\n",
    "Les algorithmes que nous appliquerons par la suite (CNN et SVM) ne nécessitent pas de connaître la distribution des données.\n",
    "Nous procédons donc à la normalisation des données afin de les ramener dans un intervalle connu."
   ]
  },
  {
   "cell_type": "code",
   "execution_count": 70,
   "id": "a3e2e1921b29169a",
   "metadata": {
    "ExecuteTime": {
     "end_time": "2024-04-05T02:44:23.815682600Z",
     "start_time": "2024-04-05T02:44:23.484335100Z"
    },
    "collapsed": false
   },
   "outputs": [],
   "source": [
    "standard_scaler = StandardScaler()\n",
    "X_train_scaled = standard_scaler.fit_transform(X_train)\n",
    "X_test_scaled = standard_scaler.fit_transform(X_test)\n",
    "\n",
    "X_train = X_train_scaled\n",
    "X_test = X_test_scaled"
   ]
  },
  {
   "cell_type": "code",
   "execution_count": 71,
   "id": "37f9af3c668e539a",
   "metadata": {
    "ExecuteTime": {
     "end_time": "2024-04-05T02:44:23.932432800Z",
     "start_time": "2024-04-05T02:44:23.806721400Z"
    },
    "collapsed": false
   },
   "outputs": [
    {
     "name": "stdout",
     "output_type": "stream",
     "text": [
      "Moyenne de X_train_scaled = -1.1065636922295917e-16 et déviation standard = 1.0000000000000007\n",
      "Moyenne de X_test_scaled = 4.673599195311817e-17 et déviation standard = 1.0000000000000002\n"
     ]
    }
   ],
   "source": [
    "# Vérification\n",
    "print(f\"Moyenne de X_train_scaled = {X_train_scaled.mean()} et déviation standard = {X_train_scaled.std()}\")\n",
    "print(f\"Moyenne de X_test_scaled = {X_test_scaled.mean()} et déviation standard = {X_test_scaled.std()}\")"
   ]
  },
  {
   "cell_type": "markdown",
   "id": "6ed227e8aef76f5",
   "metadata": {
    "collapsed": false
   },
   "source": [
    "A l'issu des ces étapes de prétraitement, les données ont été standardisée et peuvent être desormais utilisées dans les algorithmes suivants."
   ]
  },
  {
   "cell_type": "markdown",
   "id": "a67c1def",
   "metadata": {},
   "source": [
    "## 2 - Choix du modèle de prédiction"
   ]
  },
  {
   "cell_type": "markdown",
   "id": "ce23d89e",
   "metadata": {},
   "source": [
    "### 2.a - Modèle RNN et score F1"
   ]
  },
  {
   "cell_type": "code",
   "execution_count": 37,
   "id": "c8d68f147eed576b",
   "metadata": {
    "ExecuteTime": {
     "end_time": "2024-04-05T02:44:24.225642600Z",
     "start_time": "2024-04-05T02:44:23.932432800Z"
    },
    "collapsed": false
   },
   "outputs": [
    {
     "name": "stdout",
     "output_type": "stream",
     "text": [
      "Shape of X_train: (750279, 11)\n",
      "Shape of X_val: (187570, 11)\n",
      "Shape of X_test: (234463, 11)\n"
     ]
    },
    {
     "ename": "AttributeError",
     "evalue": "module 'keras.src.backend' has no attribute 'is_tensor'",
     "output_type": "error",
     "traceback": [
      "\u001b[1;31m---------------------------------------------------------------------------\u001b[0m",
      "\u001b[1;31mAttributeError\u001b[0m                            Traceback (most recent call last)",
      "Cell \u001b[1;32mIn[37], line 11\u001b[0m\n\u001b[0;32m      7\u001b[0m \u001b[38;5;28mprint\u001b[39m(\u001b[38;5;124m\"\u001b[39m\u001b[38;5;124mShape of X_test:\u001b[39m\u001b[38;5;124m\"\u001b[39m, X_test\u001b[38;5;241m.\u001b[39mshape)\n\u001b[0;32m      9\u001b[0m \u001b[38;5;66;03m# Assuming y_train and y_test are your target labels\u001b[39;00m\n\u001b[0;32m     10\u001b[0m \u001b[38;5;66;03m# Convert them to one-hot encoded vectors\u001b[39;00m\n\u001b[1;32m---> 11\u001b[0m y_train_one_hot \u001b[38;5;241m=\u001b[39m \u001b[43mto_categorical\u001b[49m\u001b[43m(\u001b[49m\u001b[43my_train\u001b[49m\u001b[43m)\u001b[49m\n\u001b[0;32m     12\u001b[0m y_test_one_hot \u001b[38;5;241m=\u001b[39m to_categorical(y_test)\n\u001b[0;32m     13\u001b[0m y_val_one_hot \u001b[38;5;241m=\u001b[39m to_categorical(y_val)\n",
      "File \u001b[1;32mc:\\Users\\carol\\Desktop\\Sherbrooke\\Cours\\Session hiver\\IFT 870\\TP2-IFT870\\.venv\\Lib\\site-packages\\keras\\src\\utils\\numerical_utils.py:75\u001b[0m, in \u001b[0;36mto_categorical\u001b[1;34m(x, num_classes)\u001b[0m\n\u001b[0;32m     37\u001b[0m \u001b[38;5;129m@keras_export\u001b[39m(\u001b[38;5;124m\"\u001b[39m\u001b[38;5;124mkeras.utils.to_categorical\u001b[39m\u001b[38;5;124m\"\u001b[39m)\n\u001b[0;32m     38\u001b[0m \u001b[38;5;28;01mdef\u001b[39;00m \u001b[38;5;21mto_categorical\u001b[39m(x, num_classes\u001b[38;5;241m=\u001b[39m\u001b[38;5;28;01mNone\u001b[39;00m):\n\u001b[0;32m     39\u001b[0m \u001b[38;5;250m    \u001b[39m\u001b[38;5;124;03m\"\"\"Converts a class vector (integers) to binary class matrix.\u001b[39;00m\n\u001b[0;32m     40\u001b[0m \n\u001b[0;32m     41\u001b[0m \u001b[38;5;124;03m    E.g. for use with `categorical_crossentropy`.\u001b[39;00m\n\u001b[1;32m   (...)\u001b[0m\n\u001b[0;32m     73\u001b[0m \u001b[38;5;124;03m    [0. 0. 0. 0.]\u001b[39;00m\n\u001b[0;32m     74\u001b[0m \u001b[38;5;124;03m    \"\"\"\u001b[39;00m\n\u001b[1;32m---> 75\u001b[0m     \u001b[38;5;28;01mif\u001b[39;00m \u001b[43mbackend\u001b[49m\u001b[38;5;241;43m.\u001b[39;49m\u001b[43mis_tensor\u001b[49m(x):\n\u001b[0;32m     76\u001b[0m         \u001b[38;5;28;01mreturn\u001b[39;00m backend\u001b[38;5;241m.\u001b[39mnn\u001b[38;5;241m.\u001b[39mone_hot(x, num_classes)\n\u001b[0;32m     77\u001b[0m     x \u001b[38;5;241m=\u001b[39m np\u001b[38;5;241m.\u001b[39marray(x, dtype\u001b[38;5;241m=\u001b[39m\u001b[38;5;124m\"\u001b[39m\u001b[38;5;124mint64\u001b[39m\u001b[38;5;124m\"\u001b[39m)\n",
      "\u001b[1;31mAttributeError\u001b[0m: module 'keras.src.backend' has no attribute 'is_tensor'"
     ]
    }
   ],
   "source": [
    "# Diviser l'ensemble d'entraînement en ensembles d'entraînement et de validation\n",
    "X_train, X_val, y_train, y_val = train_test_split(X_train, y_train, test_size=0.2, random_state=42)\n",
    "\n",
    "# Vérifier les formes des ensembles créés\n",
    "print(\"Shape of X_train:\", X_train.shape)\n",
    "print(\"Shape of X_val:\", X_val.shape)\n",
    "print(\"Shape of X_test:\", X_test.shape)\n",
    "\n",
    "# Assuming y_train and y_test are your target labels\n",
    "# Convert them to one-hot encoded vectors\n",
    "y_train_one_hot = to_categorical(y_train)\n",
    "y_test_one_hot = to_categorical(y_test)\n",
    "y_val_one_hot = to_categorical(y_val)\n",
    "\n",
    "y_train_one_hot"
   ]
  },
  {
   "cell_type": "markdown",
   "id": "912f165c",
   "metadata": {},
   "source": [
    "#### Prédiction de la classe"
   ]
  },
  {
   "cell_type": "code",
   "execution_count": null,
   "id": "d527b722c7ac8053",
   "metadata": {
    "ExecuteTime": {
     "end_time": "2024-04-05T02:44:24.381731200Z",
     "start_time": "2024-04-05T02:44:24.224431800Z"
    },
    "collapsed": false
   },
   "outputs": [],
   "source": [
    "loss_fn = keras.losses.CategoricalCrossentropy()\n",
    "metrics_fn = keras.metrics.BinaryAccuracy()"
   ]
  },
  {
   "cell_type": "code",
   "execution_count": null,
   "id": "beed211fbf595f7",
   "metadata": {
    "ExecuteTime": {
     "start_time": "2024-04-05T02:44:24.362414500Z"
    },
    "collapsed": false,
    "is_executing": true
   },
   "outputs": [
    {
     "name": "stdout",
     "output_type": "stream",
     "text": [
      "Epoch 1/10\n",
      "10551/10551 [==============================] - 17s 2ms/step - loss: 0.4220 - binary_accuracy: 0.8049 - val_loss: 0.4153 - val_binary_accuracy: 0.8096\n",
      "Epoch 2/10\n",
      "10551/10551 [==============================] - 17s 2ms/step - loss: 0.4152 - binary_accuracy: 0.8094 - val_loss: 0.4126 - val_binary_accuracy: 0.8115\n",
      "Epoch 3/10\n",
      "10551/10551 [==============================] - 15s 1ms/step - loss: 0.4136 - binary_accuracy: 0.8104 - val_loss: 0.4112 - val_binary_accuracy: 0.8120\n",
      "Epoch 4/10\n",
      "10551/10551 [==============================] - 17s 2ms/step - loss: 0.4130 - binary_accuracy: 0.8106 - val_loss: 0.4114 - val_binary_accuracy: 0.8114\n",
      "Epoch 5/10\n",
      "10551/10551 [==============================] - 18s 2ms/step - loss: 0.4123 - binary_accuracy: 0.8110 - val_loss: 0.4111 - val_binary_accuracy: 0.8112\n",
      "Epoch 6/10\n",
      "10551/10551 [==============================] - 16s 2ms/step - loss: 0.4119 - binary_accuracy: 0.8111 - val_loss: 0.4105 - val_binary_accuracy: 0.8115\n",
      "Epoch 7/10\n",
      "10551/10551 [==============================] - 18s 2ms/step - loss: 0.4116 - binary_accuracy: 0.8111 - val_loss: 0.4110 - val_binary_accuracy: 0.8118\n",
      "Epoch 8/10\n",
      "10551/10551 [==============================] - 18s 2ms/step - loss: 0.4115 - binary_accuracy: 0.8113 - val_loss: 0.4104 - val_binary_accuracy: 0.8121\n",
      "Epoch 9/10\n",
      "10551/10551 [==============================] - 16s 1ms/step - loss: 0.4112 - binary_accuracy: 0.8112 - val_loss: 0.4103 - val_binary_accuracy: 0.8126\n",
      "Epoch 10/10\n",
      "10551/10551 [==============================] - 15s 1ms/step - loss: 0.4111 - binary_accuracy: 0.8116 - val_loss: 0.4096 - val_binary_accuracy: 0.8115\n",
      "2345/2345 [==============================] - 2s 764us/step\n",
      "Epoch 1/10\n",
      "10551/10551 [==============================] - 15s 1ms/step - loss: 0.4234 - binary_accuracy: 0.8056 - val_loss: 0.4149 - val_binary_accuracy: 0.8094\n",
      "Epoch 2/10\n",
      "10551/10551 [==============================] - 16s 1ms/step - loss: 0.4155 - binary_accuracy: 0.8090 - val_loss: 0.4140 - val_binary_accuracy: 0.8104\n",
      "Epoch 3/10\n",
      "10551/10551 [==============================] - 16s 1ms/step - loss: 0.4140 - binary_accuracy: 0.8101 - val_loss: 0.4115 - val_binary_accuracy: 0.8117\n",
      "Epoch 4/10\n",
      "10551/10551 [==============================] - 19s 2ms/step - loss: 0.4130 - binary_accuracy: 0.8105 - val_loss: 0.4112 - val_binary_accuracy: 0.8111\n",
      "Epoch 5/10\n",
      "10551/10551 [==============================] - 19s 2ms/step - loss: 0.4124 - binary_accuracy: 0.8106 - val_loss: 0.4112 - val_binary_accuracy: 0.8117\n",
      "Epoch 6/10\n",
      "10551/10551 [==============================] - 19s 2ms/step - loss: 0.4121 - binary_accuracy: 0.8108 - val_loss: 0.4098 - val_binary_accuracy: 0.8126\n",
      "Epoch 7/10\n",
      "10551/10551 [==============================] - 15s 1ms/step - loss: 0.4117 - binary_accuracy: 0.8109 - val_loss: 0.4110 - val_binary_accuracy: 0.8119\n",
      "Epoch 8/10\n",
      "10551/10551 [==============================] - 14s 1ms/step - loss: 0.4115 - binary_accuracy: 0.8110 - val_loss: 0.4099 - val_binary_accuracy: 0.8122\n",
      "Epoch 9/10\n",
      "10551/10551 [==============================] - 14s 1ms/step - loss: 0.4113 - binary_accuracy: 0.8114 - val_loss: 0.4102 - val_binary_accuracy: 0.8120\n",
      "Epoch 10/10\n",
      "10551/10551 [==============================] - 15s 1ms/step - loss: 0.4111 - binary_accuracy: 0.8114 - val_loss: 0.4099 - val_binary_accuracy: 0.8113\n",
      "2345/2345 [==============================] - 2s 853us/step\n",
      "Epoch 1/10\n",
      "10551/10551 [==============================] - 15s 1ms/step - loss: 0.4220 - binary_accuracy: 0.8063 - val_loss: 0.4148 - val_binary_accuracy: 0.8096\n",
      "Epoch 2/10\n",
      "10551/10551 [==============================] - 15s 1ms/step - loss: 0.4148 - binary_accuracy: 0.8095 - val_loss: 0.4123 - val_binary_accuracy: 0.8112\n",
      "Epoch 3/10\n",
      "10551/10551 [==============================] - 14s 1ms/step - loss: 0.4133 - binary_accuracy: 0.8105 - val_loss: 0.4122 - val_binary_accuracy: 0.8111\n",
      "Epoch 4/10\n",
      "10551/10551 [==============================] - 15s 1ms/step - loss: 0.4125 - binary_accuracy: 0.8106 - val_loss: 0.4107 - val_binary_accuracy: 0.8123\n",
      "Epoch 5/10\n",
      "10551/10551 [==============================] - 15s 1ms/step - loss: 0.4120 - binary_accuracy: 0.8110 - val_loss: 0.4105 - val_binary_accuracy: 0.8121\n",
      "Epoch 6/10\n",
      "10551/10551 [==============================] - 14s 1ms/step - loss: 0.4115 - binary_accuracy: 0.8110 - val_loss: 0.4109 - val_binary_accuracy: 0.8111\n",
      "Epoch 7/10\n",
      "10551/10551 [==============================] - 16s 1ms/step - loss: 0.4114 - binary_accuracy: 0.8110 - val_loss: 0.4106 - val_binary_accuracy: 0.8116\n",
      "Epoch 8/10\n",
      "10551/10551 [==============================] - 15s 1ms/step - loss: 0.4111 - binary_accuracy: 0.8114 - val_loss: 0.4096 - val_binary_accuracy: 0.8122\n",
      "Epoch 9/10\n",
      "10551/10551 [==============================] - 15s 1ms/step - loss: 0.4109 - binary_accuracy: 0.8111 - val_loss: 0.4097 - val_binary_accuracy: 0.8120\n",
      "Epoch 10/10\n",
      "10551/10551 [==============================] - 15s 1ms/step - loss: 0.4107 - binary_accuracy: 0.8116 - val_loss: 0.4097 - val_binary_accuracy: 0.8118\n",
      "2345/2345 [==============================] - 2s 955us/step\n",
      "Epoch 1/10\n",
      "10551/10551 [==============================] - 14s 1ms/step - loss: 0.4227 - binary_accuracy: 0.8061 - val_loss: 0.4143 - val_binary_accuracy: 0.8110\n",
      "Epoch 2/10\n",
      "10551/10551 [==============================] - 14s 1ms/step - loss: 0.4150 - binary_accuracy: 0.8095 - val_loss: 0.4129 - val_binary_accuracy: 0.8107\n",
      "Epoch 3/10\n",
      "10551/10551 [==============================] - 14s 1ms/step - loss: 0.4136 - binary_accuracy: 0.8103 - val_loss: 0.4121 - val_binary_accuracy: 0.8112\n",
      "Epoch 4/10\n",
      "10551/10551 [==============================] - 16s 1ms/step - loss: 0.4126 - binary_accuracy: 0.8107 - val_loss: 0.4110 - val_binary_accuracy: 0.8121\n",
      "Epoch 5/10\n",
      "10551/10551 [==============================] - 15s 1ms/step - loss: 0.4122 - binary_accuracy: 0.8108 - val_loss: 0.4112 - val_binary_accuracy: 0.8117\n",
      "Epoch 6/10\n",
      "10551/10551 [==============================] - 13s 1ms/step - loss: 0.4118 - binary_accuracy: 0.8110 - val_loss: 0.4119 - val_binary_accuracy: 0.8115\n",
      "Epoch 7/10\n",
      "10551/10551 [==============================] - 15s 1ms/step - loss: 0.4116 - binary_accuracy: 0.8113 - val_loss: 0.4103 - val_binary_accuracy: 0.8121\n",
      "Epoch 8/10\n",
      "10551/10551 [==============================] - 15s 1ms/step - loss: 0.4114 - binary_accuracy: 0.8111 - val_loss: 0.4107 - val_binary_accuracy: 0.8121\n",
      "Epoch 9/10\n",
      "10551/10551 [==============================] - 14s 1ms/step - loss: 0.4111 - binary_accuracy: 0.8114 - val_loss: 0.4100 - val_binary_accuracy: 0.8118\n",
      "Epoch 10/10\n",
      "10551/10551 [==============================] - 14s 1ms/step - loss: 0.4110 - binary_accuracy: 0.8115 - val_loss: 0.4102 - val_binary_accuracy: 0.8123\n",
      "2345/2345 [==============================] - 2s 914us/step\n",
      "Epoch 1/10\n",
      "10551/10551 [==============================] - 15s 1ms/step - loss: 0.4229 - binary_accuracy: 0.8061 - val_loss: 0.4154 - val_binary_accuracy: 0.8104\n",
      "Epoch 2/10\n",
      "10551/10551 [==============================] - 13s 1ms/step - loss: 0.4154 - binary_accuracy: 0.8091 - val_loss: 0.4126 - val_binary_accuracy: 0.8114\n",
      "Epoch 3/10\n",
      "10551/10551 [==============================] - 14s 1ms/step - loss: 0.4137 - binary_accuracy: 0.8100 - val_loss: 0.4115 - val_binary_accuracy: 0.8121\n",
      "Epoch 4/10\n",
      "10551/10551 [==============================] - 14s 1ms/step - loss: 0.4127 - binary_accuracy: 0.8105 - val_loss: 0.4113 - val_binary_accuracy: 0.8120\n",
      "Epoch 5/10\n",
      "10551/10551 [==============================] - 15s 1ms/step - loss: 0.4123 - binary_accuracy: 0.8108 - val_loss: 0.4107 - val_binary_accuracy: 0.8118\n",
      "Epoch 6/10\n",
      "10551/10551 [==============================] - 13s 1ms/step - loss: 0.4120 - binary_accuracy: 0.8110 - val_loss: 0.4111 - val_binary_accuracy: 0.8109\n",
      "Epoch 7/10\n",
      "10551/10551 [==============================] - 15s 1ms/step - loss: 0.4118 - binary_accuracy: 0.8108 - val_loss: 0.4101 - val_binary_accuracy: 0.8117\n",
      "Epoch 8/10\n",
      "10551/10551 [==============================] - 14s 1ms/step - loss: 0.4115 - binary_accuracy: 0.8112 - val_loss: 0.4105 - val_binary_accuracy: 0.8118\n",
      "Epoch 9/10\n",
      "10551/10551 [==============================] - 14s 1ms/step - loss: 0.4114 - binary_accuracy: 0.8112 - val_loss: 0.4097 - val_binary_accuracy: 0.8121\n",
      "Epoch 10/10\n",
      "10551/10551 [==============================] - 13s 1ms/step - loss: 0.4112 - binary_accuracy: 0.8112 - val_loss: 0.4096 - val_binary_accuracy: 0.8123\n",
      "2345/2345 [==============================] - 2s 873us/step\n",
      "Epoch 1/10\n",
      "10551/10551 [==============================] - 15s 1ms/step - loss: 0.4224 - binary_accuracy: 0.8061 - val_loss: 0.4147 - val_binary_accuracy: 0.8103\n",
      "Epoch 2/10\n",
      "10551/10551 [==============================] - 15s 1ms/step - loss: 0.4155 - binary_accuracy: 0.8089 - val_loss: 0.4134 - val_binary_accuracy: 0.8118\n",
      "Epoch 3/10\n",
      "10551/10551 [==============================] - 13s 1ms/step - loss: 0.4140 - binary_accuracy: 0.8099 - val_loss: 0.4124 - val_binary_accuracy: 0.8105\n",
      "Epoch 4/10\n",
      "10551/10551 [==============================] - 15s 1ms/step - loss: 0.4131 - binary_accuracy: 0.8105 - val_loss: 0.4121 - val_binary_accuracy: 0.8119\n",
      "Epoch 5/10\n",
      "10551/10551 [==============================] - 13s 1ms/step - loss: 0.4125 - binary_accuracy: 0.8105 - val_loss: 0.4103 - val_binary_accuracy: 0.8118\n",
      "Epoch 6/10\n",
      "10551/10551 [==============================] - 14s 1ms/step - loss: 0.4122 - binary_accuracy: 0.8106 - val_loss: 0.4108 - val_binary_accuracy: 0.8119\n",
      "Epoch 7/10\n",
      "10551/10551 [==============================] - 13s 1ms/step - loss: 0.4119 - binary_accuracy: 0.8108 - val_loss: 0.4132 - val_binary_accuracy: 0.8114\n",
      "Epoch 8/10\n",
      "10551/10551 [==============================] - 13s 1ms/step - loss: 0.4118 - binary_accuracy: 0.8109 - val_loss: 0.4102 - val_binary_accuracy: 0.8125\n",
      "Epoch 9/10\n",
      "10551/10551 [==============================] - 15s 1ms/step - loss: 0.4115 - binary_accuracy: 0.8112 - val_loss: 0.4106 - val_binary_accuracy: 0.8122\n",
      "Epoch 10/10\n",
      "10551/10551 [==============================] - 15s 1ms/step - loss: 0.4114 - binary_accuracy: 0.8111 - val_loss: 0.4103 - val_binary_accuracy: 0.8124\n",
      "2345/2345 [==============================] - 2s 816us/step\n",
      "Epoch 1/10\n",
      "10551/10551 [==============================] - 14s 1ms/step - loss: 0.4232 - binary_accuracy: 0.8055 - val_loss: 0.4158 - val_binary_accuracy: 0.8092\n",
      "Epoch 2/10\n",
      "10551/10551 [==============================] - 14s 1ms/step - loss: 0.4150 - binary_accuracy: 0.8095 - val_loss: 0.4119 - val_binary_accuracy: 0.8120\n",
      "Epoch 3/10\n",
      "10551/10551 [==============================] - 14s 1ms/step - loss: 0.4133 - binary_accuracy: 0.8103 - val_loss: 0.4116 - val_binary_accuracy: 0.8119\n",
      "Epoch 4/10\n",
      "10551/10551 [==============================] - 15s 1ms/step - loss: 0.4125 - binary_accuracy: 0.8108 - val_loss: 0.4108 - val_binary_accuracy: 0.8118\n",
      "Epoch 5/10\n",
      "10551/10551 [==============================] - 13s 1ms/step - loss: 0.4122 - binary_accuracy: 0.8111 - val_loss: 0.4098 - val_binary_accuracy: 0.8122\n",
      "Epoch 6/10\n",
      "10551/10551 [==============================] - 15s 1ms/step - loss: 0.4118 - binary_accuracy: 0.8112 - val_loss: 0.4101 - val_binary_accuracy: 0.8120\n",
      "Epoch 7/10\n",
      "10551/10551 [==============================] - 14s 1ms/step - loss: 0.4116 - binary_accuracy: 0.8112 - val_loss: 0.4120 - val_binary_accuracy: 0.8112\n",
      "Epoch 8/10\n",
      "10551/10551 [==============================] - 14s 1ms/step - loss: 0.4114 - binary_accuracy: 0.8113 - val_loss: 0.4100 - val_binary_accuracy: 0.8122\n",
      "Epoch 9/10\n",
      "10551/10551 [==============================] - 15s 1ms/step - loss: 0.4113 - binary_accuracy: 0.8114 - val_loss: 0.4106 - val_binary_accuracy: 0.8117\n",
      "Epoch 10/10\n",
      "10551/10551 [==============================] - 13s 1ms/step - loss: 0.4111 - binary_accuracy: 0.8117 - val_loss: 0.4098 - val_binary_accuracy: 0.8117\n",
      "2345/2345 [==============================] - 2s 775us/step\n",
      "Epoch 1/10\n",
      "10551/10551 [==============================] - 14s 1ms/step - loss: 0.4224 - binary_accuracy: 0.8060 - val_loss: 0.4154 - val_binary_accuracy: 0.8098\n",
      "Epoch 2/10\n",
      "10551/10551 [==============================] - 14s 1ms/step - loss: 0.4151 - binary_accuracy: 0.8093 - val_loss: 0.4137 - val_binary_accuracy: 0.8113\n",
      "Epoch 3/10\n",
      "10551/10551 [==============================] - 13s 1ms/step - loss: 0.4136 - binary_accuracy: 0.8099 - val_loss: 0.4122 - val_binary_accuracy: 0.8114\n",
      "Epoch 4/10\n",
      "10551/10551 [==============================] - 14s 1ms/step - loss: 0.4127 - binary_accuracy: 0.8105 - val_loss: 0.4106 - val_binary_accuracy: 0.8118\n",
      "Epoch 5/10\n",
      "10551/10551 [==============================] - 13s 1ms/step - loss: 0.4122 - binary_accuracy: 0.8106 - val_loss: 0.4116 - val_binary_accuracy: 0.8117\n",
      "Epoch 6/10\n",
      "10551/10551 [==============================] - 14s 1ms/step - loss: 0.4119 - binary_accuracy: 0.8108 - val_loss: 0.4107 - val_binary_accuracy: 0.8116\n",
      "Epoch 7/10\n",
      "10551/10551 [==============================] - 14s 1ms/step - loss: 0.4116 - binary_accuracy: 0.8111 - val_loss: 0.4108 - val_binary_accuracy: 0.8118\n",
      "Epoch 8/10\n",
      "10551/10551 [==============================] - 14s 1ms/step - loss: 0.4114 - binary_accuracy: 0.8113 - val_loss: 0.4100 - val_binary_accuracy: 0.8119\n",
      "Epoch 9/10\n",
      "10551/10551 [==============================] - 14s 1ms/step - loss: 0.4112 - binary_accuracy: 0.8112 - val_loss: 0.4104 - val_binary_accuracy: 0.8111\n",
      "Epoch 10/10\n",
      "10551/10551 [==============================] - 13s 1ms/step - loss: 0.4110 - binary_accuracy: 0.8115 - val_loss: 0.4103 - val_binary_accuracy: 0.8123\n",
      "2345/2345 [==============================] - 2s 781us/step\n",
      "Epoch 1/10\n",
      "10551/10551 [==============================] - 14s 1ms/step - loss: 0.4226 - binary_accuracy: 0.8062 - val_loss: 0.4144 - val_binary_accuracy: 0.8104\n",
      "Epoch 2/10\n",
      "10551/10551 [==============================] - 14s 1ms/step - loss: 0.4152 - binary_accuracy: 0.8095 - val_loss: 0.4128 - val_binary_accuracy: 0.8105\n",
      "Epoch 3/10\n",
      "10551/10551 [==============================] - 14s 1ms/step - loss: 0.4135 - binary_accuracy: 0.8104 - val_loss: 0.4117 - val_binary_accuracy: 0.8111\n",
      "Epoch 4/10\n",
      "10551/10551 [==============================] - 14s 1ms/step - loss: 0.4130 - binary_accuracy: 0.8106 - val_loss: 0.4113 - val_binary_accuracy: 0.8118\n",
      "Epoch 5/10\n",
      "10551/10551 [==============================] - 14s 1ms/step - loss: 0.4124 - binary_accuracy: 0.8108 - val_loss: 0.4104 - val_binary_accuracy: 0.8115\n",
      "Epoch 6/10\n",
      "10551/10551 [==============================] - 14s 1ms/step - loss: 0.4121 - binary_accuracy: 0.8110 - val_loss: 0.4103 - val_binary_accuracy: 0.8119\n",
      "Epoch 7/10\n",
      "10551/10551 [==============================] - 14s 1ms/step - loss: 0.4118 - binary_accuracy: 0.8111 - val_loss: 0.4103 - val_binary_accuracy: 0.8119\n",
      "Epoch 8/10\n",
      "10551/10551 [==============================] - 14s 1ms/step - loss: 0.4117 - binary_accuracy: 0.8112 - val_loss: 0.4104 - val_binary_accuracy: 0.8115\n",
      "Epoch 9/10\n",
      "10551/10551 [==============================] - 14s 1ms/step - loss: 0.4115 - binary_accuracy: 0.8113 - val_loss: 0.4109 - val_binary_accuracy: 0.8115\n",
      "Epoch 10/10\n",
      "10551/10551 [==============================] - 14s 1ms/step - loss: 0.4113 - binary_accuracy: 0.8110 - val_loss: 0.4095 - val_binary_accuracy: 0.8124\n",
      "2345/2345 [==============================] - 2s 787us/step\n",
      "Epoch 1/10\n",
      "10551/10551 [==============================] - 15s 1ms/step - loss: 0.4226 - binary_accuracy: 0.8060 - val_loss: 0.4156 - val_binary_accuracy: 0.8076\n",
      "Epoch 2/10\n",
      "10551/10551 [==============================] - 14s 1ms/step - loss: 0.4151 - binary_accuracy: 0.8093 - val_loss: 0.4119 - val_binary_accuracy: 0.8114\n",
      "Epoch 3/10\n",
      "10551/10551 [==============================] - 14s 1ms/step - loss: 0.4134 - binary_accuracy: 0.8101 - val_loss: 0.4120 - val_binary_accuracy: 0.8109\n",
      "Epoch 4/10\n",
      "10551/10551 [==============================] - 14s 1ms/step - loss: 0.4127 - binary_accuracy: 0.8103 - val_loss: 0.4112 - val_binary_accuracy: 0.8112\n",
      "Epoch 5/10\n",
      "10551/10551 [==============================] - 14s 1ms/step - loss: 0.4123 - binary_accuracy: 0.8105 - val_loss: 0.4115 - val_binary_accuracy: 0.8107\n",
      "Epoch 6/10\n",
      "10551/10551 [==============================] - 14s 1ms/step - loss: 0.4119 - binary_accuracy: 0.8110 - val_loss: 0.4109 - val_binary_accuracy: 0.8121\n",
      "Epoch 7/10\n",
      "10551/10551 [==============================] - 14s 1ms/step - loss: 0.4117 - binary_accuracy: 0.8111 - val_loss: 0.4106 - val_binary_accuracy: 0.8111\n",
      "Epoch 8/10\n",
      "10551/10551 [==============================] - 14s 1ms/step - loss: 0.4116 - binary_accuracy: 0.8110 - val_loss: 0.4105 - val_binary_accuracy: 0.8118\n",
      "Epoch 9/10\n",
      "10551/10551 [==============================] - 14s 1ms/step - loss: 0.4113 - binary_accuracy: 0.8112 - val_loss: 0.4104 - val_binary_accuracy: 0.8119\n",
      "Epoch 10/10\n",
      "10551/10551 [==============================] - 14s 1ms/step - loss: 0.4112 - binary_accuracy: 0.8112 - val_loss: 0.4096 - val_binary_accuracy: 0.8124\n",
      "2345/2345 [==============================] - 2s 795us/step\n",
      "Epoch 1/10\n",
      "10551/10551 [==============================] - 15s 1ms/step - loss: 0.4216 - binary_accuracy: 0.8064 - val_loss: 0.4151 - val_binary_accuracy: 0.8102\n",
      "Epoch 2/10\n",
      "10551/10551 [==============================] - 14s 1ms/step - loss: 0.4151 - binary_accuracy: 0.8094 - val_loss: 0.4133 - val_binary_accuracy: 0.8115\n",
      "Epoch 3/10\n",
      "10551/10551 [==============================] - 14s 1ms/step - loss: 0.4137 - binary_accuracy: 0.8101 - val_loss: 0.4125 - val_binary_accuracy: 0.8111\n",
      "Epoch 4/10\n",
      "10551/10551 [==============================] - 14s 1ms/step - loss: 0.4128 - binary_accuracy: 0.8106 - val_loss: 0.4112 - val_binary_accuracy: 0.8119\n",
      "Epoch 5/10\n",
      "10551/10551 [==============================] - 14s 1ms/step - loss: 0.4122 - binary_accuracy: 0.8108 - val_loss: 0.4112 - val_binary_accuracy: 0.8109\n",
      "Epoch 6/10\n",
      "10551/10551 [==============================] - 14s 1ms/step - loss: 0.4119 - binary_accuracy: 0.8108 - val_loss: 0.4115 - val_binary_accuracy: 0.8109\n",
      "Epoch 7/10\n",
      "10551/10551 [==============================] - 14s 1ms/step - loss: 0.4116 - binary_accuracy: 0.8111 - val_loss: 0.4101 - val_binary_accuracy: 0.8123\n",
      "Epoch 8/10\n",
      "10551/10551 [==============================] - 14s 1ms/step - loss: 0.4113 - binary_accuracy: 0.8111 - val_loss: 0.4107 - val_binary_accuracy: 0.8122\n",
      "Epoch 9/10\n",
      "10551/10551 [==============================] - 14s 1ms/step - loss: 0.4112 - binary_accuracy: 0.8113 - val_loss: 0.4109 - val_binary_accuracy: 0.8116\n",
      "Epoch 10/10\n",
      "10551/10551 [==============================] - 14s 1ms/step - loss: 0.4110 - binary_accuracy: 0.8112 - val_loss: 0.4125 - val_binary_accuracy: 0.8112\n",
      "2345/2345 [==============================] - 2s 788us/step\n",
      "Epoch 1/10\n",
      "10551/10551 [==============================] - 27s 3ms/step - loss: 0.4233 - binary_accuracy: 0.8057 - val_loss: 0.4155 - val_binary_accuracy: 0.8088\n",
      "Epoch 2/10\n",
      "10551/10551 [==============================] - 15s 1ms/step - loss: 0.4157 - binary_accuracy: 0.8089 - val_loss: 0.4128 - val_binary_accuracy: 0.8115\n",
      "Epoch 3/10\n",
      "10551/10551 [==============================] - 14s 1ms/step - loss: 0.4142 - binary_accuracy: 0.8098 - val_loss: 0.4133 - val_binary_accuracy: 0.8107\n",
      "Epoch 4/10\n",
      "10551/10551 [==============================] - 16s 1ms/step - loss: 0.4134 - binary_accuracy: 0.8100 - val_loss: 0.4114 - val_binary_accuracy: 0.8118\n",
      "Epoch 5/10\n",
      "10551/10551 [==============================] - 14s 1ms/step - loss: 0.4125 - binary_accuracy: 0.8108 - val_loss: 0.4106 - val_binary_accuracy: 0.8115\n",
      "Epoch 6/10\n",
      "10551/10551 [==============================] - 13s 1ms/step - loss: 0.4121 - binary_accuracy: 0.8109 - val_loss: 0.4107 - val_binary_accuracy: 0.8121\n",
      "Epoch 7/10\n",
      "10551/10551 [==============================] - 15s 1ms/step - loss: 0.4117 - binary_accuracy: 0.8111 - val_loss: 0.4102 - val_binary_accuracy: 0.8118\n",
      "Epoch 8/10\n",
      "10551/10551 [==============================] - 13s 1ms/step - loss: 0.4115 - binary_accuracy: 0.8113 - val_loss: 0.4105 - val_binary_accuracy: 0.8114\n",
      "Epoch 9/10\n",
      "10551/10551 [==============================] - 15s 1ms/step - loss: 0.4113 - binary_accuracy: 0.8113 - val_loss: 0.4103 - val_binary_accuracy: 0.8122\n",
      "Epoch 10/10\n",
      "10551/10551 [==============================] - 15s 1ms/step - loss: 0.4111 - binary_accuracy: 0.8114 - val_loss: 0.4112 - val_binary_accuracy: 0.8112\n",
      "2345/2345 [==============================] - 3s 1ms/step\n",
      "Epoch 1/10\n",
      "10551/10551 [==============================] - 14s 1ms/step - loss: 0.4221 - binary_accuracy: 0.8061 - val_loss: 0.4146 - val_binary_accuracy: 0.8103\n",
      "Epoch 2/10\n",
      "10551/10551 [==============================] - 15s 1ms/step - loss: 0.4154 - binary_accuracy: 0.8090 - val_loss: 0.4135 - val_binary_accuracy: 0.8104\n",
      "Epoch 3/10\n",
      "10551/10551 [==============================] - 14s 1ms/step - loss: 0.4141 - binary_accuracy: 0.8098 - val_loss: 0.4126 - val_binary_accuracy: 0.8114\n",
      "Epoch 4/10\n",
      "10551/10551 [==============================] - 14s 1ms/step - loss: 0.4134 - binary_accuracy: 0.8102 - val_loss: 0.4114 - val_binary_accuracy: 0.8120\n",
      "Epoch 5/10\n",
      "10551/10551 [==============================] - 14s 1ms/step - loss: 0.4126 - binary_accuracy: 0.8105 - val_loss: 0.4119 - val_binary_accuracy: 0.8116\n",
      "Epoch 6/10\n",
      "10551/10551 [==============================] - 13s 1ms/step - loss: 0.4121 - binary_accuracy: 0.8109 - val_loss: 0.4117 - val_binary_accuracy: 0.8115\n",
      "Epoch 7/10\n",
      "10551/10551 [==============================] - 15s 1ms/step - loss: 0.4116 - binary_accuracy: 0.8110 - val_loss: 0.4112 - val_binary_accuracy: 0.8109\n",
      "Epoch 8/10\n",
      "10551/10551 [==============================] - 13s 1ms/step - loss: 0.4114 - binary_accuracy: 0.8112 - val_loss: 0.4107 - val_binary_accuracy: 0.8122\n",
      "Epoch 9/10\n",
      "10551/10551 [==============================] - 15s 1ms/step - loss: 0.4113 - binary_accuracy: 0.8113 - val_loss: 0.4100 - val_binary_accuracy: 0.8117\n",
      "Epoch 10/10\n",
      "10551/10551 [==============================] - 14s 1ms/step - loss: 0.4111 - binary_accuracy: 0.8113 - val_loss: 0.4096 - val_binary_accuracy: 0.8125\n",
      "2345/2345 [==============================] - 2s 924us/step\n",
      "Epoch 1/10\n",
      "10551/10551 [==============================] - 13s 1ms/step - loss: 0.4233 - binary_accuracy: 0.8058 - val_loss: 0.4148 - val_binary_accuracy: 0.8098\n",
      "Epoch 2/10\n",
      "10551/10551 [==============================] - 15s 1ms/step - loss: 0.4153 - binary_accuracy: 0.8089 - val_loss: 0.4140 - val_binary_accuracy: 0.8102\n",
      "Epoch 3/10\n",
      "10551/10551 [==============================] - 13s 1ms/step - loss: 0.4138 - binary_accuracy: 0.8099 - val_loss: 0.4115 - val_binary_accuracy: 0.8119\n",
      "Epoch 4/10\n",
      "10551/10551 [==============================] - 14s 1ms/step - loss: 0.4128 - binary_accuracy: 0.8101 - val_loss: 0.4123 - val_binary_accuracy: 0.8106\n",
      "Epoch 5/10\n",
      "10551/10551 [==============================] - 14s 1ms/step - loss: 0.4123 - binary_accuracy: 0.8105 - val_loss: 0.4102 - val_binary_accuracy: 0.8123\n",
      "Epoch 6/10\n",
      "10551/10551 [==============================] - 14s 1ms/step - loss: 0.4121 - binary_accuracy: 0.8106 - val_loss: 0.4112 - val_binary_accuracy: 0.8123\n",
      "Epoch 7/10\n",
      "10551/10551 [==============================] - 14s 1ms/step - loss: 0.4119 - binary_accuracy: 0.8109 - val_loss: 0.4114 - val_binary_accuracy: 0.8114\n",
      "Epoch 8/10\n",
      "10551/10551 [==============================] - 13s 1ms/step - loss: 0.4116 - binary_accuracy: 0.8109 - val_loss: 0.4101 - val_binary_accuracy: 0.8118\n",
      "Epoch 9/10\n",
      "10551/10551 [==============================] - 14s 1ms/step - loss: 0.4116 - binary_accuracy: 0.8110 - val_loss: 0.4106 - val_binary_accuracy: 0.8117\n",
      "Epoch 10/10\n",
      "10551/10551 [==============================] - 13s 1ms/step - loss: 0.4113 - binary_accuracy: 0.8111 - val_loss: 0.4106 - val_binary_accuracy: 0.8118\n",
      "2345/2345 [==============================] - 2s 883us/step\n",
      "Epoch 1/10\n",
      "10551/10551 [==============================] - 15s 1ms/step - loss: 0.4236 - binary_accuracy: 0.8057 - val_loss: 0.4151 - val_binary_accuracy: 0.8090\n",
      "Epoch 2/10\n",
      "10551/10551 [==============================] - 15s 1ms/step - loss: 0.4157 - binary_accuracy: 0.8089 - val_loss: 0.4132 - val_binary_accuracy: 0.8107\n",
      "Epoch 3/10\n",
      "10551/10551 [==============================] - 13s 1ms/step - loss: 0.4143 - binary_accuracy: 0.8096 - val_loss: 0.4126 - val_binary_accuracy: 0.8119\n",
      "Epoch 4/10\n",
      "10551/10551 [==============================] - 15s 1ms/step - loss: 0.4132 - binary_accuracy: 0.8101 - val_loss: 0.4114 - val_binary_accuracy: 0.8116\n",
      "Epoch 5/10\n",
      "10551/10551 [==============================] - 14s 1ms/step - loss: 0.4127 - binary_accuracy: 0.8103 - val_loss: 0.4111 - val_binary_accuracy: 0.8115\n",
      "Epoch 6/10\n",
      "10551/10551 [==============================] - 14s 1ms/step - loss: 0.4123 - binary_accuracy: 0.8104 - val_loss: 0.4112 - val_binary_accuracy: 0.8119\n",
      "Epoch 7/10\n",
      "10551/10551 [==============================] - 15s 1ms/step - loss: 0.4120 - binary_accuracy: 0.8107 - val_loss: 0.4109 - val_binary_accuracy: 0.8116\n",
      "Epoch 8/10\n",
      "10551/10551 [==============================] - 13s 1ms/step - loss: 0.4117 - binary_accuracy: 0.8110 - val_loss: 0.4104 - val_binary_accuracy: 0.8123\n",
      "Epoch 9/10\n",
      "10551/10551 [==============================] - 15s 1ms/step - loss: 0.4115 - binary_accuracy: 0.8111 - val_loss: 0.4100 - val_binary_accuracy: 0.8121\n",
      "Epoch 10/10\n",
      "10551/10551 [==============================] - 14s 1ms/step - loss: 0.4115 - binary_accuracy: 0.8111 - val_loss: 0.4098 - val_binary_accuracy: 0.8121\n",
      "2345/2345 [==============================] - 2s 900us/step\n",
      "Epoch 1/10\n",
      "10551/10551 [==============================] - 14s 1ms/step - loss: 0.4229 - binary_accuracy: 0.8058 - val_loss: 0.4155 - val_binary_accuracy: 0.8084\n",
      "Epoch 2/10\n",
      "10551/10551 [==============================] - 15s 1ms/step - loss: 0.4152 - binary_accuracy: 0.8093 - val_loss: 0.4129 - val_binary_accuracy: 0.8115\n",
      "Epoch 3/10\n",
      "10551/10551 [==============================] - 13s 1ms/step - loss: 0.4137 - binary_accuracy: 0.8100 - val_loss: 0.4112 - val_binary_accuracy: 0.8124\n",
      "Epoch 4/10\n",
      "10551/10551 [==============================] - 15s 1ms/step - loss: 0.4129 - binary_accuracy: 0.8106 - val_loss: 0.4116 - val_binary_accuracy: 0.8122\n",
      "Epoch 5/10\n",
      "10551/10551 [==============================] - 15s 1ms/step - loss: 0.4124 - binary_accuracy: 0.8105 - val_loss: 0.4106 - val_binary_accuracy: 0.8118\n",
      "Epoch 6/10\n",
      "10551/10551 [==============================] - 14s 1ms/step - loss: 0.4120 - binary_accuracy: 0.8105 - val_loss: 0.4110 - val_binary_accuracy: 0.8113\n",
      "Epoch 7/10\n",
      "10551/10551 [==============================] - 15s 1ms/step - loss: 0.4117 - binary_accuracy: 0.8111 - val_loss: 0.4098 - val_binary_accuracy: 0.8123\n",
      "Epoch 8/10\n",
      "10551/10551 [==============================] - 13s 1ms/step - loss: 0.4115 - binary_accuracy: 0.8111 - val_loss: 0.4102 - val_binary_accuracy: 0.8120\n",
      "Epoch 9/10\n",
      "10551/10551 [==============================] - 15s 1ms/step - loss: 0.4113 - binary_accuracy: 0.8112 - val_loss: 0.4105 - val_binary_accuracy: 0.8119\n",
      "Epoch 10/10\n",
      "10551/10551 [==============================] - 15s 1ms/step - loss: 0.4111 - binary_accuracy: 0.8115 - val_loss: 0.4097 - val_binary_accuracy: 0.8122\n",
      "2345/2345 [==============================] - 2s 975us/step\n",
      "Epoch 1/10\n",
      "10551/10551 [==============================] - 14s 1ms/step - loss: 0.4233 - binary_accuracy: 0.8059 - val_loss: 0.4159 - val_binary_accuracy: 0.8105\n",
      "Epoch 2/10\n",
      "10551/10551 [==============================] - 15s 1ms/step - loss: 0.4156 - binary_accuracy: 0.8091 - val_loss: 0.4140 - val_binary_accuracy: 0.8115\n",
      "Epoch 3/10\n",
      "10551/10551 [==============================] - 14s 1ms/step - loss: 0.4142 - binary_accuracy: 0.8101 - val_loss: 0.4113 - val_binary_accuracy: 0.8123\n",
      "Epoch 4/10\n",
      "10551/10551 [==============================] - 14s 1ms/step - loss: 0.4135 - binary_accuracy: 0.8101 - val_loss: 0.4114 - val_binary_accuracy: 0.8118\n",
      "Epoch 5/10\n",
      "10551/10551 [==============================] - 15s 1ms/step - loss: 0.4129 - binary_accuracy: 0.8106 - val_loss: 0.4107 - val_binary_accuracy: 0.8123\n",
      "Epoch 6/10\n",
      "10551/10551 [==============================] - 13s 1ms/step - loss: 0.4122 - binary_accuracy: 0.8110 - val_loss: 0.4104 - val_binary_accuracy: 0.8117\n",
      "Epoch 7/10\n",
      "10551/10551 [==============================] - 15s 1ms/step - loss: 0.4118 - binary_accuracy: 0.8113 - val_loss: 0.4106 - val_binary_accuracy: 0.8114\n",
      "Epoch 8/10\n",
      "10551/10551 [==============================] - 13s 1ms/step - loss: 0.4117 - binary_accuracy: 0.8112 - val_loss: 0.4102 - val_binary_accuracy: 0.8114\n",
      "Epoch 9/10\n",
      "10551/10551 [==============================] - 14s 1ms/step - loss: 0.4114 - binary_accuracy: 0.8112 - val_loss: 0.4105 - val_binary_accuracy: 0.8114\n",
      "Epoch 10/10\n",
      "10551/10551 [==============================] - 14s 1ms/step - loss: 0.4113 - binary_accuracy: 0.8113 - val_loss: 0.4098 - val_binary_accuracy: 0.8118\n",
      "2345/2345 [==============================] - 2s 940us/step\n",
      "Epoch 1/10\n",
      "10551/10551 [==============================] - 13s 1ms/step - loss: 0.4222 - binary_accuracy: 0.8062 - val_loss: 0.4158 - val_binary_accuracy: 0.8100\n",
      "Epoch 2/10\n",
      "10551/10551 [==============================] - 15s 1ms/step - loss: 0.4147 - binary_accuracy: 0.8098 - val_loss: 0.4135 - val_binary_accuracy: 0.8094\n",
      "Epoch 3/10\n",
      "10551/10551 [==============================] - 13s 1ms/step - loss: 0.4131 - binary_accuracy: 0.8103 - val_loss: 0.4126 - val_binary_accuracy: 0.8106\n",
      "Epoch 4/10\n",
      "10551/10551 [==============================] - 15s 1ms/step - loss: 0.4123 - binary_accuracy: 0.8107 - val_loss: 0.4120 - val_binary_accuracy: 0.8104\n",
      "Epoch 5/10\n",
      "10551/10551 [==============================] - 14s 1ms/step - loss: 0.4120 - binary_accuracy: 0.8107 - val_loss: 0.4111 - val_binary_accuracy: 0.8115\n",
      "Epoch 6/10\n",
      "10551/10551 [==============================] - 13s 1ms/step - loss: 0.4117 - binary_accuracy: 0.8108 - val_loss: 0.4111 - val_binary_accuracy: 0.8111\n",
      "Epoch 7/10\n",
      "10551/10551 [==============================] - 15s 1ms/step - loss: 0.4116 - binary_accuracy: 0.8111 - val_loss: 0.4107 - val_binary_accuracy: 0.8116\n",
      "Epoch 8/10\n",
      "10551/10551 [==============================] - 13s 1ms/step - loss: 0.4114 - binary_accuracy: 0.8112 - val_loss: 0.4101 - val_binary_accuracy: 0.8121\n",
      "Epoch 9/10\n",
      "10551/10551 [==============================] - 14s 1ms/step - loss: 0.4112 - binary_accuracy: 0.8114 - val_loss: 0.4099 - val_binary_accuracy: 0.8123\n",
      "Epoch 10/10\n",
      "10551/10551 [==============================] - 13s 1ms/step - loss: 0.4111 - binary_accuracy: 0.8113 - val_loss: 0.4096 - val_binary_accuracy: 0.8123\n",
      "2345/2345 [==============================] - 2s 931us/step\n",
      "Epoch 1/10\n",
      "10551/10551 [==============================] - 14s 1ms/step - loss: 0.4222 - binary_accuracy: 0.8061 - val_loss: 0.4142 - val_binary_accuracy: 0.8101\n",
      "Epoch 2/10\n",
      "10551/10551 [==============================] - 14s 1ms/step - loss: 0.4149 - binary_accuracy: 0.8094 - val_loss: 0.4134 - val_binary_accuracy: 0.8105\n",
      "Epoch 3/10\n",
      "10551/10551 [==============================] - 13s 1ms/step - loss: 0.4136 - binary_accuracy: 0.8103 - val_loss: 0.4119 - val_binary_accuracy: 0.8116\n",
      "Epoch 4/10\n",
      "10551/10551 [==============================] - 14s 1ms/step - loss: 0.4129 - binary_accuracy: 0.8108 - val_loss: 0.4111 - val_binary_accuracy: 0.8116\n",
      "Epoch 5/10\n",
      "10551/10551 [==============================] - 13s 1ms/step - loss: 0.4123 - binary_accuracy: 0.8108 - val_loss: 0.4109 - val_binary_accuracy: 0.8116\n",
      "Epoch 6/10\n",
      "10551/10551 [==============================] - 14s 1ms/step - loss: 0.4120 - binary_accuracy: 0.8110 - val_loss: 0.4104 - val_binary_accuracy: 0.8118\n",
      "Epoch 7/10\n",
      "10551/10551 [==============================] - 14s 1ms/step - loss: 0.4118 - binary_accuracy: 0.8109 - val_loss: 0.4110 - val_binary_accuracy: 0.8118\n",
      "Epoch 8/10\n",
      "10551/10551 [==============================] - 13s 1ms/step - loss: 0.4116 - binary_accuracy: 0.8109 - val_loss: 0.4106 - val_binary_accuracy: 0.8119\n",
      "Epoch 9/10\n",
      "10551/10551 [==============================] - 15s 1ms/step - loss: 0.4114 - binary_accuracy: 0.8112 - val_loss: 0.4110 - val_binary_accuracy: 0.8115\n",
      "Epoch 10/10\n",
      "10551/10551 [==============================] - 13s 1ms/step - loss: 0.4113 - binary_accuracy: 0.8112 - val_loss: 0.4097 - val_binary_accuracy: 0.8121\n",
      "2345/2345 [==============================] - 2s 962us/step\n",
      "Epoch 1/10\n",
      "10551/10551 [==============================] - 15s 1ms/step - loss: 0.4226 - binary_accuracy: 0.8063 - val_loss: 0.4148 - val_binary_accuracy: 0.8093\n",
      "Epoch 2/10\n",
      "10551/10551 [==============================] - 15s 1ms/step - loss: 0.4156 - binary_accuracy: 0.8090 - val_loss: 0.4131 - val_binary_accuracy: 0.8116\n",
      "Epoch 3/10\n",
      "10551/10551 [==============================] - 13s 1ms/step - loss: 0.4138 - binary_accuracy: 0.8101 - val_loss: 0.4117 - val_binary_accuracy: 0.8117\n",
      "Epoch 4/10\n",
      "10551/10551 [==============================] - 15s 1ms/step - loss: 0.4129 - binary_accuracy: 0.8108 - val_loss: 0.4115 - val_binary_accuracy: 0.8109\n",
      "Epoch 5/10\n",
      "10551/10551 [==============================] - 38496s 4s/step - loss: 0.4124 - binary_accuracy: 0.8107 - val_loss: 0.4114 - val_binary_accuracy: 0.8116\n",
      "Epoch 6/10\n",
      "10551/10551 [==============================] - 16s 2ms/step - loss: 0.4121 - binary_accuracy: 0.8108 - val_loss: 0.4104 - val_binary_accuracy: 0.8112\n",
      "Epoch 7/10\n",
      "10551/10551 [==============================] - 15s 1ms/step - loss: 0.4118 - binary_accuracy: 0.8110 - val_loss: 0.4106 - val_binary_accuracy: 0.8123\n",
      "Epoch 8/10\n",
      " 6156/10551 [================>.............] - ETA: 5s - loss: 0.4116 - binary_accuracy: 0.8112"
     ]
    }
   ],
   "source": [
    "# Define a function to create the model based on hyperparameters\n",
    "def create_model(optimizer='adam', neurons_layer1=64, neurons_layer2=64):\n",
    "    model = Sequential()    \n",
    "    model.add(keras.Input(shape=(X_train.shape[1],)))\n",
    "    model.add(Dense(neurons_layer1, activation='relu'))\n",
    "    model.add(Dense(neurons_layer2, activation='relu'))\n",
    "    model.add(Dense(2, activation='softmax'))\n",
    "    model.compile(optimizer=optimizer, loss=loss_fn, metrics=[metrics_fn])\n",
    "    return model\n",
    "\n",
    "# Wrap the create_model function with KerasClassifier\n",
    "keras_model = KerasClassifier(model=create_model, neurons_layer1=64, neurons_layer2=64, metrics=[metrics_fn])\n",
    "\n",
    "# Define the grid of hyperparameters to search\n",
    "param_grid = {\n",
    "    'neurons_layer1': [32, 64, 128],\n",
    "    'neurons_layer2': [32, 64, 128],\n",
    "    'optimizer': ['adam', 'rmsprop']\n",
    "}\n",
    "\n",
    "# Define F1 score as the metric\n",
    "f1_scorer = make_scorer(f1_score, average='micro')\n",
    "\n",
    "# Initialize GridSearchCV with F1 score as the metric\n",
    "grid = GridSearchCV(estimator=keras_model, param_grid=param_grid, cv=10, scoring=f1_scorer)\n",
    "# Perform grid search\n",
    "grid_result = grid.fit(X_train, y_train_one_hot, epochs=10, batch_size=64, validation_data=(X_val, y_val_one_hot), verbose=1)"
   ]
  },
  {
   "cell_type": "code",
   "execution_count": null,
   "id": "f1284f40f00ff475",
   "metadata": {
    "collapsed": false,
    "is_executing": true
   },
   "outputs": [],
   "source": [
    "# Display results\n",
    "print(\"- Best parameters found: \", grid_result.best_params_)\n",
    "print(\"\\n\")\n",
    "print(\"- Best F1 score found: \", round(grid_result.best_score_,2))"
   ]
  },
  {
   "cell_type": "markdown",
   "id": "fc11681d19ba8d8f",
   "metadata": {
    "collapsed": false
   },
   "source": [
    "#### Verification sur les données de test"
   ]
  },
  {
   "cell_type": "code",
   "execution_count": null,
   "id": "3d6c90b612924247",
   "metadata": {
    "collapsed": false,
    "is_executing": true
   },
   "outputs": [],
   "source": [
    "best_model = grid_result.best_estimator_\n",
    "\n",
    "# Faire des prédictions sur l'ensemble de test avec le meilleur modèle\n",
    "y_pred_best = best_model.predict(X_test)\n",
    "\n",
    "f1_best = f1_score(y_test_one_hot, y_pred_best, average='micro')\n",
    "\n",
    "# Afficher les résultats pour le meilleur modèle\n",
    "print(\"Best model performance:\")\n",
    "print(\"F1 Score:\", round(f1_best,3))"
   ]
  },
  {
   "cell_type": "markdown",
   "id": "a2c0eb23",
   "metadata": {},
   "source": [
    "### 2.b - Modèle SVM et score F1"
   ]
  },
  {
   "cell_type": "markdown",
   "id": "34f6afa7",
   "metadata": {},
   "source": [
    "On écrit une fonction qui permettra de chercher les hyperparamètres du modèle, en fonction du type de noyau choisi."
   ]
  },
  {
   "cell_type": "code",
   "execution_count": 72,
   "id": "90b56cff",
   "metadata": {
    "is_executing": true
   },
   "outputs": [],
   "source": [
    "# Recherche d'hyperpatamètres en fonction du noyau\n",
    "from sklearn.model_selection import GridSearchCV, StratifiedShuffleSplit\n",
    "\n",
    "def hyper_parameters_search(model, kernel, X_train, y_train):\n",
    "        if kernel == 'linear':\n",
    "            C_range = [1,10,100,1000]\n",
    "            param_grid = dict(C=C_range)\n",
    "            cv = StratifiedShuffleSplit(n_splits=5, test_size=0.2, random_state=42)\n",
    "            grid = GridSearchCV(model, param_grid=param_grid, cv=cv, scoring='accuracy')\n",
    "            grid.fit(X_train, y_train)\n",
    "            print(grid.best_score_, \" pour les hyperparamètres suivants, noyau RBF : \", grid.best_params_)\n",
    "            return grid.best_estimator_, grid.best_params_\n",
    "        elif kernel == 'rbf':\n",
    "            C_range = [1,10,100,1000]\n",
    "            gamma_range = [1,0.1,0.001,0.0001]\n",
    "            param_grid = dict(gamma=gamma_range, C=C_range)\n",
    "            cv = StratifiedShuffleSplit(n_splits=5, test_size=0.2, random_state=42)\n",
    "            grid = GridSearchCV(model, param_grid=param_grid, cv=cv, scoring='accuracy')\n",
    "            grid.fit(X_train, y_train)\n",
    "            print(grid.best_score_, \" pour les hyperparamètres suivants, noyau RBF : \", grid.best_params_)\n",
    "            return grid.best_estimator_, grid.best_params_\n",
    "        elif kernel == 'sigmoid':\n",
    "            coef0_range = [-5, -3, -1, -0.1, 0.0, 0.1, 1]\n",
    "            param_grid = dict(coef0=coef0_range)\n",
    "            cv = StratifiedShuffleSplit(n_splits=5, test_size=0.2, random_state=42)\n",
    "            grid = GridSearchCV(model, param_grid=param_grid, cv=cv, scoring='accuracy')\n",
    "            grid.fit(X_train, y_train)\n",
    "            print(grid.best_score_, \" pour les hyperparamètres suivants, noyau sigmoïde : \", grid.best_params_)\n",
    "            return grid.best_estimator_, grid.best_params_\n",
    "        elif kernel == 'poly':\n",
    "            coef0_range = [-5, -3, -1, -0.1, 0.0, 0.1, 1]\n",
    "            degree_range = [2, 3, 4, 5, 6, 7]\n",
    "            param_grid = dict(coef0=coef0_range, degree = degree_range)\n",
    "            cv = StratifiedShuffleSplit(n_splits=5, test_size=0.2, random_state=42)\n",
    "            grid = GridSearchCV(model, param_grid=param_grid, cv=cv, scoring='accuracy')\n",
    "            grid.fit(X_train, y_train)\n",
    "            print(grid.best_score_, \" pour les hyperparamètres suivants, noyau polynomial : \", grid.best_params_)\n",
    "            return grid.best_estimator_, grid.best_params_\n",
    "        print(\"Erreur recherche hyper-paramètres\")\n",
    "        return model     "
   ]
  },
  {
   "cell_type": "markdown",
   "id": "c7f63887",
   "metadata": {},
   "source": [
    "Pour chaque type de noyau, on entraine un modèle correspondant pour ensuite l'évaluer et chercher ses hyperparamètres. On enregistre ensuite ces données dans un fichier, à partir duquel on pourra récupérer le modèle entrainé"
   ]
  },
  {
   "cell_type": "code",
   "execution_count": 73,
   "id": "c3b5d898",
   "metadata": {
    "is_executing": true
   },
   "outputs": [
    {
     "name": "stdout",
     "output_type": "stream",
     "text": [
      "----- Modèle de noyau linear -----\n"
     ]
    }
   ],
   "source": [
    "from sklearn.svm import SVC\n",
    "from sklearn.metrics import confusion_matrix, f1_score\n",
    "import joblib\n",
    "\n",
    "kernel_values = ['linear', 'rbf', 'sigmoid', 'poly']\n",
    "for kernel in kernel_values :\n",
    "    print(f'----- Modèle de noyau {kernel} -----')\n",
    "    \n",
    "    svm_model = SVC(kernel=kernel)\n",
    "    svm_model.fit(X_train_scaled, y_train)\n",
    "    y_pred = svm_model.predict(X_test_scaled)\n",
    "    \n",
    "    # Évaluation du modèle    \n",
    "    conf_matrix = confusion_matrix(y_test, y_pred)\n",
    "    print(f'Matrice de confusion :')\n",
    "    print(conf_matrix)\n",
    "    \n",
    "    f1_svm = f1_score(y_test, y_pred)\n",
    "    print(f'Score F1 : {f1_svm}')\n",
    "    \n",
    "    # Recherche des hyperparamètres\n",
    "    best_svm_model, best_svm_param = hyper_parameters_search(svm_model, kernel, X_train=X_train_scaled, y_train=y_train)\n",
    "    best_svm_model.fit(X_train_scaled, y_train)\n",
    "    best_y_pred = best_svm_model.predict(X_test_scaled)\n",
    "\n",
    "    # Évaluation du meilleur\n",
    "    best_conf_matrix = confusion_matrix(y_test, best_y_pred)\n",
    "    print(f'Matrice de confusion')\n",
    "    print(best_conf_matrix)\n",
    "    \n",
    "    best_f1_svm = f1_score(y_test, best_y_pred)\n",
    "    print(f'Score F1 : {best_f1_svm}')\n",
    "    \n",
    "    # Sauvegarde du modèle et des hyperparamètres dans un fichier\n",
    "    joblib.dump(best_svm_model, f'modele_svm_{kernel}.pkl')\n",
    "    joblib.dump(best_svm_param, f'hyperparametres_svm_{kernel}.pkl')"
   ]
  },
  {
   "cell_type": "markdown",
   "id": "9c2241ca",
   "metadata": {},
   "source": [
    "On récupère les données précédemment enregistrées."
   ]
  },
  {
   "cell_type": "code",
   "execution_count": null,
   "id": "e6032677",
   "metadata": {
    "is_executing": true
   },
   "outputs": [],
   "source": [
    "# Chargement des modèle et des hyperparamètres à partir des fichiers sauvegardés\n",
    "kernel_values = ['linear', 'rbf', 'sigmoid', 'poly']\n",
    "for kernel in kernel_values :\n",
    "    modele_svm = joblib.load(f'modele_svm_{kernel}.pkl')\n",
    "    hyperparametres_svm = joblib.load(f'hyperparametres_svm_{kernel}.pkl')\n",
    "    print(f'Meilleurs paramètres du modèle SVM avec noyau de type {kernel} : {hyperparametres_svm}')"
   ]
  },
  {
   "cell_type": "markdown",
   "id": "7ac47b2e",
   "metadata": {},
   "source": [
    "## 3 - Conclusion"
   ]
  },
  {
   "cell_type": "markdown",
   "id": "8cf00072",
   "metadata": {},
   "source": [
    "### 3.a -\n",
    "\n"
   ]
  },
  {
   "cell_type": "markdown",
   "id": "cb9415c0",
   "metadata": {},
   "source": [
    "### 3.b -\n",
    "\n",
    "Les hyperparamètres utilisés pour le modèle SVM sont les suivants :\n",
    "\n",
    "- Pour le noyau linear :\n",
    "    - C : la valeur de pénalité du terme d'erreur.\n",
    "\n",
    "- Pour le noyau rbf :\n",
    "    - C : la valeur de pénalité du terme d'erreur.\n",
    "    - gamma : la valeur du coefficient du noyau RBF.\n",
    "\n",
    "- Pour le noyau sigmoid :\n",
    "    - coef0 : la valeur de l'ordonnée à l'origine dans le noyau sigmoïde.\n",
    "\n",
    "- Pour le noyau poly :\n",
    "    - coef0 : la valeur de l'ordonnée à l'origine dans le noyau polynomial.\n",
    "    - degree : la valeur du degré du noyau polynomial."
   ]
  },
  {
   "cell_type": "markdown",
   "id": "e17e164f",
   "metadata": {},
   "source": [
    "### 3.c -"
   ]
  },
  {
   "cell_type": "markdown",
   "id": "996592ea",
   "metadata": {},
   "source": [
    "### 3.d -\n",
    "\n",
    "Le score F1 est très bon, il est proche de 1. Cela signifie que le modèle a bien été entrainé et que ses capacités de prédiction sont satisfaisantes."
   ]
  }
 ],
 "metadata": {
  "kernelspec": {
   "display_name": "Python 3 (ipykernel)",
   "language": "python",
   "name": "python3"
  },
  "language_info": {
   "codemirror_mode": {
    "name": "ipython",
    "version": 3
   },
   "file_extension": ".py",
   "mimetype": "text/x-python",
   "name": "python",
   "nbconvert_exporter": "python",
   "pygments_lexer": "ipython3",
   "version": "3.11.9"
  }
 },
 "nbformat": 4,
 "nbformat_minor": 5
}

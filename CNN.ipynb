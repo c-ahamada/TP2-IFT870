{
 "cells": [
  {
   "cell_type": "code",
   "execution_count": 68,
   "outputs": [],
   "source": [
    "import keras\n",
    "import pandas as pd\n",
    "from sklearn.model_selection import train_test_split\n",
    "\n",
    "import numpy as np\n",
    "from sklearn.model_selection import GridSearchCV\n",
    "from sklearn.metrics import make_scorer, f1_score\n",
    "from keras.models import Sequential\n",
    "from keras.layers import Dense, Activation\n",
    "from scikeras.wrappers import KerasClassifier\n",
    "from tqdm import tqdm"
   ],
   "metadata": {
    "collapsed": false,
    "ExecuteTime": {
     "end_time": "2024-04-04T21:43:19.539263778Z",
     "start_time": "2024-04-04T21:43:19.489196522Z"
    }
   },
   "id": "99e205d56b927c92"
  },
  {
   "cell_type": "code",
   "execution_count": 69,
   "outputs": [],
   "source": [
    "# Lecture des données\n",
    "orders_distance_stores_softmax = pd.read_csv(\"données/orders_distance_stores_softmax.csv\", index_col=0)\n",
    "orders_products_prior_specials = pd.read_csv(\"données/order_products__prior_specials.csv\", index_col=0)"
   ],
   "metadata": {
    "collapsed": false,
    "ExecuteTime": {
     "end_time": "2024-04-04T21:43:20.036771241Z",
     "start_time": "2024-04-04T21:43:19.533752304Z"
    }
   },
   "id": "e8cdbc909d8a429a"
  },
  {
   "cell_type": "code",
   "execution_count": 70,
   "id": "initial_id",
   "metadata": {
    "collapsed": true,
    "ExecuteTime": {
     "end_time": "2024-04-04T21:43:20.520303791Z",
     "start_time": "2024-04-04T21:43:19.994846662Z"
    }
   },
   "outputs": [],
   "source": [
    "orders = pd.merge(orders_distance_stores_softmax, orders_products_prior_specials, on='order_id', how='inner')"
   ]
  },
  {
   "cell_type": "code",
   "execution_count": 71,
   "outputs": [
    {
     "data": {
      "text/plain": "Index(['user_id', 'store_id', 'distance', 'order_id', 'eval_set',\n       'order_number', 'order_dow', 'order_hour_of_day',\n       'days_since_prior_order', 'product_id', 'add_to_cart_order',\n       'reordered', 'special'],\n      dtype='object')"
     },
     "execution_count": 71,
     "metadata": {},
     "output_type": "execute_result"
    }
   ],
   "source": [
    "#show columns with their types\n",
    "orders.columns"
   ],
   "metadata": {
    "collapsed": false,
    "ExecuteTime": {
     "end_time": "2024-04-04T21:43:20.529611868Z",
     "start_time": "2024-04-04T21:43:20.523914444Z"
    }
   },
   "id": "6f8d8340dda20b26"
  },
  {
   "cell_type": "code",
   "execution_count": 72,
   "outputs": [],
   "source": [
    "orders = orders.sample(frac=0.05, random_state=42)"
   ],
   "metadata": {
    "collapsed": false,
    "ExecuteTime": {
     "end_time": "2024-04-04T21:43:20.605023224Z",
     "start_time": "2024-04-04T21:43:20.533510923Z"
    }
   },
   "id": "ea72ac611097761c"
  },
  {
   "cell_type": "code",
   "execution_count": 73,
   "outputs": [
    {
     "data": {
      "text/plain": "         user_id  store_id  distance  order_id eval_set  order_number  \\\n86058      12166         3  2.772836    243435    prior            88   \n1170067   205543         9  0.386416   1425899    prior            22   \n852677    148902         0  0.349984   1455360    prior            36   \n346398     59106         9  1.040265   2683498    prior            83   \n1045727   182401         1  0.804848   2474304    prior            86   \n\n         order_dow  order_hour_of_day  days_since_prior_order  product_id  \\\n86058            0                 13                    21.0       48290   \n1170067          6                  9                     0.0        3481   \n852677           4                 18                     4.0       41720   \n346398           2                 17                     3.0        5876   \n1045727          5                 14                     5.0        4562   \n\n         add_to_cart_order  reordered  special  \n86058                   10          1        0  \n1170067                  6          1        0  \n852677                   8          1       30  \n346398                   5          1        0  \n1045727                 15          1       15  ",
      "text/html": "<div>\n<style scoped>\n    .dataframe tbody tr th:only-of-type {\n        vertical-align: middle;\n    }\n\n    .dataframe tbody tr th {\n        vertical-align: top;\n    }\n\n    .dataframe thead th {\n        text-align: right;\n    }\n</style>\n<table border=\"1\" class=\"dataframe\">\n  <thead>\n    <tr style=\"text-align: right;\">\n      <th></th>\n      <th>user_id</th>\n      <th>store_id</th>\n      <th>distance</th>\n      <th>order_id</th>\n      <th>eval_set</th>\n      <th>order_number</th>\n      <th>order_dow</th>\n      <th>order_hour_of_day</th>\n      <th>days_since_prior_order</th>\n      <th>product_id</th>\n      <th>add_to_cart_order</th>\n      <th>reordered</th>\n      <th>special</th>\n    </tr>\n  </thead>\n  <tbody>\n    <tr>\n      <th>86058</th>\n      <td>12166</td>\n      <td>3</td>\n      <td>2.772836</td>\n      <td>243435</td>\n      <td>prior</td>\n      <td>88</td>\n      <td>0</td>\n      <td>13</td>\n      <td>21.0</td>\n      <td>48290</td>\n      <td>10</td>\n      <td>1</td>\n      <td>0</td>\n    </tr>\n    <tr>\n      <th>1170067</th>\n      <td>205543</td>\n      <td>9</td>\n      <td>0.386416</td>\n      <td>1425899</td>\n      <td>prior</td>\n      <td>22</td>\n      <td>6</td>\n      <td>9</td>\n      <td>0.0</td>\n      <td>3481</td>\n      <td>6</td>\n      <td>1</td>\n      <td>0</td>\n    </tr>\n    <tr>\n      <th>852677</th>\n      <td>148902</td>\n      <td>0</td>\n      <td>0.349984</td>\n      <td>1455360</td>\n      <td>prior</td>\n      <td>36</td>\n      <td>4</td>\n      <td>18</td>\n      <td>4.0</td>\n      <td>41720</td>\n      <td>8</td>\n      <td>1</td>\n      <td>30</td>\n    </tr>\n    <tr>\n      <th>346398</th>\n      <td>59106</td>\n      <td>9</td>\n      <td>1.040265</td>\n      <td>2683498</td>\n      <td>prior</td>\n      <td>83</td>\n      <td>2</td>\n      <td>17</td>\n      <td>3.0</td>\n      <td>5876</td>\n      <td>5</td>\n      <td>1</td>\n      <td>0</td>\n    </tr>\n    <tr>\n      <th>1045727</th>\n      <td>182401</td>\n      <td>1</td>\n      <td>0.804848</td>\n      <td>2474304</td>\n      <td>prior</td>\n      <td>86</td>\n      <td>5</td>\n      <td>14</td>\n      <td>5.0</td>\n      <td>4562</td>\n      <td>15</td>\n      <td>1</td>\n      <td>15</td>\n    </tr>\n  </tbody>\n</table>\n</div>"
     },
     "execution_count": 73,
     "metadata": {},
     "output_type": "execute_result"
    }
   ],
   "source": [
    "#show the first 5 rows\n",
    "orders.head()"
   ],
   "metadata": {
    "collapsed": false,
    "ExecuteTime": {
     "end_time": "2024-04-04T21:43:20.617310755Z",
     "start_time": "2024-04-04T21:43:20.613283984Z"
    }
   },
   "id": "5f9621d7496691ac"
  },
  {
   "cell_type": "code",
   "execution_count": 74,
   "outputs": [],
   "source": [
    "#TO REDO\n",
    "orders.dropna(inplace=True)\n",
    "# drop the eval_set column\n",
    "orders.drop(columns=['eval_set'], inplace=True)"
   ],
   "metadata": {
    "collapsed": false,
    "ExecuteTime": {
     "end_time": "2024-04-04T21:43:20.679229578Z",
     "start_time": "2024-04-04T21:43:20.619385432Z"
    }
   },
   "id": "57d3d28e1d980ae"
  },
  {
   "cell_type": "code",
   "execution_count": 75,
   "outputs": [
    {
     "name": "stdout",
     "output_type": "stream",
     "text": [
      "Shape of X_train: (37072, 11)\n",
      "Shape of X_val: (9269, 11)\n",
      "Shape of X_test: (11586, 11)\n"
     ]
    }
   ],
   "source": [
    "# Charger vos données depuis votre DataFrame\n",
    "# Assumons que votre DataFrame est nommé \"data\"\n",
    "\n",
    "# Séparer les fonctionnalités (X) de la cible (y)\n",
    "X = orders.drop(columns=['reordered'])\n",
    "y = orders['reordered']\n",
    "\n",
    "# Diviser l'ensemble de données en ensembles d'entraînement et de test\n",
    "X_train, X_test, y_train, y_test = train_test_split(X, y, test_size=0.2, random_state=42)\n",
    "\n",
    "# Diviser l'ensemble d'entraînement en ensembles d'entraînement et de validation\n",
    "X_train, X_val, y_train, y_val = train_test_split(X_train, y_train, test_size=0.2, random_state=42)\n",
    "\n",
    "# Vérifier les formes des ensembles créés\n",
    "print(\"Shape of X_train:\", X_train.shape)\n",
    "print(\"Shape of X_val:\", X_val.shape)\n",
    "print(\"Shape of X_test:\", X_test.shape)"
   ],
   "metadata": {
    "collapsed": false,
    "ExecuteTime": {
     "end_time": "2024-04-04T21:43:20.728957185Z",
     "start_time": "2024-04-04T21:43:20.646631672Z"
    }
   },
   "id": "2cca43413c784d53"
  },
  {
   "cell_type": "code",
   "execution_count": 76,
   "outputs": [
    {
     "data": {
      "text/plain": "array([[1., 0.],\n       [0., 1.],\n       [0., 1.],\n       ...,\n       [1., 0.],\n       [0., 1.],\n       [0., 1.]])"
     },
     "execution_count": 76,
     "metadata": {},
     "output_type": "execute_result"
    }
   ],
   "source": [
    "from keras.utils import to_categorical\n",
    "\n",
    "# Assuming y_train and y_test are your target labels\n",
    "# Convert them to one-hot encoded vectors\n",
    "y_train_one_hot = to_categorical(y_train)\n",
    "y_test_one_hot = to_categorical(y_test)\n",
    "y_val_one_hot = to_categorical(y_val)\n",
    "\n",
    "y_train_one_hot"
   ],
   "metadata": {
    "collapsed": false,
    "ExecuteTime": {
     "end_time": "2024-04-04T21:43:20.729293265Z",
     "start_time": "2024-04-04T21:43:20.689984520Z"
    }
   },
   "id": "551df5898f8fb88"
  },
  {
   "cell_type": "code",
   "execution_count": 77,
   "outputs": [],
   "source": [
    "loss_fn = keras.losses.CategoricalCrossentropy()\n",
    "metrics_fn = keras.metrics.BinaryAccuracy()"
   ],
   "metadata": {
    "collapsed": false,
    "ExecuteTime": {
     "end_time": "2024-04-04T21:43:20.729416705Z",
     "start_time": "2024-04-04T21:43:20.690315175Z"
    }
   },
   "id": "d527b722c7ac8053"
  },
  {
   "cell_type": "code",
   "execution_count": 78,
   "outputs": [
    {
     "name": "stdout",
     "output_type": "stream",
     "text": [
      "\u001B[1m387/387\u001B[0m \u001B[32m━━━━━━━━━━━━━━━━━━━━\u001B[0m\u001B[37m\u001B[0m \u001B[1m1s\u001B[0m 956us/step - binary_accuracy: 0.6506 - loss: 4052.6028 - val_binary_accuracy: 0.7782 - val_loss: 862.7466\n",
      "\u001B[1m387/387\u001B[0m \u001B[32m━━━━━━━━━━━━━━━━━━━━\u001B[0m\u001B[37m\u001B[0m \u001B[1m1s\u001B[0m 870us/step - binary_accuracy: 0.7111 - loss: 10705.0811 - val_binary_accuracy: 0.7812 - val_loss: 1654.4484\n",
      "\u001B[1m387/387\u001B[0m \u001B[32m━━━━━━━━━━━━━━━━━━━━\u001B[0m\u001B[37m\u001B[0m \u001B[1m1s\u001B[0m 892us/step - binary_accuracy: 0.7240 - loss: 3442.7368 - val_binary_accuracy: 0.7790 - val_loss: 1846.7892\n",
      "\u001B[1m387/387\u001B[0m \u001B[32m━━━━━━━━━━━━━━━━━━━━\u001B[0m\u001B[37m\u001B[0m \u001B[1m1s\u001B[0m 935us/step - binary_accuracy: 0.7268 - loss: 2397.4236 - val_binary_accuracy: 0.7809 - val_loss: 213.5937\n",
      "\u001B[1m387/387\u001B[0m \u001B[32m━━━━━━━━━━━━━━━━━━━━\u001B[0m\u001B[37m\u001B[0m \u001B[1m1s\u001B[0m 876us/step - binary_accuracy: 0.7015 - loss: 35494.7812 - val_binary_accuracy: 0.2578 - val_loss: 1503.4398\n",
      "\u001B[1m387/387\u001B[0m \u001B[32m━━━━━━━━━━━━━━━━━━━━\u001B[0m\u001B[37m\u001B[0m \u001B[1m2s\u001B[0m 1ms/step - binary_accuracy: 0.4505 - loss: 23005.2656 - val_binary_accuracy: 0.2351 - val_loss: 2015.8834\n",
      "\u001B[1m387/387\u001B[0m \u001B[32m━━━━━━━━━━━━━━━━━━━━\u001B[0m\u001B[37m\u001B[0m \u001B[1m1s\u001B[0m 970us/step - binary_accuracy: 0.4538 - loss: 21442.7793 - val_binary_accuracy: 0.2443 - val_loss: 6305.0503\n",
      "\u001B[1m387/387\u001B[0m \u001B[32m━━━━━━━━━━━━━━━━━━━━\u001B[0m\u001B[37m\u001B[0m \u001B[1m1s\u001B[0m 958us/step - binary_accuracy: 0.4572 - loss: 5448.1641 - val_binary_accuracy: 0.7843 - val_loss: 3153.9170\n",
      "\u001B[1m387/387\u001B[0m \u001B[32m━━━━━━━━━━━━━━━━━━━━\u001B[0m\u001B[37m\u001B[0m \u001B[1m1s\u001B[0m 954us/step - binary_accuracy: 0.7213 - loss: 24767.6230 - val_binary_accuracy: 0.7808 - val_loss: 2676.1477\n",
      "\u001B[1m387/387\u001B[0m \u001B[32m━━━━━━━━━━━━━━━━━━━━\u001B[0m\u001B[37m\u001B[0m \u001B[1m1s\u001B[0m 921us/step - binary_accuracy: 0.7218 - loss: 17507.6406 - val_binary_accuracy: 0.7841 - val_loss: 2447.6157\n",
      "\u001B[1m387/387\u001B[0m \u001B[32m━━━━━━━━━━━━━━━━━━━━\u001B[0m\u001B[37m\u001B[0m \u001B[1m1s\u001B[0m 896us/step - binary_accuracy: 0.7270 - loss: 8081.1772 - val_binary_accuracy: 0.7625 - val_loss: 1050.0121\n",
      "\u001B[1m387/387\u001B[0m \u001B[32m━━━━━━━━━━━━━━━━━━━━\u001B[0m\u001B[37m\u001B[0m \u001B[1m1s\u001B[0m 929us/step - binary_accuracy: 0.6996 - loss: 54793.5430 - val_binary_accuracy: 0.4164 - val_loss: 354.8055\n",
      "\u001B[1m387/387\u001B[0m \u001B[32m━━━━━━━━━━━━━━━━━━━━\u001B[0m\u001B[37m\u001B[0m \u001B[1m1s\u001B[0m 908us/step - binary_accuracy: 0.5394 - loss: 5174.7915 - val_binary_accuracy: 0.2156 - val_loss: 7757.2329\n",
      "\u001B[1m387/387\u001B[0m \u001B[32m━━━━━━━━━━━━━━━━━━━━\u001B[0m\u001B[37m\u001B[0m \u001B[1m1s\u001B[0m 912us/step - binary_accuracy: 0.4403 - loss: 5420.6782 - val_binary_accuracy: 0.7759 - val_loss: 2531.4255\n",
      "\u001B[1m387/387\u001B[0m \u001B[32m━━━━━━━━━━━━━━━━━━━━\u001B[0m\u001B[37m\u001B[0m \u001B[1m1s\u001B[0m 903us/step - binary_accuracy: 0.7116 - loss: 19543.9102 - val_binary_accuracy: 0.7817 - val_loss: 2086.4041\n",
      "\u001B[1m387/387\u001B[0m \u001B[32m━━━━━━━━━━━━━━━━━━━━\u001B[0m\u001B[37m\u001B[0m \u001B[1m1s\u001B[0m 920us/step - binary_accuracy: 0.7170 - loss: 14342.0654 - val_binary_accuracy: 0.2464 - val_loss: 4208.1450\n",
      "\u001B[1m387/387\u001B[0m \u001B[32m━━━━━━━━━━━━━━━━━━━━\u001B[0m\u001B[37m\u001B[0m \u001B[1m1s\u001B[0m 944us/step - binary_accuracy: 0.4653 - loss: 5650.4536 - val_binary_accuracy: 0.2438 - val_loss: 7220.9331\n",
      "\u001B[1m387/387\u001B[0m \u001B[32m━━━━━━━━━━━━━━━━━━━━\u001B[0m\u001B[37m\u001B[0m \u001B[1m1s\u001B[0m 972us/step - binary_accuracy: 0.4573 - loss: 9701.7061 - val_binary_accuracy: 0.7849 - val_loss: 3139.6887\n",
      "\u001B[1m387/387\u001B[0m \u001B[32m━━━━━━━━━━━━━━━━━━━━\u001B[0m\u001B[37m\u001B[0m \u001B[1m2s\u001B[0m 1ms/step - binary_accuracy: 0.7204 - loss: 2972.8870 - val_binary_accuracy: 0.7847 - val_loss: 4749.5747\n",
      "\u001B[1m387/387\u001B[0m \u001B[32m━━━━━━━━━━━━━━━━━━━━\u001B[0m\u001B[37m\u001B[0m \u001B[1m1s\u001B[0m 1ms/step - binary_accuracy: 0.7178 - loss: 3364.9612 - val_binary_accuracy: 0.7766 - val_loss: 3404.8682\n",
      "\u001B[1m387/387\u001B[0m \u001B[32m━━━━━━━━━━━━━━━━━━━━\u001B[0m\u001B[37m\u001B[0m \u001B[1m1s\u001B[0m 975us/step - binary_accuracy: 0.7186 - loss: 5602.8691 - val_binary_accuracy: 0.7825 - val_loss: 2935.7876\n",
      "\u001B[1m387/387\u001B[0m \u001B[32m━━━━━━━━━━━━━━━━━━━━\u001B[0m\u001B[37m\u001B[0m \u001B[1m1s\u001B[0m 909us/step - binary_accuracy: 0.7148 - loss: 3450.3599 - val_binary_accuracy: 0.7807 - val_loss: 2056.9092\n",
      "\u001B[1m387/387\u001B[0m \u001B[32m━━━━━━━━━━━━━━━━━━━━\u001B[0m\u001B[37m\u001B[0m \u001B[1m1s\u001B[0m 970us/step - binary_accuracy: 0.7137 - loss: 14456.8418 - val_binary_accuracy: 0.7844 - val_loss: 6877.5718\n",
      "\u001B[1m387/387\u001B[0m \u001B[32m━━━━━━━━━━━━━━━━━━━━\u001B[0m\u001B[37m\u001B[0m \u001B[1m1s\u001B[0m 944us/step - binary_accuracy: 0.7140 - loss: 17250.3965 - val_binary_accuracy: 0.7823 - val_loss: 1351.4875\n",
      "\u001B[1m387/387\u001B[0m \u001B[32m━━━━━━━━━━━━━━━━━━━━\u001B[0m\u001B[37m\u001B[0m \u001B[1m1s\u001B[0m 964us/step - binary_accuracy: 0.7221 - loss: 9246.6553 - val_binary_accuracy: 0.2224 - val_loss: 5915.3364\n",
      "\u001B[1m387/387\u001B[0m \u001B[32m━━━━━━━━━━━━━━━━━━━━\u001B[0m\u001B[37m\u001B[0m \u001B[1m1s\u001B[0m 947us/step - binary_accuracy: 0.4487 - loss: 9733.1553 - val_binary_accuracy: 0.7844 - val_loss: 5315.0908\n",
      "\u001B[1m387/387\u001B[0m \u001B[32m━━━━━━━━━━━━━━━━━━━━\u001B[0m\u001B[37m\u001B[0m \u001B[1m1s\u001B[0m 947us/step - binary_accuracy: 0.7212 - loss: 4081.2908 - val_binary_accuracy: 0.6322 - val_loss: 151.8662\n",
      "\u001B[1m387/387\u001B[0m \u001B[32m━━━━━━━━━━━━━━━━━━━━\u001B[0m\u001B[37m\u001B[0m \u001B[1m1s\u001B[0m 970us/step - binary_accuracy: 0.6468 - loss: 30423.2402 - val_binary_accuracy: 0.7841 - val_loss: 3870.2505\n",
      "\u001B[1m387/387\u001B[0m \u001B[32m━━━━━━━━━━━━━━━━━━━━\u001B[0m\u001B[37m\u001B[0m \u001B[1m1s\u001B[0m 984us/step - binary_accuracy: 0.7160 - loss: 22915.6211 - val_binary_accuracy: 0.7765 - val_loss: 712.7448\n",
      "\u001B[1m387/387\u001B[0m \u001B[32m━━━━━━━━━━━━━━━━━━━━\u001B[0m\u001B[37m\u001B[0m \u001B[1m1s\u001B[0m 935us/step - binary_accuracy: 0.7190 - loss: 5234.8569 - val_binary_accuracy: 0.7734 - val_loss: 2233.4287\n",
      "\u001B[1m387/387\u001B[0m \u001B[32m━━━━━━━━━━━━━━━━━━━━\u001B[0m\u001B[37m\u001B[0m \u001B[1m1s\u001B[0m 2ms/step - binary_accuracy: 0.7109 - loss: 9353.4551 - val_binary_accuracy: 0.7849 - val_loss: 5801.0513\n",
      "\u001B[1m387/387\u001B[0m \u001B[32m━━━━━━━━━━━━━━━━━━━━\u001B[0m\u001B[37m\u001B[0m \u001B[1m1s\u001B[0m 1ms/step - binary_accuracy: 0.7225 - loss: 7537.0312 - val_binary_accuracy: 0.3887 - val_loss: 823.8824\n",
      "\u001B[1m387/387\u001B[0m \u001B[32m━━━━━━━━━━━━━━━━━━━━\u001B[0m\u001B[37m\u001B[0m \u001B[1m1s\u001B[0m 1ms/step - binary_accuracy: 0.5352 - loss: 6200.9536 - val_binary_accuracy: 0.7849 - val_loss: 11494.6777\n",
      "\u001B[1m387/387\u001B[0m \u001B[32m━━━━━━━━━━━━━━━━━━━━\u001B[0m\u001B[37m\u001B[0m \u001B[1m1s\u001B[0m 955us/step - binary_accuracy: 0.7224 - loss: 7654.9399 - val_binary_accuracy: 0.7849 - val_loss: 4638.6909\n",
      "\u001B[1m387/387\u001B[0m \u001B[32m━━━━━━━━━━━━━━━━━━━━\u001B[0m\u001B[37m\u001B[0m \u001B[1m1s\u001B[0m 937us/step - binary_accuracy: 0.7183 - loss: 4857.8623 - val_binary_accuracy: 0.7756 - val_loss: 7818.6904\n",
      "\u001B[1m387/387\u001B[0m \u001B[32m━━━━━━━━━━━━━━━━━━━━\u001B[0m\u001B[37m\u001B[0m \u001B[1m1s\u001B[0m 997us/step - binary_accuracy: 0.7161 - loss: 12557.2559 - val_binary_accuracy: 0.7841 - val_loss: 8305.1621\n",
      "\u001B[1m387/387\u001B[0m \u001B[32m━━━━━━━━━━━━━━━━━━━━\u001B[0m\u001B[37m\u001B[0m \u001B[1m1s\u001B[0m 948us/step - binary_accuracy: 0.7165 - loss: 8087.9478 - val_binary_accuracy: 0.2276 - val_loss: 3308.5664\n",
      "\u001B[1m387/387\u001B[0m \u001B[32m━━━━━━━━━━━━━━━━━━━━\u001B[0m\u001B[37m\u001B[0m \u001B[1m1s\u001B[0m 929us/step - binary_accuracy: 0.4497 - loss: 6816.9956 - val_binary_accuracy: 0.7819 - val_loss: 1599.3673\n",
      "\u001B[1m387/387\u001B[0m \u001B[32m━━━━━━━━━━━━━━━━━━━━\u001B[0m\u001B[37m\u001B[0m \u001B[1m1s\u001B[0m 938us/step - binary_accuracy: 0.7185 - loss: 5541.9790 - val_binary_accuracy: 0.7849 - val_loss: 14524.9639\n",
      "\u001B[1m387/387\u001B[0m \u001B[32m━━━━━━━━━━━━━━━━━━━━\u001B[0m\u001B[37m\u001B[0m \u001B[1m1s\u001B[0m 974us/step - binary_accuracy: 0.7234 - loss: 5680.5454 - val_binary_accuracy: 0.3815 - val_loss: 1299.2954\n",
      "\u001B[1m387/387\u001B[0m \u001B[32m━━━━━━━━━━━━━━━━━━━━\u001B[0m\u001B[37m\u001B[0m \u001B[1m1s\u001B[0m 973us/step - binary_accuracy: 0.5270 - loss: 4225.6982 - val_binary_accuracy: 0.7846 - val_loss: 1054.3358\n",
      "\u001B[1m387/387\u001B[0m \u001B[32m━━━━━━━━━━━━━━━━━━━━\u001B[0m\u001B[37m\u001B[0m \u001B[1m1s\u001B[0m 984us/step - binary_accuracy: 0.7186 - loss: 13678.4746 - val_binary_accuracy: 0.2184 - val_loss: 7977.1084\n",
      "\u001B[1m387/387\u001B[0m \u001B[32m━━━━━━━━━━━━━━━━━━━━\u001B[0m\u001B[37m\u001B[0m \u001B[1m1s\u001B[0m 935us/step - binary_accuracy: 0.4482 - loss: 6456.2119 - val_binary_accuracy: 0.7849 - val_loss: 3491.9233\n",
      "\u001B[1m387/387\u001B[0m \u001B[32m━━━━━━━━━━━━━━━━━━━━\u001B[0m\u001B[37m\u001B[0m \u001B[1m2s\u001B[0m 1ms/step - binary_accuracy: 0.7190 - loss: 9558.6533 - val_binary_accuracy: 0.7721 - val_loss: 619.8240\n",
      "\u001B[1m387/387\u001B[0m \u001B[32m━━━━━━━━━━━━━━━━━━━━\u001B[0m\u001B[37m\u001B[0m \u001B[1m1s\u001B[0m 1ms/step - binary_accuracy: 0.7157 - loss: 21072.1445 - val_binary_accuracy: 0.7849 - val_loss: 7140.9678\n",
      "\u001B[1m387/387\u001B[0m \u001B[32m━━━━━━━━━━━━━━━━━━━━\u001B[0m\u001B[37m\u001B[0m \u001B[1m1s\u001B[0m 1ms/step - binary_accuracy: 0.7221 - loss: 8665.9492 - val_binary_accuracy: 0.7848 - val_loss: 3185.3987\n",
      "\u001B[1m387/387\u001B[0m \u001B[32m━━━━━━━━━━━━━━━━━━━━\u001B[0m\u001B[37m\u001B[0m \u001B[1m1s\u001B[0m 958us/step - binary_accuracy: 0.7246 - loss: 4549.6157 - val_binary_accuracy: 0.2436 - val_loss: 3339.6877\n",
      "\u001B[1m387/387\u001B[0m \u001B[32m━━━━━━━━━━━━━━━━━━━━\u001B[0m\u001B[37m\u001B[0m \u001B[1m1s\u001B[0m 948us/step - binary_accuracy: 0.4594 - loss: 6403.5864 - val_binary_accuracy: 0.2307 - val_loss: 12250.2910\n",
      "\u001B[1m387/387\u001B[0m \u001B[32m━━━━━━━━━━━━━━━━━━━━\u001B[0m\u001B[37m\u001B[0m \u001B[1m1s\u001B[0m 990us/step - binary_accuracy: 0.4565 - loss: 8960.9004 - val_binary_accuracy: 0.7844 - val_loss: 14000.7725\n",
      "\u001B[1m387/387\u001B[0m \u001B[32m━━━━━━━━━━━━━━━━━━━━\u001B[0m\u001B[37m\u001B[0m \u001B[1m1s\u001B[0m 1ms/step - binary_accuracy: 0.7207 - loss: 11237.4004 - val_binary_accuracy: 0.2411 - val_loss: 4334.5098\n",
      "\u001B[1m387/387\u001B[0m \u001B[32m━━━━━━━━━━━━━━━━━━━━\u001B[0m\u001B[37m\u001B[0m \u001B[1m1s\u001B[0m 1ms/step - binary_accuracy: 0.4527 - loss: 7837.9673 - val_binary_accuracy: 0.7849 - val_loss: 14404.7168\n",
      "\u001B[1m387/387\u001B[0m \u001B[32m━━━━━━━━━━━━━━━━━━━━\u001B[0m\u001B[37m\u001B[0m \u001B[1m1s\u001B[0m 1ms/step - binary_accuracy: 0.7211 - loss: 10699.6123 - val_binary_accuracy: 0.7740 - val_loss: 2626.8943\n",
      "\u001B[1m387/387\u001B[0m \u001B[32m━━━━━━━━━━━━━━━━━━━━\u001B[0m\u001B[37m\u001B[0m \u001B[1m1s\u001B[0m 1ms/step - binary_accuracy: 0.7165 - loss: 14498.1895 - val_binary_accuracy: 0.7846 - val_loss: 11466.5801\n",
      "\u001B[1m387/387\u001B[0m \u001B[32m━━━━━━━━━━━━━━━━━━━━\u001B[0m\u001B[37m\u001B[0m \u001B[1m1s\u001B[0m 910us/step - binary_accuracy: 0.7256 - loss: 12555.3584 - val_binary_accuracy: 0.7849 - val_loss: 5678.6748\n"
     ]
    },
    {
     "ename": "ValueError",
     "evalue": "\nAll the 54 fits failed.\nIt is very likely that your model is misconfigured.\nYou can try to debug the error by setting error_score='raise'.\n\nBelow are more details about the failures:\n--------------------------------------------------------------------------------\n54 fits failed with the following error:\nTraceback (most recent call last):\n  File \"/home/local/USHERBROOKE/khao1201/PycharmProjects/TP2-IFT870/venv/lib/python3.10/site-packages/sklearn/model_selection/_validation.py\", line 895, in _fit_and_score\n    estimator.fit(X_train, y_train, **fit_params)\n  File \"/home/local/USHERBROOKE/khao1201/PycharmProjects/TP2-IFT870/venv/lib/python3.10/site-packages/scikeras/wrappers.py\", line 1491, in fit\n    super().fit(X=X, y=y, sample_weight=sample_weight, **kwargs)\n  File \"/home/local/USHERBROOKE/khao1201/PycharmProjects/TP2-IFT870/venv/lib/python3.10/site-packages/scikeras/wrappers.py\", line 760, in fit\n    self._fit(\n  File \"/home/local/USHERBROOKE/khao1201/PycharmProjects/TP2-IFT870/venv/lib/python3.10/site-packages/scikeras/wrappers.py\", line 928, in _fit\n    self._fit_keras_model(\n  File \"/home/local/USHERBROOKE/khao1201/PycharmProjects/TP2-IFT870/venv/lib/python3.10/site-packages/scikeras/wrappers.py\", line 536, in _fit_keras_model\n    raise e\n  File \"/home/local/USHERBROOKE/khao1201/PycharmProjects/TP2-IFT870/venv/lib/python3.10/site-packages/scikeras/wrappers.py\", line 531, in _fit_keras_model\n    key = metric_name(key)\n  File \"/home/local/USHERBROOKE/khao1201/PycharmProjects/TP2-IFT870/venv/lib/python3.10/site-packages/scikeras/utils/__init__.py\", line 111, in metric_name\n    fn_or_cls = keras_metric_get(metric)\n  File \"/home/local/USHERBROOKE/khao1201/PycharmProjects/TP2-IFT870/venv/lib/python3.10/site-packages/keras/src/metrics/__init__.py\", line 204, in get\nValueError: Could not interpret metric identifier: loss\n",
     "output_type": "error",
     "traceback": [
      "\u001B[0;31m---------------------------------------------------------------------------\u001B[0m",
      "\u001B[0;31mValueError\u001B[0m                                Traceback (most recent call last)",
      "Cell \u001B[0;32mIn[78], line 27\u001B[0m\n\u001B[1;32m     25\u001B[0m grid \u001B[38;5;241m=\u001B[39m GridSearchCV(estimator\u001B[38;5;241m=\u001B[39mkeras_model, param_grid\u001B[38;5;241m=\u001B[39mparam_grid, cv\u001B[38;5;241m=\u001B[39m\u001B[38;5;241m3\u001B[39m, scoring\u001B[38;5;241m=\u001B[39mf1_scorer)\n\u001B[1;32m     26\u001B[0m \u001B[38;5;66;03m# Perform grid search\u001B[39;00m\n\u001B[0;32m---> 27\u001B[0m grid_result \u001B[38;5;241m=\u001B[39m \u001B[43mgrid\u001B[49m\u001B[38;5;241;43m.\u001B[39;49m\u001B[43mfit\u001B[49m\u001B[43m(\u001B[49m\u001B[43mX_train\u001B[49m\u001B[43m,\u001B[49m\u001B[43m \u001B[49m\u001B[43my_train_one_hot\u001B[49m\u001B[43m,\u001B[49m\u001B[43m \u001B[49m\u001B[43mepochs\u001B[49m\u001B[38;5;241;43m=\u001B[39;49m\u001B[38;5;241;43m1\u001B[39;49m\u001B[43m,\u001B[49m\u001B[43m \u001B[49m\u001B[43mbatch_size\u001B[49m\u001B[38;5;241;43m=\u001B[39;49m\u001B[38;5;241;43m64\u001B[39;49m\u001B[43m,\u001B[49m\u001B[43m \u001B[49m\u001B[43mvalidation_data\u001B[49m\u001B[38;5;241;43m=\u001B[39;49m\u001B[43m(\u001B[49m\u001B[43mX_val\u001B[49m\u001B[43m,\u001B[49m\u001B[43m \u001B[49m\u001B[43my_val_one_hot\u001B[49m\u001B[43m)\u001B[49m\u001B[43m,\u001B[49m\n\u001B[1;32m     28\u001B[0m \u001B[43m                       \u001B[49m\u001B[43mverbose\u001B[49m\u001B[38;5;241;43m=\u001B[39;49m\u001B[38;5;241;43m1\u001B[39;49m\u001B[43m)\u001B[49m\n\u001B[1;32m     30\u001B[0m \u001B[38;5;66;03m# Display results\u001B[39;00m\n\u001B[1;32m     31\u001B[0m \u001B[38;5;28mprint\u001B[39m(\u001B[38;5;124m\"\u001B[39m\u001B[38;5;124mBest parameters found: \u001B[39m\u001B[38;5;124m\"\u001B[39m, grid_result\u001B[38;5;241m.\u001B[39mbest_params_)\n",
      "File \u001B[0;32m~/PycharmProjects/TP2-IFT870/venv/lib/python3.10/site-packages/sklearn/base.py:1474\u001B[0m, in \u001B[0;36m_fit_context.<locals>.decorator.<locals>.wrapper\u001B[0;34m(estimator, *args, **kwargs)\u001B[0m\n\u001B[1;32m   1467\u001B[0m     estimator\u001B[38;5;241m.\u001B[39m_validate_params()\n\u001B[1;32m   1469\u001B[0m \u001B[38;5;28;01mwith\u001B[39;00m config_context(\n\u001B[1;32m   1470\u001B[0m     skip_parameter_validation\u001B[38;5;241m=\u001B[39m(\n\u001B[1;32m   1471\u001B[0m         prefer_skip_nested_validation \u001B[38;5;129;01mor\u001B[39;00m global_skip_validation\n\u001B[1;32m   1472\u001B[0m     )\n\u001B[1;32m   1473\u001B[0m ):\n\u001B[0;32m-> 1474\u001B[0m     \u001B[38;5;28;01mreturn\u001B[39;00m \u001B[43mfit_method\u001B[49m\u001B[43m(\u001B[49m\u001B[43mestimator\u001B[49m\u001B[43m,\u001B[49m\u001B[43m \u001B[49m\u001B[38;5;241;43m*\u001B[39;49m\u001B[43margs\u001B[49m\u001B[43m,\u001B[49m\u001B[43m \u001B[49m\u001B[38;5;241;43m*\u001B[39;49m\u001B[38;5;241;43m*\u001B[39;49m\u001B[43mkwargs\u001B[49m\u001B[43m)\u001B[49m\n",
      "File \u001B[0;32m~/PycharmProjects/TP2-IFT870/venv/lib/python3.10/site-packages/sklearn/model_selection/_search.py:970\u001B[0m, in \u001B[0;36mBaseSearchCV.fit\u001B[0;34m(self, X, y, **params)\u001B[0m\n\u001B[1;32m    964\u001B[0m     results \u001B[38;5;241m=\u001B[39m \u001B[38;5;28mself\u001B[39m\u001B[38;5;241m.\u001B[39m_format_results(\n\u001B[1;32m    965\u001B[0m         all_candidate_params, n_splits, all_out, all_more_results\n\u001B[1;32m    966\u001B[0m     )\n\u001B[1;32m    968\u001B[0m     \u001B[38;5;28;01mreturn\u001B[39;00m results\n\u001B[0;32m--> 970\u001B[0m \u001B[38;5;28;43mself\u001B[39;49m\u001B[38;5;241;43m.\u001B[39;49m\u001B[43m_run_search\u001B[49m\u001B[43m(\u001B[49m\u001B[43mevaluate_candidates\u001B[49m\u001B[43m)\u001B[49m\n\u001B[1;32m    972\u001B[0m \u001B[38;5;66;03m# multimetric is determined here because in the case of a callable\u001B[39;00m\n\u001B[1;32m    973\u001B[0m \u001B[38;5;66;03m# self.scoring the return type is only known after calling\u001B[39;00m\n\u001B[1;32m    974\u001B[0m first_test_score \u001B[38;5;241m=\u001B[39m all_out[\u001B[38;5;241m0\u001B[39m][\u001B[38;5;124m\"\u001B[39m\u001B[38;5;124mtest_scores\u001B[39m\u001B[38;5;124m\"\u001B[39m]\n",
      "File \u001B[0;32m~/PycharmProjects/TP2-IFT870/venv/lib/python3.10/site-packages/sklearn/model_selection/_search.py:1527\u001B[0m, in \u001B[0;36mGridSearchCV._run_search\u001B[0;34m(self, evaluate_candidates)\u001B[0m\n\u001B[1;32m   1525\u001B[0m \u001B[38;5;28;01mdef\u001B[39;00m \u001B[38;5;21m_run_search\u001B[39m(\u001B[38;5;28mself\u001B[39m, evaluate_candidates):\n\u001B[1;32m   1526\u001B[0m \u001B[38;5;250m    \u001B[39m\u001B[38;5;124;03m\"\"\"Search all candidates in param_grid\"\"\"\u001B[39;00m\n\u001B[0;32m-> 1527\u001B[0m     \u001B[43mevaluate_candidates\u001B[49m\u001B[43m(\u001B[49m\u001B[43mParameterGrid\u001B[49m\u001B[43m(\u001B[49m\u001B[38;5;28;43mself\u001B[39;49m\u001B[38;5;241;43m.\u001B[39;49m\u001B[43mparam_grid\u001B[49m\u001B[43m)\u001B[49m\u001B[43m)\u001B[49m\n",
      "File \u001B[0;32m~/PycharmProjects/TP2-IFT870/venv/lib/python3.10/site-packages/sklearn/model_selection/_search.py:947\u001B[0m, in \u001B[0;36mBaseSearchCV.fit.<locals>.evaluate_candidates\u001B[0;34m(candidate_params, cv, more_results)\u001B[0m\n\u001B[1;32m    940\u001B[0m \u001B[38;5;28;01melif\u001B[39;00m \u001B[38;5;28mlen\u001B[39m(out) \u001B[38;5;241m!=\u001B[39m n_candidates \u001B[38;5;241m*\u001B[39m n_splits:\n\u001B[1;32m    941\u001B[0m     \u001B[38;5;28;01mraise\u001B[39;00m \u001B[38;5;167;01mValueError\u001B[39;00m(\n\u001B[1;32m    942\u001B[0m         \u001B[38;5;124m\"\u001B[39m\u001B[38;5;124mcv.split and cv.get_n_splits returned \u001B[39m\u001B[38;5;124m\"\u001B[39m\n\u001B[1;32m    943\u001B[0m         \u001B[38;5;124m\"\u001B[39m\u001B[38;5;124minconsistent results. Expected \u001B[39m\u001B[38;5;132;01m{}\u001B[39;00m\u001B[38;5;124m \u001B[39m\u001B[38;5;124m\"\u001B[39m\n\u001B[1;32m    944\u001B[0m         \u001B[38;5;124m\"\u001B[39m\u001B[38;5;124msplits, got \u001B[39m\u001B[38;5;132;01m{}\u001B[39;00m\u001B[38;5;124m\"\u001B[39m\u001B[38;5;241m.\u001B[39mformat(n_splits, \u001B[38;5;28mlen\u001B[39m(out) \u001B[38;5;241m/\u001B[39m\u001B[38;5;241m/\u001B[39m n_candidates)\n\u001B[1;32m    945\u001B[0m     )\n\u001B[0;32m--> 947\u001B[0m \u001B[43m_warn_or_raise_about_fit_failures\u001B[49m\u001B[43m(\u001B[49m\u001B[43mout\u001B[49m\u001B[43m,\u001B[49m\u001B[43m \u001B[49m\u001B[38;5;28;43mself\u001B[39;49m\u001B[38;5;241;43m.\u001B[39;49m\u001B[43merror_score\u001B[49m\u001B[43m)\u001B[49m\n\u001B[1;32m    949\u001B[0m \u001B[38;5;66;03m# For callable self.scoring, the return type is only know after\u001B[39;00m\n\u001B[1;32m    950\u001B[0m \u001B[38;5;66;03m# calling. If the return type is a dictionary, the error scores\u001B[39;00m\n\u001B[1;32m    951\u001B[0m \u001B[38;5;66;03m# can now be inserted with the correct key. The type checking\u001B[39;00m\n\u001B[1;32m    952\u001B[0m \u001B[38;5;66;03m# of out will be done in `_insert_error_scores`.\u001B[39;00m\n\u001B[1;32m    953\u001B[0m \u001B[38;5;28;01mif\u001B[39;00m \u001B[38;5;28mcallable\u001B[39m(\u001B[38;5;28mself\u001B[39m\u001B[38;5;241m.\u001B[39mscoring):\n",
      "File \u001B[0;32m~/PycharmProjects/TP2-IFT870/venv/lib/python3.10/site-packages/sklearn/model_selection/_validation.py:536\u001B[0m, in \u001B[0;36m_warn_or_raise_about_fit_failures\u001B[0;34m(results, error_score)\u001B[0m\n\u001B[1;32m    529\u001B[0m \u001B[38;5;28;01mif\u001B[39;00m num_failed_fits \u001B[38;5;241m==\u001B[39m num_fits:\n\u001B[1;32m    530\u001B[0m     all_fits_failed_message \u001B[38;5;241m=\u001B[39m (\n\u001B[1;32m    531\u001B[0m         \u001B[38;5;124mf\u001B[39m\u001B[38;5;124m\"\u001B[39m\u001B[38;5;130;01m\\n\u001B[39;00m\u001B[38;5;124mAll the \u001B[39m\u001B[38;5;132;01m{\u001B[39;00mnum_fits\u001B[38;5;132;01m}\u001B[39;00m\u001B[38;5;124m fits failed.\u001B[39m\u001B[38;5;130;01m\\n\u001B[39;00m\u001B[38;5;124m\"\u001B[39m\n\u001B[1;32m    532\u001B[0m         \u001B[38;5;124m\"\u001B[39m\u001B[38;5;124mIt is very likely that your model is misconfigured.\u001B[39m\u001B[38;5;130;01m\\n\u001B[39;00m\u001B[38;5;124m\"\u001B[39m\n\u001B[1;32m    533\u001B[0m         \u001B[38;5;124m\"\u001B[39m\u001B[38;5;124mYou can try to debug the error by setting error_score=\u001B[39m\u001B[38;5;124m'\u001B[39m\u001B[38;5;124mraise\u001B[39m\u001B[38;5;124m'\u001B[39m\u001B[38;5;124m.\u001B[39m\u001B[38;5;130;01m\\n\u001B[39;00m\u001B[38;5;130;01m\\n\u001B[39;00m\u001B[38;5;124m\"\u001B[39m\n\u001B[1;32m    534\u001B[0m         \u001B[38;5;124mf\u001B[39m\u001B[38;5;124m\"\u001B[39m\u001B[38;5;124mBelow are more details about the failures:\u001B[39m\u001B[38;5;130;01m\\n\u001B[39;00m\u001B[38;5;132;01m{\u001B[39;00mfit_errors_summary\u001B[38;5;132;01m}\u001B[39;00m\u001B[38;5;124m\"\u001B[39m\n\u001B[1;32m    535\u001B[0m     )\n\u001B[0;32m--> 536\u001B[0m     \u001B[38;5;28;01mraise\u001B[39;00m \u001B[38;5;167;01mValueError\u001B[39;00m(all_fits_failed_message)\n\u001B[1;32m    538\u001B[0m \u001B[38;5;28;01melse\u001B[39;00m:\n\u001B[1;32m    539\u001B[0m     some_fits_failed_message \u001B[38;5;241m=\u001B[39m (\n\u001B[1;32m    540\u001B[0m         \u001B[38;5;124mf\u001B[39m\u001B[38;5;124m\"\u001B[39m\u001B[38;5;130;01m\\n\u001B[39;00m\u001B[38;5;132;01m{\u001B[39;00mnum_failed_fits\u001B[38;5;132;01m}\u001B[39;00m\u001B[38;5;124m fits failed out of a total of \u001B[39m\u001B[38;5;132;01m{\u001B[39;00mnum_fits\u001B[38;5;132;01m}\u001B[39;00m\u001B[38;5;124m.\u001B[39m\u001B[38;5;130;01m\\n\u001B[39;00m\u001B[38;5;124m\"\u001B[39m\n\u001B[1;32m    541\u001B[0m         \u001B[38;5;124m\"\u001B[39m\u001B[38;5;124mThe score on these train-test partitions for these parameters\u001B[39m\u001B[38;5;124m\"\u001B[39m\n\u001B[0;32m   (...)\u001B[0m\n\u001B[1;32m    545\u001B[0m         \u001B[38;5;124mf\u001B[39m\u001B[38;5;124m\"\u001B[39m\u001B[38;5;124mBelow are more details about the failures:\u001B[39m\u001B[38;5;130;01m\\n\u001B[39;00m\u001B[38;5;132;01m{\u001B[39;00mfit_errors_summary\u001B[38;5;132;01m}\u001B[39;00m\u001B[38;5;124m\"\u001B[39m\n\u001B[1;32m    546\u001B[0m     )\n",
      "\u001B[0;31mValueError\u001B[0m: \nAll the 54 fits failed.\nIt is very likely that your model is misconfigured.\nYou can try to debug the error by setting error_score='raise'.\n\nBelow are more details about the failures:\n--------------------------------------------------------------------------------\n54 fits failed with the following error:\nTraceback (most recent call last):\n  File \"/home/local/USHERBROOKE/khao1201/PycharmProjects/TP2-IFT870/venv/lib/python3.10/site-packages/sklearn/model_selection/_validation.py\", line 895, in _fit_and_score\n    estimator.fit(X_train, y_train, **fit_params)\n  File \"/home/local/USHERBROOKE/khao1201/PycharmProjects/TP2-IFT870/venv/lib/python3.10/site-packages/scikeras/wrappers.py\", line 1491, in fit\n    super().fit(X=X, y=y, sample_weight=sample_weight, **kwargs)\n  File \"/home/local/USHERBROOKE/khao1201/PycharmProjects/TP2-IFT870/venv/lib/python3.10/site-packages/scikeras/wrappers.py\", line 760, in fit\n    self._fit(\n  File \"/home/local/USHERBROOKE/khao1201/PycharmProjects/TP2-IFT870/venv/lib/python3.10/site-packages/scikeras/wrappers.py\", line 928, in _fit\n    self._fit_keras_model(\n  File \"/home/local/USHERBROOKE/khao1201/PycharmProjects/TP2-IFT870/venv/lib/python3.10/site-packages/scikeras/wrappers.py\", line 536, in _fit_keras_model\n    raise e\n  File \"/home/local/USHERBROOKE/khao1201/PycharmProjects/TP2-IFT870/venv/lib/python3.10/site-packages/scikeras/wrappers.py\", line 531, in _fit_keras_model\n    key = metric_name(key)\n  File \"/home/local/USHERBROOKE/khao1201/PycharmProjects/TP2-IFT870/venv/lib/python3.10/site-packages/scikeras/utils/__init__.py\", line 111, in metric_name\n    fn_or_cls = keras_metric_get(metric)\n  File \"/home/local/USHERBROOKE/khao1201/PycharmProjects/TP2-IFT870/venv/lib/python3.10/site-packages/keras/src/metrics/__init__.py\", line 204, in get\nValueError: Could not interpret metric identifier: loss\n"
     ]
    }
   ],
   "source": [
    "# Define a function to create the model based on hyperparameters\n",
    "def create_model(optimizer='adam', neurons_layer1=64, neurons_layer2=64):\n",
    "    model = Sequential()    \n",
    "    model.add(keras.Input(shape=(X_train.shape[1],)))\n",
    "    model.add(Dense(neurons_layer1, activation='relu'))\n",
    "    model.add(Dense(neurons_layer2, activation='relu'))\n",
    "    model.add(Dense(2, activation='softmax'))\n",
    "    model.compile(optimizer=optimizer, loss=loss_fn, metrics=[metrics_fn])\n",
    "    return model\n",
    "\n",
    "# Wrap the create_model function with KerasClassifier\n",
    "keras_model = KerasClassifier(model=create_model, neurons_layer1=64, neurons_layer2=64, metrics=[metrics_fn])\n",
    "\n",
    "# Define the grid of hyperparameters to search\n",
    "param_grid = {\n",
    "    'neurons_layer1': [32, 64, 128],\n",
    "    'neurons_layer2': [32, 64, 128],\n",
    "    'optimizer': ['adam', 'rmsprop']\n",
    "}\n",
    "\n",
    "# Define F1 score as the metric\n",
    "f1_scorer = make_scorer(f1_score, average='binary')\n",
    "\n",
    "# Initialize GridSearchCV with F1 score as the metric\n",
    "grid = GridSearchCV(estimator=keras_model, param_grid=param_grid, cv=3, scoring=f1_scorer)\n",
    "# Perform grid search\n",
    "grid_result = grid.fit(X_train, y_train_one_hot, epochs=1, batch_size=64, validation_data=(X_val, y_val_one_hot),\n",
    "                       verbose=1)\n",
    "\n",
    "# Display results\n",
    "print(\"Best parameters found: \", grid_result.best_params_)\n",
    "print(\"Best F1 score found: \", grid_result.best_score_)"
   ],
   "metadata": {
    "collapsed": false,
    "ExecuteTime": {
     "end_time": "2024-04-04T21:44:10.364104609Z",
     "start_time": "2024-04-04T21:43:20.701008274Z"
    }
   },
   "id": "beed211fbf595f7"
  }
 ],
 "metadata": {
  "kernelspec": {
   "display_name": "Python 3",
   "language": "python",
   "name": "python3"
  },
  "language_info": {
   "codemirror_mode": {
    "name": "ipython",
    "version": 2
   },
   "file_extension": ".py",
   "mimetype": "text/x-python",
   "name": "python",
   "nbconvert_exporter": "python",
   "pygments_lexer": "ipython2",
   "version": "2.7.6"
  }
 },
 "nbformat": 4,
 "nbformat_minor": 5
}

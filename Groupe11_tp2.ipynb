{
 "cells": [
  {
   "cell_type": "markdown",
   "source": [
    "# Groupe 11 - TP 2 - Raport"
   ],
   "metadata": {
    "collapsed": false
   },
   "id": "d5b3a81ae5d0d258"
  },
  {
   "cell_type": "markdown",
   "source": [
    "Membres du groupe:\n",
    "- Oussama Khaloui --- khao1201\n",
    "- Matthieu Tailleur --- taim1201"
   ],
   "metadata": {
    "collapsed": false
   },
   "id": "c17de1dbb467da7"
  },
  {
   "cell_type": "raw",
   "source": [
    "Dans ce TP nous cherchons à explorer les données afin de développer ensuite des algorithmes de machine learning dans l'objectif de prédire les achats de clients à partir de paniers de courses."
   ],
   "metadata": {
    "collapsed": false
   },
   "id": "462d641ff203995b"
  },
  {
   "cell_type": "markdown",
   "source": [
    "## 1 - Analyse des données"
   ],
   "metadata": {
    "collapsed": false
   },
   "id": "60c2f7e347c130f9"
  },
  {
   "cell_type": "markdown",
   "source": [
    "### 1.a - Réduction des données"
   ],
   "metadata": {
    "collapsed": false
   },
   "id": "e06afc93583fbcc0"
  },
  {
   "cell_type": "code",
   "execution_count": 151,
   "outputs": [],
   "source": [
    "# Importation des librairies basiques\n",
    "import pandas as pd\n",
    "import numpy as np\n",
    "\n",
    "# Paramètres d'affichage des DataFrames\n",
    "pd.set_option('display.max_rows', 500)\n",
    "pd.set_option('display.max_columns', 500)\n",
    "\n",
    "# librairies de visualisation\n",
    "import matplotlib.pyplot as plt\n",
    "from plotly.subplots import make_subplots\n",
    "import seaborn as sns\n",
    "import plotly.express as px\n",
    "import plotly.graph_objects as go\n",
    "from sklearn.preprocessing import LabelEncoder\n",
    "\n",
    "# Librairie sklearn\n",
    "from sklearn import metrics\n",
    "from sklearn.impute import KNNImputer\n",
    "from sklearn.feature_selection import SelectKBest, mutual_info_classif\n",
    "from sklearn.preprocessing import StandardScaler\n",
    "from sklearn.decomposition import PCA\n",
    "from sklearn.model_selection import train_test_split\n",
    "\n",
    "# Retirer les Warnings\n",
    "# import warnings\n",
    "# warnings.filterwarnings(\"ignore\", category=FutureWarning)\n",
    "\n",
    "\n",
    "# Modèle gaussien\n",
    "from matplotlib import patches\n",
    "from sklearn.mixture import GaussianMixture\n",
    "from sklearn.model_selection import train_test_split"
   ],
   "metadata": {
    "collapsed": false,
    "ExecuteTime": {
     "end_time": "2024-04-02T22:02:24.995997100Z",
     "start_time": "2024-04-02T22:02:24.964652700Z"
    }
   },
   "id": "a93daa401d89bf64"
  },
  {
   "cell_type": "markdown",
   "source": [
    "#### Chargement des données"
   ],
   "metadata": {
    "collapsed": false
   },
   "id": "cbe64069f46ceb8"
  },
  {
   "cell_type": "code",
   "execution_count": 152,
   "outputs": [
    {
     "name": "stdout",
     "output_type": "stream",
     "text": [
      "Le dataset orders_distance_stores_softmax contient 136026 points et 10 attributs\n",
      "Le dataset order_products__prior_specials contient 1172312 points et 6 attributs\n"
     ]
    }
   ],
   "source": [
    "data_file_1 = \"./données/orders_distance_stores_softmax.csv\"\n",
    "data_file_2 = \"./données/order_products__prior_specials.csv\"\n",
    "data_orders_distance = pd.read_csv(data_file_1)\n",
    "data_orders_products = pd.read_csv(data_file_2)\n",
    "\n",
    "# Vérification du bon chargement des données et comparaison avec ce qui est attendu d'après l'énoncé\n",
    "print(f\"Le dataset orders_distance_stores_softmax contient {data_orders_distance.shape[0]} points et {data_orders_distance.shape[1]} attributs\")\n",
    "print(f\"Le dataset order_products__prior_specials contient {data_orders_products.shape[0]} points et {data_orders_products.shape[1]} attributs\")"
   ],
   "metadata": {
    "collapsed": false,
    "ExecuteTime": {
     "end_time": "2024-04-02T22:02:27.170854300Z",
     "start_time": "2024-04-02T22:02:26.751602200Z"
    }
   },
   "id": "5eebe0578358b9a"
  },
  {
   "cell_type": "markdown",
   "source": [
    "Les datasets contiennent tous deux le nombre d'attributs attendu et beaucoup de lignes. L'objectif de cette partie sera de réduire leurs nombre - pour rendre nos algorithmes plus efficaces - tout en conservant le maximum d'information du dataset afin d'effectuer les meilleurs prédictions possibles."
   ],
   "metadata": {
    "collapsed": false
   },
   "id": "2973e755959f723d"
  },
  {
   "cell_type": "markdown",
   "source": [
    "#### Auscultation des données"
   ],
   "metadata": {
    "collapsed": false
   },
   "id": "da5155896e108ce2"
  },
  {
   "cell_type": "markdown",
   "source": [
    "On commence par visualiser quelques données pour nous faire une idée des datasets"
   ],
   "metadata": {
    "collapsed": false
   },
   "id": "e870cc0ac80bdc4e"
  },
  {
   "cell_type": "code",
   "execution_count": 153,
   "outputs": [
    {
     "data": {
      "text/plain": "   Unnamed: 0  user_id  store_id  distance  order_id eval_set  order_number  \\\n0           0      210         0  2.304404   1438665    prior             9   \n1           1      210         0  2.304404   2850206    prior            36   \n2           2      210         0  2.304404   2406913    prior            42   \n3           3      210         0  2.304404   1155933    prior            43   \n4           4      210         0  2.304404    271697    prior            56   \n\n   order_dow  order_hour_of_day  days_since_prior_order  \n0          1                 18                     3.0  \n1          0                  7                     2.0  \n2          0                  8                     3.0  \n3          2                 23                     2.0  \n4          5                 17                     3.0  ",
      "text/html": "<div>\n<style scoped>\n    .dataframe tbody tr th:only-of-type {\n        vertical-align: middle;\n    }\n\n    .dataframe tbody tr th {\n        vertical-align: top;\n    }\n\n    .dataframe thead th {\n        text-align: right;\n    }\n</style>\n<table border=\"1\" class=\"dataframe\">\n  <thead>\n    <tr style=\"text-align: right;\">\n      <th></th>\n      <th>Unnamed: 0</th>\n      <th>user_id</th>\n      <th>store_id</th>\n      <th>distance</th>\n      <th>order_id</th>\n      <th>eval_set</th>\n      <th>order_number</th>\n      <th>order_dow</th>\n      <th>order_hour_of_day</th>\n      <th>days_since_prior_order</th>\n    </tr>\n  </thead>\n  <tbody>\n    <tr>\n      <th>0</th>\n      <td>0</td>\n      <td>210</td>\n      <td>0</td>\n      <td>2.304404</td>\n      <td>1438665</td>\n      <td>prior</td>\n      <td>9</td>\n      <td>1</td>\n      <td>18</td>\n      <td>3.0</td>\n    </tr>\n    <tr>\n      <th>1</th>\n      <td>1</td>\n      <td>210</td>\n      <td>0</td>\n      <td>2.304404</td>\n      <td>2850206</td>\n      <td>prior</td>\n      <td>36</td>\n      <td>0</td>\n      <td>7</td>\n      <td>2.0</td>\n    </tr>\n    <tr>\n      <th>2</th>\n      <td>2</td>\n      <td>210</td>\n      <td>0</td>\n      <td>2.304404</td>\n      <td>2406913</td>\n      <td>prior</td>\n      <td>42</td>\n      <td>0</td>\n      <td>8</td>\n      <td>3.0</td>\n    </tr>\n    <tr>\n      <th>3</th>\n      <td>3</td>\n      <td>210</td>\n      <td>0</td>\n      <td>2.304404</td>\n      <td>1155933</td>\n      <td>prior</td>\n      <td>43</td>\n      <td>2</td>\n      <td>23</td>\n      <td>2.0</td>\n    </tr>\n    <tr>\n      <th>4</th>\n      <td>4</td>\n      <td>210</td>\n      <td>0</td>\n      <td>2.304404</td>\n      <td>271697</td>\n      <td>prior</td>\n      <td>56</td>\n      <td>5</td>\n      <td>17</td>\n      <td>3.0</td>\n    </tr>\n  </tbody>\n</table>\n</div>"
     },
     "execution_count": 153,
     "metadata": {},
     "output_type": "execute_result"
    }
   ],
   "source": [
    "# Obseravtion de quelques données\n",
    "data_orders_distance.head()"
   ],
   "metadata": {
    "collapsed": false,
    "ExecuteTime": {
     "end_time": "2024-04-02T22:02:30.980709900Z",
     "start_time": "2024-04-02T22:02:30.967489500Z"
    }
   },
   "id": "ce201f0dd55936d0"
  },
  {
   "cell_type": "code",
   "execution_count": 154,
   "outputs": [
    {
     "data": {
      "text/plain": "        Unnamed: 0  user_id  store_id  distance  order_id eval_set  \\\n136021      136021   206105         9  2.140636   1841888    prior   \n136022      136022   206105         9  2.140636   1137676    prior   \n136023      136023   206105         9  2.140636   1439511    prior   \n136024      136024   206105         9  2.140636   1783607    prior   \n136025      136025   206105         9  2.140636   1410956    prior   \n\n        order_number  order_dow  order_hour_of_day  days_since_prior_order  \n136021            39          0                 21                     1.0  \n136022            43          4                 15                     1.0  \n136023            45          6                  9                     1.0  \n136024            58          4                 19                     0.0  \n136025            65          2                  9                     1.0  ",
      "text/html": "<div>\n<style scoped>\n    .dataframe tbody tr th:only-of-type {\n        vertical-align: middle;\n    }\n\n    .dataframe tbody tr th {\n        vertical-align: top;\n    }\n\n    .dataframe thead th {\n        text-align: right;\n    }\n</style>\n<table border=\"1\" class=\"dataframe\">\n  <thead>\n    <tr style=\"text-align: right;\">\n      <th></th>\n      <th>Unnamed: 0</th>\n      <th>user_id</th>\n      <th>store_id</th>\n      <th>distance</th>\n      <th>order_id</th>\n      <th>eval_set</th>\n      <th>order_number</th>\n      <th>order_dow</th>\n      <th>order_hour_of_day</th>\n      <th>days_since_prior_order</th>\n    </tr>\n  </thead>\n  <tbody>\n    <tr>\n      <th>136021</th>\n      <td>136021</td>\n      <td>206105</td>\n      <td>9</td>\n      <td>2.140636</td>\n      <td>1841888</td>\n      <td>prior</td>\n      <td>39</td>\n      <td>0</td>\n      <td>21</td>\n      <td>1.0</td>\n    </tr>\n    <tr>\n      <th>136022</th>\n      <td>136022</td>\n      <td>206105</td>\n      <td>9</td>\n      <td>2.140636</td>\n      <td>1137676</td>\n      <td>prior</td>\n      <td>43</td>\n      <td>4</td>\n      <td>15</td>\n      <td>1.0</td>\n    </tr>\n    <tr>\n      <th>136023</th>\n      <td>136023</td>\n      <td>206105</td>\n      <td>9</td>\n      <td>2.140636</td>\n      <td>1439511</td>\n      <td>prior</td>\n      <td>45</td>\n      <td>6</td>\n      <td>9</td>\n      <td>1.0</td>\n    </tr>\n    <tr>\n      <th>136024</th>\n      <td>136024</td>\n      <td>206105</td>\n      <td>9</td>\n      <td>2.140636</td>\n      <td>1783607</td>\n      <td>prior</td>\n      <td>58</td>\n      <td>4</td>\n      <td>19</td>\n      <td>0.0</td>\n    </tr>\n    <tr>\n      <th>136025</th>\n      <td>136025</td>\n      <td>206105</td>\n      <td>9</td>\n      <td>2.140636</td>\n      <td>1410956</td>\n      <td>prior</td>\n      <td>65</td>\n      <td>2</td>\n      <td>9</td>\n      <td>1.0</td>\n    </tr>\n  </tbody>\n</table>\n</div>"
     },
     "execution_count": 154,
     "metadata": {},
     "output_type": "execute_result"
    }
   ],
   "source": [
    "data_orders_distance.tail()"
   ],
   "metadata": {
    "collapsed": false,
    "ExecuteTime": {
     "end_time": "2024-04-02T22:02:31.886112600Z",
     "start_time": "2024-04-02T22:02:31.868552100Z"
    }
   },
   "id": "2d644eac25ce9c7f"
  },
  {
   "cell_type": "markdown",
   "source": [
    "on constate la présence de de données catégoriques. on choisit d'encoder les valeurs de la colonne 'eval_set'"
   ],
   "metadata": {
    "collapsed": false
   },
   "id": "dbb1f5302b2147b6"
  },
  {
   "cell_type": "code",
   "execution_count": 155,
   "outputs": [
    {
     "data": {
      "text/plain": "array(['prior'], dtype=object)"
     },
     "execution_count": 155,
     "metadata": {},
     "output_type": "execute_result"
    }
   ],
   "source": [
    "data_orders_distance['eval_set'].unique()"
   ],
   "metadata": {
    "collapsed": false,
    "ExecuteTime": {
     "end_time": "2024-04-02T22:02:36.671266800Z",
     "start_time": "2024-04-02T22:02:36.640741700Z"
    }
   },
   "id": "3f0150a313a2606"
  },
  {
   "cell_type": "code",
   "execution_count": 156,
   "outputs": [],
   "source": [
    "df_encoded = pd.get_dummies(data_orders_distance, columns=['eval_set'])\n",
    "data_orders_distance['eval_set'] = df_encoded[['eval_set_prior']]"
   ],
   "metadata": {
    "collapsed": false,
    "ExecuteTime": {
     "end_time": "2024-04-02T22:02:37.594172500Z",
     "start_time": "2024-04-02T22:02:37.544487Z"
    }
   },
   "id": "ce9e03b3de40fcd4"
  },
  {
   "cell_type": "code",
   "execution_count": 157,
   "outputs": [
    {
     "data": {
      "text/plain": "        Unnamed: 0  user_id  store_id  distance  order_id  eval_set  \\\n0                0      210         0  2.304404   1438665         1   \n1                1      210         0  2.304404   2850206         1   \n2                2      210         0  2.304404   2406913         1   \n3                3      210         0  2.304404   1155933         1   \n4                4      210         0  2.304404    271697         1   \n...            ...      ...       ...       ...       ...       ...   \n136021      136021   206105         9  2.140636   1841888         1   \n136022      136022   206105         9  2.140636   1137676         1   \n136023      136023   206105         9  2.140636   1439511         1   \n136024      136024   206105         9  2.140636   1783607         1   \n136025      136025   206105         9  2.140636   1410956         1   \n\n        order_number  order_dow  order_hour_of_day  days_since_prior_order  \n0                  9          1                 18                     3.0  \n1                 36          0                  7                     2.0  \n2                 42          0                  8                     3.0  \n3                 43          2                 23                     2.0  \n4                 56          5                 17                     3.0  \n...              ...        ...                ...                     ...  \n136021            39          0                 21                     1.0  \n136022            43          4                 15                     1.0  \n136023            45          6                  9                     1.0  \n136024            58          4                 19                     0.0  \n136025            65          2                  9                     1.0  \n\n[136026 rows x 10 columns]",
      "text/html": "<div>\n<style scoped>\n    .dataframe tbody tr th:only-of-type {\n        vertical-align: middle;\n    }\n\n    .dataframe tbody tr th {\n        vertical-align: top;\n    }\n\n    .dataframe thead th {\n        text-align: right;\n    }\n</style>\n<table border=\"1\" class=\"dataframe\">\n  <thead>\n    <tr style=\"text-align: right;\">\n      <th></th>\n      <th>Unnamed: 0</th>\n      <th>user_id</th>\n      <th>store_id</th>\n      <th>distance</th>\n      <th>order_id</th>\n      <th>eval_set</th>\n      <th>order_number</th>\n      <th>order_dow</th>\n      <th>order_hour_of_day</th>\n      <th>days_since_prior_order</th>\n    </tr>\n  </thead>\n  <tbody>\n    <tr>\n      <th>0</th>\n      <td>0</td>\n      <td>210</td>\n      <td>0</td>\n      <td>2.304404</td>\n      <td>1438665</td>\n      <td>1</td>\n      <td>9</td>\n      <td>1</td>\n      <td>18</td>\n      <td>3.0</td>\n    </tr>\n    <tr>\n      <th>1</th>\n      <td>1</td>\n      <td>210</td>\n      <td>0</td>\n      <td>2.304404</td>\n      <td>2850206</td>\n      <td>1</td>\n      <td>36</td>\n      <td>0</td>\n      <td>7</td>\n      <td>2.0</td>\n    </tr>\n    <tr>\n      <th>2</th>\n      <td>2</td>\n      <td>210</td>\n      <td>0</td>\n      <td>2.304404</td>\n      <td>2406913</td>\n      <td>1</td>\n      <td>42</td>\n      <td>0</td>\n      <td>8</td>\n      <td>3.0</td>\n    </tr>\n    <tr>\n      <th>3</th>\n      <td>3</td>\n      <td>210</td>\n      <td>0</td>\n      <td>2.304404</td>\n      <td>1155933</td>\n      <td>1</td>\n      <td>43</td>\n      <td>2</td>\n      <td>23</td>\n      <td>2.0</td>\n    </tr>\n    <tr>\n      <th>4</th>\n      <td>4</td>\n      <td>210</td>\n      <td>0</td>\n      <td>2.304404</td>\n      <td>271697</td>\n      <td>1</td>\n      <td>56</td>\n      <td>5</td>\n      <td>17</td>\n      <td>3.0</td>\n    </tr>\n    <tr>\n      <th>...</th>\n      <td>...</td>\n      <td>...</td>\n      <td>...</td>\n      <td>...</td>\n      <td>...</td>\n      <td>...</td>\n      <td>...</td>\n      <td>...</td>\n      <td>...</td>\n      <td>...</td>\n    </tr>\n    <tr>\n      <th>136021</th>\n      <td>136021</td>\n      <td>206105</td>\n      <td>9</td>\n      <td>2.140636</td>\n      <td>1841888</td>\n      <td>1</td>\n      <td>39</td>\n      <td>0</td>\n      <td>21</td>\n      <td>1.0</td>\n    </tr>\n    <tr>\n      <th>136022</th>\n      <td>136022</td>\n      <td>206105</td>\n      <td>9</td>\n      <td>2.140636</td>\n      <td>1137676</td>\n      <td>1</td>\n      <td>43</td>\n      <td>4</td>\n      <td>15</td>\n      <td>1.0</td>\n    </tr>\n    <tr>\n      <th>136023</th>\n      <td>136023</td>\n      <td>206105</td>\n      <td>9</td>\n      <td>2.140636</td>\n      <td>1439511</td>\n      <td>1</td>\n      <td>45</td>\n      <td>6</td>\n      <td>9</td>\n      <td>1.0</td>\n    </tr>\n    <tr>\n      <th>136024</th>\n      <td>136024</td>\n      <td>206105</td>\n      <td>9</td>\n      <td>2.140636</td>\n      <td>1783607</td>\n      <td>1</td>\n      <td>58</td>\n      <td>4</td>\n      <td>19</td>\n      <td>0.0</td>\n    </tr>\n    <tr>\n      <th>136025</th>\n      <td>136025</td>\n      <td>206105</td>\n      <td>9</td>\n      <td>2.140636</td>\n      <td>1410956</td>\n      <td>1</td>\n      <td>65</td>\n      <td>2</td>\n      <td>9</td>\n      <td>1.0</td>\n    </tr>\n  </tbody>\n</table>\n<p>136026 rows × 10 columns</p>\n</div>"
     },
     "execution_count": 157,
     "metadata": {},
     "output_type": "execute_result"
    }
   ],
   "source": [
    "# Vérification\n",
    "data_orders_distance"
   ],
   "metadata": {
    "collapsed": false,
    "ExecuteTime": {
     "end_time": "2024-04-02T22:02:38.526752700Z",
     "start_time": "2024-04-02T22:02:38.496997Z"
    }
   },
   "id": "c59f91bd45a215ad"
  },
  {
   "cell_type": "code",
   "execution_count": 158,
   "outputs": [
    {
     "data": {
      "text/plain": "   Unnamed: 0  order_id  product_id  add_to_cart_order  reordered  special\n0           0        15       19660                  1          1       15\n1           1        15       21195                  2          1        0\n2           2        15        7461                  3          1       50\n3           3        15        2996                  4          1        0\n4           4        15       32463                  5          1        0",
      "text/html": "<div>\n<style scoped>\n    .dataframe tbody tr th:only-of-type {\n        vertical-align: middle;\n    }\n\n    .dataframe tbody tr th {\n        vertical-align: top;\n    }\n\n    .dataframe thead th {\n        text-align: right;\n    }\n</style>\n<table border=\"1\" class=\"dataframe\">\n  <thead>\n    <tr style=\"text-align: right;\">\n      <th></th>\n      <th>Unnamed: 0</th>\n      <th>order_id</th>\n      <th>product_id</th>\n      <th>add_to_cart_order</th>\n      <th>reordered</th>\n      <th>special</th>\n    </tr>\n  </thead>\n  <tbody>\n    <tr>\n      <th>0</th>\n      <td>0</td>\n      <td>15</td>\n      <td>19660</td>\n      <td>1</td>\n      <td>1</td>\n      <td>15</td>\n    </tr>\n    <tr>\n      <th>1</th>\n      <td>1</td>\n      <td>15</td>\n      <td>21195</td>\n      <td>2</td>\n      <td>1</td>\n      <td>0</td>\n    </tr>\n    <tr>\n      <th>2</th>\n      <td>2</td>\n      <td>15</td>\n      <td>7461</td>\n      <td>3</td>\n      <td>1</td>\n      <td>50</td>\n    </tr>\n    <tr>\n      <th>3</th>\n      <td>3</td>\n      <td>15</td>\n      <td>2996</td>\n      <td>4</td>\n      <td>1</td>\n      <td>0</td>\n    </tr>\n    <tr>\n      <th>4</th>\n      <td>4</td>\n      <td>15</td>\n      <td>32463</td>\n      <td>5</td>\n      <td>1</td>\n      <td>0</td>\n    </tr>\n  </tbody>\n</table>\n</div>"
     },
     "execution_count": 158,
     "metadata": {},
     "output_type": "execute_result"
    }
   ],
   "source": [
    "data_orders_products.head()"
   ],
   "metadata": {
    "collapsed": false,
    "ExecuteTime": {
     "end_time": "2024-04-02T22:02:40.787372400Z",
     "start_time": "2024-04-02T22:02:40.771132Z"
    }
   },
   "id": "e6f02a2efac2110d"
  },
  {
   "cell_type": "code",
   "execution_count": 159,
   "outputs": [
    {
     "data": {
      "text/plain": "         Unnamed: 0  order_id  product_id  add_to_cart_order  reordered  \\\n1172307     1172307   3421069       21137                  8          1   \n1172308     1172308   3421069       30391                  9          1   \n1172309     1172309   3421069       18656                 10          1   \n1172310     1172310   3421069       26940                 11          1   \n1172311     1172311   3421069       19057                 12          1   \n\n         special  \n1172307        0  \n1172308       15  \n1172309        0  \n1172310       15  \n1172311        0  ",
      "text/html": "<div>\n<style scoped>\n    .dataframe tbody tr th:only-of-type {\n        vertical-align: middle;\n    }\n\n    .dataframe tbody tr th {\n        vertical-align: top;\n    }\n\n    .dataframe thead th {\n        text-align: right;\n    }\n</style>\n<table border=\"1\" class=\"dataframe\">\n  <thead>\n    <tr style=\"text-align: right;\">\n      <th></th>\n      <th>Unnamed: 0</th>\n      <th>order_id</th>\n      <th>product_id</th>\n      <th>add_to_cart_order</th>\n      <th>reordered</th>\n      <th>special</th>\n    </tr>\n  </thead>\n  <tbody>\n    <tr>\n      <th>1172307</th>\n      <td>1172307</td>\n      <td>3421069</td>\n      <td>21137</td>\n      <td>8</td>\n      <td>1</td>\n      <td>0</td>\n    </tr>\n    <tr>\n      <th>1172308</th>\n      <td>1172308</td>\n      <td>3421069</td>\n      <td>30391</td>\n      <td>9</td>\n      <td>1</td>\n      <td>15</td>\n    </tr>\n    <tr>\n      <th>1172309</th>\n      <td>1172309</td>\n      <td>3421069</td>\n      <td>18656</td>\n      <td>10</td>\n      <td>1</td>\n      <td>0</td>\n    </tr>\n    <tr>\n      <th>1172310</th>\n      <td>1172310</td>\n      <td>3421069</td>\n      <td>26940</td>\n      <td>11</td>\n      <td>1</td>\n      <td>15</td>\n    </tr>\n    <tr>\n      <th>1172311</th>\n      <td>1172311</td>\n      <td>3421069</td>\n      <td>19057</td>\n      <td>12</td>\n      <td>1</td>\n      <td>0</td>\n    </tr>\n  </tbody>\n</table>\n</div>"
     },
     "execution_count": 159,
     "metadata": {},
     "output_type": "execute_result"
    }
   ],
   "source": [
    "data_orders_products.tail()"
   ],
   "metadata": {
    "collapsed": false,
    "ExecuteTime": {
     "end_time": "2024-04-02T22:02:41.850249400Z",
     "start_time": "2024-04-02T22:02:41.832166Z"
    }
   },
   "id": "2e010340314e33a6"
  },
  {
   "cell_type": "code",
   "execution_count": 168,
   "outputs": [
    {
     "ename": "KeyError",
     "evalue": "\"['Unnamed: 0'] not found in axis\"",
     "output_type": "error",
     "traceback": [
      "\u001B[1;31m---------------------------------------------------------------------------\u001B[0m",
      "\u001B[1;31mKeyError\u001B[0m                                  Traceback (most recent call last)",
      "Input \u001B[1;32mIn [168]\u001B[0m, in \u001B[0;36m<cell line: 2>\u001B[1;34m()\u001B[0m\n\u001B[0;32m      1\u001B[0m \u001B[38;5;66;03m# Suppresion de la colonne Unnamed: 0 dans les datasets (duplicat du numéro de la ligne)\u001B[39;00m\n\u001B[1;32m----> 2\u001B[0m \u001B[43mdata_orders_distance\u001B[49m\u001B[38;5;241;43m.\u001B[39;49m\u001B[43mdrop\u001B[49m\u001B[43m(\u001B[49m\u001B[43mcolumns\u001B[49m\u001B[38;5;241;43m=\u001B[39;49m\u001B[43m[\u001B[49m\u001B[38;5;124;43m'\u001B[39;49m\u001B[38;5;124;43mUnnamed: 0\u001B[39;49m\u001B[38;5;124;43m'\u001B[39;49m\u001B[43m]\u001B[49m\u001B[43m,\u001B[49m\u001B[43minplace\u001B[49m\u001B[38;5;241;43m=\u001B[39;49m\u001B[38;5;28;43;01mTrue\u001B[39;49;00m\u001B[43m)\u001B[49m\n\u001B[0;32m      3\u001B[0m data_orders_products\u001B[38;5;241m.\u001B[39mdrop(columns\u001B[38;5;241m=\u001B[39m[\u001B[38;5;124m'\u001B[39m\u001B[38;5;124mUnnamed: 0\u001B[39m\u001B[38;5;124m'\u001B[39m],inplace\u001B[38;5;241m=\u001B[39m\u001B[38;5;28;01mTrue\u001B[39;00m)\n",
      "File \u001B[1;32m~\\anaconda3\\lib\\site-packages\\pandas\\util\\_decorators.py:311\u001B[0m, in \u001B[0;36mdeprecate_nonkeyword_arguments.<locals>.decorate.<locals>.wrapper\u001B[1;34m(*args, **kwargs)\u001B[0m\n\u001B[0;32m    305\u001B[0m \u001B[38;5;28;01mif\u001B[39;00m \u001B[38;5;28mlen\u001B[39m(args) \u001B[38;5;241m>\u001B[39m num_allow_args:\n\u001B[0;32m    306\u001B[0m     warnings\u001B[38;5;241m.\u001B[39mwarn(\n\u001B[0;32m    307\u001B[0m         msg\u001B[38;5;241m.\u001B[39mformat(arguments\u001B[38;5;241m=\u001B[39marguments),\n\u001B[0;32m    308\u001B[0m         \u001B[38;5;167;01mFutureWarning\u001B[39;00m,\n\u001B[0;32m    309\u001B[0m         stacklevel\u001B[38;5;241m=\u001B[39mstacklevel,\n\u001B[0;32m    310\u001B[0m     )\n\u001B[1;32m--> 311\u001B[0m \u001B[38;5;28;01mreturn\u001B[39;00m func(\u001B[38;5;241m*\u001B[39margs, \u001B[38;5;241m*\u001B[39m\u001B[38;5;241m*\u001B[39mkwargs)\n",
      "File \u001B[1;32m~\\anaconda3\\lib\\site-packages\\pandas\\core\\frame.py:4957\u001B[0m, in \u001B[0;36mDataFrame.drop\u001B[1;34m(self, labels, axis, index, columns, level, inplace, errors)\u001B[0m\n\u001B[0;32m   4809\u001B[0m \u001B[38;5;129m@deprecate_nonkeyword_arguments\u001B[39m(version\u001B[38;5;241m=\u001B[39m\u001B[38;5;28;01mNone\u001B[39;00m, allowed_args\u001B[38;5;241m=\u001B[39m[\u001B[38;5;124m\"\u001B[39m\u001B[38;5;124mself\u001B[39m\u001B[38;5;124m\"\u001B[39m, \u001B[38;5;124m\"\u001B[39m\u001B[38;5;124mlabels\u001B[39m\u001B[38;5;124m\"\u001B[39m])\n\u001B[0;32m   4810\u001B[0m \u001B[38;5;28;01mdef\u001B[39;00m \u001B[38;5;21mdrop\u001B[39m(\n\u001B[0;32m   4811\u001B[0m     \u001B[38;5;28mself\u001B[39m,\n\u001B[1;32m   (...)\u001B[0m\n\u001B[0;32m   4818\u001B[0m     errors: \u001B[38;5;28mstr\u001B[39m \u001B[38;5;241m=\u001B[39m \u001B[38;5;124m\"\u001B[39m\u001B[38;5;124mraise\u001B[39m\u001B[38;5;124m\"\u001B[39m,\n\u001B[0;32m   4819\u001B[0m ):\n\u001B[0;32m   4820\u001B[0m \u001B[38;5;250m    \u001B[39m\u001B[38;5;124;03m\"\"\"\u001B[39;00m\n\u001B[0;32m   4821\u001B[0m \u001B[38;5;124;03m    Drop specified labels from rows or columns.\u001B[39;00m\n\u001B[0;32m   4822\u001B[0m \n\u001B[1;32m   (...)\u001B[0m\n\u001B[0;32m   4955\u001B[0m \u001B[38;5;124;03m            weight  1.0     0.8\u001B[39;00m\n\u001B[0;32m   4956\u001B[0m \u001B[38;5;124;03m    \"\"\"\u001B[39;00m\n\u001B[1;32m-> 4957\u001B[0m     \u001B[38;5;28;01mreturn\u001B[39;00m \u001B[38;5;28;43msuper\u001B[39;49m\u001B[43m(\u001B[49m\u001B[43m)\u001B[49m\u001B[38;5;241;43m.\u001B[39;49m\u001B[43mdrop\u001B[49m\u001B[43m(\u001B[49m\n\u001B[0;32m   4958\u001B[0m \u001B[43m        \u001B[49m\u001B[43mlabels\u001B[49m\u001B[38;5;241;43m=\u001B[39;49m\u001B[43mlabels\u001B[49m\u001B[43m,\u001B[49m\n\u001B[0;32m   4959\u001B[0m \u001B[43m        \u001B[49m\u001B[43maxis\u001B[49m\u001B[38;5;241;43m=\u001B[39;49m\u001B[43maxis\u001B[49m\u001B[43m,\u001B[49m\n\u001B[0;32m   4960\u001B[0m \u001B[43m        \u001B[49m\u001B[43mindex\u001B[49m\u001B[38;5;241;43m=\u001B[39;49m\u001B[43mindex\u001B[49m\u001B[43m,\u001B[49m\n\u001B[0;32m   4961\u001B[0m \u001B[43m        \u001B[49m\u001B[43mcolumns\u001B[49m\u001B[38;5;241;43m=\u001B[39;49m\u001B[43mcolumns\u001B[49m\u001B[43m,\u001B[49m\n\u001B[0;32m   4962\u001B[0m \u001B[43m        \u001B[49m\u001B[43mlevel\u001B[49m\u001B[38;5;241;43m=\u001B[39;49m\u001B[43mlevel\u001B[49m\u001B[43m,\u001B[49m\n\u001B[0;32m   4963\u001B[0m \u001B[43m        \u001B[49m\u001B[43minplace\u001B[49m\u001B[38;5;241;43m=\u001B[39;49m\u001B[43minplace\u001B[49m\u001B[43m,\u001B[49m\n\u001B[0;32m   4964\u001B[0m \u001B[43m        \u001B[49m\u001B[43merrors\u001B[49m\u001B[38;5;241;43m=\u001B[39;49m\u001B[43merrors\u001B[49m\u001B[43m,\u001B[49m\n\u001B[0;32m   4965\u001B[0m \u001B[43m    \u001B[49m\u001B[43m)\u001B[49m\n",
      "File \u001B[1;32m~\\anaconda3\\lib\\site-packages\\pandas\\core\\generic.py:4267\u001B[0m, in \u001B[0;36mNDFrame.drop\u001B[1;34m(self, labels, axis, index, columns, level, inplace, errors)\u001B[0m\n\u001B[0;32m   4265\u001B[0m \u001B[38;5;28;01mfor\u001B[39;00m axis, labels \u001B[38;5;129;01min\u001B[39;00m axes\u001B[38;5;241m.\u001B[39mitems():\n\u001B[0;32m   4266\u001B[0m     \u001B[38;5;28;01mif\u001B[39;00m labels \u001B[38;5;129;01mis\u001B[39;00m \u001B[38;5;129;01mnot\u001B[39;00m \u001B[38;5;28;01mNone\u001B[39;00m:\n\u001B[1;32m-> 4267\u001B[0m         obj \u001B[38;5;241m=\u001B[39m \u001B[43mobj\u001B[49m\u001B[38;5;241;43m.\u001B[39;49m\u001B[43m_drop_axis\u001B[49m\u001B[43m(\u001B[49m\u001B[43mlabels\u001B[49m\u001B[43m,\u001B[49m\u001B[43m \u001B[49m\u001B[43maxis\u001B[49m\u001B[43m,\u001B[49m\u001B[43m \u001B[49m\u001B[43mlevel\u001B[49m\u001B[38;5;241;43m=\u001B[39;49m\u001B[43mlevel\u001B[49m\u001B[43m,\u001B[49m\u001B[43m \u001B[49m\u001B[43merrors\u001B[49m\u001B[38;5;241;43m=\u001B[39;49m\u001B[43merrors\u001B[49m\u001B[43m)\u001B[49m\n\u001B[0;32m   4269\u001B[0m \u001B[38;5;28;01mif\u001B[39;00m inplace:\n\u001B[0;32m   4270\u001B[0m     \u001B[38;5;28mself\u001B[39m\u001B[38;5;241m.\u001B[39m_update_inplace(obj)\n",
      "File \u001B[1;32m~\\anaconda3\\lib\\site-packages\\pandas\\core\\generic.py:4311\u001B[0m, in \u001B[0;36mNDFrame._drop_axis\u001B[1;34m(self, labels, axis, level, errors, consolidate, only_slice)\u001B[0m\n\u001B[0;32m   4309\u001B[0m         new_axis \u001B[38;5;241m=\u001B[39m axis\u001B[38;5;241m.\u001B[39mdrop(labels, level\u001B[38;5;241m=\u001B[39mlevel, errors\u001B[38;5;241m=\u001B[39merrors)\n\u001B[0;32m   4310\u001B[0m     \u001B[38;5;28;01melse\u001B[39;00m:\n\u001B[1;32m-> 4311\u001B[0m         new_axis \u001B[38;5;241m=\u001B[39m \u001B[43maxis\u001B[49m\u001B[38;5;241;43m.\u001B[39;49m\u001B[43mdrop\u001B[49m\u001B[43m(\u001B[49m\u001B[43mlabels\u001B[49m\u001B[43m,\u001B[49m\u001B[43m \u001B[49m\u001B[43merrors\u001B[49m\u001B[38;5;241;43m=\u001B[39;49m\u001B[43merrors\u001B[49m\u001B[43m)\u001B[49m\n\u001B[0;32m   4312\u001B[0m     indexer \u001B[38;5;241m=\u001B[39m axis\u001B[38;5;241m.\u001B[39mget_indexer(new_axis)\n\u001B[0;32m   4314\u001B[0m \u001B[38;5;66;03m# Case for non-unique axis\u001B[39;00m\n\u001B[0;32m   4315\u001B[0m \u001B[38;5;28;01melse\u001B[39;00m:\n",
      "File \u001B[1;32m~\\anaconda3\\lib\\site-packages\\pandas\\core\\indexes\\base.py:6661\u001B[0m, in \u001B[0;36mIndex.drop\u001B[1;34m(self, labels, errors)\u001B[0m\n\u001B[0;32m   6659\u001B[0m \u001B[38;5;28;01mif\u001B[39;00m mask\u001B[38;5;241m.\u001B[39many():\n\u001B[0;32m   6660\u001B[0m     \u001B[38;5;28;01mif\u001B[39;00m errors \u001B[38;5;241m!=\u001B[39m \u001B[38;5;124m\"\u001B[39m\u001B[38;5;124mignore\u001B[39m\u001B[38;5;124m\"\u001B[39m:\n\u001B[1;32m-> 6661\u001B[0m         \u001B[38;5;28;01mraise\u001B[39;00m \u001B[38;5;167;01mKeyError\u001B[39;00m(\u001B[38;5;124mf\u001B[39m\u001B[38;5;124m\"\u001B[39m\u001B[38;5;132;01m{\u001B[39;00m\u001B[38;5;28mlist\u001B[39m(labels[mask])\u001B[38;5;132;01m}\u001B[39;00m\u001B[38;5;124m not found in axis\u001B[39m\u001B[38;5;124m\"\u001B[39m)\n\u001B[0;32m   6662\u001B[0m     indexer \u001B[38;5;241m=\u001B[39m indexer[\u001B[38;5;241m~\u001B[39mmask]\n\u001B[0;32m   6663\u001B[0m \u001B[38;5;28;01mreturn\u001B[39;00m \u001B[38;5;28mself\u001B[39m\u001B[38;5;241m.\u001B[39mdelete(indexer)\n",
      "\u001B[1;31mKeyError\u001B[0m: \"['Unnamed: 0'] not found in axis\""
     ]
    }
   ],
   "source": [
    "# Suppresion de la colonne Unnamed: 0 dans les datasets (duplicat du numéro de la ligne)\n",
    "data_orders_distance.drop(columns=['Unnamed: 0'],inplace=True)\n",
    "data_orders_products.drop(columns=['Unnamed: 0'],inplace=True)"
   ],
   "metadata": {
    "collapsed": false,
    "ExecuteTime": {
     "end_time": "2024-04-02T22:03:54.010555100Z",
     "start_time": "2024-04-02T22:03:53.753728900Z"
    }
   },
   "id": "ec6f27fb7c62bd43"
  },
  {
   "cell_type": "markdown",
   "source": [
    "On affiche quelques informations caractérisant les données afin de mieux les appréhender.\n",
    "Nous réutiliserons ces informations par la suite car elles sont caractéristiques des distributions des données. Nous chercherons donc à les retrouver après avoir réduit le nombre de lignes. "
   ],
   "metadata": {
    "collapsed": false
   },
   "id": "75c3d08145b6b09d"
  },
  {
   "cell_type": "code",
   "execution_count": 169,
   "outputs": [
    {
     "data": {
      "text/plain": "             user_id       store_id       distance      order_id  eval_set  \\\ncount  136026.000000  136026.000000  136026.000000  1.360260e+05  136026.0   \nmean   101827.940320       4.503374       1.253315  1.713599e+06       1.0   \nstd     60550.815551       2.866815       0.656473  9.868517e+05       0.0   \nmin       210.000000       0.000000       0.002863  1.500000e+01       1.0   \n25%     49210.000000       2.000000       0.764297  8.590620e+05       1.0   \n50%    100229.000000       5.000000       1.173100  1.718160e+06       1.0   \n75%    154378.000000       7.000000       1.656305  2.565938e+06       1.0   \nmax    206105.000000       9.000000       4.843817  3.421069e+06       1.0   \n\n        order_number      order_dow  order_hour_of_day  days_since_prior_order  \ncount  136026.000000  136026.000000      136026.000000           134652.000000  \nmean       50.000000       2.884419          13.036853                2.848097  \nstd        28.577485       1.887552           4.233527                2.537760  \nmin         1.000000       0.000000           0.000000                0.000000  \n25%        25.000000       1.000000          10.000000                1.000000  \n50%        50.000000       3.000000          13.000000                2.000000  \n75%        75.000000       4.000000          16.000000                4.000000  \nmax        99.000000       6.000000          23.000000               30.000000  ",
      "text/html": "<div>\n<style scoped>\n    .dataframe tbody tr th:only-of-type {\n        vertical-align: middle;\n    }\n\n    .dataframe tbody tr th {\n        vertical-align: top;\n    }\n\n    .dataframe thead th {\n        text-align: right;\n    }\n</style>\n<table border=\"1\" class=\"dataframe\">\n  <thead>\n    <tr style=\"text-align: right;\">\n      <th></th>\n      <th>user_id</th>\n      <th>store_id</th>\n      <th>distance</th>\n      <th>order_id</th>\n      <th>eval_set</th>\n      <th>order_number</th>\n      <th>order_dow</th>\n      <th>order_hour_of_day</th>\n      <th>days_since_prior_order</th>\n    </tr>\n  </thead>\n  <tbody>\n    <tr>\n      <th>count</th>\n      <td>136026.000000</td>\n      <td>136026.000000</td>\n      <td>136026.000000</td>\n      <td>1.360260e+05</td>\n      <td>136026.0</td>\n      <td>136026.000000</td>\n      <td>136026.000000</td>\n      <td>136026.000000</td>\n      <td>134652.000000</td>\n    </tr>\n    <tr>\n      <th>mean</th>\n      <td>101827.940320</td>\n      <td>4.503374</td>\n      <td>1.253315</td>\n      <td>1.713599e+06</td>\n      <td>1.0</td>\n      <td>50.000000</td>\n      <td>2.884419</td>\n      <td>13.036853</td>\n      <td>2.848097</td>\n    </tr>\n    <tr>\n      <th>std</th>\n      <td>60550.815551</td>\n      <td>2.866815</td>\n      <td>0.656473</td>\n      <td>9.868517e+05</td>\n      <td>0.0</td>\n      <td>28.577485</td>\n      <td>1.887552</td>\n      <td>4.233527</td>\n      <td>2.537760</td>\n    </tr>\n    <tr>\n      <th>min</th>\n      <td>210.000000</td>\n      <td>0.000000</td>\n      <td>0.002863</td>\n      <td>1.500000e+01</td>\n      <td>1.0</td>\n      <td>1.000000</td>\n      <td>0.000000</td>\n      <td>0.000000</td>\n      <td>0.000000</td>\n    </tr>\n    <tr>\n      <th>25%</th>\n      <td>49210.000000</td>\n      <td>2.000000</td>\n      <td>0.764297</td>\n      <td>8.590620e+05</td>\n      <td>1.0</td>\n      <td>25.000000</td>\n      <td>1.000000</td>\n      <td>10.000000</td>\n      <td>1.000000</td>\n    </tr>\n    <tr>\n      <th>50%</th>\n      <td>100229.000000</td>\n      <td>5.000000</td>\n      <td>1.173100</td>\n      <td>1.718160e+06</td>\n      <td>1.0</td>\n      <td>50.000000</td>\n      <td>3.000000</td>\n      <td>13.000000</td>\n      <td>2.000000</td>\n    </tr>\n    <tr>\n      <th>75%</th>\n      <td>154378.000000</td>\n      <td>7.000000</td>\n      <td>1.656305</td>\n      <td>2.565938e+06</td>\n      <td>1.0</td>\n      <td>75.000000</td>\n      <td>4.000000</td>\n      <td>16.000000</td>\n      <td>4.000000</td>\n    </tr>\n    <tr>\n      <th>max</th>\n      <td>206105.000000</td>\n      <td>9.000000</td>\n      <td>4.843817</td>\n      <td>3.421069e+06</td>\n      <td>1.0</td>\n      <td>99.000000</td>\n      <td>6.000000</td>\n      <td>23.000000</td>\n      <td>30.000000</td>\n    </tr>\n  </tbody>\n</table>\n</div>"
     },
     "execution_count": 169,
     "metadata": {},
     "output_type": "execute_result"
    }
   ],
   "source": [
    "data_orders_distance.describe()"
   ],
   "metadata": {
    "collapsed": false,
    "ExecuteTime": {
     "end_time": "2024-04-02T22:03:55.467850600Z",
     "start_time": "2024-04-02T22:03:55.415157900Z"
    }
   },
   "id": "b89a3767d93cbbff"
  },
  {
   "cell_type": "code",
   "execution_count": 170,
   "outputs": [
    {
     "data": {
      "text/plain": "           order_id    product_id  add_to_cart_order     reordered  \\\ncount  1.172312e+06  1.172312e+06       1.172312e+06  1.172312e+06   \nmean   1.710806e+06  2.558317e+04       7.311208e+00  7.744346e-01   \nstd    9.865049e+05  1.403693e+04       6.661885e+00  4.179543e-01   \nmin    1.500000e+01  1.000000e+00       1.000000e+00  0.000000e+00   \n25%    8.571920e+05  1.357500e+04       3.000000e+00  1.000000e+00   \n50%    1.713000e+06  2.514600e+04       5.000000e+00  1.000000e+00   \n75%    2.563004e+06  3.801600e+04       1.000000e+01  1.000000e+00   \nmax    3.421069e+06  4.968300e+04       9.800000e+01  1.000000e+00   \n\n            special  \ncount  1.172312e+06  \nmean   9.745972e+00  \nstd    1.497054e+01  \nmin    0.000000e+00  \n25%    0.000000e+00  \n50%    0.000000e+00  \n75%    1.500000e+01  \nmax    5.000000e+01  ",
      "text/html": "<div>\n<style scoped>\n    .dataframe tbody tr th:only-of-type {\n        vertical-align: middle;\n    }\n\n    .dataframe tbody tr th {\n        vertical-align: top;\n    }\n\n    .dataframe thead th {\n        text-align: right;\n    }\n</style>\n<table border=\"1\" class=\"dataframe\">\n  <thead>\n    <tr style=\"text-align: right;\">\n      <th></th>\n      <th>order_id</th>\n      <th>product_id</th>\n      <th>add_to_cart_order</th>\n      <th>reordered</th>\n      <th>special</th>\n    </tr>\n  </thead>\n  <tbody>\n    <tr>\n      <th>count</th>\n      <td>1.172312e+06</td>\n      <td>1.172312e+06</td>\n      <td>1.172312e+06</td>\n      <td>1.172312e+06</td>\n      <td>1.172312e+06</td>\n    </tr>\n    <tr>\n      <th>mean</th>\n      <td>1.710806e+06</td>\n      <td>2.558317e+04</td>\n      <td>7.311208e+00</td>\n      <td>7.744346e-01</td>\n      <td>9.745972e+00</td>\n    </tr>\n    <tr>\n      <th>std</th>\n      <td>9.865049e+05</td>\n      <td>1.403693e+04</td>\n      <td>6.661885e+00</td>\n      <td>4.179543e-01</td>\n      <td>1.497054e+01</td>\n    </tr>\n    <tr>\n      <th>min</th>\n      <td>1.500000e+01</td>\n      <td>1.000000e+00</td>\n      <td>1.000000e+00</td>\n      <td>0.000000e+00</td>\n      <td>0.000000e+00</td>\n    </tr>\n    <tr>\n      <th>25%</th>\n      <td>8.571920e+05</td>\n      <td>1.357500e+04</td>\n      <td>3.000000e+00</td>\n      <td>1.000000e+00</td>\n      <td>0.000000e+00</td>\n    </tr>\n    <tr>\n      <th>50%</th>\n      <td>1.713000e+06</td>\n      <td>2.514600e+04</td>\n      <td>5.000000e+00</td>\n      <td>1.000000e+00</td>\n      <td>0.000000e+00</td>\n    </tr>\n    <tr>\n      <th>75%</th>\n      <td>2.563004e+06</td>\n      <td>3.801600e+04</td>\n      <td>1.000000e+01</td>\n      <td>1.000000e+00</td>\n      <td>1.500000e+01</td>\n    </tr>\n    <tr>\n      <th>max</th>\n      <td>3.421069e+06</td>\n      <td>4.968300e+04</td>\n      <td>9.800000e+01</td>\n      <td>1.000000e+00</td>\n      <td>5.000000e+01</td>\n    </tr>\n  </tbody>\n</table>\n</div>"
     },
     "execution_count": 170,
     "metadata": {},
     "output_type": "execute_result"
    }
   ],
   "source": [
    "data_orders_products.describe()"
   ],
   "metadata": {
    "collapsed": false,
    "ExecuteTime": {
     "end_time": "2024-04-02T22:03:56.221602500Z",
     "start_time": "2024-04-02T22:03:56.091203500Z"
    }
   },
   "id": "6a635e7dbb84e934"
  },
  {
   "cell_type": "code",
   "execution_count": 171,
   "outputs": [
    {
     "data": {
      "text/plain": "int64      6\nfloat64    2\nuint8      1\ndtype: int64"
     },
     "execution_count": 171,
     "metadata": {},
     "output_type": "execute_result"
    }
   ],
   "source": [
    "# Compte des types d'attributs\n",
    "data_orders_distance.dtypes.value_counts()"
   ],
   "metadata": {
    "collapsed": false,
    "ExecuteTime": {
     "end_time": "2024-04-02T22:03:56.994068400Z",
     "start_time": "2024-04-02T22:03:56.976569200Z"
    }
   },
   "id": "6405e043df3f040b"
  },
  {
   "cell_type": "code",
   "execution_count": 172,
   "outputs": [
    {
     "data": {
      "text/plain": "int64    5\ndtype: int64"
     },
     "execution_count": 172,
     "metadata": {},
     "output_type": "execute_result"
    }
   ],
   "source": [
    "data_orders_products.dtypes.value_counts()"
   ],
   "metadata": {
    "collapsed": false,
    "ExecuteTime": {
     "end_time": "2024-04-02T22:03:58.406218Z",
     "start_time": "2024-04-02T22:03:58.390189300Z"
    }
   },
   "id": "89d4ace8b122ba16"
  },
  {
   "cell_type": "markdown",
   "source": [
    "#### Nettoyage des données"
   ],
   "metadata": {
    "collapsed": false
   },
   "id": "b7ec4b62e342d1b0"
  },
  {
   "cell_type": "markdown",
   "source": [
    "##### Valeurs manquantes"
   ],
   "metadata": {
    "collapsed": false
   },
   "id": "3b642e958afcce07"
  },
  {
   "cell_type": "markdown",
   "source": [
    "On commence par regarder du côté des valeurs manquantes en regardant le pourcentage de valeurs manquantes dans pour chaque colonnes des datasets"
   ],
   "metadata": {
    "collapsed": false
   },
   "id": "a806d9be0d65af7e"
  },
  {
   "cell_type": "code",
   "execution_count": 173,
   "outputs": [
    {
     "name": "stdout",
     "output_type": "stream",
     "text": [
      " Table des valeurs manquantes dans le dataset order_distance_stores_softmax\n",
      "user_id                   0.000000\n",
      "store_id                  0.000000\n",
      "distance                  0.000000\n",
      "order_id                  0.000000\n",
      "eval_set                  0.000000\n",
      "order_number              0.000000\n",
      "order_dow                 0.000000\n",
      "order_hour_of_day         0.000000\n",
      "days_since_prior_order    1.010101\n",
      "dtype: float64\n",
      "\n",
      "\n",
      "Table des valeurs manquantes dans le dataset order_products_prior_specials\n",
      "order_id             0.0\n",
      "product_id           0.0\n",
      "add_to_cart_order    0.0\n",
      "reordered            0.0\n",
      "special              0.0\n",
      "dtype: float64\n"
     ]
    }
   ],
   "source": [
    "print(f\" Table des valeurs manquantes dans le dataset order_distance_stores_softmax\\n{data_orders_distance.isnull().mean() * 100}\")\n",
    "print(\"\\n\")\n",
    "print(f\"Table des valeurs manquantes dans le dataset order_products_prior_specials\\n{data_orders_products.isnull().mean() * 100}\")"
   ],
   "metadata": {
    "collapsed": false,
    "ExecuteTime": {
     "end_time": "2024-04-02T22:04:00.799493400Z",
     "start_time": "2024-04-02T22:04:00.743532600Z"
    }
   },
   "id": "435488f0b1ee8018"
  },
  {
   "cell_type": "markdown",
   "source": [
    "Il manque environ 1% de valeurs dans le dataset order_distance_stores_softmax pour la colonne 'days_since_prior_order' indiquant le nombre de jours écoulés depuis le dernier achat.\n",
    "Comme l'on possède beaucoup de données, on pourrait supprimer les lignes correspondant dont les valeurs sont manquantes à conditions qu'aucune information caractéristique d'un comportement client précis ne soit encodé **uniquement** par ces points, c'est-à-dire que les valeurs manquantes pour ces colonnes ne soient pas typiques d'un comportement du client.\n",
    "\n",
    "Dans le but d'étudier s'il est raisonnable de faire cette hypothèse (et ne pouvant directement demander l'avis d'un expert dans le domaine) nous visualisons les distributions des données associées à la colonne 'days_since_prior_order'"
   ],
   "metadata": {
    "collapsed": false
   },
   "id": "c28fea3de5df5595"
  },
  {
   "cell_type": "code",
   "execution_count": 174,
   "outputs": [
    {
     "data": {
      "text/plain": "count    134652.000000\nmean          2.848097\nstd           2.537760\nmin           0.000000\n25%           1.000000\n50%           2.000000\n75%           4.000000\nmax          30.000000\nName: days_since_prior_order, dtype: float64"
     },
     "execution_count": 174,
     "metadata": {},
     "output_type": "execute_result"
    }
   ],
   "source": [
    "data_orders_distance['days_since_prior_order'].describe()"
   ],
   "metadata": {
    "collapsed": false,
    "ExecuteTime": {
     "end_time": "2024-04-02T22:04:03.250319800Z",
     "start_time": "2024-04-02T22:04:03.235590100Z"
    }
   },
   "id": "e63a267e2dcf9ead"
  },
  {
   "cell_type": "code",
   "execution_count": 175,
   "outputs": [
    {
     "name": "stdout",
     "output_type": "stream",
     "text": [
      "Nombre de données NULL : 0\n"
     ]
    },
    {
     "data": {
      "text/plain": "count    134652.000000\nmean          2.848097\nstd           2.537760\nmin           0.000000\n25%           1.000000\n50%           2.000000\n75%           4.000000\nmax          30.000000\nName: days_since_prior_order, dtype: float64"
     },
     "execution_count": 175,
     "metadata": {},
     "output_type": "execute_result"
    }
   ],
   "source": [
    "data_orders_distance_without_null_values = data_orders_distance.dropna(subset=['days_since_prior_order'])\n",
    "# Vérification\n",
    "print(f\"Nombre de données NULL : {data_orders_distance_without_null_values['days_since_prior_order'].isnull().sum()}\")\n",
    "data_orders_distance_without_null_values['days_since_prior_order'].describe()"
   ],
   "metadata": {
    "collapsed": false,
    "ExecuteTime": {
     "end_time": "2024-04-02T22:04:06.278299800Z",
     "start_time": "2024-04-02T22:04:06.227449400Z"
    }
   },
   "id": "141c024ec2fd9223"
  },
  {
   "cell_type": "markdown",
   "source": [
    "Nous ne constatons aucune différence dans les valeurs statistiques décrivant les 2 distributions ce qui semble indiquer que la suppresion des lignes pour lesquelles des valeurs sont manquantes ne modifie pas la distribution.\n",
    "Dans la suite, nous utiliserons donc les données sans valeurs manquantes."
   ],
   "metadata": {
    "collapsed": false
   },
   "id": "d2b2928d3bc4e055"
  },
  {
   "cell_type": "markdown",
   "source": [
    "Remarque : Nous aurions aussi pu réaliser un test du khi 2 dans le but de vérifier notre hypothèse mais étant donné le peu de valeurs manquante et les résultats fournis par la visualisation précédente, cela nous semblait un peu trop lourd et nous avons plutôt choisi de nous concentrer sur les autres aspects du prétraitement."
   ],
   "metadata": {
    "collapsed": false
   },
   "id": "5e49611e0bd6fc14"
  },
  {
   "cell_type": "code",
   "execution_count": 176,
   "outputs": [],
   "source": [
    "data_orders_distance.dropna(subset=['days_since_prior_order'],inplace=True)"
   ],
   "metadata": {
    "collapsed": false,
    "ExecuteTime": {
     "end_time": "2024-04-02T22:04:08.405625Z",
     "start_time": "2024-04-02T22:04:08.386854700Z"
    }
   },
   "id": "ee3ce1d7866ff26b"
  },
  {
   "cell_type": "markdown",
   "source": [
    "##### Valeurs dupliquées"
   ],
   "metadata": {
    "collapsed": false
   },
   "id": "af3267858c42826"
  },
  {
   "cell_type": "code",
   "execution_count": 177,
   "outputs": [
    {
     "name": "stdout",
     "output_type": "stream",
     "text": [
      "Nombre de valeurs dupliquées dans les données order_products_prior_specials \n",
      "order_id             0.0\n",
      "product_id           0.0\n",
      "add_to_cart_order    0.0\n",
      "reordered            0.0\n",
      "special              0.0\n",
      "dtype: float64\n",
      "Nombre de valeurs dupliquées dans les données order_distance_stores_softmax \n",
      "user_id                   0.0\n",
      "store_id                  0.0\n",
      "distance                  0.0\n",
      "order_id                  0.0\n",
      "eval_set                  0.0\n",
      "order_number              0.0\n",
      "order_dow                 0.0\n",
      "order_hour_of_day         0.0\n",
      "days_since_prior_order    0.0\n",
      "dtype: float64\n"
     ]
    }
   ],
   "source": [
    "duplicates_df_products = data_orders_products[data_orders_products.duplicated()]\n",
    "duplicates_df_products_sorted = duplicates_df_products.sort_values(by=['order_id'])\n",
    "print(f\"Nombre de valeurs dupliquées dans les données order_products_prior_specials \\n{duplicates_df_products_sorted.sum()}\")\n",
    "\n",
    "duplicates_df_distance = data_orders_distance[data_orders_distance.duplicated()]\n",
    "duplicates_df_distance_sorted = duplicates_df_distance.sort_values(by=['order_id'])\n",
    "print(f\"Nombre de valeurs dupliquées dans les données order_distance_stores_softmax \\n{duplicates_df_distance_sorted.sum()}\")"
   ],
   "metadata": {
    "collapsed": false,
    "ExecuteTime": {
     "end_time": "2024-04-02T22:04:09.639116200Z",
     "start_time": "2024-04-02T22:04:09.416459400Z"
    }
   },
   "id": "9875dc78185e41c5"
  },
  {
   "cell_type": "markdown",
   "source": [
    "Il n'y a pas de lignes dupliquées dans les données."
   ],
   "metadata": {
    "collapsed": false
   },
   "id": "f7aaeda261e04578"
  },
  {
   "cell_type": "markdown",
   "source": [
    "##### Gestion des outliers"
   ],
   "metadata": {
    "collapsed": false
   },
   "id": "d3aca05ebe4b16d1"
  },
  {
   "cell_type": "markdown",
   "source": [
    "On commence par visualiser les colonnes pour lesquelles les outliers sont nombreux à l'aide de boxplots."
   ],
   "metadata": {
    "collapsed": false
   },
   "id": "ae95409534831bda"
  },
  {
   "cell_type": "code",
   "execution_count": 178,
   "outputs": [
    {
     "name": "stdout",
     "output_type": "stream",
     "text": [
      "Boxplots des colonnes du dataset order_distance_stores_softmax\n"
     ]
    },
    {
     "data": {
      "text/plain": "<Figure size 1080x360 with 9 Axes>",
      "image/png": "[encoded data removed]"
     },
     "metadata": {},
     "output_type": "display_data"
    }
   ],
   "source": [
    "def detect_susceptible_outlier(data) : \n",
    "    fig, axes = plt.subplots(nrows=1, ncols=len(data.columns), figsize=(15, 5))\n",
    "    for i, col in enumerate(data.columns):\n",
    "        data.boxplot(column=col, ax=axes[i])\n",
    "        axes[i].set_title(col)\n",
    "    \n",
    "    # Adjust layout\n",
    "    plt.tight_layout()\n",
    "    plt.show()\n",
    "\n",
    "print(\"Boxplots des colonnes du dataset order_distance_stores_softmax\")\n",
    "detect_susceptible_outlier(data_orders_distance)"
   ],
   "metadata": {
    "collapsed": false,
    "ExecuteTime": {
     "end_time": "2024-04-02T22:04:13.468208700Z",
     "start_time": "2024-04-02T22:04:12.365098900Z"
    }
   },
   "id": "386e3c2cc040dd4d"
  },
  {
   "cell_type": "code",
   "execution_count": 179,
   "outputs": [
    {
     "name": "stdout",
     "output_type": "stream",
     "text": [
      "Boxplots des colonnes du dataset order_products_prior_specials\n"
     ]
    },
    {
     "data": {
      "text/plain": "<Figure size 1080x360 with 5 Axes>",
      "image/png": "[encoded data removed]"
     },
     "metadata": {},
     "output_type": "display_data"
    }
   ],
   "source": [
    "print(\"Boxplots des colonnes du dataset order_products_prior_specials\")\n",
    "detect_susceptible_outlier(data_orders_products)"
   ],
   "metadata": {
    "collapsed": false,
    "ExecuteTime": {
     "end_time": "2024-04-02T22:04:19.210461300Z",
     "start_time": "2024-04-02T22:04:15.733729300Z"
    }
   },
   "id": "5b9fd2cb577f0b9"
  },
  {
   "cell_type": "markdown",
   "source": [
    "Les attributs susceptibles d'avoir des outliers pour les données 'order_distance_stores_softmax' sont :\n",
    "    + distance\n",
    "    + order_hour_of_day\n",
    "    + days_since_prior_order\n",
    "Les attributs susceptibles d'avoir des outliers pour les données 'order_products_prior_specials' sont :\n",
    "    + add_to_cart_order\n",
    "    + special"
   ],
   "metadata": {
    "collapsed": false
   },
   "id": "d5f02052fa427f67"
  },
  {
   "cell_type": "markdown",
   "source": [
    "Ces outliers peuvent toutefois encoder des informations importantes concernant le comportement des clients. Comme ils sont peu nombreux, nous choississons pour l'instant de les conserver dans le dataset et travaillerons dessus si les algorithmes le necessitent dans la suite"
   ],
   "metadata": {
    "collapsed": false
   },
   "id": "c675349b191b04f6"
  },
  {
   "cell_type": "markdown",
   "source": [
    "#### Intégration des données"
   ],
   "metadata": {
    "collapsed": false
   },
   "id": "3c15aa17fc2264df"
  },
  {
   "cell_type": "markdown",
   "source": [
    "##### Combinaison des datasets\n",
    "On fusionne les datasets selon les id des commandes"
   ],
   "metadata": {
    "collapsed": false
   },
   "id": "14a025a6cf5651ea"
  },
  {
   "cell_type": "code",
   "execution_count": 185,
   "outputs": [],
   "source": [
    "data_orders = pd.merge(data_orders_products, data_orders_distance, on='order_id', how='inner')"
   ],
   "metadata": {
    "collapsed": false,
    "ExecuteTime": {
     "end_time": "2024-04-02T22:28:55.336836800Z",
     "start_time": "2024-04-02T22:28:55.099052900Z"
    }
   },
   "id": "8675d9d14f86f53e"
  },
  {
   "cell_type": "code",
   "execution_count": 186,
   "outputs": [
    {
     "data": {
      "text/plain": "   order_id  product_id  add_to_cart_order  reordered  special  user_id  \\\n0        15       19660                  1          1       15    54901   \n1        15       21195                  2          1        0    54901   \n2        15        7461                  3          1       50    54901   \n3        15        2996                  4          1        0    54901   \n4        15       32463                  5          1        0    54901   \n\n   store_id  distance  eval_set  order_number  order_dow  order_hour_of_day  \\\n0         1  0.304608         1            51          3                 11   \n1         1  0.304608         1            51          3                 11   \n2         1  0.304608         1            51          3                 11   \n3         1  0.304608         1            51          3                 11   \n4         1  0.304608         1            51          3                 11   \n\n   days_since_prior_order  \n0                     2.0  \n1                     2.0  \n2                     2.0  \n3                     2.0  \n4                     2.0  ",
      "text/html": "<div>\n<style scoped>\n    .dataframe tbody tr th:only-of-type {\n        vertical-align: middle;\n    }\n\n    .dataframe tbody tr th {\n        vertical-align: top;\n    }\n\n    .dataframe thead th {\n        text-align: right;\n    }\n</style>\n<table border=\"1\" class=\"dataframe\">\n  <thead>\n    <tr style=\"text-align: right;\">\n      <th></th>\n      <th>order_id</th>\n      <th>product_id</th>\n      <th>add_to_cart_order</th>\n      <th>reordered</th>\n      <th>special</th>\n      <th>user_id</th>\n      <th>store_id</th>\n      <th>distance</th>\n      <th>eval_set</th>\n      <th>order_number</th>\n      <th>order_dow</th>\n      <th>order_hour_of_day</th>\n      <th>days_since_prior_order</th>\n    </tr>\n  </thead>\n  <tbody>\n    <tr>\n      <th>0</th>\n      <td>15</td>\n      <td>19660</td>\n      <td>1</td>\n      <td>1</td>\n      <td>15</td>\n      <td>54901</td>\n      <td>1</td>\n      <td>0.304608</td>\n      <td>1</td>\n      <td>51</td>\n      <td>3</td>\n      <td>11</td>\n      <td>2.0</td>\n    </tr>\n    <tr>\n      <th>1</th>\n      <td>15</td>\n      <td>21195</td>\n      <td>2</td>\n      <td>1</td>\n      <td>0</td>\n      <td>54901</td>\n      <td>1</td>\n      <td>0.304608</td>\n      <td>1</td>\n      <td>51</td>\n      <td>3</td>\n      <td>11</td>\n      <td>2.0</td>\n    </tr>\n    <tr>\n      <th>2</th>\n      <td>15</td>\n      <td>7461</td>\n      <td>3</td>\n      <td>1</td>\n      <td>50</td>\n      <td>54901</td>\n      <td>1</td>\n      <td>0.304608</td>\n      <td>1</td>\n      <td>51</td>\n      <td>3</td>\n      <td>11</td>\n      <td>2.0</td>\n    </tr>\n    <tr>\n      <th>3</th>\n      <td>15</td>\n      <td>2996</td>\n      <td>4</td>\n      <td>1</td>\n      <td>0</td>\n      <td>54901</td>\n      <td>1</td>\n      <td>0.304608</td>\n      <td>1</td>\n      <td>51</td>\n      <td>3</td>\n      <td>11</td>\n      <td>2.0</td>\n    </tr>\n    <tr>\n      <th>4</th>\n      <td>15</td>\n      <td>32463</td>\n      <td>5</td>\n      <td>1</td>\n      <td>0</td>\n      <td>54901</td>\n      <td>1</td>\n      <td>0.304608</td>\n      <td>1</td>\n      <td>51</td>\n      <td>3</td>\n      <td>11</td>\n      <td>2.0</td>\n    </tr>\n  </tbody>\n</table>\n</div>"
     },
     "execution_count": 186,
     "metadata": {},
     "output_type": "execute_result"
    }
   ],
   "source": [
    "# Vérification simple\n",
    "data_orders.head()"
   ],
   "metadata": {
    "collapsed": false,
    "ExecuteTime": {
     "end_time": "2024-04-02T22:28:55.848052200Z",
     "start_time": "2024-04-02T22:28:55.827903900Z"
    }
   },
   "id": "6e91eefbce939312"
  },
  {
   "cell_type": "markdown",
   "source": [
    "#### Réduction"
   ],
   "metadata": {
    "collapsed": false
   },
   "id": "ccc7852139929a6f"
  },
  {
   "cell_type": "markdown",
   "source": [
    "##### Feature engineering rapide\n",
    "Bien que cela ne soit pas demandé explicitemment dans le sujet du tp, nous regardons rapidement la corrélation 2 à 2 entre les différents attributs des données afin de pouvoir éliminer d'éventuelles redondances dans ces dernière au cas où nous ayons besoin d'accélerer l'entraîenment de nos algorithmes dans la suite."
   ],
   "metadata": {
    "collapsed": false
   },
   "id": "a168e3bc4779dbd2"
  },
  {
   "cell_type": "code",
   "execution_count": 187,
   "outputs": [
    {
     "data": {
      "text/plain": "<Figure size 720x576 with 2 Axes>",
      "image/png": "[encoded data removed]"
     },
     "metadata": {},
     "output_type": "display_data"
    }
   ],
   "source": [
    "# Corrélation 2 à 2 pour les données order_distance_stores_softmax\n",
    "correlation_matrix_orders = data_orders.corr()\n",
    "plt.figure(figsize=(10, 8))\n",
    "sns.heatmap(correlation_matrix_orders, annot=True, cmap='coolwarm', fmt=\".2f\", annot_kws={\"size\": 10})\n",
    "plt.title('Corrélation 2 à 2 entre les colonnes des données order_distance_stores_softmax et order_products_prior_specials')\n",
    "plt.show()"
   ],
   "metadata": {
    "collapsed": false,
    "ExecuteTime": {
     "end_time": "2024-04-02T22:29:33.526390400Z",
     "start_time": "2024-04-02T22:29:31.959040400Z"
    }
   },
   "id": "40fa3f83633f2999"
  },
  {
   "cell_type": "markdown",
   "source": [
    "Les attributs sont très peu corrélés ou non corrélés. On gardes toutes les features pour le moment mais nous n'écartons pas la possibilité de recourir à des techniques de reduction de dimensionalité si l'entraînement des algortihmes le nécessite dans la suite."
   ],
   "metadata": {
    "collapsed": false
   },
   "id": "42e3b461cf3417f6"
  },
  {
   "cell_type": "markdown",
   "source": [
    "##### Réduction des données\n",
    "Nous cherchons à présent à réduire le volume de données tout en conservant le maximum d'information ainsi que des données représentatives du dataset initial.\n",
    "\n",
    "Pour cela, nous procédons à un échantillonage probabiliste **stratifié** de nos données.\n",
    "Le caractère probabiliste de l'échantillonage assure de réduire le biais lié à la selection effectuée. L'aspect stratifié assure quant à lui d'obtenir un sous-ensemble de données **représentatif de la population originelle**"
   ],
   "metadata": {
    "collapsed": false
   },
   "id": "36db5a0c86923acf"
  },
  {
   "cell_type": "code",
   "execution_count": 202,
   "outputs": [
    {
     "name": "stdout",
     "output_type": "stream",
     "text": [
      "['order_id' 'product_id' 'add_to_cart_order' 'reordered' 'special'\n",
      " 'user_id' 'store_id' 'distance' 'eval_set' 'order_number' 'order_dow'\n",
      " 'order_hour_of_day' 'days_since_prior_order']\n"
     ]
    }
   ],
   "source": [
    "# On stratify selon l'attribut 'reordered' qui correspond à notre cible.\n",
    "from sklearn.model_selection import train_test_split\n",
    "\n",
    "# Assuming 'target' is the column representing classes/groups\n",
    "_, sampled_df = train_test_split(data_orders, test_size=0.05, stratify=data_orders['reordered'], random_state=42)\n",
    "\n",
    "# On visualise les statistiques des données obtenues\n",
    "sampled_stats = sampled_df.describe()\n",
    "print(sampled_stats.columns.values)"
   ],
   "metadata": {
    "collapsed": false,
    "ExecuteTime": {
     "end_time": "2024-04-03T00:24:56.790324100Z",
     "start_time": "2024-04-03T00:24:56.265780200Z"
    }
   },
   "id": "9c809622b5ce419"
  },
  {
   "cell_type": "code",
   "execution_count": 192,
   "outputs": [
    {
     "data": {
      "text/plain": "           order_id    product_id  add_to_cart_order     reordered  \\\ncount  1.158441e+06  1.158441e+06       1.158441e+06  1.158441e+06   \nmean   1.710164e+06  2.558395e+04       7.298923e+00  7.837076e-01   \nstd    9.866727e+05  1.403645e+04       6.642580e+00  4.117161e-01   \nmin    1.500000e+01  1.000000e+00       1.000000e+00  0.000000e+00   \n25%    8.561710e+05  1.357500e+04       3.000000e+00  1.000000e+00   \n50%    1.712683e+06  2.514600e+04       5.000000e+00  1.000000e+00   \n75%    2.562347e+06  3.802800e+04       1.000000e+01  1.000000e+00   \nmax    3.421069e+06  4.968300e+04       9.800000e+01  1.000000e+00   \n\n            special       user_id      store_id      distance   eval_set  \\\ncount  1.158441e+06  1.158441e+06  1.158441e+06  1.158441e+06  1158441.0   \nmean   9.729891e+00  1.011315e+05  4.496251e+00  1.252360e+00        1.0   \nstd    1.496066e+01  6.051740e+04  2.858921e+00  6.572331e-01        0.0   \nmin    0.000000e+00  2.100000e+02  0.000000e+00  2.863073e-03        1.0   \n25%    0.000000e+00  4.918600e+04  2.000000e+00  7.634151e-01        1.0   \n50%    0.000000e+00  9.935200e+04  4.000000e+00  1.171138e+00        1.0   \n75%    1.500000e+01  1.545560e+05  7.000000e+00  1.654865e+00        1.0   \nmax    5.000000e+01  2.061050e+05  9.000000e+00  4.843817e+00        1.0   \n\n       order_number     order_dow  order_hour_of_day  days_since_prior_order  \ncount  1.158441e+06  1.158441e+06       1.158441e+06            1.158441e+06  \nmean   5.008975e+01  2.847603e+00       1.298764e+01            3.150326e+00  \nstd    2.874572e+01  1.916809e+00       4.247725e+00            2.730478e+00  \nmin    2.000000e+00  0.000000e+00       0.000000e+00            0.000000e+00  \n25%    2.500000e+01  1.000000e+00       1.000000e+01            1.000000e+00  \n50%    5.000000e+01  3.000000e+00       1.300000e+01            3.000000e+00  \n75%    7.500000e+01  4.000000e+00       1.600000e+01            4.000000e+00  \nmax    9.900000e+01  6.000000e+00       2.300000e+01            3.000000e+01  ",
      "text/html": "<div>\n<style scoped>\n    .dataframe tbody tr th:only-of-type {\n        vertical-align: middle;\n    }\n\n    .dataframe tbody tr th {\n        vertical-align: top;\n    }\n\n    .dataframe thead th {\n        text-align: right;\n    }\n</style>\n<table border=\"1\" class=\"dataframe\">\n  <thead>\n    <tr style=\"text-align: right;\">\n      <th></th>\n      <th>order_id</th>\n      <th>product_id</th>\n      <th>add_to_cart_order</th>\n      <th>reordered</th>\n      <th>special</th>\n      <th>user_id</th>\n      <th>store_id</th>\n      <th>distance</th>\n      <th>eval_set</th>\n      <th>order_number</th>\n      <th>order_dow</th>\n      <th>order_hour_of_day</th>\n      <th>days_since_prior_order</th>\n    </tr>\n  </thead>\n  <tbody>\n    <tr>\n      <th>count</th>\n      <td>1.158441e+06</td>\n      <td>1.158441e+06</td>\n      <td>1.158441e+06</td>\n      <td>1.158441e+06</td>\n      <td>1.158441e+06</td>\n      <td>1.158441e+06</td>\n      <td>1.158441e+06</td>\n      <td>1.158441e+06</td>\n      <td>1158441.0</td>\n      <td>1.158441e+06</td>\n      <td>1.158441e+06</td>\n      <td>1.158441e+06</td>\n      <td>1.158441e+06</td>\n    </tr>\n    <tr>\n      <th>mean</th>\n      <td>1.710164e+06</td>\n      <td>2.558395e+04</td>\n      <td>7.298923e+00</td>\n      <td>7.837076e-01</td>\n      <td>9.729891e+00</td>\n      <td>1.011315e+05</td>\n      <td>4.496251e+00</td>\n      <td>1.252360e+00</td>\n      <td>1.0</td>\n      <td>5.008975e+01</td>\n      <td>2.847603e+00</td>\n      <td>1.298764e+01</td>\n      <td>3.150326e+00</td>\n    </tr>\n    <tr>\n      <th>std</th>\n      <td>9.866727e+05</td>\n      <td>1.403645e+04</td>\n      <td>6.642580e+00</td>\n      <td>4.117161e-01</td>\n      <td>1.496066e+01</td>\n      <td>6.051740e+04</td>\n      <td>2.858921e+00</td>\n      <td>6.572331e-01</td>\n      <td>0.0</td>\n      <td>2.874572e+01</td>\n      <td>1.916809e+00</td>\n      <td>4.247725e+00</td>\n      <td>2.730478e+00</td>\n    </tr>\n    <tr>\n      <th>min</th>\n      <td>1.500000e+01</td>\n      <td>1.000000e+00</td>\n      <td>1.000000e+00</td>\n      <td>0.000000e+00</td>\n      <td>0.000000e+00</td>\n      <td>2.100000e+02</td>\n      <td>0.000000e+00</td>\n      <td>2.863073e-03</td>\n      <td>1.0</td>\n      <td>2.000000e+00</td>\n      <td>0.000000e+00</td>\n      <td>0.000000e+00</td>\n      <td>0.000000e+00</td>\n    </tr>\n    <tr>\n      <th>25%</th>\n      <td>8.561710e+05</td>\n      <td>1.357500e+04</td>\n      <td>3.000000e+00</td>\n      <td>1.000000e+00</td>\n      <td>0.000000e+00</td>\n      <td>4.918600e+04</td>\n      <td>2.000000e+00</td>\n      <td>7.634151e-01</td>\n      <td>1.0</td>\n      <td>2.500000e+01</td>\n      <td>1.000000e+00</td>\n      <td>1.000000e+01</td>\n      <td>1.000000e+00</td>\n    </tr>\n    <tr>\n      <th>50%</th>\n      <td>1.712683e+06</td>\n      <td>2.514600e+04</td>\n      <td>5.000000e+00</td>\n      <td>1.000000e+00</td>\n      <td>0.000000e+00</td>\n      <td>9.935200e+04</td>\n      <td>4.000000e+00</td>\n      <td>1.171138e+00</td>\n      <td>1.0</td>\n      <td>5.000000e+01</td>\n      <td>3.000000e+00</td>\n      <td>1.300000e+01</td>\n      <td>3.000000e+00</td>\n    </tr>\n    <tr>\n      <th>75%</th>\n      <td>2.562347e+06</td>\n      <td>3.802800e+04</td>\n      <td>1.000000e+01</td>\n      <td>1.000000e+00</td>\n      <td>1.500000e+01</td>\n      <td>1.545560e+05</td>\n      <td>7.000000e+00</td>\n      <td>1.654865e+00</td>\n      <td>1.0</td>\n      <td>7.500000e+01</td>\n      <td>4.000000e+00</td>\n      <td>1.600000e+01</td>\n      <td>4.000000e+00</td>\n    </tr>\n    <tr>\n      <th>max</th>\n      <td>3.421069e+06</td>\n      <td>4.968300e+04</td>\n      <td>9.800000e+01</td>\n      <td>1.000000e+00</td>\n      <td>5.000000e+01</td>\n      <td>2.061050e+05</td>\n      <td>9.000000e+00</td>\n      <td>4.843817e+00</td>\n      <td>1.0</td>\n      <td>9.900000e+01</td>\n      <td>6.000000e+00</td>\n      <td>2.300000e+01</td>\n      <td>3.000000e+01</td>\n    </tr>\n  </tbody>\n</table>\n</div>"
     },
     "execution_count": 192,
     "metadata": {},
     "output_type": "execute_result"
    }
   ],
   "source": [
    "# Visualisation des statistiques sur les données avant sampling\n",
    "data_orders.describe()"
   ],
   "metadata": {
    "collapsed": false,
    "ExecuteTime": {
     "end_time": "2024-04-02T23:18:03.549781600Z",
     "start_time": "2024-04-02T23:18:03.293434200Z"
    }
   },
   "id": "5b5a051c9468b23f"
  },
  {
   "cell_type": "markdown",
   "source": [
    "on compare les statistiques avant et après sampling pour voir si la diversité des données est aussi bien représentée qu'avant."
   ],
   "metadata": {
    "collapsed": false
   },
   "id": "64b036bdb5845064"
  },
  {
   "cell_type": "code",
   "execution_count": 205,
   "outputs": [
    {
     "name": "stdout",
     "output_type": "stream",
     "text": [
      "[count    90.476042\n",
      "mean      0.091231\n",
      "std       0.079166\n",
      "min      72.727273\n",
      "25%       0.261172\n",
      "50%       0.091958\n",
      "75%       0.044948\n",
      "max       0.000614\n",
      "Name: order_id, dtype: float64, count    90.476042\n",
      "mean      0.079241\n",
      "std       0.154130\n",
      "min       0.000000\n",
      "25%       0.723428\n",
      "50%       0.000000\n",
      "75%       0.165393\n",
      "max       0.000000\n",
      "Name: product_id, dtype: float64, count    90.476042\n",
      "mean      0.253914\n",
      "std       0.043980\n",
      "min       0.000000\n",
      "25%       0.000000\n",
      "50%       0.000000\n",
      "75%       0.000000\n",
      "max       0.000000\n",
      "Name: add_to_cart_order, dtype: float64, count    90.476042\n",
      "mean      0.000336\n",
      "std       0.000031\n",
      "min            NaN\n",
      "25%       0.000000\n",
      "50%       0.000000\n",
      "75%       0.000000\n",
      "max       0.000000\n",
      "Name: reordered, dtype: float64, count    90.476042\n",
      "mean      0.268139\n",
      "std       0.094313\n",
      "min            NaN\n",
      "25%            NaN\n",
      "50%            NaN\n",
      "75%       0.000000\n",
      "max       0.000000\n",
      "Name: special, dtype: float64, count    90.476042\n",
      "mean      0.325658\n",
      "std       0.026031\n",
      "min       0.000000\n",
      "25%       0.463653\n",
      "50%       0.379383\n",
      "75%       0.546135\n",
      "max       0.000000\n",
      "Name: user_id, dtype: float64, count    90.476042\n",
      "mean      0.123616\n",
      "std       0.183112\n",
      "min            NaN\n",
      "25%       0.000000\n",
      "50%      11.111111\n",
      "75%       0.000000\n",
      "max       0.000000\n",
      "Name: store_id, dtype: float64, count    90.476042\n",
      "mean      0.057565\n",
      "std       0.115667\n",
      "min       0.000000\n",
      "25%       0.129373\n",
      "50%       0.155285\n",
      "75%       0.038629\n",
      "max       0.000000\n",
      "Name: distance, dtype: float64, count    90.476042\n",
      "mean      0.000000\n",
      "std            NaN\n",
      "min       0.000000\n",
      "25%       0.000000\n",
      "50%       0.000000\n",
      "75%       0.000000\n",
      "max       0.000000\n",
      "Name: eval_set, dtype: float64, count    90.476042\n",
      "mean      0.004387\n",
      "std       0.036903\n",
      "min       0.000000\n",
      "25%       0.000000\n",
      "50%       0.000000\n",
      "75%       0.000000\n",
      "max       0.000000\n",
      "Name: order_number, dtype: float64, count    90.476042\n",
      "mean      0.126338\n",
      "std       0.034808\n",
      "min            NaN\n",
      "25%       0.000000\n",
      "50%       0.000000\n",
      "75%      11.111111\n",
      "max       0.000000\n",
      "Name: order_dow, dtype: float64, count    90.476042\n",
      "mean      0.128696\n",
      "std       0.049827\n",
      "min            NaN\n",
      "25%       0.000000\n",
      "50%       0.000000\n",
      "75%       0.000000\n",
      "max       0.000000\n",
      "Name: order_hour_of_day, dtype: float64, count    90.476042\n",
      "mean      0.041486\n",
      "std       0.140858\n",
      "min            NaN\n",
      "25%       0.000000\n",
      "50%       0.000000\n",
      "75%       0.000000\n",
      "max       0.000000\n",
      "Name: days_since_prior_order, dtype: float64]\n"
     ]
    }
   ],
   "source": [
    "diff_tab = []\n",
    "for col_name in sampled_df.describe().columns.values:\n",
    "    stat_pre_sampling = data_orders.describe()[col_name]\n",
    "    stat_post_sampling = sampled_df.describe()[col_name]\n",
    "    diff = 100 * abs(stat_post_sampling - stat_pre_sampling) / (stat_post_sampling + stat_pre_sampling)\n",
    "    diff_tab.append(diff)\n",
    "print(diff_tab)"
   ],
   "metadata": {
    "collapsed": false,
    "ExecuteTime": {
     "end_time": "2024-04-03T00:30:41.043154400Z",
     "start_time": "2024-04-03T00:30:37.802842600Z"
    }
   },
   "id": "2c3ac8fdc33cff5d"
  },
  {
   "cell_type": "markdown",
   "source": [
    "on constate que les statistiques des distributions ont majoritairement été conservé après l'échantillonage. Cela infique que l'information et la représentativité des données a bien été conservée."
   ],
   "metadata": {
    "collapsed": false
   },
   "id": "c1f5868a540845e6"
  },
  {
   "cell_type": "code",
   "execution_count": 208,
   "outputs": [],
   "source": [
    "# sampled_df.to_csv('reduced_data.csv') Marche aps"
   ],
   "metadata": {
    "collapsed": false,
    "ExecuteTime": {
     "end_time": "2024-04-03T00:34:51.692680500Z",
     "start_time": "2024-04-03T00:34:51.687560200Z"
    }
   },
   "id": "77b31a49a67fa33f"
  },
  {
   "cell_type": "markdown",
   "source": [
    "### 1.b - Préparation des données"
   ],
   "metadata": {
    "collapsed": false
   },
   "id": "6ae211cf0d36128"
  },
  {
   "cell_type": "markdown",
   "source": [
    "#### Création des ensembles d'entraînement et de test\n",
    "On sépare les données en ensembles d'entraînement et de test tout en conservant la diversité des données dans chacun de ces ensembles. pour cela, on utilise l'option 'stratfied' de la fonction train_test_split de sklearn"
   ],
   "metadata": {
    "collapsed": false
   },
   "id": "91b23c0468859c0f"
  },
  {
   "cell_type": "code",
   "execution_count": 224,
   "outputs": [],
   "source": [
    "X = data_orders.drop(columns=['reordered']) # datas\n",
    "y = data_orders['reordered'] # targets\n",
    "\n",
    "X_train, X_test, y_train, y_test = train_test_split(X, y, test_size=0.2, random_state=0, stratify=y)"
   ],
   "metadata": {
    "collapsed": false,
    "ExecuteTime": {
     "end_time": "2024-04-03T02:41:05.250027500Z",
     "start_time": "2024-04-03T02:41:04.765091100Z"
    }
   },
   "id": "64f20ae6db540ec2"
  },
  {
   "cell_type": "markdown",
   "source": [
    "#### Transformation"
   ],
   "metadata": {
    "collapsed": false
   },
   "id": "fa136cad8e553734"
  },
  {
   "cell_type": "markdown",
   "source": [
    "##### Normalisation des ensmebles d'entraîenemnt et de test\n",
    "Les algorithmes que nous appliquerons par la suite (CNN et SVM) ne nécessitent pas de connaître la distribution des données.\n",
    "Nous procédons donc à la normalisation des données afin de les ramener dans un intervalle connu."
   ],
   "metadata": {
    "collapsed": false
   },
   "id": "2619525bc63e1acd"
  },
  {
   "cell_type": "code",
   "execution_count": 227,
   "outputs": [],
   "source": [
    "standard_scaler = StandardScaler()\n",
    "X_train_scaled = standard_scaler.fit_transform(X_train)\n",
    "X_test_scaled = standard_scaler.fit_transform(X_test)"
   ],
   "metadata": {
    "collapsed": false,
    "ExecuteTime": {
     "end_time": "2024-04-03T02:47:34.499979800Z",
     "start_time": "2024-04-03T02:47:34.253991800Z"
    }
   },
   "id": "c8c3b52829eaae3a"
  },
  {
   "cell_type": "code",
   "execution_count": 234,
   "outputs": [
    {
     "name": "stdout",
     "output_type": "stream",
     "text": [
      "Moyenne de X_train_scaled = 1.4195490004443752e-17 et déviation standard = 0.9574271077563372\n",
      "Moyenne de X_test_scaled = 4.956196767576227e-17 et déviation standard = 0.9574271077563381\n"
     ]
    }
   ],
   "source": [
    "# Vérification\n",
    "print(f\"Moyenne de X_train_scaled = {X_train_scaled.mean()} et déviation standard = {X_train_scaled.std()}\")\n",
    "print(f\"Moyenne de X_test_scaled = {X_test_scaled.mean()} et déviation standard = {X_test_scaled.std()}\")"
   ],
   "metadata": {
    "collapsed": false,
    "ExecuteTime": {
     "end_time": "2024-04-03T02:49:29.083744300Z",
     "start_time": "2024-04-03T02:49:29.005897900Z"
    }
   },
   "id": "2bf0fb464bc6ee41"
  },
  {
   "cell_type": "markdown",
   "source": [
    "A l'issu des ces étapes de prétraitement, les données ont été standardisée et peuvent être desormais utilisées dans les algorithmes suivants."
   ],
   "metadata": {
    "collapsed": false
   },
   "id": "71a39b77d7da1e59"
  }
 ],
 "metadata": {
  "kernelspec": {
   "display_name": "Python 3",
   "language": "python",
   "name": "python3"
  },
  "language_info": {
   "codemirror_mode": {
    "name": "ipython",
    "version": 2
   },
   "file_extension": ".py",
   "mimetype": "text/x-python",
   "name": "python",
   "nbconvert_exporter": "python",
   "pygments_lexer": "ipython2",
   "version": "2.7.6"
  }
 },
 "nbformat": 4,
 "nbformat_minor": 5
}

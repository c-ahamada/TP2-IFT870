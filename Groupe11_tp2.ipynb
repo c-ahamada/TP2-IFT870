{
 "cells": [
  {
   "cell_type": "markdown",
   "source": [
    "# Groupe 11 - TP 2 - Raport"
   ],
   "metadata": {
    "collapsed": false
   },
   "id": "d5b3a81ae5d0d258"
  },
  {
   "cell_type": "markdown",
   "source": [
    "Membres du groupe:\n",
    "- Oussama Khaloui --- khao1201\n",
    "- Matthieu Tailleur --- taim1201"
   ],
   "metadata": {
    "collapsed": false
   },
   "id": "c17de1dbb467da7"
  },
  {
   "cell_type": "raw",
   "source": [
    "Dans ce TP nous cherchons à explorer les données afin de développer ensuite des algorithmes de machine learning dans l'objectif de prédire les achats de clients à partir de paniers de courses."
   ],
   "metadata": {
    "collapsed": false
   },
   "id": "462d641ff203995b"
  },
  {
   "cell_type": "markdown",
   "source": [
    "## 1 - Analyse des données"
   ],
   "metadata": {
    "collapsed": false
   },
   "id": "60c2f7e347c130f9"
  },
  {
   "cell_type": "markdown",
   "source": [
    "### 1.a - Réduction des données"
   ],
   "metadata": {
    "collapsed": false
   },
   "id": "e06afc93583fbcc0"
  },
  {
   "cell_type": "code",
   "execution_count": 1,
   "outputs": [],
   "source": [
    "# Importation des librairies basiques\n",
    "import pandas as pd\n",
    "import numpy as np\n",
    "\n",
    "# Paramètres d'affichage des DataFrames\n",
    "pd.set_option('display.max_rows', 500)\n",
    "pd.set_option('display.max_columns', 500)\n",
    "\n",
    "# librairies de visualisation\n",
    "import matplotlib.pyplot as plt\n",
    "from plotly.subplots import make_subplots\n",
    "import seaborn as sns\n",
    "import plotly.express as px\n",
    "import plotly.graph_objects as go\n",
    "from sklearn.preprocessing import LabelEncoder\n",
    "\n",
    "# Librairie sklearn\n",
    "from sklearn import metrics\n",
    "from sklearn.impute import KNNImputer\n",
    "from sklearn.feature_selection import SelectKBest, mutual_info_classif\n",
    "from sklearn.preprocessing import StandardScaler\n",
    "from sklearn.decomposition import PCA\n",
    "from sklearn.model_selection import train_test_split\n",
    "\n",
    "# Retirer les Warnings\n",
    "# import warnings\n",
    "# warnings.filterwarnings(\"ignore\", category=FutureWarning)\n",
    "\n",
    "\n",
    "# Modèle gaussien\n",
    "from matplotlib import patches\n",
    "from sklearn.mixture import GaussianMixture\n",
    "from sklearn.model_selection import train_test_split"
   ],
   "metadata": {
    "collapsed": false,
    "ExecuteTime": {
     "end_time": "2024-04-05T01:47:29.426244100Z",
     "start_time": "2024-04-05T01:47:28.042853200Z"
    }
   },
   "id": "a93daa401d89bf64"
  },
  {
   "cell_type": "markdown",
   "source": [
    "#### Chargement des données"
   ],
   "metadata": {
    "collapsed": false
   },
   "id": "cbe64069f46ceb8"
  },
  {
   "cell_type": "code",
   "execution_count": 2,
   "outputs": [
    {
     "name": "stdout",
     "output_type": "stream",
     "text": [
      "Le dataset orders_distance_stores_softmax contient 136026 points et 10 attributs\n",
      "Le dataset order_products__prior_specials contient 1172312 points et 6 attributs\n"
     ]
    }
   ],
   "source": [
    "data_file_1 = \"./données/orders_distance_stores_softmax.csv\"\n",
    "data_file_2 = \"./données/order_products__prior_specials.csv\"\n",
    "data_orders_distance = pd.read_csv(data_file_1)\n",
    "data_orders_products = pd.read_csv(data_file_2)\n",
    "\n",
    "# Vérification du bon chargement des données et comparaison avec ce qui est attendu d'après l'énoncé\n",
    "print(f\"Le dataset orders_distance_stores_softmax contient {data_orders_distance.shape[0]} points et {data_orders_distance.shape[1]} attributs\")\n",
    "print(f\"Le dataset order_products__prior_specials contient {data_orders_products.shape[0]} points et {data_orders_products.shape[1]} attributs\")"
   ],
   "metadata": {
    "collapsed": false,
    "ExecuteTime": {
     "end_time": "2024-04-05T01:47:29.884120600Z",
     "start_time": "2024-04-05T01:47:29.426244100Z"
    }
   },
   "id": "5eebe0578358b9a"
  },
  {
   "cell_type": "markdown",
   "source": [
    "Les datasets contiennent tous deux le nombre d'attributs attendu et beaucoup de lignes. L'objectif de cette partie sera de réduire leurs nombre - pour rendre nos algorithmes plus efficaces - tout en conservant le maximum d'information du dataset afin d'effectuer les meilleurs prédictions possibles."
   ],
   "metadata": {
    "collapsed": false
   },
   "id": "2973e755959f723d"
  },
  {
   "cell_type": "markdown",
   "source": [
    "#### Auscultation des données"
   ],
   "metadata": {
    "collapsed": false
   },
   "id": "da5155896e108ce2"
  },
  {
   "cell_type": "markdown",
   "source": [
    "On commence par visualiser quelques données pour nous faire une idée des datasets"
   ],
   "metadata": {
    "collapsed": false
   },
   "id": "e870cc0ac80bdc4e"
  },
  {
   "cell_type": "code",
   "execution_count": 3,
   "outputs": [
    {
     "data": {
      "text/plain": "   Unnamed: 0  user_id  store_id  distance  order_id eval_set  order_number  \\\n0           0      210         0  2.304404   1438665    prior             9   \n1           1      210         0  2.304404   2850206    prior            36   \n2           2      210         0  2.304404   2406913    prior            42   \n3           3      210         0  2.304404   1155933    prior            43   \n4           4      210         0  2.304404    271697    prior            56   \n\n   order_dow  order_hour_of_day  days_since_prior_order  \n0          1                 18                     3.0  \n1          0                  7                     2.0  \n2          0                  8                     3.0  \n3          2                 23                     2.0  \n4          5                 17                     3.0  ",
      "text/html": "<div>\n<style scoped>\n    .dataframe tbody tr th:only-of-type {\n        vertical-align: middle;\n    }\n\n    .dataframe tbody tr th {\n        vertical-align: top;\n    }\n\n    .dataframe thead th {\n        text-align: right;\n    }\n</style>\n<table border=\"1\" class=\"dataframe\">\n  <thead>\n    <tr style=\"text-align: right;\">\n      <th></th>\n      <th>Unnamed: 0</th>\n      <th>user_id</th>\n      <th>store_id</th>\n      <th>distance</th>\n      <th>order_id</th>\n      <th>eval_set</th>\n      <th>order_number</th>\n      <th>order_dow</th>\n      <th>order_hour_of_day</th>\n      <th>days_since_prior_order</th>\n    </tr>\n  </thead>\n  <tbody>\n    <tr>\n      <th>0</th>\n      <td>0</td>\n      <td>210</td>\n      <td>0</td>\n      <td>2.304404</td>\n      <td>1438665</td>\n      <td>prior</td>\n      <td>9</td>\n      <td>1</td>\n      <td>18</td>\n      <td>3.0</td>\n    </tr>\n    <tr>\n      <th>1</th>\n      <td>1</td>\n      <td>210</td>\n      <td>0</td>\n      <td>2.304404</td>\n      <td>2850206</td>\n      <td>prior</td>\n      <td>36</td>\n      <td>0</td>\n      <td>7</td>\n      <td>2.0</td>\n    </tr>\n    <tr>\n      <th>2</th>\n      <td>2</td>\n      <td>210</td>\n      <td>0</td>\n      <td>2.304404</td>\n      <td>2406913</td>\n      <td>prior</td>\n      <td>42</td>\n      <td>0</td>\n      <td>8</td>\n      <td>3.0</td>\n    </tr>\n    <tr>\n      <th>3</th>\n      <td>3</td>\n      <td>210</td>\n      <td>0</td>\n      <td>2.304404</td>\n      <td>1155933</td>\n      <td>prior</td>\n      <td>43</td>\n      <td>2</td>\n      <td>23</td>\n      <td>2.0</td>\n    </tr>\n    <tr>\n      <th>4</th>\n      <td>4</td>\n      <td>210</td>\n      <td>0</td>\n      <td>2.304404</td>\n      <td>271697</td>\n      <td>prior</td>\n      <td>56</td>\n      <td>5</td>\n      <td>17</td>\n      <td>3.0</td>\n    </tr>\n  </tbody>\n</table>\n</div>"
     },
     "execution_count": 3,
     "metadata": {},
     "output_type": "execute_result"
    }
   ],
   "source": [
    "# Obseravtion de quelques données\n",
    "data_orders_distance.head()"
   ],
   "metadata": {
    "collapsed": false,
    "ExecuteTime": {
     "end_time": "2024-04-05T01:47:29.944214100Z",
     "start_time": "2024-04-05T01:47:29.884120600Z"
    }
   },
   "id": "ce201f0dd55936d0"
  },
  {
   "cell_type": "code",
   "execution_count": 4,
   "outputs": [
    {
     "data": {
      "text/plain": "        Unnamed: 0  user_id  store_id  distance  order_id eval_set  \\\n136021      136021   206105         9  2.140636   1841888    prior   \n136022      136022   206105         9  2.140636   1137676    prior   \n136023      136023   206105         9  2.140636   1439511    prior   \n136024      136024   206105         9  2.140636   1783607    prior   \n136025      136025   206105         9  2.140636   1410956    prior   \n\n        order_number  order_dow  order_hour_of_day  days_since_prior_order  \n136021            39          0                 21                     1.0  \n136022            43          4                 15                     1.0  \n136023            45          6                  9                     1.0  \n136024            58          4                 19                     0.0  \n136025            65          2                  9                     1.0  ",
      "text/html": "<div>\n<style scoped>\n    .dataframe tbody tr th:only-of-type {\n        vertical-align: middle;\n    }\n\n    .dataframe tbody tr th {\n        vertical-align: top;\n    }\n\n    .dataframe thead th {\n        text-align: right;\n    }\n</style>\n<table border=\"1\" class=\"dataframe\">\n  <thead>\n    <tr style=\"text-align: right;\">\n      <th></th>\n      <th>Unnamed: 0</th>\n      <th>user_id</th>\n      <th>store_id</th>\n      <th>distance</th>\n      <th>order_id</th>\n      <th>eval_set</th>\n      <th>order_number</th>\n      <th>order_dow</th>\n      <th>order_hour_of_day</th>\n      <th>days_since_prior_order</th>\n    </tr>\n  </thead>\n  <tbody>\n    <tr>\n      <th>136021</th>\n      <td>136021</td>\n      <td>206105</td>\n      <td>9</td>\n      <td>2.140636</td>\n      <td>1841888</td>\n      <td>prior</td>\n      <td>39</td>\n      <td>0</td>\n      <td>21</td>\n      <td>1.0</td>\n    </tr>\n    <tr>\n      <th>136022</th>\n      <td>136022</td>\n      <td>206105</td>\n      <td>9</td>\n      <td>2.140636</td>\n      <td>1137676</td>\n      <td>prior</td>\n      <td>43</td>\n      <td>4</td>\n      <td>15</td>\n      <td>1.0</td>\n    </tr>\n    <tr>\n      <th>136023</th>\n      <td>136023</td>\n      <td>206105</td>\n      <td>9</td>\n      <td>2.140636</td>\n      <td>1439511</td>\n      <td>prior</td>\n      <td>45</td>\n      <td>6</td>\n      <td>9</td>\n      <td>1.0</td>\n    </tr>\n    <tr>\n      <th>136024</th>\n      <td>136024</td>\n      <td>206105</td>\n      <td>9</td>\n      <td>2.140636</td>\n      <td>1783607</td>\n      <td>prior</td>\n      <td>58</td>\n      <td>4</td>\n      <td>19</td>\n      <td>0.0</td>\n    </tr>\n    <tr>\n      <th>136025</th>\n      <td>136025</td>\n      <td>206105</td>\n      <td>9</td>\n      <td>2.140636</td>\n      <td>1410956</td>\n      <td>prior</td>\n      <td>65</td>\n      <td>2</td>\n      <td>9</td>\n      <td>1.0</td>\n    </tr>\n  </tbody>\n</table>\n</div>"
     },
     "execution_count": 4,
     "metadata": {},
     "output_type": "execute_result"
    }
   ],
   "source": [
    "data_orders_distance.tail()"
   ],
   "metadata": {
    "collapsed": false,
    "ExecuteTime": {
     "end_time": "2024-04-05T01:47:29.944214100Z",
     "start_time": "2024-04-05T01:47:29.917881800Z"
    }
   },
   "id": "2d644eac25ce9c7f"
  },
  {
   "cell_type": "markdown",
   "source": [
    "on constate la présence de de données catégoriques. on choisit d'encoder les valeurs de la colonne 'eval_set'"
   ],
   "metadata": {
    "collapsed": false
   },
   "id": "dbb1f5302b2147b6"
  },
  {
   "cell_type": "code",
   "execution_count": 5,
   "outputs": [
    {
     "data": {
      "text/plain": "array(['prior'], dtype=object)"
     },
     "execution_count": 5,
     "metadata": {},
     "output_type": "execute_result"
    }
   ],
   "source": [
    "data_orders_distance['eval_set'].unique()"
   ],
   "metadata": {
    "collapsed": false,
    "ExecuteTime": {
     "end_time": "2024-04-05T01:47:29.958706400Z",
     "start_time": "2024-04-05T01:47:29.931672Z"
    }
   },
   "id": "3f0150a313a2606"
  },
  {
   "cell_type": "code",
   "execution_count": 6,
   "outputs": [],
   "source": [
    "df_encoded = pd.get_dummies(data_orders_distance, columns=['eval_set'])\n",
    "data_orders_distance['eval_set'] = df_encoded[['eval_set_prior']]"
   ],
   "metadata": {
    "collapsed": false,
    "ExecuteTime": {
     "end_time": "2024-04-05T01:47:30.088526900Z",
     "start_time": "2024-04-05T01:47:29.948903700Z"
    }
   },
   "id": "ce9e03b3de40fcd4"
  },
  {
   "cell_type": "code",
   "execution_count": 7,
   "outputs": [
    {
     "data": {
      "text/plain": "        Unnamed: 0  user_id  store_id  distance  order_id  eval_set  \\\n0                0      210         0  2.304404   1438665         1   \n1                1      210         0  2.304404   2850206         1   \n2                2      210         0  2.304404   2406913         1   \n3                3      210         0  2.304404   1155933         1   \n4                4      210         0  2.304404    271697         1   \n...            ...      ...       ...       ...       ...       ...   \n136021      136021   206105         9  2.140636   1841888         1   \n136022      136022   206105         9  2.140636   1137676         1   \n136023      136023   206105         9  2.140636   1439511         1   \n136024      136024   206105         9  2.140636   1783607         1   \n136025      136025   206105         9  2.140636   1410956         1   \n\n        order_number  order_dow  order_hour_of_day  days_since_prior_order  \n0                  9          1                 18                     3.0  \n1                 36          0                  7                     2.0  \n2                 42          0                  8                     3.0  \n3                 43          2                 23                     2.0  \n4                 56          5                 17                     3.0  \n...              ...        ...                ...                     ...  \n136021            39          0                 21                     1.0  \n136022            43          4                 15                     1.0  \n136023            45          6                  9                     1.0  \n136024            58          4                 19                     0.0  \n136025            65          2                  9                     1.0  \n\n[136026 rows x 10 columns]",
      "text/html": "<div>\n<style scoped>\n    .dataframe tbody tr th:only-of-type {\n        vertical-align: middle;\n    }\n\n    .dataframe tbody tr th {\n        vertical-align: top;\n    }\n\n    .dataframe thead th {\n        text-align: right;\n    }\n</style>\n<table border=\"1\" class=\"dataframe\">\n  <thead>\n    <tr style=\"text-align: right;\">\n      <th></th>\n      <th>Unnamed: 0</th>\n      <th>user_id</th>\n      <th>store_id</th>\n      <th>distance</th>\n      <th>order_id</th>\n      <th>eval_set</th>\n      <th>order_number</th>\n      <th>order_dow</th>\n      <th>order_hour_of_day</th>\n      <th>days_since_prior_order</th>\n    </tr>\n  </thead>\n  <tbody>\n    <tr>\n      <th>0</th>\n      <td>0</td>\n      <td>210</td>\n      <td>0</td>\n      <td>2.304404</td>\n      <td>1438665</td>\n      <td>1</td>\n      <td>9</td>\n      <td>1</td>\n      <td>18</td>\n      <td>3.0</td>\n    </tr>\n    <tr>\n      <th>1</th>\n      <td>1</td>\n      <td>210</td>\n      <td>0</td>\n      <td>2.304404</td>\n      <td>2850206</td>\n      <td>1</td>\n      <td>36</td>\n      <td>0</td>\n      <td>7</td>\n      <td>2.0</td>\n    </tr>\n    <tr>\n      <th>2</th>\n      <td>2</td>\n      <td>210</td>\n      <td>0</td>\n      <td>2.304404</td>\n      <td>2406913</td>\n      <td>1</td>\n      <td>42</td>\n      <td>0</td>\n      <td>8</td>\n      <td>3.0</td>\n    </tr>\n    <tr>\n      <th>3</th>\n      <td>3</td>\n      <td>210</td>\n      <td>0</td>\n      <td>2.304404</td>\n      <td>1155933</td>\n      <td>1</td>\n      <td>43</td>\n      <td>2</td>\n      <td>23</td>\n      <td>2.0</td>\n    </tr>\n    <tr>\n      <th>4</th>\n      <td>4</td>\n      <td>210</td>\n      <td>0</td>\n      <td>2.304404</td>\n      <td>271697</td>\n      <td>1</td>\n      <td>56</td>\n      <td>5</td>\n      <td>17</td>\n      <td>3.0</td>\n    </tr>\n    <tr>\n      <th>...</th>\n      <td>...</td>\n      <td>...</td>\n      <td>...</td>\n      <td>...</td>\n      <td>...</td>\n      <td>...</td>\n      <td>...</td>\n      <td>...</td>\n      <td>...</td>\n      <td>...</td>\n    </tr>\n    <tr>\n      <th>136021</th>\n      <td>136021</td>\n      <td>206105</td>\n      <td>9</td>\n      <td>2.140636</td>\n      <td>1841888</td>\n      <td>1</td>\n      <td>39</td>\n      <td>0</td>\n      <td>21</td>\n      <td>1.0</td>\n    </tr>\n    <tr>\n      <th>136022</th>\n      <td>136022</td>\n      <td>206105</td>\n      <td>9</td>\n      <td>2.140636</td>\n      <td>1137676</td>\n      <td>1</td>\n      <td>43</td>\n      <td>4</td>\n      <td>15</td>\n      <td>1.0</td>\n    </tr>\n    <tr>\n      <th>136023</th>\n      <td>136023</td>\n      <td>206105</td>\n      <td>9</td>\n      <td>2.140636</td>\n      <td>1439511</td>\n      <td>1</td>\n      <td>45</td>\n      <td>6</td>\n      <td>9</td>\n      <td>1.0</td>\n    </tr>\n    <tr>\n      <th>136024</th>\n      <td>136024</td>\n      <td>206105</td>\n      <td>9</td>\n      <td>2.140636</td>\n      <td>1783607</td>\n      <td>1</td>\n      <td>58</td>\n      <td>4</td>\n      <td>19</td>\n      <td>0.0</td>\n    </tr>\n    <tr>\n      <th>136025</th>\n      <td>136025</td>\n      <td>206105</td>\n      <td>9</td>\n      <td>2.140636</td>\n      <td>1410956</td>\n      <td>1</td>\n      <td>65</td>\n      <td>2</td>\n      <td>9</td>\n      <td>1.0</td>\n    </tr>\n  </tbody>\n</table>\n<p>136026 rows × 10 columns</p>\n</div>"
     },
     "execution_count": 7,
     "metadata": {},
     "output_type": "execute_result"
    }
   ],
   "source": [
    "# Vérification\n",
    "data_orders_distance"
   ],
   "metadata": {
    "collapsed": false,
    "ExecuteTime": {
     "end_time": "2024-04-05T01:47:30.121106700Z",
     "start_time": "2024-04-05T01:47:29.997361200Z"
    }
   },
   "id": "c59f91bd45a215ad"
  },
  {
   "cell_type": "code",
   "execution_count": 8,
   "outputs": [
    {
     "data": {
      "text/plain": "   Unnamed: 0  order_id  product_id  add_to_cart_order  reordered  special\n0           0        15       19660                  1          1       15\n1           1        15       21195                  2          1        0\n2           2        15        7461                  3          1       50\n3           3        15        2996                  4          1        0\n4           4        15       32463                  5          1        0",
      "text/html": "<div>\n<style scoped>\n    .dataframe tbody tr th:only-of-type {\n        vertical-align: middle;\n    }\n\n    .dataframe tbody tr th {\n        vertical-align: top;\n    }\n\n    .dataframe thead th {\n        text-align: right;\n    }\n</style>\n<table border=\"1\" class=\"dataframe\">\n  <thead>\n    <tr style=\"text-align: right;\">\n      <th></th>\n      <th>Unnamed: 0</th>\n      <th>order_id</th>\n      <th>product_id</th>\n      <th>add_to_cart_order</th>\n      <th>reordered</th>\n      <th>special</th>\n    </tr>\n  </thead>\n  <tbody>\n    <tr>\n      <th>0</th>\n      <td>0</td>\n      <td>15</td>\n      <td>19660</td>\n      <td>1</td>\n      <td>1</td>\n      <td>15</td>\n    </tr>\n    <tr>\n      <th>1</th>\n      <td>1</td>\n      <td>15</td>\n      <td>21195</td>\n      <td>2</td>\n      <td>1</td>\n      <td>0</td>\n    </tr>\n    <tr>\n      <th>2</th>\n      <td>2</td>\n      <td>15</td>\n      <td>7461</td>\n      <td>3</td>\n      <td>1</td>\n      <td>50</td>\n    </tr>\n    <tr>\n      <th>3</th>\n      <td>3</td>\n      <td>15</td>\n      <td>2996</td>\n      <td>4</td>\n      <td>1</td>\n      <td>0</td>\n    </tr>\n    <tr>\n      <th>4</th>\n      <td>4</td>\n      <td>15</td>\n      <td>32463</td>\n      <td>5</td>\n      <td>1</td>\n      <td>0</td>\n    </tr>\n  </tbody>\n</table>\n</div>"
     },
     "execution_count": 8,
     "metadata": {},
     "output_type": "execute_result"
    }
   ],
   "source": [
    "data_orders_products.head()"
   ],
   "metadata": {
    "collapsed": false,
    "ExecuteTime": {
     "end_time": "2024-04-05T01:47:30.157454800Z",
     "start_time": "2024-04-05T01:47:30.020568100Z"
    }
   },
   "id": "e6f02a2efac2110d"
  },
  {
   "cell_type": "code",
   "execution_count": 9,
   "outputs": [
    {
     "data": {
      "text/plain": "         Unnamed: 0  order_id  product_id  add_to_cart_order  reordered  \\\n1172307     1172307   3421069       21137                  8          1   \n1172308     1172308   3421069       30391                  9          1   \n1172309     1172309   3421069       18656                 10          1   \n1172310     1172310   3421069       26940                 11          1   \n1172311     1172311   3421069       19057                 12          1   \n\n         special  \n1172307        0  \n1172308       15  \n1172309        0  \n1172310       15  \n1172311        0  ",
      "text/html": "<div>\n<style scoped>\n    .dataframe tbody tr th:only-of-type {\n        vertical-align: middle;\n    }\n\n    .dataframe tbody tr th {\n        vertical-align: top;\n    }\n\n    .dataframe thead th {\n        text-align: right;\n    }\n</style>\n<table border=\"1\" class=\"dataframe\">\n  <thead>\n    <tr style=\"text-align: right;\">\n      <th></th>\n      <th>Unnamed: 0</th>\n      <th>order_id</th>\n      <th>product_id</th>\n      <th>add_to_cart_order</th>\n      <th>reordered</th>\n      <th>special</th>\n    </tr>\n  </thead>\n  <tbody>\n    <tr>\n      <th>1172307</th>\n      <td>1172307</td>\n      <td>3421069</td>\n      <td>21137</td>\n      <td>8</td>\n      <td>1</td>\n      <td>0</td>\n    </tr>\n    <tr>\n      <th>1172308</th>\n      <td>1172308</td>\n      <td>3421069</td>\n      <td>30391</td>\n      <td>9</td>\n      <td>1</td>\n      <td>15</td>\n    </tr>\n    <tr>\n      <th>1172309</th>\n      <td>1172309</td>\n      <td>3421069</td>\n      <td>18656</td>\n      <td>10</td>\n      <td>1</td>\n      <td>0</td>\n    </tr>\n    <tr>\n      <th>1172310</th>\n      <td>1172310</td>\n      <td>3421069</td>\n      <td>26940</td>\n      <td>11</td>\n      <td>1</td>\n      <td>15</td>\n    </tr>\n    <tr>\n      <th>1172311</th>\n      <td>1172311</td>\n      <td>3421069</td>\n      <td>19057</td>\n      <td>12</td>\n      <td>1</td>\n      <td>0</td>\n    </tr>\n  </tbody>\n</table>\n</div>"
     },
     "execution_count": 9,
     "metadata": {},
     "output_type": "execute_result"
    }
   ],
   "source": [
    "data_orders_products.tail()"
   ],
   "metadata": {
    "collapsed": false,
    "ExecuteTime": {
     "end_time": "2024-04-05T01:47:30.160459600Z",
     "start_time": "2024-04-05T01:47:30.035689100Z"
    }
   },
   "id": "2e010340314e33a6"
  },
  {
   "cell_type": "code",
   "execution_count": 10,
   "outputs": [],
   "source": [
    "# Suppresion de la colonne Unnamed: 0 dans les datasets (duplicat du numéro de la ligne)\n",
    "data_orders_distance.drop(columns=['Unnamed: 0'],inplace=True)\n",
    "data_orders_products.drop(columns=['Unnamed: 0'],inplace=True)"
   ],
   "metadata": {
    "collapsed": false,
    "ExecuteTime": {
     "end_time": "2024-04-05T01:47:30.160459600Z",
     "start_time": "2024-04-05T01:47:30.054421300Z"
    }
   },
   "id": "ec6f27fb7c62bd43"
  },
  {
   "cell_type": "markdown",
   "source": [
    "On affiche quelques informations caractérisant les données afin de mieux les appréhender.\n",
    "Nous réutiliserons ces informations par la suite car elles sont caractéristiques des distributions des données. Nous chercherons donc à les retrouver après avoir réduit le nombre de lignes. "
   ],
   "metadata": {
    "collapsed": false
   },
   "id": "75c3d08145b6b09d"
  },
  {
   "cell_type": "code",
   "execution_count": 11,
   "outputs": [
    {
     "data": {
      "text/plain": "             user_id       store_id       distance      order_id  eval_set  \\\ncount  136026.000000  136026.000000  136026.000000  1.360260e+05  136026.0   \nmean   101827.940320       4.503374       1.253315  1.713599e+06       1.0   \nstd     60550.815551       2.866815       0.656473  9.868517e+05       0.0   \nmin       210.000000       0.000000       0.002863  1.500000e+01       1.0   \n25%     49210.000000       2.000000       0.764297  8.590620e+05       1.0   \n50%    100229.000000       5.000000       1.173100  1.718160e+06       1.0   \n75%    154378.000000       7.000000       1.656305  2.565938e+06       1.0   \nmax    206105.000000       9.000000       4.843817  3.421069e+06       1.0   \n\n        order_number      order_dow  order_hour_of_day  days_since_prior_order  \ncount  136026.000000  136026.000000      136026.000000           134652.000000  \nmean       50.000000       2.884419          13.036853                2.848097  \nstd        28.577485       1.887552           4.233527                2.537760  \nmin         1.000000       0.000000           0.000000                0.000000  \n25%        25.000000       1.000000          10.000000                1.000000  \n50%        50.000000       3.000000          13.000000                2.000000  \n75%        75.000000       4.000000          16.000000                4.000000  \nmax        99.000000       6.000000          23.000000               30.000000  ",
      "text/html": "<div>\n<style scoped>\n    .dataframe tbody tr th:only-of-type {\n        vertical-align: middle;\n    }\n\n    .dataframe tbody tr th {\n        vertical-align: top;\n    }\n\n    .dataframe thead th {\n        text-align: right;\n    }\n</style>\n<table border=\"1\" class=\"dataframe\">\n  <thead>\n    <tr style=\"text-align: right;\">\n      <th></th>\n      <th>user_id</th>\n      <th>store_id</th>\n      <th>distance</th>\n      <th>order_id</th>\n      <th>eval_set</th>\n      <th>order_number</th>\n      <th>order_dow</th>\n      <th>order_hour_of_day</th>\n      <th>days_since_prior_order</th>\n    </tr>\n  </thead>\n  <tbody>\n    <tr>\n      <th>count</th>\n      <td>136026.000000</td>\n      <td>136026.000000</td>\n      <td>136026.000000</td>\n      <td>1.360260e+05</td>\n      <td>136026.0</td>\n      <td>136026.000000</td>\n      <td>136026.000000</td>\n      <td>136026.000000</td>\n      <td>134652.000000</td>\n    </tr>\n    <tr>\n      <th>mean</th>\n      <td>101827.940320</td>\n      <td>4.503374</td>\n      <td>1.253315</td>\n      <td>1.713599e+06</td>\n      <td>1.0</td>\n      <td>50.000000</td>\n      <td>2.884419</td>\n      <td>13.036853</td>\n      <td>2.848097</td>\n    </tr>\n    <tr>\n      <th>std</th>\n      <td>60550.815551</td>\n      <td>2.866815</td>\n      <td>0.656473</td>\n      <td>9.868517e+05</td>\n      <td>0.0</td>\n      <td>28.577485</td>\n      <td>1.887552</td>\n      <td>4.233527</td>\n      <td>2.537760</td>\n    </tr>\n    <tr>\n      <th>min</th>\n      <td>210.000000</td>\n      <td>0.000000</td>\n      <td>0.002863</td>\n      <td>1.500000e+01</td>\n      <td>1.0</td>\n      <td>1.000000</td>\n      <td>0.000000</td>\n      <td>0.000000</td>\n      <td>0.000000</td>\n    </tr>\n    <tr>\n      <th>25%</th>\n      <td>49210.000000</td>\n      <td>2.000000</td>\n      <td>0.764297</td>\n      <td>8.590620e+05</td>\n      <td>1.0</td>\n      <td>25.000000</td>\n      <td>1.000000</td>\n      <td>10.000000</td>\n      <td>1.000000</td>\n    </tr>\n    <tr>\n      <th>50%</th>\n      <td>100229.000000</td>\n      <td>5.000000</td>\n      <td>1.173100</td>\n      <td>1.718160e+06</td>\n      <td>1.0</td>\n      <td>50.000000</td>\n      <td>3.000000</td>\n      <td>13.000000</td>\n      <td>2.000000</td>\n    </tr>\n    <tr>\n      <th>75%</th>\n      <td>154378.000000</td>\n      <td>7.000000</td>\n      <td>1.656305</td>\n      <td>2.565938e+06</td>\n      <td>1.0</td>\n      <td>75.000000</td>\n      <td>4.000000</td>\n      <td>16.000000</td>\n      <td>4.000000</td>\n    </tr>\n    <tr>\n      <th>max</th>\n      <td>206105.000000</td>\n      <td>9.000000</td>\n      <td>4.843817</td>\n      <td>3.421069e+06</td>\n      <td>1.0</td>\n      <td>99.000000</td>\n      <td>6.000000</td>\n      <td>23.000000</td>\n      <td>30.000000</td>\n    </tr>\n  </tbody>\n</table>\n</div>"
     },
     "execution_count": 11,
     "metadata": {},
     "output_type": "execute_result"
    }
   ],
   "source": [
    "data_orders_distance.describe()"
   ],
   "metadata": {
    "collapsed": false,
    "ExecuteTime": {
     "end_time": "2024-04-05T01:47:30.192348600Z",
     "start_time": "2024-04-05T01:47:30.080638700Z"
    }
   },
   "id": "b89a3767d93cbbff"
  },
  {
   "cell_type": "code",
   "execution_count": 12,
   "outputs": [
    {
     "data": {
      "text/plain": "           order_id    product_id  add_to_cart_order     reordered  \\\ncount  1.172312e+06  1.172312e+06       1.172312e+06  1.172312e+06   \nmean   1.710806e+06  2.558317e+04       7.311208e+00  7.744346e-01   \nstd    9.865049e+05  1.403693e+04       6.661885e+00  4.179543e-01   \nmin    1.500000e+01  1.000000e+00       1.000000e+00  0.000000e+00   \n25%    8.571920e+05  1.357500e+04       3.000000e+00  1.000000e+00   \n50%    1.713000e+06  2.514600e+04       5.000000e+00  1.000000e+00   \n75%    2.563004e+06  3.801600e+04       1.000000e+01  1.000000e+00   \nmax    3.421069e+06  4.968300e+04       9.800000e+01  1.000000e+00   \n\n            special  \ncount  1.172312e+06  \nmean   9.745972e+00  \nstd    1.497054e+01  \nmin    0.000000e+00  \n25%    0.000000e+00  \n50%    0.000000e+00  \n75%    1.500000e+01  \nmax    5.000000e+01  ",
      "text/html": "<div>\n<style scoped>\n    .dataframe tbody tr th:only-of-type {\n        vertical-align: middle;\n    }\n\n    .dataframe tbody tr th {\n        vertical-align: top;\n    }\n\n    .dataframe thead th {\n        text-align: right;\n    }\n</style>\n<table border=\"1\" class=\"dataframe\">\n  <thead>\n    <tr style=\"text-align: right;\">\n      <th></th>\n      <th>order_id</th>\n      <th>product_id</th>\n      <th>add_to_cart_order</th>\n      <th>reordered</th>\n      <th>special</th>\n    </tr>\n  </thead>\n  <tbody>\n    <tr>\n      <th>count</th>\n      <td>1.172312e+06</td>\n      <td>1.172312e+06</td>\n      <td>1.172312e+06</td>\n      <td>1.172312e+06</td>\n      <td>1.172312e+06</td>\n    </tr>\n    <tr>\n      <th>mean</th>\n      <td>1.710806e+06</td>\n      <td>2.558317e+04</td>\n      <td>7.311208e+00</td>\n      <td>7.744346e-01</td>\n      <td>9.745972e+00</td>\n    </tr>\n    <tr>\n      <th>std</th>\n      <td>9.865049e+05</td>\n      <td>1.403693e+04</td>\n      <td>6.661885e+00</td>\n      <td>4.179543e-01</td>\n      <td>1.497054e+01</td>\n    </tr>\n    <tr>\n      <th>min</th>\n      <td>1.500000e+01</td>\n      <td>1.000000e+00</td>\n      <td>1.000000e+00</td>\n      <td>0.000000e+00</td>\n      <td>0.000000e+00</td>\n    </tr>\n    <tr>\n      <th>25%</th>\n      <td>8.571920e+05</td>\n      <td>1.357500e+04</td>\n      <td>3.000000e+00</td>\n      <td>1.000000e+00</td>\n      <td>0.000000e+00</td>\n    </tr>\n    <tr>\n      <th>50%</th>\n      <td>1.713000e+06</td>\n      <td>2.514600e+04</td>\n      <td>5.000000e+00</td>\n      <td>1.000000e+00</td>\n      <td>0.000000e+00</td>\n    </tr>\n    <tr>\n      <th>75%</th>\n      <td>2.563004e+06</td>\n      <td>3.801600e+04</td>\n      <td>1.000000e+01</td>\n      <td>1.000000e+00</td>\n      <td>1.500000e+01</td>\n    </tr>\n    <tr>\n      <th>max</th>\n      <td>3.421069e+06</td>\n      <td>4.968300e+04</td>\n      <td>9.800000e+01</td>\n      <td>1.000000e+00</td>\n      <td>5.000000e+01</td>\n    </tr>\n  </tbody>\n</table>\n</div>"
     },
     "execution_count": 12,
     "metadata": {},
     "output_type": "execute_result"
    }
   ],
   "source": [
    "data_orders_products.describe()"
   ],
   "metadata": {
    "collapsed": false,
    "ExecuteTime": {
     "end_time": "2024-04-05T01:47:30.382755Z",
     "start_time": "2024-04-05T01:47:30.145654500Z"
    }
   },
   "id": "6a635e7dbb84e934"
  },
  {
   "cell_type": "code",
   "execution_count": 13,
   "outputs": [
    {
     "data": {
      "text/plain": "int64      6\nfloat64    2\nuint8      1\ndtype: int64"
     },
     "execution_count": 13,
     "metadata": {},
     "output_type": "execute_result"
    }
   ],
   "source": [
    "# Compte des types d'attributs\n",
    "data_orders_distance.dtypes.value_counts()"
   ],
   "metadata": {
    "collapsed": false,
    "ExecuteTime": {
     "end_time": "2024-04-05T01:47:30.382755Z",
     "start_time": "2024-04-05T01:47:30.289397100Z"
    }
   },
   "id": "6405e043df3f040b"
  },
  {
   "cell_type": "code",
   "execution_count": 14,
   "outputs": [
    {
     "data": {
      "text/plain": "int64    5\ndtype: int64"
     },
     "execution_count": 14,
     "metadata": {},
     "output_type": "execute_result"
    }
   ],
   "source": [
    "data_orders_products.dtypes.value_counts()"
   ],
   "metadata": {
    "collapsed": false,
    "ExecuteTime": {
     "end_time": "2024-04-05T01:47:30.396977Z",
     "start_time": "2024-04-05T01:47:30.302946Z"
    }
   },
   "id": "89d4ace8b122ba16"
  },
  {
   "cell_type": "markdown",
   "source": [
    "#### Nettoyage des données"
   ],
   "metadata": {
    "collapsed": false
   },
   "id": "b7ec4b62e342d1b0"
  },
  {
   "cell_type": "markdown",
   "source": [
    "##### Valeurs manquantes"
   ],
   "metadata": {
    "collapsed": false
   },
   "id": "3b642e958afcce07"
  },
  {
   "cell_type": "markdown",
   "source": [
    "On commence par regarder du côté des valeurs manquantes en regardant le pourcentage de valeurs manquantes dans pour chaque colonnes des datasets"
   ],
   "metadata": {
    "collapsed": false
   },
   "id": "a806d9be0d65af7e"
  },
  {
   "cell_type": "code",
   "execution_count": 15,
   "outputs": [
    {
     "name": "stdout",
     "output_type": "stream",
     "text": [
      " Table des valeurs manquantes dans le dataset order_distance_stores_softmax\n",
      "user_id                   0.000000\n",
      "store_id                  0.000000\n",
      "distance                  0.000000\n",
      "order_id                  0.000000\n",
      "eval_set                  0.000000\n",
      "order_number              0.000000\n",
      "order_dow                 0.000000\n",
      "order_hour_of_day         0.000000\n",
      "days_since_prior_order    1.010101\n",
      "dtype: float64\n",
      "\n",
      "\n",
      "Table des valeurs manquantes dans le dataset order_products_prior_specials\n",
      "order_id             0.0\n",
      "product_id           0.0\n",
      "add_to_cart_order    0.0\n",
      "reordered            0.0\n",
      "special              0.0\n",
      "dtype: float64\n"
     ]
    }
   ],
   "source": [
    "print(f\" Table des valeurs manquantes dans le dataset order_distance_stores_softmax\\n{data_orders_distance.isnull().mean() * 100}\")\n",
    "print(\"\\n\")\n",
    "print(f\"Table des valeurs manquantes dans le dataset order_products_prior_specials\\n{data_orders_products.isnull().mean() * 100}\")"
   ],
   "metadata": {
    "collapsed": false,
    "ExecuteTime": {
     "end_time": "2024-04-05T01:47:30.422061Z",
     "start_time": "2024-04-05T01:47:30.318832600Z"
    }
   },
   "id": "435488f0b1ee8018"
  },
  {
   "cell_type": "markdown",
   "source": [
    "Il manque environ 1% de valeurs dans le dataset order_distance_stores_softmax pour la colonne 'days_since_prior_order' indiquant le nombre de jours écoulés depuis le dernier achat.\n",
    "Il est indiqué dans l'énoncé que ces valeurs manquantes correspondent en réalité au nombre 1.\n",
    "on remplace donc chaque valeurs manquante par 1."
   ],
   "metadata": {
    "collapsed": false
   },
   "id": "c28fea3de5df5595"
  },
  {
   "cell_type": "code",
   "execution_count": 16,
   "outputs": [],
   "source": [
    "data_orders_distance['days_since_prior_order'].fillna(1,inplace=True)"
   ],
   "metadata": {
    "collapsed": false,
    "ExecuteTime": {
     "end_time": "2024-04-05T01:47:30.447767800Z",
     "start_time": "2024-04-05T01:47:30.354093200Z"
    }
   },
   "id": "e63a267e2dcf9ead"
  },
  {
   "cell_type": "code",
   "execution_count": 17,
   "outputs": [
    {
     "name": "stdout",
     "output_type": "stream",
     "text": [
      "Nombre de données NULL : 0\n"
     ]
    },
    {
     "data": {
      "text/plain": "count    136026.000000\nmean          2.829430\nstd           2.531664\nmin           0.000000\n25%           1.000000\n50%           2.000000\n75%           4.000000\nmax          30.000000\nName: days_since_prior_order, dtype: float64"
     },
     "execution_count": 17,
     "metadata": {},
     "output_type": "execute_result"
    }
   ],
   "source": [
    "# Vérification\n",
    "print(f\"Nombre de données NULL : {data_orders_distance['days_since_prior_order'].isnull().sum()}\")"
   ],
   "metadata": {
    "collapsed": false,
    "ExecuteTime": {
     "end_time": "2024-04-05T01:47:30.449867500Z",
     "start_time": "2024-04-05T01:47:30.368146800Z"
    }
   },
   "id": "141c024ec2fd9223"
  },
  {
   "cell_type": "markdown",
   "source": [
    "##### Valeurs dupliquées"
   ],
   "metadata": {
    "collapsed": false
   },
   "id": "af3267858c42826"
  },
  {
   "cell_type": "code",
   "execution_count": 18,
   "outputs": [
    {
     "name": "stdout",
     "output_type": "stream",
     "text": [
      "Nombre de valeurs dupliquées dans les données order_products_prior_specials \n",
      "order_id             0.0\n",
      "product_id           0.0\n",
      "add_to_cart_order    0.0\n",
      "reordered            0.0\n",
      "special              0.0\n",
      "dtype: float64\n",
      "Nombre de valeurs dupliquées dans les données order_distance_stores_softmax \n",
      "user_id                   0.0\n",
      "store_id                  0.0\n",
      "distance                  0.0\n",
      "order_id                  0.0\n",
      "eval_set                  0.0\n",
      "order_number              0.0\n",
      "order_dow                 0.0\n",
      "order_hour_of_day         0.0\n",
      "days_since_prior_order    0.0\n",
      "dtype: float64\n"
     ]
    }
   ],
   "source": [
    "duplicates_df_products = data_orders_products[data_orders_products.duplicated()]\n",
    "duplicates_df_products_sorted = duplicates_df_products.sort_values(by=['order_id'])\n",
    "print(f\"Nombre de valeurs dupliquées dans les données order_products_prior_specials \\n{duplicates_df_products_sorted.sum()}\")\n",
    "\n",
    "duplicates_df_distance = data_orders_distance[data_orders_distance.duplicated()]\n",
    "duplicates_df_distance_sorted = duplicates_df_distance.sort_values(by=['order_id'])\n",
    "print(f\"Nombre de valeurs dupliquées dans les données order_distance_stores_softmax \\n{duplicates_df_distance_sorted.sum()}\")"
   ],
   "metadata": {
    "collapsed": false,
    "ExecuteTime": {
     "end_time": "2024-04-05T01:47:30.709344300Z",
     "start_time": "2024-04-05T01:47:30.382755Z"
    }
   },
   "id": "9875dc78185e41c5"
  },
  {
   "cell_type": "markdown",
   "source": [
    "Il n'y a pas de lignes dupliquées dans les données."
   ],
   "metadata": {
    "collapsed": false
   },
   "id": "f7aaeda261e04578"
  },
  {
   "cell_type": "markdown",
   "source": [
    "##### Gestion des outliers"
   ],
   "metadata": {
    "collapsed": false
   },
   "id": "d3aca05ebe4b16d1"
  },
  {
   "cell_type": "markdown",
   "source": [
    "On commence par visualiser les colonnes pour lesquelles les outliers sont nombreux à l'aide de boxplots."
   ],
   "metadata": {
    "collapsed": false
   },
   "id": "ae95409534831bda"
  },
  {
   "cell_type": "code",
   "execution_count": 19,
   "outputs": [
    {
     "name": "stdout",
     "output_type": "stream",
     "text": [
      "Boxplots des colonnes du dataset order_distance_stores_softmax\n"
     ]
    },
    {
     "data": {
      "text/plain": "<Figure size 1080x360 with 9 Axes>",
      "image/png": "[encoded data removed]"
     },
     "metadata": {},
     "output_type": "display_data"
    }
   ],
   "source": [
    "def detect_susceptible_outlier(data) : \n",
    "    fig, axes = plt.subplots(nrows=1, ncols=len(data.columns), figsize=(15, 5))\n",
    "    for i, col in enumerate(data.columns):\n",
    "        data.boxplot(column=col, ax=axes[i])\n",
    "        axes[i].set_title(col)\n",
    "    \n",
    "    # Adjust layout\n",
    "    plt.tight_layout()\n",
    "    plt.show()\n",
    "\n",
    "print(\"Boxplots des colonnes du dataset order_distance_stores_softmax\")\n",
    "detect_susceptible_outlier(data_orders_distance)"
   ],
   "metadata": {
    "collapsed": false,
    "ExecuteTime": {
     "end_time": "2024-04-05T01:47:32.073023Z",
     "start_time": "2024-04-05T01:47:30.661967300Z"
    }
   },
   "id": "386e3c2cc040dd4d"
  },
  {
   "cell_type": "code",
   "execution_count": 20,
   "outputs": [
    {
     "name": "stdout",
     "output_type": "stream",
     "text": [
      "Boxplots des colonnes du dataset order_products_prior_specials\n"
     ]
    },
    {
     "data": {
      "text/plain": "<Figure size 1080x360 with 5 Axes>",
      "image/png": "[encoded data removed]"
     },
     "metadata": {},
     "output_type": "display_data"
    }
   ],
   "source": [
    "print(\"Boxplots des colonnes du dataset order_products_prior_specials\")\n",
    "detect_susceptible_outlier(data_orders_products)"
   ],
   "metadata": {
    "collapsed": false,
    "ExecuteTime": {
     "end_time": "2024-04-05T01:47:35.685244100Z",
     "start_time": "2024-04-05T01:47:32.076003100Z"
    }
   },
   "id": "5b9fd2cb577f0b9"
  },
  {
   "cell_type": "markdown",
   "source": [
    "Les attributs susceptibles d'avoir des outliers pour les données 'order_distance_stores_softmax' sont :\n",
    "    + distance\n",
    "    + order_hour_of_day\n",
    "    + days_since_prior_order\n",
    "Les attributs susceptibles d'avoir des outliers pour les données 'order_products_prior_specials' sont :\n",
    "    + add_to_cart_order\n",
    "    + special"
   ],
   "metadata": {
    "collapsed": false
   },
   "id": "d5f02052fa427f67"
  },
  {
   "cell_type": "markdown",
   "source": [
    "Ces outliers peuvent toutefois encoder des informations importantes concernant le comportement des clients. Comme ils sont peu nombreux, nous choississons pour l'instant de les conserver dans le dataset et travaillerons dessus si les algorithmes le necessitent dans la suite"
   ],
   "metadata": {
    "collapsed": false
   },
   "id": "c675349b191b04f6"
  },
  {
   "cell_type": "markdown",
   "source": [
    "#### Intégration des données"
   ],
   "metadata": {
    "collapsed": false
   },
   "id": "3c15aa17fc2264df"
  },
  {
   "cell_type": "markdown",
   "source": [
    "##### Combinaison des datasets\n",
    "On fusionne les datasets selon les id des commandes"
   ],
   "metadata": {
    "collapsed": false
   },
   "id": "14a025a6cf5651ea"
  },
  {
   "cell_type": "code",
   "execution_count": 21,
   "outputs": [],
   "source": [
    "data_orders = pd.merge(data_orders_products, data_orders_distance, on='order_id', how='inner')"
   ],
   "metadata": {
    "collapsed": false,
    "ExecuteTime": {
     "end_time": "2024-04-05T01:47:35.937708400Z",
     "start_time": "2024-04-05T01:47:35.685244100Z"
    }
   },
   "id": "8675d9d14f86f53e"
  },
  {
   "cell_type": "code",
   "execution_count": 22,
   "outputs": [
    {
     "data": {
      "text/plain": "   order_id  product_id  add_to_cart_order  reordered  special  user_id  \\\n0        15       19660                  1          1       15    54901   \n1        15       21195                  2          1        0    54901   \n2        15        7461                  3          1       50    54901   \n3        15        2996                  4          1        0    54901   \n4        15       32463                  5          1        0    54901   \n\n   store_id  distance  eval_set  order_number  order_dow  order_hour_of_day  \\\n0         1  0.304608         1            51          3                 11   \n1         1  0.304608         1            51          3                 11   \n2         1  0.304608         1            51          3                 11   \n3         1  0.304608         1            51          3                 11   \n4         1  0.304608         1            51          3                 11   \n\n   days_since_prior_order  \n0                     2.0  \n1                     2.0  \n2                     2.0  \n3                     2.0  \n4                     2.0  ",
      "text/html": "<div>\n<style scoped>\n    .dataframe tbody tr th:only-of-type {\n        vertical-align: middle;\n    }\n\n    .dataframe tbody tr th {\n        vertical-align: top;\n    }\n\n    .dataframe thead th {\n        text-align: right;\n    }\n</style>\n<table border=\"1\" class=\"dataframe\">\n  <thead>\n    <tr style=\"text-align: right;\">\n      <th></th>\n      <th>order_id</th>\n      <th>product_id</th>\n      <th>add_to_cart_order</th>\n      <th>reordered</th>\n      <th>special</th>\n      <th>user_id</th>\n      <th>store_id</th>\n      <th>distance</th>\n      <th>eval_set</th>\n      <th>order_number</th>\n      <th>order_dow</th>\n      <th>order_hour_of_day</th>\n      <th>days_since_prior_order</th>\n    </tr>\n  </thead>\n  <tbody>\n    <tr>\n      <th>0</th>\n      <td>15</td>\n      <td>19660</td>\n      <td>1</td>\n      <td>1</td>\n      <td>15</td>\n      <td>54901</td>\n      <td>1</td>\n      <td>0.304608</td>\n      <td>1</td>\n      <td>51</td>\n      <td>3</td>\n      <td>11</td>\n      <td>2.0</td>\n    </tr>\n    <tr>\n      <th>1</th>\n      <td>15</td>\n      <td>21195</td>\n      <td>2</td>\n      <td>1</td>\n      <td>0</td>\n      <td>54901</td>\n      <td>1</td>\n      <td>0.304608</td>\n      <td>1</td>\n      <td>51</td>\n      <td>3</td>\n      <td>11</td>\n      <td>2.0</td>\n    </tr>\n    <tr>\n      <th>2</th>\n      <td>15</td>\n      <td>7461</td>\n      <td>3</td>\n      <td>1</td>\n      <td>50</td>\n      <td>54901</td>\n      <td>1</td>\n      <td>0.304608</td>\n      <td>1</td>\n      <td>51</td>\n      <td>3</td>\n      <td>11</td>\n      <td>2.0</td>\n    </tr>\n    <tr>\n      <th>3</th>\n      <td>15</td>\n      <td>2996</td>\n      <td>4</td>\n      <td>1</td>\n      <td>0</td>\n      <td>54901</td>\n      <td>1</td>\n      <td>0.304608</td>\n      <td>1</td>\n      <td>51</td>\n      <td>3</td>\n      <td>11</td>\n      <td>2.0</td>\n    </tr>\n    <tr>\n      <th>4</th>\n      <td>15</td>\n      <td>32463</td>\n      <td>5</td>\n      <td>1</td>\n      <td>0</td>\n      <td>54901</td>\n      <td>1</td>\n      <td>0.304608</td>\n      <td>1</td>\n      <td>51</td>\n      <td>3</td>\n      <td>11</td>\n      <td>2.0</td>\n    </tr>\n  </tbody>\n</table>\n</div>"
     },
     "execution_count": 22,
     "metadata": {},
     "output_type": "execute_result"
    }
   ],
   "source": [
    "# Vérification simple\n",
    "data_orders.head()"
   ],
   "metadata": {
    "collapsed": false,
    "ExecuteTime": {
     "end_time": "2024-04-05T01:47:35.952633300Z",
     "start_time": "2024-04-05T01:47:35.937708400Z"
    }
   },
   "id": "6e91eefbce939312"
  },
  {
   "cell_type": "markdown",
   "source": [
    "#### Réduction"
   ],
   "metadata": {
    "collapsed": false
   },
   "id": "ccc7852139929a6f"
  },
  {
   "cell_type": "markdown",
   "source": [
    "##### Etude des redondances\n"
   ],
   "metadata": {
    "collapsed": false
   },
   "id": "85c6e052351a778a"
  },
  {
   "cell_type": "code",
   "execution_count": 23,
   "outputs": [
    {
     "name": "stdout",
     "output_type": "stream",
     "text": [
      "3279252    98\n",
      "1959075    98\n",
      "1758550    94\n",
      "2467301    92\n",
      "82167      92\n",
      "           ..\n",
      "2278182     1\n",
      "1460941     1\n",
      "2913673     1\n",
      "1460722     1\n",
      "961072      1\n",
      "Name: order_id, Length: 136026, dtype: int64\n",
      "13176    17652\n",
      "24852    16466\n",
      "21137    13163\n",
      "47209    10654\n",
      "21903     9594\n",
      "         ...  \n",
      "34883        1\n",
      "38543        1\n",
      "41120        1\n",
      "43801        1\n",
      "17633        1\n",
      "Name: product_id, Length: 24860, dtype: int64\n",
      "1     136026\n",
      "2     129477\n",
      "3     120596\n",
      "4     109843\n",
      "5      97716\n",
      "6      85403\n",
      "7      73526\n",
      "8      62633\n",
      "9      53008\n",
      "10     44945\n",
      "11     38203\n",
      "12     32387\n",
      "13     27628\n",
      "14     23469\n",
      "15     19991\n",
      "16     17050\n",
      "17     14482\n",
      "18     12259\n",
      "19     10441\n",
      "20      8911\n",
      "21      7590\n",
      "22      6466\n",
      "23      5491\n",
      "24      4666\n",
      "25      3979\n",
      "26      3397\n",
      "27      2904\n",
      "28      2491\n",
      "29      2137\n",
      "30      1855\n",
      "31      1620\n",
      "32      1379\n",
      "33      1210\n",
      "34      1044\n",
      "35       912\n",
      "36       795\n",
      "37       691\n",
      "38       614\n",
      "39       539\n",
      "40       482\n",
      "41       428\n",
      "42       378\n",
      "43       340\n",
      "44       293\n",
      "45       263\n",
      "46       227\n",
      "47       206\n",
      "48       173\n",
      "49       155\n",
      "50       136\n",
      "51       126\n",
      "52       113\n",
      "53       100\n",
      "54        90\n",
      "55        84\n",
      "56        76\n",
      "57        69\n",
      "58        65\n",
      "59        59\n",
      "60        54\n",
      "61        50\n",
      "62        43\n",
      "63        42\n",
      "64        39\n",
      "65        35\n",
      "66        31\n",
      "67        28\n",
      "68        26\n",
      "69        25\n",
      "70        24\n",
      "71        22\n",
      "72        20\n",
      "73        17\n",
      "74        17\n",
      "75        14\n",
      "76        13\n",
      "78        13\n",
      "79        13\n",
      "77        13\n",
      "80        12\n",
      "81        12\n",
      "82        12\n",
      "83        12\n",
      "84        11\n",
      "86        10\n",
      "87        10\n",
      "85        10\n",
      "88         9\n",
      "89         7\n",
      "90         6\n",
      "91         6\n",
      "92         5\n",
      "93         3\n",
      "94         3\n",
      "95         2\n",
      "96         2\n",
      "97         2\n",
      "98         2\n",
      "Name: add_to_cart_order, dtype: int64\n",
      "1    907879\n",
      "0    264433\n",
      "Name: reordered, dtype: int64\n",
      "0     743416\n",
      "15    196960\n",
      "30    156294\n",
      "50     75642\n",
      "Name: special, dtype: int64\n",
      "201268    3725\n",
      "164055    3061\n",
      "186704    2936\n",
      "176478    2921\n",
      "182401    2907\n",
      "          ... \n",
      "175680     152\n",
      "39993      150\n",
      "69919      145\n",
      "1024       137\n",
      "55989      135\n",
      "Name: user_id, Length: 1374, dtype: int64\n",
      "3    121004\n",
      "4    119697\n",
      "1    119032\n",
      "5    118336\n",
      "7    118245\n",
      "8    118061\n",
      "6    116092\n",
      "0    114954\n",
      "9    113869\n",
      "2    113022\n",
      "Name: store_id, dtype: int64\n",
      "0.473116    1857\n",
      "0.377644    1547\n",
      "1.166624    1171\n",
      "1.245072    1166\n",
      "0.182314    1148\n",
      "            ... \n",
      "1.340313       3\n",
      "0.207821       3\n",
      "2.352876       3\n",
      "0.751961       2\n",
      "1.013490       1\n",
      "Name: distance, Length: 13736, dtype: int64\n",
      "1    1172312\n",
      "Name: eval_set, dtype: int64\n",
      "1     13871\n",
      "7     12748\n",
      "9     12699\n",
      "10    12675\n",
      "15    12602\n",
      "12    12596\n",
      "4     12582\n",
      "3     12547\n",
      "5     12523\n",
      "14    12510\n",
      "13    12501\n",
      "11    12489\n",
      "25    12437\n",
      "99    12436\n",
      "2     12431\n",
      "95    12401\n",
      "97    12398\n",
      "6     12397\n",
      "94    12392\n",
      "8     12382\n",
      "98    12381\n",
      "20    12357\n",
      "16    12356\n",
      "22    12332\n",
      "18    12299\n",
      "83    12279\n",
      "28    12270\n",
      "19    12269\n",
      "96    12245\n",
      "91    12238\n",
      "23    12214\n",
      "26    12173\n",
      "89    12142\n",
      "21    12129\n",
      "87    12128\n",
      "32    12126\n",
      "92    12126\n",
      "27    12119\n",
      "17    12116\n",
      "24    12080\n",
      "84    12062\n",
      "93    12037\n",
      "90    12021\n",
      "85    11999\n",
      "30    11980\n",
      "86    11958\n",
      "31    11952\n",
      "81    11910\n",
      "88    11852\n",
      "79    11823\n",
      "29    11783\n",
      "35    11782\n",
      "80    11765\n",
      "37    11763\n",
      "75    11721\n",
      "73    11687\n",
      "34    11645\n",
      "36    11643\n",
      "39    11637\n",
      "38    11616\n",
      "33    11597\n",
      "76    11588\n",
      "82    11562\n",
      "70    11559\n",
      "43    11549\n",
      "78    11546\n",
      "72    11518\n",
      "68    11473\n",
      "47    11471\n",
      "40    11462\n",
      "71    11456\n",
      "74    11453\n",
      "67    11439\n",
      "77    11433\n",
      "51    11368\n",
      "44    11354\n",
      "42    11332\n",
      "69    11299\n",
      "48    11295\n",
      "46    11267\n",
      "60    11264\n",
      "49    11252\n",
      "50    11241\n",
      "56    11225\n",
      "45    11221\n",
      "57    11176\n",
      "59    11172\n",
      "52    11150\n",
      "55    11110\n",
      "64    11100\n",
      "66    11092\n",
      "54    11040\n",
      "58    11035\n",
      "65    10997\n",
      "41    10991\n",
      "53    10948\n",
      "61    10907\n",
      "62    10876\n",
      "63    10862\n",
      "Name: order_number, dtype: int64\n",
      "1    205669\n",
      "2    173915\n",
      "5    173507\n",
      "3    173197\n",
      "4    169551\n",
      "0    156169\n",
      "6    120304\n",
      "Name: order_dow, dtype: int64\n",
      "10    109683\n",
      "9     106646\n",
      "11    102781\n",
      "13     94575\n",
      "12     93565\n",
      "14     92874\n",
      "15     89279\n",
      "16     80674\n",
      "8      79018\n",
      "17     61192\n",
      "18     47360\n",
      "7      44346\n",
      "19     37295\n",
      "20     34489\n",
      "21     28758\n",
      "22     21574\n",
      "6      16169\n",
      "23     13351\n",
      "0       6427\n",
      "5       3842\n",
      "1       2913\n",
      "2       2030\n",
      "3       1741\n",
      "4       1730\n",
      "Name: order_hour_of_day, dtype: int64\n",
      "2.0     254619\n",
      "1.0     229295\n",
      "3.0     218911\n",
      "4.0     151416\n",
      "5.0      91806\n",
      "0.0      81637\n",
      "6.0      54124\n",
      "7.0      36184\n",
      "8.0      16164\n",
      "9.0       9193\n",
      "10.0      6857\n",
      "11.0      4534\n",
      "12.0      3701\n",
      "13.0      2657\n",
      "14.0      2651\n",
      "30.0      1412\n",
      "15.0      1332\n",
      "16.0       943\n",
      "17.0       839\n",
      "18.0       768\n",
      "19.0       681\n",
      "20.0       560\n",
      "21.0       387\n",
      "27.0       300\n",
      "23.0       288\n",
      "24.0       288\n",
      "25.0       206\n",
      "22.0       204\n",
      "28.0       153\n",
      "26.0       137\n",
      "29.0        65\n",
      "Name: days_since_prior_order, dtype: int64\n"
     ]
    }
   ],
   "source": [
    "for col in data_orders.columns :\n",
    "    print(data_orders[col].value_counts())"
   ],
   "metadata": {
    "collapsed": false,
    "ExecuteTime": {
     "end_time": "2024-04-05T01:47:36.141466500Z",
     "start_time": "2024-04-05T01:47:35.955215400Z"
    }
   },
   "id": "1bfa84982976bc4a"
  },
  {
   "cell_type": "markdown",
   "source": [
    "on constate que la colonne 'eval_set' possède les mêmes valeur spour chaque ligne. on choisit donc de supprimer cette colonne car elle n'apporte aucune information dans nos données"
   ],
   "metadata": {
    "collapsed": false
   },
   "id": "d2292c5a3b491540"
  },
  {
   "cell_type": "code",
   "execution_count": 24,
   "outputs": [],
   "source": [
    "data_orders.drop(columns=['eval_set'],inplace=True)"
   ],
   "metadata": {
    "collapsed": false,
    "ExecuteTime": {
     "end_time": "2024-04-05T01:47:36.208572400Z",
     "start_time": "2024-04-05T01:47:36.141466500Z"
    }
   },
   "id": "cc1f59632dd42dbb"
  },
  {
   "cell_type": "markdown",
   "source": [
    "##### Feature engineering rapide\n",
    "Bien que cela ne soit pas demandé explicitemment dans le sujet du tp, nous regardons rapidement la corrélation 2 à 2 entre les différents attributs des données afin de pouvoir éliminer d'éventuelles redondances dans ces dernière au cas où nous ayons besoin d'accélerer l'entraîenment de nos algorithmes dans la suite."
   ],
   "metadata": {
    "collapsed": false
   },
   "id": "a168e3bc4779dbd2"
  },
  {
   "cell_type": "code",
   "execution_count": 25,
   "outputs": [
    {
     "data": {
      "text/plain": "<Figure size 720x576 with 2 Axes>",
      "image/png": "[encoded data removed]"
     },
     "metadata": {},
     "output_type": "display_data"
    }
   ],
   "source": [
    "# Corrélation 2 à 2 pour les données order_distance_stores_softmax\n",
    "correlation_matrix_orders = data_orders.corr()\n",
    "plt.figure(figsize=(10, 8))\n",
    "sns.heatmap(correlation_matrix_orders, annot=True, cmap='coolwarm', fmt=\".2f\", annot_kws={\"size\": 10})\n",
    "plt.title('Corrélation 2 à 2 entre les colonnes des données order_distance_stores_softmax et order_products_prior_specials')\n",
    "plt.show()"
   ],
   "metadata": {
    "collapsed": false,
    "ExecuteTime": {
     "end_time": "2024-04-05T01:47:37.369308300Z",
     "start_time": "2024-04-05T01:47:36.208572400Z"
    }
   },
   "id": "40fa3f83633f2999"
  },
  {
   "cell_type": "markdown",
   "source": [
    "Les attributs sont très peu corrélés ou non corrélés. On gardes toutes les features pour le moment mais nous n'écartons pas la possibilité de recourir à des techniques de reduction de dimensionalité si l'entraînement des algortihmes le nécessite dans la suite."
   ],
   "metadata": {
    "collapsed": false
   },
   "id": "42e3b461cf3417f6"
  },
  {
   "cell_type": "markdown",
   "source": [
    "##### Réduction des données\n",
    "Nous cherchons à présent à réduire le volume de données tout en conservant le maximum d'information ainsi que des données représentatives du dataset initial.\n",
    "\n",
    "Pour cela, nous procédons à un échantillonage probabiliste **stratifié** de nos données.\n",
    "Le caractère probabiliste de l'échantillonage assure de réduire le biais lié à la selection effectuée. L'aspect stratifié assure quant à lui d'obtenir un sous-ensemble de données **représentatif de la population originelle**"
   ],
   "metadata": {
    "collapsed": false
   },
   "id": "36db5a0c86923acf"
  },
  {
   "cell_type": "code",
   "execution_count": 26,
   "outputs": [
    {
     "name": "stdout",
     "output_type": "stream",
     "text": [
      "['order_id' 'product_id' 'add_to_cart_order' 'reordered' 'special'\n",
      " 'user_id' 'store_id' 'distance' 'order_number' 'order_dow'\n",
      " 'order_hour_of_day' 'days_since_prior_order']\n"
     ]
    }
   ],
   "source": [
    "# On stratify selon l'attribut 'reordered' qui correspond à notre cible.\n",
    "from sklearn.model_selection import train_test_split\n",
    "\n",
    "# Assuming 'target' is the column representing classes/groups\n",
    "_, sampled_df = train_test_split(data_orders, test_size=0.05, stratify=data_orders['reordered'], random_state=42)\n",
    "\n",
    "# On visualise les statistiques des données obtenues\n",
    "sampled_stats = sampled_df.describe()\n",
    "print(sampled_stats.columns.values)"
   ],
   "metadata": {
    "collapsed": false,
    "ExecuteTime": {
     "end_time": "2024-04-05T01:47:37.977208400Z",
     "start_time": "2024-04-05T01:47:37.366357500Z"
    }
   },
   "id": "9c809622b5ce419"
  },
  {
   "cell_type": "code",
   "execution_count": 27,
   "outputs": [
    {
     "data": {
      "text/plain": "           order_id    product_id  add_to_cart_order     reordered  \\\ncount  1.172312e+06  1.172312e+06       1.172312e+06  1.172312e+06   \nmean   1.710806e+06  2.558317e+04       7.311208e+00  7.744346e-01   \nstd    9.865049e+05  1.403693e+04       6.661885e+00  4.179543e-01   \nmin    1.500000e+01  1.000000e+00       1.000000e+00  0.000000e+00   \n25%    8.571920e+05  1.357500e+04       3.000000e+00  1.000000e+00   \n50%    1.713000e+06  2.514600e+04       5.000000e+00  1.000000e+00   \n75%    2.563004e+06  3.801600e+04       1.000000e+01  1.000000e+00   \nmax    3.421069e+06  4.968300e+04       9.800000e+01  1.000000e+00   \n\n            special       user_id      store_id      distance  order_number  \\\ncount  1.172312e+06  1.172312e+06  1.172312e+06  1.172312e+06  1.172312e+06   \nmean   9.745972e+00  1.011486e+05  4.497209e+00  1.252174e+00  4.950891e+01   \nstd    1.497054e+01  6.052976e+04  2.858121e+00  6.571061e-01  2.906399e+01   \nmin    0.000000e+00  2.100000e+02  0.000000e+00  2.863073e-03  1.000000e+00   \n25%    0.000000e+00  4.918600e+04  2.000000e+00  7.640387e-01  2.400000e+01   \n50%    0.000000e+00  9.935200e+04  4.000000e+00  1.171076e+00  4.900000e+01   \n75%    1.500000e+01  1.545560e+05  7.000000e+00  1.654696e+00  7.500000e+01   \nmax    5.000000e+01  2.061050e+05  9.000000e+00  4.843817e+00  9.900000e+01   \n\n          order_dow  order_hour_of_day  days_since_prior_order  \ncount  1.172312e+06       1.172312e+06            1.172312e+06  \nmean   2.849628e+00       1.298660e+01            3.124883e+00  \nstd    1.920069e+00       4.249346e+00            2.724217e+00  \nmin    0.000000e+00       0.000000e+00            0.000000e+00  \n25%    1.000000e+00       1.000000e+01            1.000000e+00  \n50%    3.000000e+00       1.300000e+01            3.000000e+00  \n75%    5.000000e+00       1.600000e+01            4.000000e+00  \nmax    6.000000e+00       2.300000e+01            3.000000e+01  ",
      "text/html": "<div>\n<style scoped>\n    .dataframe tbody tr th:only-of-type {\n        vertical-align: middle;\n    }\n\n    .dataframe tbody tr th {\n        vertical-align: top;\n    }\n\n    .dataframe thead th {\n        text-align: right;\n    }\n</style>\n<table border=\"1\" class=\"dataframe\">\n  <thead>\n    <tr style=\"text-align: right;\">\n      <th></th>\n      <th>order_id</th>\n      <th>product_id</th>\n      <th>add_to_cart_order</th>\n      <th>reordered</th>\n      <th>special</th>\n      <th>user_id</th>\n      <th>store_id</th>\n      <th>distance</th>\n      <th>order_number</th>\n      <th>order_dow</th>\n      <th>order_hour_of_day</th>\n      <th>days_since_prior_order</th>\n    </tr>\n  </thead>\n  <tbody>\n    <tr>\n      <th>count</th>\n      <td>1.172312e+06</td>\n      <td>1.172312e+06</td>\n      <td>1.172312e+06</td>\n      <td>1.172312e+06</td>\n      <td>1.172312e+06</td>\n      <td>1.172312e+06</td>\n      <td>1.172312e+06</td>\n      <td>1.172312e+06</td>\n      <td>1.172312e+06</td>\n      <td>1.172312e+06</td>\n      <td>1.172312e+06</td>\n      <td>1.172312e+06</td>\n    </tr>\n    <tr>\n      <th>mean</th>\n      <td>1.710806e+06</td>\n      <td>2.558317e+04</td>\n      <td>7.311208e+00</td>\n      <td>7.744346e-01</td>\n      <td>9.745972e+00</td>\n      <td>1.011486e+05</td>\n      <td>4.497209e+00</td>\n      <td>1.252174e+00</td>\n      <td>4.950891e+01</td>\n      <td>2.849628e+00</td>\n      <td>1.298660e+01</td>\n      <td>3.124883e+00</td>\n    </tr>\n    <tr>\n      <th>std</th>\n      <td>9.865049e+05</td>\n      <td>1.403693e+04</td>\n      <td>6.661885e+00</td>\n      <td>4.179543e-01</td>\n      <td>1.497054e+01</td>\n      <td>6.052976e+04</td>\n      <td>2.858121e+00</td>\n      <td>6.571061e-01</td>\n      <td>2.906399e+01</td>\n      <td>1.920069e+00</td>\n      <td>4.249346e+00</td>\n      <td>2.724217e+00</td>\n    </tr>\n    <tr>\n      <th>min</th>\n      <td>1.500000e+01</td>\n      <td>1.000000e+00</td>\n      <td>1.000000e+00</td>\n      <td>0.000000e+00</td>\n      <td>0.000000e+00</td>\n      <td>2.100000e+02</td>\n      <td>0.000000e+00</td>\n      <td>2.863073e-03</td>\n      <td>1.000000e+00</td>\n      <td>0.000000e+00</td>\n      <td>0.000000e+00</td>\n      <td>0.000000e+00</td>\n    </tr>\n    <tr>\n      <th>25%</th>\n      <td>8.571920e+05</td>\n      <td>1.357500e+04</td>\n      <td>3.000000e+00</td>\n      <td>1.000000e+00</td>\n      <td>0.000000e+00</td>\n      <td>4.918600e+04</td>\n      <td>2.000000e+00</td>\n      <td>7.640387e-01</td>\n      <td>2.400000e+01</td>\n      <td>1.000000e+00</td>\n      <td>1.000000e+01</td>\n      <td>1.000000e+00</td>\n    </tr>\n    <tr>\n      <th>50%</th>\n      <td>1.713000e+06</td>\n      <td>2.514600e+04</td>\n      <td>5.000000e+00</td>\n      <td>1.000000e+00</td>\n      <td>0.000000e+00</td>\n      <td>9.935200e+04</td>\n      <td>4.000000e+00</td>\n      <td>1.171076e+00</td>\n      <td>4.900000e+01</td>\n      <td>3.000000e+00</td>\n      <td>1.300000e+01</td>\n      <td>3.000000e+00</td>\n    </tr>\n    <tr>\n      <th>75%</th>\n      <td>2.563004e+06</td>\n      <td>3.801600e+04</td>\n      <td>1.000000e+01</td>\n      <td>1.000000e+00</td>\n      <td>1.500000e+01</td>\n      <td>1.545560e+05</td>\n      <td>7.000000e+00</td>\n      <td>1.654696e+00</td>\n      <td>7.500000e+01</td>\n      <td>5.000000e+00</td>\n      <td>1.600000e+01</td>\n      <td>4.000000e+00</td>\n    </tr>\n    <tr>\n      <th>max</th>\n      <td>3.421069e+06</td>\n      <td>4.968300e+04</td>\n      <td>9.800000e+01</td>\n      <td>1.000000e+00</td>\n      <td>5.000000e+01</td>\n      <td>2.061050e+05</td>\n      <td>9.000000e+00</td>\n      <td>4.843817e+00</td>\n      <td>9.900000e+01</td>\n      <td>6.000000e+00</td>\n      <td>2.300000e+01</td>\n      <td>3.000000e+01</td>\n    </tr>\n  </tbody>\n</table>\n</div>"
     },
     "execution_count": 27,
     "metadata": {},
     "output_type": "execute_result"
    }
   ],
   "source": [
    "# Visualisation des statistiques sur les données avant sampling\n",
    "data_orders.describe()"
   ],
   "metadata": {
    "collapsed": false,
    "ExecuteTime": {
     "end_time": "2024-04-05T01:47:38.249217400Z",
     "start_time": "2024-04-05T01:47:37.977208400Z"
    }
   },
   "id": "5b5a051c9468b23f"
  },
  {
   "cell_type": "markdown",
   "source": [
    "on compare les statistiques avant et après sampling pour voir si la diversité des données est aussi bien représentée qu'avant."
   ],
   "metadata": {
    "collapsed": false
   },
   "id": "64b036bdb5845064"
  },
  {
   "cell_type": "code",
   "execution_count": 28,
   "outputs": [
    {
     "name": "stdout",
     "output_type": "stream",
     "text": [
      "[count    90.476129\n",
      "mean      0.048462\n",
      "std       0.156523\n",
      "min      72.727273\n",
      "25%       0.010588\n",
      "50%       0.155653\n",
      "75%       0.215293\n",
      "max       0.001257\n",
      "Name: order_id, dtype: float64, count    90.476129\n",
      "mean      0.028282\n",
      "std       0.167641\n",
      "min       0.000000\n",
      "25%       0.436520\n",
      "50%       0.015910\n",
      "75%       0.187726\n",
      "max       0.000000\n",
      "Name: product_id, dtype: float64, count    90.476129\n",
      "mean      0.343111\n",
      "std       0.141904\n",
      "min       0.000000\n",
      "25%       0.000000\n",
      "50%       0.000000\n",
      "75%       0.000000\n",
      "max       0.000000\n",
      "Name: add_to_cart_order, dtype: float64, count    90.476129\n",
      "mean      0.000286\n",
      "std       0.000753\n",
      "min            NaN\n",
      "25%       0.000000\n",
      "50%       0.000000\n",
      "75%       0.000000\n",
      "max       0.000000\n",
      "Name: reordered, dtype: float64, count    90.476129\n",
      "mean      0.216205\n",
      "std       0.014235\n",
      "min            NaN\n",
      "25%            NaN\n",
      "50%            NaN\n",
      "75%       0.000000\n",
      "max       0.000000\n",
      "Name: special, dtype: float64, count    90.476129\n",
      "mean      0.199873\n",
      "std       0.016750\n",
      "min       0.000000\n",
      "25%       0.301807\n",
      "50%       0.365694\n",
      "75%       0.269234\n",
      "max       0.000000\n",
      "Name: user_id, dtype: float64, count    90.476129\n",
      "mean      0.156729\n",
      "std       0.215385\n",
      "min            NaN\n",
      "25%       0.000000\n",
      "50%      11.111111\n",
      "75%       0.000000\n",
      "max       0.000000\n",
      "Name: store_id, dtype: float64, count    90.476129\n",
      "mean      0.095645\n",
      "std       0.144254\n",
      "min       0.000000\n",
      "25%       0.154787\n",
      "50%       0.021833\n",
      "75%       0.122317\n",
      "max       0.000000\n",
      "Name: distance, dtype: float64, count    90.476129\n",
      "mean      0.128413\n",
      "std       0.023206\n",
      "min       0.000000\n",
      "25%       0.000000\n",
      "50%       0.000000\n",
      "75%       0.000000\n",
      "max       0.000000\n",
      "Name: order_number, dtype: float64, count    90.476129\n",
      "mean      0.122941\n",
      "std       0.120542\n",
      "min            NaN\n",
      "25%       0.000000\n",
      "50%       0.000000\n",
      "75%       0.000000\n",
      "max       0.000000\n",
      "Name: order_dow, dtype: float64, count    90.476129\n",
      "mean      0.131219\n",
      "std       0.027830\n",
      "min            NaN\n",
      "25%       0.000000\n",
      "50%       0.000000\n",
      "75%       0.000000\n",
      "max       0.000000\n",
      "Name: order_hour_of_day, dtype: float64, count    90.476129\n",
      "mean      0.022703\n",
      "std       0.694412\n",
      "min            NaN\n",
      "25%       0.000000\n",
      "50%       0.000000\n",
      "75%       0.000000\n",
      "max       0.000000\n",
      "Name: days_since_prior_order, dtype: float64]\n"
     ]
    }
   ],
   "source": [
    "diff_tab = []\n",
    "for col_name in sampled_df.describe().columns.values:\n",
    "    stat_pre_sampling = data_orders.describe()[col_name]\n",
    "    stat_post_sampling = sampled_df.describe()[col_name]\n",
    "    diff = 100 * abs(stat_post_sampling - stat_pre_sampling) / (stat_post_sampling + stat_pre_sampling)\n",
    "    diff_tab.append(diff)\n",
    "print(diff_tab)"
   ],
   "metadata": {
    "collapsed": false,
    "ExecuteTime": {
     "end_time": "2024-04-05T01:47:41.543337500Z",
     "start_time": "2024-04-05T01:47:38.249217400Z"
    }
   },
   "id": "2c3ac8fdc33cff5d"
  },
  {
   "cell_type": "markdown",
   "source": [
    "on constate que les statistiques des distributions ont majoritairement été conservé après l'échantillonage. Cela infique que l'information et la représentativité des données a bien été conservée."
   ],
   "metadata": {
    "collapsed": false
   },
   "id": "c1f5868a540845e6"
  },
  {
   "cell_type": "code",
   "execution_count": 29,
   "outputs": [],
   "source": [
    "# sampled_df.to_csv('reduced_data.csv') Marche aps"
   ],
   "metadata": {
    "collapsed": false,
    "ExecuteTime": {
     "end_time": "2024-04-05T01:47:41.589143300Z",
     "start_time": "2024-04-05T01:47:41.544340800Z"
    }
   },
   "id": "77b31a49a67fa33f"
  },
  {
   "cell_type": "markdown",
   "source": [
    "### 1.b - Préparation des données"
   ],
   "metadata": {
    "collapsed": false
   },
   "id": "6ae211cf0d36128"
  },
  {
   "cell_type": "markdown",
   "source": [
    "#### Création des ensembles d'entraînement et de test\n",
    "On sépare les données en ensembles d'entraînement et de test tout en conservant la diversité des données dans chacun de ces ensembles. pour cela, on utilise l'option 'stratfied' de la fonction train_test_split de sklearn"
   ],
   "metadata": {
    "collapsed": false
   },
   "id": "91b23c0468859c0f"
  },
  {
   "cell_type": "code",
   "execution_count": 30,
   "outputs": [],
   "source": [
    "X = data_orders.drop(columns=['reordered']) # datas\n",
    "y = data_orders['reordered'] # targets\n",
    "\n",
    "X_train, X_test, y_train, y_test = train_test_split(X, y, test_size=0.2, random_state=0, stratify=y)"
   ],
   "metadata": {
    "collapsed": false,
    "ExecuteTime": {
     "end_time": "2024-04-05T01:47:42.132426500Z",
     "start_time": "2024-04-05T01:47:41.560992400Z"
    }
   },
   "id": "64f20ae6db540ec2"
  },
  {
   "cell_type": "markdown",
   "source": [
    "#### Transformation"
   ],
   "metadata": {
    "collapsed": false
   },
   "id": "fa136cad8e553734"
  },
  {
   "cell_type": "markdown",
   "source": [
    "##### Normalisation des ensmebles d'entraîenemnt et de test\n",
    "Les algorithmes que nous appliquerons par la suite (CNN et SVM) ne nécessitent pas de connaître la distribution des données.\n",
    "Nous procédons donc à la normalisation des données afin de les ramener dans un intervalle connu."
   ],
   "metadata": {
    "collapsed": false
   },
   "id": "2619525bc63e1acd"
  },
  {
   "cell_type": "code",
   "execution_count": 31,
   "outputs": [],
   "source": [
    "standard_scaler = StandardScaler()\n",
    "X_train_scaled = standard_scaler.fit_transform(X_train)\n",
    "X_test_scaled = standard_scaler.fit_transform(X_test)"
   ],
   "metadata": {
    "collapsed": false,
    "ExecuteTime": {
     "end_time": "2024-04-05T01:47:42.404086900Z",
     "start_time": "2024-04-05T01:47:42.134687900Z"
    }
   },
   "id": "c8c3b52829eaae3a"
  },
  {
   "cell_type": "code",
   "execution_count": 32,
   "outputs": [
    {
     "name": "stdout",
     "output_type": "stream",
     "text": [
      "Moyenne de X_train_scaled = -1.1065636922295917e-16 et déviation standard = 1.0000000000000007\n",
      "Moyenne de X_test_scaled = 4.673599195311817e-17 et déviation standard = 1.0000000000000002\n"
     ]
    }
   ],
   "source": [
    "# Vérification\n",
    "print(f\"Moyenne de X_train_scaled = {X_train_scaled.mean()} et déviation standard = {X_train_scaled.std()}\")\n",
    "print(f\"Moyenne de X_test_scaled = {X_test_scaled.mean()} et déviation standard = {X_test_scaled.std()}\")"
   ],
   "metadata": {
    "collapsed": false,
    "ExecuteTime": {
     "end_time": "2024-04-05T01:47:42.516361200Z",
     "start_time": "2024-04-05T01:47:42.404086900Z"
    }
   },
   "id": "2bf0fb464bc6ee41"
  },
  {
   "cell_type": "markdown",
   "source": [
    "A l'issu des ces étapes de prétraitement, les données ont été standardisée et peuvent être desormais utilisées dans les algorithmes suivants."
   ],
   "metadata": {
    "collapsed": false
   },
   "id": "71a39b77d7da1e59"
  }
 ],
 "metadata": {
  "kernelspec": {
   "display_name": "Python 3",
   "language": "python",
   "name": "python3"
  },
  "language_info": {
   "codemirror_mode": {
    "name": "ipython",
    "version": 2
   },
   "file_extension": ".py",
   "mimetype": "text/x-python",
   "name": "python",
   "nbconvert_exporter": "python",
   "pygments_lexer": "ipython2",
   "version": "2.7.6"
  }
 },
 "nbformat": 4,
 "nbformat_minor": 5
}

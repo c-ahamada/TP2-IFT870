{
 "cells": [
  {
   "cell_type": "markdown",
   "source": [
    "# Groupe 11 - TP 2 - Raport"
   ],
   "metadata": {
    "collapsed": false
   },
   "id": "d5b3a81ae5d0d258"
  },
  {
   "cell_type": "markdown",
   "source": [
    "Membres du groupe:\n",
    "- Oussama Khaloui --- khao1201\n",
    "- "
   ],
   "metadata": {
    "collapsed": false
   },
   "id": "c17de1dbb467da7"
  },
  {
   "cell_type": "code",
   "execution_count": null,
   "id": "initial_id",
   "metadata": {
    "collapsed": true
   },
   "outputs": [],
   "source": []
  }
 ],
 "metadata": {
  "kernelspec": {
   "display_name": "Python 3",
   "language": "python",
   "name": "python3"
  },
  "language_info": {
   "codemirror_mode": {
    "name": "ipython",
    "version": 2
   },
   "file_extension": ".py",
   "mimetype": "text/x-python",
   "name": "python",
   "nbconvert_exporter": "python",
   "pygments_lexer": "ipython2",
   "version": "2.7.6"
  }
 },
 "nbformat": 4,
 "nbformat_minor": 5
}

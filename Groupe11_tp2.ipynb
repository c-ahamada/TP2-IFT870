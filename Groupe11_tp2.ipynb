{
 "cells": [
  {
   "cell_type": "markdown",
   "id": "d5b3a81ae5d0d258",
   "metadata": {
    "collapsed": false
   },
   "source": [
    "# Groupe 11 - TP 2 - Rapport"
   ]
  },
  {
   "cell_type": "markdown",
   "id": "c17de1dbb467da7",
   "metadata": {
    "collapsed": false
   },
   "source": [
    "Membres du groupe:\n",
    "- Oussama Khaloui --- khao1201\n",
    "- Caroline Wang --- wanc1101"
   ]
  },
  {
   "cell_type": "markdown",
   "id": "0321fce4",
   "metadata": {},
   "source": [
    "#### Les imports"
   ]
  },
  {
   "cell_type": "code",
   "execution_count": 1,
   "id": "093d4d8a",
   "metadata": {},
   "outputs": [],
   "source": [
    "import pandas as pd"
   ]
  },
  {
   "cell_type": "markdown",
   "id": "c56b62d6",
   "metadata": {},
   "source": [
    "#### Prétraitements"
   ]
  },
  {
   "cell_type": "code",
   "execution_count": 2,
   "id": "fb69ec11",
   "metadata": {},
   "outputs": [],
   "source": [
    "# Lecture des données\n",
    "orders_distance_stores_softmax = pd.read_csv(\"donnees\\orders_distance_stores_softmax.csv\")\n",
    "orders_products_prior_specials = pd.read_csv(\"donnees\\order_products__prior_specials.csv\")"
   ]
  },
  {
   "cell_type": "code",
   "execution_count": 3,
   "id": "a05182e3",
   "metadata": {},
   "outputs": [
    {
     "data": {
      "text/html": [
       "<div>\n",
       "<style scoped>\n",
       "    .dataframe tbody tr th:only-of-type {\n",
       "        vertical-align: middle;\n",
       "    }\n",
       "\n",
       "    .dataframe tbody tr th {\n",
       "        vertical-align: top;\n",
       "    }\n",
       "\n",
       "    .dataframe thead th {\n",
       "        text-align: right;\n",
       "    }\n",
       "</style>\n",
       "<table border=\"1\" class=\"dataframe\">\n",
       "  <thead>\n",
       "    <tr style=\"text-align: right;\">\n",
       "      <th></th>\n",
       "      <th>user_id</th>\n",
       "      <th>store_id</th>\n",
       "      <th>distance</th>\n",
       "      <th>order_id</th>\n",
       "      <th>eval_set</th>\n",
       "      <th>order_number</th>\n",
       "      <th>order_dow</th>\n",
       "      <th>order_hour_of_day</th>\n",
       "      <th>days_since_prior_order</th>\n",
       "    </tr>\n",
       "  </thead>\n",
       "  <tbody>\n",
       "    <tr>\n",
       "      <th>0</th>\n",
       "      <td>210</td>\n",
       "      <td>0</td>\n",
       "      <td>2.304404</td>\n",
       "      <td>1438665</td>\n",
       "      <td>prior</td>\n",
       "      <td>9</td>\n",
       "      <td>1</td>\n",
       "      <td>18</td>\n",
       "      <td>3.0</td>\n",
       "    </tr>\n",
       "    <tr>\n",
       "      <th>1</th>\n",
       "      <td>210</td>\n",
       "      <td>0</td>\n",
       "      <td>2.304404</td>\n",
       "      <td>2850206</td>\n",
       "      <td>prior</td>\n",
       "      <td>36</td>\n",
       "      <td>0</td>\n",
       "      <td>7</td>\n",
       "      <td>2.0</td>\n",
       "    </tr>\n",
       "    <tr>\n",
       "      <th>2</th>\n",
       "      <td>210</td>\n",
       "      <td>0</td>\n",
       "      <td>2.304404</td>\n",
       "      <td>2406913</td>\n",
       "      <td>prior</td>\n",
       "      <td>42</td>\n",
       "      <td>0</td>\n",
       "      <td>8</td>\n",
       "      <td>3.0</td>\n",
       "    </tr>\n",
       "    <tr>\n",
       "      <th>3</th>\n",
       "      <td>210</td>\n",
       "      <td>0</td>\n",
       "      <td>2.304404</td>\n",
       "      <td>1155933</td>\n",
       "      <td>prior</td>\n",
       "      <td>43</td>\n",
       "      <td>2</td>\n",
       "      <td>23</td>\n",
       "      <td>2.0</td>\n",
       "    </tr>\n",
       "    <tr>\n",
       "      <th>4</th>\n",
       "      <td>210</td>\n",
       "      <td>0</td>\n",
       "      <td>2.304404</td>\n",
       "      <td>271697</td>\n",
       "      <td>prior</td>\n",
       "      <td>56</td>\n",
       "      <td>5</td>\n",
       "      <td>17</td>\n",
       "      <td>3.0</td>\n",
       "    </tr>\n",
       "  </tbody>\n",
       "</table>\n",
       "</div>"
      ],
      "text/plain": [
       "   user_id  store_id  distance  order_id eval_set  order_number  order_dow  \\\n",
       "0      210         0  2.304404   1438665    prior             9          1   \n",
       "1      210         0  2.304404   2850206    prior            36          0   \n",
       "2      210         0  2.304404   2406913    prior            42          0   \n",
       "3      210         0  2.304404   1155933    prior            43          2   \n",
       "4      210         0  2.304404    271697    prior            56          5   \n",
       "\n",
       "   order_hour_of_day  days_since_prior_order  \n",
       "0                 18                     3.0  \n",
       "1                  7                     2.0  \n",
       "2                  8                     3.0  \n",
       "3                 23                     2.0  \n",
       "4                 17                     3.0  "
      ]
     },
     "execution_count": 3,
     "metadata": {},
     "output_type": "execute_result"
    }
   ],
   "source": [
    "orders_distance_stores_softmax = orders_distance_stores_softmax.drop(columns=['Unnamed: 0'])\n",
    "orders_distance_stores_softmax.head()"
   ]
  },
  {
   "cell_type": "code",
   "execution_count": 4,
   "id": "adf76d48",
   "metadata": {},
   "outputs": [
    {
     "data": {
      "text/html": [
       "<div>\n",
       "<style scoped>\n",
       "    .dataframe tbody tr th:only-of-type {\n",
       "        vertical-align: middle;\n",
       "    }\n",
       "\n",
       "    .dataframe tbody tr th {\n",
       "        vertical-align: top;\n",
       "    }\n",
       "\n",
       "    .dataframe thead th {\n",
       "        text-align: right;\n",
       "    }\n",
       "</style>\n",
       "<table border=\"1\" class=\"dataframe\">\n",
       "  <thead>\n",
       "    <tr style=\"text-align: right;\">\n",
       "      <th></th>\n",
       "      <th>order_id</th>\n",
       "      <th>product_id</th>\n",
       "      <th>add_to_cart_order</th>\n",
       "      <th>reordered</th>\n",
       "      <th>special</th>\n",
       "    </tr>\n",
       "  </thead>\n",
       "  <tbody>\n",
       "    <tr>\n",
       "      <th>0</th>\n",
       "      <td>15</td>\n",
       "      <td>19660</td>\n",
       "      <td>1</td>\n",
       "      <td>1</td>\n",
       "      <td>15</td>\n",
       "    </tr>\n",
       "    <tr>\n",
       "      <th>1</th>\n",
       "      <td>15</td>\n",
       "      <td>21195</td>\n",
       "      <td>2</td>\n",
       "      <td>1</td>\n",
       "      <td>0</td>\n",
       "    </tr>\n",
       "    <tr>\n",
       "      <th>2</th>\n",
       "      <td>15</td>\n",
       "      <td>7461</td>\n",
       "      <td>3</td>\n",
       "      <td>1</td>\n",
       "      <td>50</td>\n",
       "    </tr>\n",
       "    <tr>\n",
       "      <th>3</th>\n",
       "      <td>15</td>\n",
       "      <td>2996</td>\n",
       "      <td>4</td>\n",
       "      <td>1</td>\n",
       "      <td>0</td>\n",
       "    </tr>\n",
       "    <tr>\n",
       "      <th>4</th>\n",
       "      <td>15</td>\n",
       "      <td>32463</td>\n",
       "      <td>5</td>\n",
       "      <td>1</td>\n",
       "      <td>0</td>\n",
       "    </tr>\n",
       "  </tbody>\n",
       "</table>\n",
       "</div>"
      ],
      "text/plain": [
       "   order_id  product_id  add_to_cart_order  reordered  special\n",
       "0        15       19660                  1          1       15\n",
       "1        15       21195                  2          1        0\n",
       "2        15        7461                  3          1       50\n",
       "3        15        2996                  4          1        0\n",
       "4        15       32463                  5          1        0"
      ]
     },
     "execution_count": 4,
     "metadata": {},
     "output_type": "execute_result"
    }
   ],
   "source": [
    "orders_products_prior_specials = orders_products_prior_specials.drop(columns=['Unnamed: 0'])\n",
    "orders_products_prior_specials.head()"
   ]
  },
  {
   "cell_type": "code",
   "execution_count": 5,
   "id": "2408475d",
   "metadata": {},
   "outputs": [],
   "source": [
    "orders = pd.merge(orders_distance_stores_softmax, orders_products_prior_specials, on='order_id', how='inner')\n",
    "orders.dropna(inplace=True)"
   ]
  },
  {
   "cell_type": "code",
   "execution_count": 6,
   "id": "initial_id",
   "metadata": {
    "collapsed": true
   },
   "outputs": [
    {
     "data": {
      "text/plain": [
       "['user_id',\n",
       " 'store_id',\n",
       " 'distance',\n",
       " 'order_id',\n",
       " 'eval_set',\n",
       " 'order_number',\n",
       " 'order_dow',\n",
       " 'order_hour_of_day',\n",
       " 'days_since_prior_order',\n",
       " 'product_id',\n",
       " 'add_to_cart_order',\n",
       " 'reordered',\n",
       " 'special']"
      ]
     },
     "execution_count": 6,
     "metadata": {},
     "output_type": "execute_result"
    }
   ],
   "source": [
    "# Réduction des données à 5%\n",
    "orders = orders.sample(frac=0.05, random_state=42)\n",
    "list(orders.columns)"
   ]
  },
  {
   "cell_type": "code",
   "execution_count": 7,
   "id": "77563165",
   "metadata": {},
   "outputs": [],
   "source": [
    "from sklearn.model_selection import train_test_split\n",
    "\n",
    "# Division des données en ensemble d'entraînement et ensemble de test\n",
    "X = orders.drop(columns=['reordered'])\n",
    "X = pd.get_dummies(X, columns=['eval_set'])\n",
    "y = orders['reordered']\n",
    "X_train, X_test, y_train, y_test = train_test_split(X, y, test_size=0.2, random_state=42)"
   ]
  },
  {
   "cell_type": "markdown",
   "id": "a2c0eb23",
   "metadata": {},
   "source": [
    "#### Choix du modèle de prédiction"
   ]
  },
  {
   "cell_type": "code",
   "execution_count": 8,
   "id": "90b56cff",
   "metadata": {},
   "outputs": [],
   "source": [
    "# Recherche d'hyperpatamètres en fonction du noyau\n",
    "from sklearn.model_selection import GridSearchCV, StratifiedShuffleSplit\n",
    "\n",
    "def hyper_parameters_search(model, kernel, X_train, y_train):\n",
    "        if kernel == 'rbf':\n",
    "            C_range = [1,10,100,1000]\n",
    "            gamma_range = [1,0.1,0.001,0.0001]\n",
    "            param_grid = dict(gamma=gamma_range, C=C_range)\n",
    "            cv = StratifiedShuffleSplit(n_splits=5, test_size=0.2, random_state=42)\n",
    "            grid = GridSearchCV(model, param_grid=param_grid, cv=cv, scoring='accuracy')\n",
    "            grid.fit(X_train, y_train)\n",
    "            print(grid.best_score_, \" pour les hyperparamètres suivants, noyau RBF : \", grid.best_params_)\n",
    "            return grid.best_estimator_\n",
    "        elif kernel == 'sigmoid':\n",
    "            coef0_range = [-5, -3, -1, -0.1, 0.0, 0.1, 1]\n",
    "            param_grid = dict(coef0=coef0_range)\n",
    "            cv = StratifiedShuffleSplit(n_splits=5, test_size=0.2, random_state=42)\n",
    "            grid = GridSearchCV(model, param_grid=param_grid, cv=cv, scoring='accuracy')\n",
    "            grid.fit(X_train, y_train)\n",
    "            print(grid.best_score_, \" pour les hyperparamètres suivants, noyau sigmoïde : \", grid.best_params_)\n",
    "            return grid.best_estimator_\n",
    "        elif kernel == 'poly':\n",
    "            coef0_range = [-5, -3, -1, -0.1, 0.0, 0.1, 1]\n",
    "            degree_range = [2, 3, 4, 5, 6, 7]\n",
    "            param_grid = dict(coef0=coef0_range, degree = degree_range)\n",
    "            cv = StratifiedShuffleSplit(n_splits=5, test_size=0.2, random_state=42)\n",
    "            grid = GridSearchCV(model, param_grid=param_grid, cv=cv, scoring='accuracy')\n",
    "            grid.fit(X_train, y_train)\n",
    "            print(grid.best_score_, \" pour les hyperparamètres suivants, noyau polynomial : \", grid.best_params_)\n",
    "            return grid.best_estimator_\n",
    "        print(\"Erreur recherche hyper-paramètres\")\n",
    "        return model     "
   ]
  },
  {
   "cell_type": "code",
   "execution_count": 9,
   "id": "c3b5d898",
   "metadata": {},
   "outputs": [
    {
     "name": "stdout",
     "output_type": "stream",
     "text": [
      "Modèle de noyau linear\n"
     ]
    }
   ],
   "source": [
    "from sklearn.svm import SVC\n",
    "from sklearn.metrics import confusion_matrix, f1_score\n",
    "\n",
    "kernel_values = ['linear', 'rbf', 'sigmoid', 'poly']\n",
    "for kernel in kernel_values :\n",
    "    print(f'Modèle de noyau {kernel}')\n",
    "    \n",
    "    svm_model = SVC(kernel=kernel)\n",
    "    svm_model.fit(X_train, y_train)\n",
    "    y_pred = svm_model.predict(X_test)\n",
    "    \n",
    "    # Évaluation du modèle    \n",
    "    conf_matrix = confusion_matrix(y_test, y_pred)\n",
    "    print(f'Matrice de confusion : {conf_matrix}')\n",
    "    \n",
    "    f1_svm = f1_score(y_test, y_pred)\n",
    "    print(f'Score F1 : {f1_svm}')\n",
    "    \n",
    "    # Recherche des hyperparamètres\n",
    "    best_svm_model = hyper_parameters_search(svm_model, kernel, X_train=X_train, y_train=y_train)\n",
    "    best_svm_model.fit(X_train, y_train)\n",
    "    best_y_pred = best_svm_model.predict(X_test)\n",
    "\n",
    "    # Évaluation du meilleur\n",
    "    best_conf_matrix = confusion_matrix(y_test, best_y_pred)\n",
    "    print(f'Matrice de confusion : {best_conf_matrix}')\n",
    "    \n",
    "    best_f1_svm = f1_score(y_test, best_y_pred)\n",
    "    print(f'Score F1 : {best_f1_svm}')"
   ]
  },
  {
   "cell_type": "code",
   "execution_count": null,
   "id": "e6032677",
   "metadata": {},
   "outputs": [],
   "source": []
  }
 ],
 "metadata": {
  "kernelspec": {
   "display_name": "Python 3",
   "language": "python",
   "name": "python3"
  },
  "language_info": {
   "codemirror_mode": {
    "name": "ipython",
    "version": 3
   },
   "file_extension": ".py",
   "mimetype": "text/x-python",
   "name": "python",
   "nbconvert_exporter": "python",
   "pygments_lexer": "ipython3",
   "version": "3.11.8"
  }
 },
 "nbformat": 4,
 "nbformat_minor": 5
}
